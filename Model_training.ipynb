{
 "cells": [
  {
   "cell_type": "code",
   "execution_count": 1,
   "metadata": {},
   "outputs": [],
   "source": [
    "import pandas as pd\n",
    "import numpy as np\n",
    "import os\n",
    "\n",
    "import matplotlib.pyplot as plt\n",
    "\n",
    "\n",
    "import pickle\n",
    "from sklearn.metrics import roc_auc_score, f1_score\n",
    "from sklearn.preprocessing import StandardScaler\n",
    "import gc\n",
    "import time\n",
    "\n",
    "from lightgbm import LGBMClassifier\n",
    "from sklearn.model_selection import GridSearchCV, GroupKFold, RandomizedSearchCV\n",
    "from sklearn.ensemble import RandomForestClassifier, GradientBoostingClassifier, ExtraTreesClassifier\n",
    "from sklearn.linear_model import LogisticRegression\n",
    "from sklearn.svm import SVC"
   ]
  },
  {
   "cell_type": "code",
   "execution_count": 2,
   "metadata": {},
   "outputs": [],
   "source": [
    "full_path = \"C:\\Projects\\EDA GSP\"\n",
    "df_path = os.path.join(full_path, \"dataframes\", \"df_quantiles.pkl\")"
   ]
  },
  {
   "cell_type": "code",
   "execution_count": 13,
   "metadata": {},
   "outputs": [],
   "source": [
    "df = pd.read_pickle(df_path)"
   ]
  },
  {
   "cell_type": "code",
   "execution_count": 14,
   "metadata": {},
   "outputs": [
    {
     "data": {
      "text/plain": [
       "Index(['session_id', 'index', 'event_name', 'name', 'level', 'page',\n",
       "       'room_coor_x', 'room_coor_y', 'screen_coor_x', 'screen_coor_y', 'text',\n",
       "       'fqid', 'room_fqid', 'text_fqid', 'fullscreen', 'hq', 'music',\n",
       "       'level_group', 'elapsed_time_log', 'time_diff', 'elapsed_time_diff_log',\n",
       "       'hover_duration_log', 'quantile'],\n",
       "      dtype='object')"
      ]
     },
     "execution_count": 14,
     "metadata": {},
     "output_type": "execute_result"
    }
   ],
   "source": [
    "df.columns"
   ]
  },
  {
   "cell_type": "code",
   "execution_count": 41,
   "metadata": {},
   "outputs": [
    {
     "data": {
      "text/plain": [
       "count    2.554228e+07\n",
       "mean     1.489684e+00\n",
       "std      1.127214e+00\n",
       "min      0.000000e+00\n",
       "25%      0.000000e+00\n",
       "50%      1.000000e+00\n",
       "75%      3.000000e+00\n",
       "max      3.000000e+00\n",
       "Name: quantile, dtype: float64"
      ]
     },
     "execution_count": 41,
     "metadata": {},
     "output_type": "execute_result"
    }
   ],
   "source": [
    "df[\"quantile\"].describe()"
   ]
  },
  {
   "cell_type": "code",
   "execution_count": 57,
   "metadata": {},
   "outputs": [
    {
     "data": {
      "text/plain": [
       "2"
      ]
     },
     "execution_count": 57,
     "metadata": {},
     "output_type": "execute_result"
    }
   ],
   "source": [
    "np.random.randint(0, 4)"
   ]
  },
  {
   "cell_type": "code",
   "execution_count": 4,
   "metadata": {},
   "outputs": [],
   "source": [
    "pd.set_option('display.max_columns', None)"
   ]
  },
  {
   "cell_type": "code",
   "execution_count": null,
   "metadata": {},
   "outputs": [],
   "source": [
    "df.columns"
   ]
  },
  {
   "cell_type": "code",
   "execution_count": null,
   "metadata": {},
   "outputs": [],
   "source": [
    "df.info()"
   ]
  },
  {
   "cell_type": "code",
   "execution_count": 6,
   "metadata": {},
   "outputs": [
    {
     "ename": "KeyError",
     "evalue": "\"['elapsed_time'] not found in axis\"",
     "output_type": "error",
     "traceback": [
      "\u001b[1;31m---------------------------------------------------------------------------\u001b[0m",
      "\u001b[1;31mKeyError\u001b[0m                                  Traceback (most recent call last)",
      "\u001b[1;32m~\\AppData\\Local\\Temp\\ipykernel_16320\\2242837040.py\u001b[0m in \u001b[0;36m<module>\u001b[1;34m\u001b[0m\n\u001b[1;32m----> 1\u001b[1;33m \u001b[0mdf\u001b[0m \u001b[1;33m=\u001b[0m \u001b[0mdf\u001b[0m\u001b[1;33m.\u001b[0m\u001b[0mdrop\u001b[0m\u001b[1;33m(\u001b[0m\u001b[1;34m\"elapsed_time\"\u001b[0m\u001b[1;33m,\u001b[0m\u001b[0maxis\u001b[0m\u001b[1;33m=\u001b[0m\u001b[1;36m1\u001b[0m\u001b[1;33m)\u001b[0m\u001b[1;33m\u001b[0m\u001b[1;33m\u001b[0m\u001b[0m\n\u001b[0m\u001b[0;32m      2\u001b[0m \u001b[0mdf\u001b[0m \u001b[1;33m=\u001b[0m \u001b[0mdf\u001b[0m\u001b[1;33m.\u001b[0m\u001b[0mdrop\u001b[0m\u001b[1;33m(\u001b[0m\u001b[1;34m\"hover_duration\"\u001b[0m\u001b[1;33m,\u001b[0m\u001b[0maxis\u001b[0m\u001b[1;33m=\u001b[0m\u001b[1;36m1\u001b[0m\u001b[1;33m)\u001b[0m\u001b[1;33m\u001b[0m\u001b[1;33m\u001b[0m\u001b[0m\n",
      "\u001b[1;32mc:\\Projects\\EDA GSP\\venv\\lib\\site-packages\\pandas\\core\\frame.py\u001b[0m in \u001b[0;36mdrop\u001b[1;34m(self, labels, axis, index, columns, level, inplace, errors)\u001b[0m\n\u001b[0;32m   5266\u001b[0m                 \u001b[0mweight\u001b[0m  \u001b[1;36m1.0\u001b[0m     \u001b[1;36m0.8\u001b[0m\u001b[1;33m\u001b[0m\u001b[1;33m\u001b[0m\u001b[0m\n\u001b[0;32m   5267\u001b[0m         \"\"\"\n\u001b[1;32m-> 5268\u001b[1;33m         return super().drop(\n\u001b[0m\u001b[0;32m   5269\u001b[0m             \u001b[0mlabels\u001b[0m\u001b[1;33m=\u001b[0m\u001b[0mlabels\u001b[0m\u001b[1;33m,\u001b[0m\u001b[1;33m\u001b[0m\u001b[1;33m\u001b[0m\u001b[0m\n\u001b[0;32m   5270\u001b[0m             \u001b[0maxis\u001b[0m\u001b[1;33m=\u001b[0m\u001b[0maxis\u001b[0m\u001b[1;33m,\u001b[0m\u001b[1;33m\u001b[0m\u001b[1;33m\u001b[0m\u001b[0m\n",
      "\u001b[1;32mc:\\Projects\\EDA GSP\\venv\\lib\\site-packages\\pandas\\core\\generic.py\u001b[0m in \u001b[0;36mdrop\u001b[1;34m(self, labels, axis, index, columns, level, inplace, errors)\u001b[0m\n\u001b[0;32m   4547\u001b[0m         \u001b[1;32mfor\u001b[0m \u001b[0maxis\u001b[0m\u001b[1;33m,\u001b[0m \u001b[0mlabels\u001b[0m \u001b[1;32min\u001b[0m \u001b[0maxes\u001b[0m\u001b[1;33m.\u001b[0m\u001b[0mitems\u001b[0m\u001b[1;33m(\u001b[0m\u001b[1;33m)\u001b[0m\u001b[1;33m:\u001b[0m\u001b[1;33m\u001b[0m\u001b[1;33m\u001b[0m\u001b[0m\n\u001b[0;32m   4548\u001b[0m             \u001b[1;32mif\u001b[0m \u001b[0mlabels\u001b[0m \u001b[1;32mis\u001b[0m \u001b[1;32mnot\u001b[0m \u001b[1;32mNone\u001b[0m\u001b[1;33m:\u001b[0m\u001b[1;33m\u001b[0m\u001b[1;33m\u001b[0m\u001b[0m\n\u001b[1;32m-> 4549\u001b[1;33m                 \u001b[0mobj\u001b[0m \u001b[1;33m=\u001b[0m \u001b[0mobj\u001b[0m\u001b[1;33m.\u001b[0m\u001b[0m_drop_axis\u001b[0m\u001b[1;33m(\u001b[0m\u001b[0mlabels\u001b[0m\u001b[1;33m,\u001b[0m \u001b[0maxis\u001b[0m\u001b[1;33m,\u001b[0m \u001b[0mlevel\u001b[0m\u001b[1;33m=\u001b[0m\u001b[0mlevel\u001b[0m\u001b[1;33m,\u001b[0m \u001b[0merrors\u001b[0m\u001b[1;33m=\u001b[0m\u001b[0merrors\u001b[0m\u001b[1;33m)\u001b[0m\u001b[1;33m\u001b[0m\u001b[1;33m\u001b[0m\u001b[0m\n\u001b[0m\u001b[0;32m   4550\u001b[0m \u001b[1;33m\u001b[0m\u001b[0m\n\u001b[0;32m   4551\u001b[0m         \u001b[1;32mif\u001b[0m \u001b[0minplace\u001b[0m\u001b[1;33m:\u001b[0m\u001b[1;33m\u001b[0m\u001b[1;33m\u001b[0m\u001b[0m\n",
      "\u001b[1;32mc:\\Projects\\EDA GSP\\venv\\lib\\site-packages\\pandas\\core\\generic.py\u001b[0m in \u001b[0;36m_drop_axis\u001b[1;34m(self, labels, axis, level, errors, only_slice)\u001b[0m\n\u001b[0;32m   4589\u001b[0m                 \u001b[0mnew_axis\u001b[0m \u001b[1;33m=\u001b[0m \u001b[0maxis\u001b[0m\u001b[1;33m.\u001b[0m\u001b[0mdrop\u001b[0m\u001b[1;33m(\u001b[0m\u001b[0mlabels\u001b[0m\u001b[1;33m,\u001b[0m \u001b[0mlevel\u001b[0m\u001b[1;33m=\u001b[0m\u001b[0mlevel\u001b[0m\u001b[1;33m,\u001b[0m \u001b[0merrors\u001b[0m\u001b[1;33m=\u001b[0m\u001b[0merrors\u001b[0m\u001b[1;33m)\u001b[0m\u001b[1;33m\u001b[0m\u001b[1;33m\u001b[0m\u001b[0m\n\u001b[0;32m   4590\u001b[0m             \u001b[1;32melse\u001b[0m\u001b[1;33m:\u001b[0m\u001b[1;33m\u001b[0m\u001b[1;33m\u001b[0m\u001b[0m\n\u001b[1;32m-> 4591\u001b[1;33m                 \u001b[0mnew_axis\u001b[0m \u001b[1;33m=\u001b[0m \u001b[0maxis\u001b[0m\u001b[1;33m.\u001b[0m\u001b[0mdrop\u001b[0m\u001b[1;33m(\u001b[0m\u001b[0mlabels\u001b[0m\u001b[1;33m,\u001b[0m \u001b[0merrors\u001b[0m\u001b[1;33m=\u001b[0m\u001b[0merrors\u001b[0m\u001b[1;33m)\u001b[0m\u001b[1;33m\u001b[0m\u001b[1;33m\u001b[0m\u001b[0m\n\u001b[0m\u001b[0;32m   4592\u001b[0m             \u001b[0mindexer\u001b[0m \u001b[1;33m=\u001b[0m \u001b[0maxis\u001b[0m\u001b[1;33m.\u001b[0m\u001b[0mget_indexer\u001b[0m\u001b[1;33m(\u001b[0m\u001b[0mnew_axis\u001b[0m\u001b[1;33m)\u001b[0m\u001b[1;33m\u001b[0m\u001b[1;33m\u001b[0m\u001b[0m\n\u001b[0;32m   4593\u001b[0m \u001b[1;33m\u001b[0m\u001b[0m\n",
      "\u001b[1;32mc:\\Projects\\EDA GSP\\venv\\lib\\site-packages\\pandas\\core\\indexes\\base.py\u001b[0m in \u001b[0;36mdrop\u001b[1;34m(self, labels, errors)\u001b[0m\n\u001b[0;32m   6694\u001b[0m         \u001b[1;32mif\u001b[0m \u001b[0mmask\u001b[0m\u001b[1;33m.\u001b[0m\u001b[0many\u001b[0m\u001b[1;33m(\u001b[0m\u001b[1;33m)\u001b[0m\u001b[1;33m:\u001b[0m\u001b[1;33m\u001b[0m\u001b[1;33m\u001b[0m\u001b[0m\n\u001b[0;32m   6695\u001b[0m             \u001b[1;32mif\u001b[0m \u001b[0merrors\u001b[0m \u001b[1;33m!=\u001b[0m \u001b[1;34m\"ignore\"\u001b[0m\u001b[1;33m:\u001b[0m\u001b[1;33m\u001b[0m\u001b[1;33m\u001b[0m\u001b[0m\n\u001b[1;32m-> 6696\u001b[1;33m                 \u001b[1;32mraise\u001b[0m \u001b[0mKeyError\u001b[0m\u001b[1;33m(\u001b[0m\u001b[1;34mf\"{list(labels[mask])} not found in axis\"\u001b[0m\u001b[1;33m)\u001b[0m\u001b[1;33m\u001b[0m\u001b[1;33m\u001b[0m\u001b[0m\n\u001b[0m\u001b[0;32m   6697\u001b[0m             \u001b[0mindexer\u001b[0m \u001b[1;33m=\u001b[0m \u001b[0mindexer\u001b[0m\u001b[1;33m[\u001b[0m\u001b[1;33m~\u001b[0m\u001b[0mmask\u001b[0m\u001b[1;33m]\u001b[0m\u001b[1;33m\u001b[0m\u001b[1;33m\u001b[0m\u001b[0m\n\u001b[0;32m   6698\u001b[0m         \u001b[1;32mreturn\u001b[0m \u001b[0mself\u001b[0m\u001b[1;33m.\u001b[0m\u001b[0mdelete\u001b[0m\u001b[1;33m(\u001b[0m\u001b[0mindexer\u001b[0m\u001b[1;33m)\u001b[0m\u001b[1;33m\u001b[0m\u001b[1;33m\u001b[0m\u001b[0m\n",
      "\u001b[1;31mKeyError\u001b[0m: \"['elapsed_time'] not found in axis\""
     ]
    }
   ],
   "source": [
    "df = df.drop(\"elapsed_time\",axis=1)\n",
    "df = df.drop(\"hover_duration\",axis=1)\n"
   ]
  },
  {
   "cell_type": "code",
   "execution_count": 8,
   "metadata": {},
   "outputs": [
    {
     "data": {
      "text/html": [
       "<div>\n",
       "<style scoped>\n",
       "    .dataframe tbody tr th:only-of-type {\n",
       "        vertical-align: middle;\n",
       "    }\n",
       "\n",
       "    .dataframe tbody tr th {\n",
       "        vertical-align: top;\n",
       "    }\n",
       "\n",
       "    .dataframe thead th {\n",
       "        text-align: right;\n",
       "    }\n",
       "</style>\n",
       "<table border=\"1\" class=\"dataframe\">\n",
       "  <thead>\n",
       "    <tr style=\"text-align: right;\">\n",
       "      <th></th>\n",
       "      <th>session_id</th>\n",
       "      <th>index</th>\n",
       "      <th>event_name</th>\n",
       "      <th>name</th>\n",
       "      <th>level</th>\n",
       "      <th>page</th>\n",
       "      <th>room_coor_x</th>\n",
       "      <th>room_coor_y</th>\n",
       "      <th>screen_coor_x</th>\n",
       "      <th>screen_coor_y</th>\n",
       "      <th>...</th>\n",
       "      <th>room_fqid</th>\n",
       "      <th>text_fqid</th>\n",
       "      <th>fullscreen</th>\n",
       "      <th>hq</th>\n",
       "      <th>music</th>\n",
       "      <th>level_group</th>\n",
       "      <th>elapsed_time_log</th>\n",
       "      <th>elapsed_time_diff_log</th>\n",
       "      <th>hover_duration_log</th>\n",
       "      <th>quantile</th>\n",
       "    </tr>\n",
       "  </thead>\n",
       "  <tbody>\n",
       "    <tr>\n",
       "      <th>0</th>\n",
       "      <td>20090312431273200</td>\n",
       "      <td>0</td>\n",
       "      <td>cutscene_click</td>\n",
       "      <td>basic</td>\n",
       "      <td>0</td>\n",
       "      <td>NaN</td>\n",
       "      <td>-413.991394</td>\n",
       "      <td>-159.314682</td>\n",
       "      <td>380.0</td>\n",
       "      <td>494.0</td>\n",
       "      <td>...</td>\n",
       "      <td>tunic.historicalsociety.closet</td>\n",
       "      <td>tunic.historicalsociety.closet.intro</td>\n",
       "      <td>0</td>\n",
       "      <td>0</td>\n",
       "      <td>1</td>\n",
       "      <td>0-4</td>\n",
       "      <td>0.0</td>\n",
       "      <td>0.0</td>\n",
       "      <td>NaN</td>\n",
       "      <td>0</td>\n",
       "    </tr>\n",
       "    <tr>\n",
       "      <th>1</th>\n",
       "      <td>20090312431273200</td>\n",
       "      <td>1</td>\n",
       "      <td>person_click</td>\n",
       "      <td>basic</td>\n",
       "      <td>0</td>\n",
       "      <td>NaN</td>\n",
       "      <td>-413.991394</td>\n",
       "      <td>-159.314682</td>\n",
       "      <td>380.0</td>\n",
       "      <td>494.0</td>\n",
       "      <td>...</td>\n",
       "      <td>tunic.historicalsociety.closet</td>\n",
       "      <td>tunic.historicalsociety.closet.gramps.intro_0_...</td>\n",
       "      <td>0</td>\n",
       "      <td>0</td>\n",
       "      <td>1</td>\n",
       "      <td>0-4</td>\n",
       "      <td>7.0</td>\n",
       "      <td>7.0</td>\n",
       "      <td>NaN</td>\n",
       "      <td>0</td>\n",
       "    </tr>\n",
       "    <tr>\n",
       "      <th>2</th>\n",
       "      <td>20090312431273200</td>\n",
       "      <td>2</td>\n",
       "      <td>person_click</td>\n",
       "      <td>basic</td>\n",
       "      <td>0</td>\n",
       "      <td>NaN</td>\n",
       "      <td>-413.991394</td>\n",
       "      <td>-159.314682</td>\n",
       "      <td>380.0</td>\n",
       "      <td>494.0</td>\n",
       "      <td>...</td>\n",
       "      <td>tunic.historicalsociety.closet</td>\n",
       "      <td>tunic.historicalsociety.closet.gramps.intro_0_...</td>\n",
       "      <td>0</td>\n",
       "      <td>0</td>\n",
       "      <td>1</td>\n",
       "      <td>0-4</td>\n",
       "      <td>6.5</td>\n",
       "      <td>0.0</td>\n",
       "      <td>NaN</td>\n",
       "      <td>0</td>\n",
       "    </tr>\n",
       "    <tr>\n",
       "      <th>3</th>\n",
       "      <td>20090312431273200</td>\n",
       "      <td>3</td>\n",
       "      <td>person_click</td>\n",
       "      <td>basic</td>\n",
       "      <td>0</td>\n",
       "      <td>NaN</td>\n",
       "      <td>-413.991394</td>\n",
       "      <td>-159.314682</td>\n",
       "      <td>380.0</td>\n",
       "      <td>494.0</td>\n",
       "      <td>...</td>\n",
       "      <td>tunic.historicalsociety.closet</td>\n",
       "      <td>tunic.historicalsociety.closet.gramps.intro_0_...</td>\n",
       "      <td>0</td>\n",
       "      <td>0</td>\n",
       "      <td>1</td>\n",
       "      <td>0-4</td>\n",
       "      <td>7.0</td>\n",
       "      <td>6.0</td>\n",
       "      <td>NaN</td>\n",
       "      <td>0</td>\n",
       "    </tr>\n",
       "    <tr>\n",
       "      <th>4</th>\n",
       "      <td>20090312431273200</td>\n",
       "      <td>4</td>\n",
       "      <td>person_click</td>\n",
       "      <td>basic</td>\n",
       "      <td>0</td>\n",
       "      <td>NaN</td>\n",
       "      <td>-412.991394</td>\n",
       "      <td>-159.314682</td>\n",
       "      <td>381.0</td>\n",
       "      <td>494.0</td>\n",
       "      <td>...</td>\n",
       "      <td>tunic.historicalsociety.closet</td>\n",
       "      <td>tunic.historicalsociety.closet.gramps.intro_0_...</td>\n",
       "      <td>0</td>\n",
       "      <td>0</td>\n",
       "      <td>1</td>\n",
       "      <td>0-4</td>\n",
       "      <td>7.5</td>\n",
       "      <td>6.5</td>\n",
       "      <td>NaN</td>\n",
       "      <td>0</td>\n",
       "    </tr>\n",
       "    <tr>\n",
       "      <th>...</th>\n",
       "      <td>...</td>\n",
       "      <td>...</td>\n",
       "      <td>...</td>\n",
       "      <td>...</td>\n",
       "      <td>...</td>\n",
       "      <td>...</td>\n",
       "      <td>...</td>\n",
       "      <td>...</td>\n",
       "      <td>...</td>\n",
       "      <td>...</td>\n",
       "      <td>...</td>\n",
       "      <td>...</td>\n",
       "      <td>...</td>\n",
       "      <td>...</td>\n",
       "      <td>...</td>\n",
       "      <td>...</td>\n",
       "      <td>...</td>\n",
       "      <td>...</td>\n",
       "      <td>...</td>\n",
       "      <td>...</td>\n",
       "      <td>...</td>\n",
       "    </tr>\n",
       "    <tr>\n",
       "      <th>25542277</th>\n",
       "      <td>22100221145014656</td>\n",
       "      <td>1600</td>\n",
       "      <td>navigate_click</td>\n",
       "      <td>undefined</td>\n",
       "      <td>22</td>\n",
       "      <td>NaN</td>\n",
       "      <td>343.887299</td>\n",
       "      <td>36.701027</td>\n",
       "      <td>483.0</td>\n",
       "      <td>273.0</td>\n",
       "      <td>...</td>\n",
       "      <td>tunic.capitol_2.hall</td>\n",
       "      <td>NaN</td>\n",
       "      <td>0</td>\n",
       "      <td>0</td>\n",
       "      <td>1</td>\n",
       "      <td>13-22</td>\n",
       "      <td>15.5</td>\n",
       "      <td>7.0</td>\n",
       "      <td>NaN</td>\n",
       "      <td>2</td>\n",
       "    </tr>\n",
       "    <tr>\n",
       "      <th>25542278</th>\n",
       "      <td>22100221145014656</td>\n",
       "      <td>1601</td>\n",
       "      <td>navigate_click</td>\n",
       "      <td>undefined</td>\n",
       "      <td>22</td>\n",
       "      <td>NaN</td>\n",
       "      <td>332.696075</td>\n",
       "      <td>141.493179</td>\n",
       "      <td>545.0</td>\n",
       "      <td>221.0</td>\n",
       "      <td>...</td>\n",
       "      <td>tunic.capitol_2.hall</td>\n",
       "      <td>NaN</td>\n",
       "      <td>0</td>\n",
       "      <td>0</td>\n",
       "      <td>1</td>\n",
       "      <td>13-22</td>\n",
       "      <td>15.5</td>\n",
       "      <td>7.5</td>\n",
       "      <td>NaN</td>\n",
       "      <td>3</td>\n",
       "    </tr>\n",
       "    <tr>\n",
       "      <th>25542279</th>\n",
       "      <td>22100221145014656</td>\n",
       "      <td>1602</td>\n",
       "      <td>navigate_click</td>\n",
       "      <td>undefined</td>\n",
       "      <td>22</td>\n",
       "      <td>NaN</td>\n",
       "      <td>369.912872</td>\n",
       "      <td>140.569199</td>\n",
       "      <td>611.0</td>\n",
       "      <td>217.0</td>\n",
       "      <td>...</td>\n",
       "      <td>tunic.capitol_2.hall</td>\n",
       "      <td>NaN</td>\n",
       "      <td>0</td>\n",
       "      <td>0</td>\n",
       "      <td>1</td>\n",
       "      <td>13-22</td>\n",
       "      <td>15.5</td>\n",
       "      <td>6.5</td>\n",
       "      <td>NaN</td>\n",
       "      <td>3</td>\n",
       "    </tr>\n",
       "    <tr>\n",
       "      <th>25542280</th>\n",
       "      <td>22100221145014656</td>\n",
       "      <td>1603</td>\n",
       "      <td>navigate_click</td>\n",
       "      <td>undefined</td>\n",
       "      <td>22</td>\n",
       "      <td>NaN</td>\n",
       "      <td>252.299652</td>\n",
       "      <td>123.805893</td>\n",
       "      <td>526.0</td>\n",
       "      <td>232.0</td>\n",
       "      <td>...</td>\n",
       "      <td>tunic.capitol_2.hall</td>\n",
       "      <td>NaN</td>\n",
       "      <td>0</td>\n",
       "      <td>0</td>\n",
       "      <td>1</td>\n",
       "      <td>13-22</td>\n",
       "      <td>15.5</td>\n",
       "      <td>6.5</td>\n",
       "      <td>NaN</td>\n",
       "      <td>3</td>\n",
       "    </tr>\n",
       "    <tr>\n",
       "      <th>25542281</th>\n",
       "      <td>22100221145014656</td>\n",
       "      <td>1604</td>\n",
       "      <td>checkpoint</td>\n",
       "      <td>basic</td>\n",
       "      <td>22</td>\n",
       "      <td>NaN</td>\n",
       "      <td>NaN</td>\n",
       "      <td>NaN</td>\n",
       "      <td>NaN</td>\n",
       "      <td>NaN</td>\n",
       "      <td>...</td>\n",
       "      <td>tunic.capitol_2.hall</td>\n",
       "      <td>NaN</td>\n",
       "      <td>0</td>\n",
       "      <td>0</td>\n",
       "      <td>1</td>\n",
       "      <td>13-22</td>\n",
       "      <td>15.5</td>\n",
       "      <td>7.0</td>\n",
       "      <td>NaN</td>\n",
       "      <td>3</td>\n",
       "    </tr>\n",
       "  </tbody>\n",
       "</table>\n",
       "<p>25542282 rows × 22 columns</p>\n",
       "</div>"
      ],
      "text/plain": [
       "                 session_id  index      event_name       name  level  page   \n",
       "0         20090312431273200      0  cutscene_click      basic      0   NaN  \\\n",
       "1         20090312431273200      1    person_click      basic      0   NaN   \n",
       "2         20090312431273200      2    person_click      basic      0   NaN   \n",
       "3         20090312431273200      3    person_click      basic      0   NaN   \n",
       "4         20090312431273200      4    person_click      basic      0   NaN   \n",
       "...                     ...    ...             ...        ...    ...   ...   \n",
       "25542277  22100221145014656   1600  navigate_click  undefined     22   NaN   \n",
       "25542278  22100221145014656   1601  navigate_click  undefined     22   NaN   \n",
       "25542279  22100221145014656   1602  navigate_click  undefined     22   NaN   \n",
       "25542280  22100221145014656   1603  navigate_click  undefined     22   NaN   \n",
       "25542281  22100221145014656   1604      checkpoint      basic     22   NaN   \n",
       "\n",
       "          room_coor_x  room_coor_y  screen_coor_x  screen_coor_y  ...   \n",
       "0         -413.991394  -159.314682          380.0          494.0  ...  \\\n",
       "1         -413.991394  -159.314682          380.0          494.0  ...   \n",
       "2         -413.991394  -159.314682          380.0          494.0  ...   \n",
       "3         -413.991394  -159.314682          380.0          494.0  ...   \n",
       "4         -412.991394  -159.314682          381.0          494.0  ...   \n",
       "...               ...          ...            ...            ...  ...   \n",
       "25542277   343.887299    36.701027          483.0          273.0  ...   \n",
       "25542278   332.696075   141.493179          545.0          221.0  ...   \n",
       "25542279   369.912872   140.569199          611.0          217.0  ...   \n",
       "25542280   252.299652   123.805893          526.0          232.0  ...   \n",
       "25542281          NaN          NaN            NaN            NaN  ...   \n",
       "\n",
       "                               room_fqid   \n",
       "0         tunic.historicalsociety.closet  \\\n",
       "1         tunic.historicalsociety.closet   \n",
       "2         tunic.historicalsociety.closet   \n",
       "3         tunic.historicalsociety.closet   \n",
       "4         tunic.historicalsociety.closet   \n",
       "...                                  ...   \n",
       "25542277            tunic.capitol_2.hall   \n",
       "25542278            tunic.capitol_2.hall   \n",
       "25542279            tunic.capitol_2.hall   \n",
       "25542280            tunic.capitol_2.hall   \n",
       "25542281            tunic.capitol_2.hall   \n",
       "\n",
       "                                                  text_fqid fullscreen hq   \n",
       "0                      tunic.historicalsociety.closet.intro          0  0  \\\n",
       "1         tunic.historicalsociety.closet.gramps.intro_0_...          0  0   \n",
       "2         tunic.historicalsociety.closet.gramps.intro_0_...          0  0   \n",
       "3         tunic.historicalsociety.closet.gramps.intro_0_...          0  0   \n",
       "4         tunic.historicalsociety.closet.gramps.intro_0_...          0  0   \n",
       "...                                                     ...        ... ..   \n",
       "25542277                                                NaN          0  0   \n",
       "25542278                                                NaN          0  0   \n",
       "25542279                                                NaN          0  0   \n",
       "25542280                                                NaN          0  0   \n",
       "25542281                                                NaN          0  0   \n",
       "\n",
       "          music  level_group  elapsed_time_log elapsed_time_diff_log   \n",
       "0             1          0-4               0.0                   0.0  \\\n",
       "1             1          0-4               7.0                   7.0   \n",
       "2             1          0-4               6.5                   0.0   \n",
       "3             1          0-4               7.0                   6.0   \n",
       "4             1          0-4               7.5                   6.5   \n",
       "...         ...          ...               ...                   ...   \n",
       "25542277      1        13-22              15.5                   7.0   \n",
       "25542278      1        13-22              15.5                   7.5   \n",
       "25542279      1        13-22              15.5                   6.5   \n",
       "25542280      1        13-22              15.5                   6.5   \n",
       "25542281      1        13-22              15.5                   7.0   \n",
       "\n",
       "          hover_duration_log  quantile  \n",
       "0                        NaN         0  \n",
       "1                        NaN         0  \n",
       "2                        NaN         0  \n",
       "3                        NaN         0  \n",
       "4                        NaN         0  \n",
       "...                      ...       ...  \n",
       "25542277                 NaN         2  \n",
       "25542278                 NaN         3  \n",
       "25542279                 NaN         3  \n",
       "25542280                 NaN         3  \n",
       "25542281                 NaN         3  \n",
       "\n",
       "[25542282 rows x 22 columns]"
      ]
     },
     "execution_count": 8,
     "metadata": {},
     "output_type": "execute_result"
    }
   ],
   "source": [
    "df"
   ]
  },
  {
   "attachments": {},
   "cell_type": "markdown",
   "metadata": {},
   "source": [
    "# Feature engineering"
   ]
  },
  {
   "cell_type": "code",
   "execution_count": 9,
   "metadata": {},
   "outputs": [],
   "source": [
    "categ = ['event_name', 'name','fqid', 'room_fqid', 'text_fqid', 'text']\n",
    "numer = [\"elapsed_time_log\", \"elapsed_time_diff_log\", \"hover_duration_log\", 'room_coor_x', 'room_coor_y', 'screen_coor_x', 'screen_coor_y', \"page\"]\n",
    "binary = [\"fullscreen\", \"hq\", \"music\"]"
   ]
  },
  {
   "cell_type": "code",
   "execution_count": 15,
   "metadata": {},
   "outputs": [],
   "source": [
    "df_0_4 = df[df['level_group'] == '0-4'].copy()\n",
    "df_5_12 = df[df['level_group'] == '5-12'].copy()\n",
    "df_13_22 = df[df['level_group'] == '13-22'].copy()"
   ]
  },
  {
   "cell_type": "code",
   "execution_count": 17,
   "metadata": {},
   "outputs": [
    {
     "data": {
      "text/plain": [
       "41"
      ]
     },
     "execution_count": 17,
     "metadata": {},
     "output_type": "execute_result"
    }
   ],
   "source": [
    "del df\n",
    "gc.collect()"
   ]
  },
  {
   "cell_type": "code",
   "execution_count": 18,
   "metadata": {},
   "outputs": [],
   "source": [
    "def feature_engineer(dataset_df):\n",
    "    start_time = time.time()\n",
    "    \n",
    "    binary_groups = [] \n",
    "    for c in binary:\n",
    "        tmp_binary_mean = dataset_df.groupby(\"session_id\")[c].mean()\n",
    "        binary_groups.append(tmp_binary_mean)\n",
    "\n",
    "    print(\"Binary Completado. Tiempo transcurrido: {:.2f} segundos\".format(time.time() - start_time))\n",
    "    print()\n",
    "\n",
    "    groups = []\n",
    "    \n",
    "    # Calculating the total elapsed time for each session, level and quantile, transforming with log and adding 1\n",
    "    elapsed_time = dataset_df.groupby([\"session_id\", \"level\", \"quantile\"])[\"time_diff\"].sum()\n",
    "    elapsed_time_log = np.log1p(elapsed_time) # apply log transformation and add 1\n",
    "    elapsed_time_log.name = \"quantile_elapsed\"\n",
    "    groups.append(elapsed_time_log)\n",
    "    dataset_df = dataset_df.drop(\"time_diff\",axis=1)\n",
    "\n",
    "    del elapsed_time # release memory\n",
    "    gc.collect() # collect garbage\n",
    "\n",
    "    print(\"Elapsed Time por quantil Completado. Tiempo transcurrido: {:.2f} segundos\".format(time.time() - start_time))\n",
    "    print()\n",
    "\n",
    "    # Counting the number of events for each session, level and quantile\n",
    "    event_count = dataset_df.groupby([\"session_id\", \"level\", \"quantile\"])[\"index\"].count()\n",
    "    event_count.name = \"session_events\"\n",
    "    groups.append(event_count)\n",
    "\n",
    "    print(\"Eventos por quantil Completado. Tiempo transcurrido: {:.2f} segundos\".format(time.time() - start_time))\n",
    "    print()\n",
    "\n",
    "    # Calculate the event density for each session, level and quantile\n",
    "    event_density = np.where(elapsed_time_log > 0, event_count / elapsed_time_log, 0)\n",
    "    # event_density = pd.Series(event_density, name='event_density')\n",
    "    event_density = pd.Series(np.where(elapsed_time_log > 0, event_count / elapsed_time_log, 0), index=elapsed_time_log.index, name='event_density')\n",
    "    groups.append(event_density)\n",
    "\n",
    "    print(\"Densidad de eventos Completado. Tiempo transcurrido: {:.2f} segundos\".format(time.time() - start_time))\n",
    "    print()\n",
    "\n",
    "    del event_count, event_density # release memory\n",
    "    gc.collect() # collect garbage\n",
    "\n",
    "    for c in numer:\n",
    "        if c == \"hover_duration_log\" or c == \"page\":\n",
    "            tmp_mean = dataset_df.groupby([\"session_id\", \"level\", \"quantile\"])[c].mean()\n",
    "            tmp_mean = tmp_mean.fillna(-1 if c == \"page\" else 0)\n",
    "            tmp_std = dataset_df.groupby([\"session_id\", \"level\", \"quantile\"])[c].std(ddof=0)\n",
    "            tmp_std = tmp_std.fillna(-1 if c == \"page\" else 0)  # fill NaN with -1 for 'page', 0 for others\n",
    "            tmp_std.name = tmp_std.name + '_std'\n",
    "            groups.append(tmp_mean)\n",
    "            groups.append(tmp_std)\n",
    "\n",
    "            del tmp_mean, tmp_std # release memory\n",
    "            gc.collect() # collect garbage\n",
    "        else:\n",
    "            tmp_mean = dataset_df.groupby([\"session_id\", \"level\", \"quantile\"])[c].mean()\n",
    "            tmp_std =  dataset_df.groupby([\"session_id\", \"level\", \"quantile\"])[c].std(ddof=0)\n",
    "            tmp_std.name = tmp_std.name + '_std'\n",
    "            groups.append(tmp_mean)\n",
    "            groups.append(tmp_std)\n",
    "            del tmp_mean, tmp_std # release memory\n",
    "            gc.collect() # collect garbage\n",
    "\n",
    "        print(f\"{c} Completado. Tiempo transcurrido: {time.time() - start_time:.2f} segundos\")\n",
    "        print()\n",
    "\n",
    "    for c in categ: \n",
    "        tmp_cat = dataset_df.groupby([\"session_id\", \"level\", \"quantile\"])[c].agg(\"nunique\")\n",
    "        groups.append(tmp_cat)\n",
    "        del tmp_cat # release memory\n",
    "        gc.collect() # collect garbage\n",
    "        print(f\"{c} Completado. Tiempo transcurrido: {time.time() - start_time:.2f} segundos\")\n",
    "        print()\n",
    "    df_unstacked = pd.concat(groups, axis=1).unstack(['level',\"quantile\"])\n",
    "    df_unstacked.columns = ['_'.join(map(str, col)).rstrip('_') for col in df_unstacked.columns.values]\n",
    "\n",
    "    print(\"Unstack Completado. Tiempo transcurrido: {:.2f} segundos\".format(time.time() - start_time))\n",
    "    print()\n",
    "\n",
    "    del groups # release memory\n",
    "    gc.collect() # collect garbage\n",
    "\n",
    "    df_binary = pd.concat(binary_groups, axis=1)\n",
    "    df_binary.columns = binary\n",
    "\n",
    "    print(\"Binary concatenado Completado. Tiempo transcurrido: {:.2f} segundos\".format(time.time() - start_time))\n",
    "    print()\n",
    "\n",
    "    del binary_groups # release memory\n",
    "    gc.collect() # collect garbage\n",
    "\n",
    "    df_final = pd.merge(df_unstacked, df_binary, left_index=True, right_index=True)\n",
    "\n",
    "    print(\"Merge Completado. Tiempo transcurrido: {:.2f} segundos\".format(time.time() - start_time))\n",
    "    print()\n",
    "\n",
    "    del df_unstacked, df_binary # release memory\n",
    "    gc.collect() # collect garbage\n",
    "\n",
    "    df_final = df_final.fillna(-1)\n",
    "\n",
    "    return df_final\n"
   ]
  },
  {
   "cell_type": "code",
   "execution_count": 19,
   "metadata": {},
   "outputs": [
    {
     "name": "stdout",
     "output_type": "stream",
     "text": [
      "Binary Completado. Tiempo transcurrido: 0.40 segundos\n",
      "\n",
      "Elapsed Time por quantil Completado. Tiempo transcurrido: 0.94 segundos\n",
      "\n",
      "Eventos por quantil Completado. Tiempo transcurrido: 1.32 segundos\n",
      "\n",
      "Densidad de eventos Completado. Tiempo transcurrido: 1.39 segundos\n",
      "\n",
      "elapsed_time_log Completado. Tiempo transcurrido: 2.30 segundos\n",
      "\n",
      "elapsed_time_diff_log Completado. Tiempo transcurrido: 3.23 segundos\n",
      "\n",
      "hover_duration_log Completado. Tiempo transcurrido: 4.15 segundos\n",
      "\n",
      "room_coor_x Completado. Tiempo transcurrido: 5.15 segundos\n",
      "\n",
      "room_coor_y Completado. Tiempo transcurrido: 6.09 segundos\n",
      "\n",
      "screen_coor_x Completado. Tiempo transcurrido: 7.15 segundos\n",
      "\n",
      "screen_coor_y Completado. Tiempo transcurrido: 8.21 segundos\n",
      "\n",
      "page Completado. Tiempo transcurrido: 9.13 segundos\n",
      "\n",
      "event_name Completado. Tiempo transcurrido: 10.18 segundos\n",
      "\n",
      "name Completado. Tiempo transcurrido: 10.89 segundos\n",
      "\n",
      "fqid Completado. Tiempo transcurrido: 11.73 segundos\n",
      "\n",
      "room_fqid Completado. Tiempo transcurrido: 12.44 segundos\n",
      "\n",
      "text_fqid Completado. Tiempo transcurrido: 13.16 segundos\n",
      "\n",
      "text Completado. Tiempo transcurrido: 13.99 segundos\n",
      "\n",
      "Unstack Completado. Tiempo transcurrido: 15.52 segundos\n",
      "\n",
      "Binary concatenado Completado. Tiempo transcurrido: 15.58 segundos\n",
      "\n",
      "Merge Completado. Tiempo transcurrido: 15.66 segundos\n",
      "\n"
     ]
    }
   ],
   "source": [
    "df_1 = feature_engineer(df_0_4)"
   ]
  },
  {
   "cell_type": "code",
   "execution_count": 20,
   "metadata": {},
   "outputs": [
    {
     "data": {
      "text/html": [
       "<div>\n",
       "<style scoped>\n",
       "    .dataframe tbody tr th:only-of-type {\n",
       "        vertical-align: middle;\n",
       "    }\n",
       "\n",
       "    .dataframe tbody tr th {\n",
       "        vertical-align: top;\n",
       "    }\n",
       "\n",
       "    .dataframe thead th {\n",
       "        text-align: right;\n",
       "    }\n",
       "</style>\n",
       "<table border=\"1\" class=\"dataframe\">\n",
       "  <thead>\n",
       "    <tr style=\"text-align: right;\">\n",
       "      <th></th>\n",
       "      <th>quantile_elapsed_0_0</th>\n",
       "      <th>quantile_elapsed_0_1</th>\n",
       "      <th>quantile_elapsed_0_2</th>\n",
       "      <th>quantile_elapsed_0_3</th>\n",
       "      <th>quantile_elapsed_1_0</th>\n",
       "      <th>quantile_elapsed_1_1</th>\n",
       "      <th>quantile_elapsed_1_2</th>\n",
       "      <th>quantile_elapsed_1_3</th>\n",
       "      <th>quantile_elapsed_2_0</th>\n",
       "      <th>quantile_elapsed_2_1</th>\n",
       "      <th>...</th>\n",
       "      <th>text_3_1</th>\n",
       "      <th>text_3_2</th>\n",
       "      <th>text_3_3</th>\n",
       "      <th>text_4_0</th>\n",
       "      <th>text_4_1</th>\n",
       "      <th>text_4_2</th>\n",
       "      <th>text_4_3</th>\n",
       "      <th>fullscreen</th>\n",
       "      <th>hq</th>\n",
       "      <th>music</th>\n",
       "    </tr>\n",
       "    <tr>\n",
       "      <th>session_id</th>\n",
       "      <th></th>\n",
       "      <th></th>\n",
       "      <th></th>\n",
       "      <th></th>\n",
       "      <th></th>\n",
       "      <th></th>\n",
       "      <th></th>\n",
       "      <th></th>\n",
       "      <th></th>\n",
       "      <th></th>\n",
       "      <th></th>\n",
       "      <th></th>\n",
       "      <th></th>\n",
       "      <th></th>\n",
       "      <th></th>\n",
       "      <th></th>\n",
       "      <th></th>\n",
       "      <th></th>\n",
       "      <th></th>\n",
       "      <th></th>\n",
       "      <th></th>\n",
       "    </tr>\n",
       "  </thead>\n",
       "  <tbody>\n",
       "    <tr>\n",
       "      <th>20090312431273200</th>\n",
       "      <td>8.646466</td>\n",
       "      <td>8.966229</td>\n",
       "      <td>8.756368</td>\n",
       "      <td>8.762020</td>\n",
       "      <td>9.373054</td>\n",
       "      <td>9.202107</td>\n",
       "      <td>9.302737</td>\n",
       "      <td>8.884056</td>\n",
       "      <td>9.128913</td>\n",
       "      <td>9.230241</td>\n",
       "      <td>...</td>\n",
       "      <td>1</td>\n",
       "      <td>0</td>\n",
       "      <td>4</td>\n",
       "      <td>0</td>\n",
       "      <td>0</td>\n",
       "      <td>0</td>\n",
       "      <td>0</td>\n",
       "      <td>0.0</td>\n",
       "      <td>0.0</td>\n",
       "      <td>1.0</td>\n",
       "    </tr>\n",
       "    <tr>\n",
       "      <th>20090312433251036</th>\n",
       "      <td>7.049255</td>\n",
       "      <td>8.071531</td>\n",
       "      <td>8.192017</td>\n",
       "      <td>8.553718</td>\n",
       "      <td>10.194888</td>\n",
       "      <td>8.866017</td>\n",
       "      <td>8.094378</td>\n",
       "      <td>8.289791</td>\n",
       "      <td>9.821138</td>\n",
       "      <td>10.326498</td>\n",
       "      <td>...</td>\n",
       "      <td>0</td>\n",
       "      <td>0</td>\n",
       "      <td>4</td>\n",
       "      <td>0</td>\n",
       "      <td>0</td>\n",
       "      <td>0</td>\n",
       "      <td>0</td>\n",
       "      <td>0.0</td>\n",
       "      <td>0.0</td>\n",
       "      <td>0.0</td>\n",
       "    </tr>\n",
       "    <tr>\n",
       "      <th>20090312455206810</th>\n",
       "      <td>7.446001</td>\n",
       "      <td>7.666222</td>\n",
       "      <td>7.895808</td>\n",
       "      <td>8.464636</td>\n",
       "      <td>12.298146</td>\n",
       "      <td>9.497922</td>\n",
       "      <td>8.507749</td>\n",
       "      <td>8.050065</td>\n",
       "      <td>7.972811</td>\n",
       "      <td>9.441531</td>\n",
       "      <td>...</td>\n",
       "      <td>0</td>\n",
       "      <td>1</td>\n",
       "      <td>3</td>\n",
       "      <td>0</td>\n",
       "      <td>0</td>\n",
       "      <td>0</td>\n",
       "      <td>0</td>\n",
       "      <td>1.0</td>\n",
       "      <td>1.0</td>\n",
       "      <td>1.0</td>\n",
       "    </tr>\n",
       "  </tbody>\n",
       "</table>\n",
       "<p>3 rows × 503 columns</p>\n",
       "</div>"
      ],
      "text/plain": [
       "                   quantile_elapsed_0_0  quantile_elapsed_0_1   \n",
       "session_id                                                      \n",
       "20090312431273200              8.646466              8.966229  \\\n",
       "20090312433251036              7.049255              8.071531   \n",
       "20090312455206810              7.446001              7.666222   \n",
       "\n",
       "                   quantile_elapsed_0_2  quantile_elapsed_0_3   \n",
       "session_id                                                      \n",
       "20090312431273200              8.756368              8.762020  \\\n",
       "20090312433251036              8.192017              8.553718   \n",
       "20090312455206810              7.895808              8.464636   \n",
       "\n",
       "                   quantile_elapsed_1_0  quantile_elapsed_1_1   \n",
       "session_id                                                      \n",
       "20090312431273200              9.373054              9.202107  \\\n",
       "20090312433251036             10.194888              8.866017   \n",
       "20090312455206810             12.298146              9.497922   \n",
       "\n",
       "                   quantile_elapsed_1_2  quantile_elapsed_1_3   \n",
       "session_id                                                      \n",
       "20090312431273200              9.302737              8.884056  \\\n",
       "20090312433251036              8.094378              8.289791   \n",
       "20090312455206810              8.507749              8.050065   \n",
       "\n",
       "                   quantile_elapsed_2_0  quantile_elapsed_2_1  ...  text_3_1   \n",
       "session_id                                                     ...             \n",
       "20090312431273200              9.128913              9.230241  ...         1  \\\n",
       "20090312433251036              9.821138             10.326498  ...         0   \n",
       "20090312455206810              7.972811              9.441531  ...         0   \n",
       "\n",
       "                   text_3_2  text_3_3  text_4_0  text_4_1  text_4_2  text_4_3   \n",
       "session_id                                                                      \n",
       "20090312431273200         0         4         0         0         0         0  \\\n",
       "20090312433251036         0         4         0         0         0         0   \n",
       "20090312455206810         1         3         0         0         0         0   \n",
       "\n",
       "                   fullscreen   hq  music  \n",
       "session_id                                 \n",
       "20090312431273200         0.0  0.0    1.0  \n",
       "20090312433251036         0.0  0.0    0.0  \n",
       "20090312455206810         1.0  1.0    1.0  \n",
       "\n",
       "[3 rows x 503 columns]"
      ]
     },
     "execution_count": 20,
     "metadata": {},
     "output_type": "execute_result"
    }
   ],
   "source": [
    "df_1.head(3)"
   ]
  },
  {
   "cell_type": "code",
   "execution_count": 25,
   "metadata": {},
   "outputs": [
    {
     "data": {
      "text/plain": [
       "['quantile_elapsed_0_0',\n",
       " 'quantile_elapsed_0_1',\n",
       " 'quantile_elapsed_0_2',\n",
       " 'quantile_elapsed_0_3',\n",
       " 'quantile_elapsed_1_0',\n",
       " 'quantile_elapsed_1_1',\n",
       " 'quantile_elapsed_1_2',\n",
       " 'quantile_elapsed_1_3',\n",
       " 'quantile_elapsed_2_0',\n",
       " 'quantile_elapsed_2_1',\n",
       " 'quantile_elapsed_2_2',\n",
       " 'quantile_elapsed_2_3',\n",
       " 'quantile_elapsed_3_0',\n",
       " 'quantile_elapsed_3_1',\n",
       " 'quantile_elapsed_3_2',\n",
       " 'quantile_elapsed_3_3',\n",
       " 'quantile_elapsed_4_0',\n",
       " 'quantile_elapsed_4_1',\n",
       " 'quantile_elapsed_4_2',\n",
       " 'quantile_elapsed_4_3',\n",
       " 'session_events_0_0',\n",
       " 'session_events_0_1',\n",
       " 'session_events_0_2',\n",
       " 'session_events_0_3',\n",
       " 'session_events_1_0',\n",
       " 'session_events_1_1',\n",
       " 'session_events_1_2',\n",
       " 'session_events_1_3',\n",
       " 'session_events_2_0',\n",
       " 'session_events_2_1',\n",
       " 'session_events_2_2',\n",
       " 'session_events_2_3',\n",
       " 'session_events_3_0',\n",
       " 'session_events_3_1',\n",
       " 'session_events_3_2',\n",
       " 'session_events_3_3',\n",
       " 'session_events_4_0',\n",
       " 'session_events_4_1',\n",
       " 'session_events_4_2',\n",
       " 'session_events_4_3',\n",
       " 'event_density_0_0',\n",
       " 'event_density_0_1',\n",
       " 'event_density_0_2',\n",
       " 'event_density_0_3',\n",
       " 'event_density_1_0',\n",
       " 'event_density_1_1',\n",
       " 'event_density_1_2',\n",
       " 'event_density_1_3',\n",
       " 'event_density_2_0',\n",
       " 'event_density_2_1',\n",
       " 'event_density_2_2',\n",
       " 'event_density_2_3',\n",
       " 'event_density_3_0',\n",
       " 'event_density_3_1',\n",
       " 'event_density_3_2',\n",
       " 'event_density_3_3',\n",
       " 'event_density_4_0',\n",
       " 'event_density_4_1',\n",
       " 'event_density_4_2',\n",
       " 'event_density_4_3',\n",
       " 'elapsed_time_log_0_0',\n",
       " 'elapsed_time_log_0_1',\n",
       " 'elapsed_time_log_0_2',\n",
       " 'elapsed_time_log_0_3',\n",
       " 'elapsed_time_log_1_0',\n",
       " 'elapsed_time_log_1_1',\n",
       " 'elapsed_time_log_1_2',\n",
       " 'elapsed_time_log_1_3',\n",
       " 'elapsed_time_log_2_0',\n",
       " 'elapsed_time_log_2_1',\n",
       " 'elapsed_time_log_2_2',\n",
       " 'elapsed_time_log_2_3',\n",
       " 'elapsed_time_log_3_0',\n",
       " 'elapsed_time_log_3_1',\n",
       " 'elapsed_time_log_3_2',\n",
       " 'elapsed_time_log_3_3',\n",
       " 'elapsed_time_log_4_0',\n",
       " 'elapsed_time_log_4_1',\n",
       " 'elapsed_time_log_4_2',\n",
       " 'elapsed_time_log_4_3',\n",
       " 'elapsed_time_log_std_0_0',\n",
       " 'elapsed_time_log_std_0_1',\n",
       " 'elapsed_time_log_std_0_2',\n",
       " 'elapsed_time_log_std_0_3',\n",
       " 'elapsed_time_log_std_1_0',\n",
       " 'elapsed_time_log_std_1_1',\n",
       " 'elapsed_time_log_std_1_2',\n",
       " 'elapsed_time_log_std_1_3',\n",
       " 'elapsed_time_log_std_2_0',\n",
       " 'elapsed_time_log_std_2_1',\n",
       " 'elapsed_time_log_std_2_2',\n",
       " 'elapsed_time_log_std_2_3',\n",
       " 'elapsed_time_log_std_3_0',\n",
       " 'elapsed_time_log_std_3_1',\n",
       " 'elapsed_time_log_std_3_2',\n",
       " 'elapsed_time_log_std_3_3',\n",
       " 'elapsed_time_log_std_4_0',\n",
       " 'elapsed_time_log_std_4_1',\n",
       " 'elapsed_time_log_std_4_2',\n",
       " 'elapsed_time_log_std_4_3',\n",
       " 'elapsed_time_diff_log_0_0',\n",
       " 'elapsed_time_diff_log_0_1',\n",
       " 'elapsed_time_diff_log_0_2',\n",
       " 'elapsed_time_diff_log_0_3',\n",
       " 'elapsed_time_diff_log_1_0',\n",
       " 'elapsed_time_diff_log_1_1',\n",
       " 'elapsed_time_diff_log_1_2',\n",
       " 'elapsed_time_diff_log_1_3',\n",
       " 'elapsed_time_diff_log_2_0',\n",
       " 'elapsed_time_diff_log_2_1',\n",
       " 'elapsed_time_diff_log_2_2',\n",
       " 'elapsed_time_diff_log_2_3',\n",
       " 'elapsed_time_diff_log_3_0',\n",
       " 'elapsed_time_diff_log_3_1',\n",
       " 'elapsed_time_diff_log_3_2',\n",
       " 'elapsed_time_diff_log_3_3',\n",
       " 'elapsed_time_diff_log_4_0',\n",
       " 'elapsed_time_diff_log_4_1',\n",
       " 'elapsed_time_diff_log_4_2',\n",
       " 'elapsed_time_diff_log_4_3',\n",
       " 'elapsed_time_diff_log_std_0_0',\n",
       " 'elapsed_time_diff_log_std_0_1',\n",
       " 'elapsed_time_diff_log_std_0_2',\n",
       " 'elapsed_time_diff_log_std_0_3',\n",
       " 'elapsed_time_diff_log_std_1_0',\n",
       " 'elapsed_time_diff_log_std_1_1',\n",
       " 'elapsed_time_diff_log_std_1_2',\n",
       " 'elapsed_time_diff_log_std_1_3',\n",
       " 'elapsed_time_diff_log_std_2_0',\n",
       " 'elapsed_time_diff_log_std_2_1',\n",
       " 'elapsed_time_diff_log_std_2_2',\n",
       " 'elapsed_time_diff_log_std_2_3',\n",
       " 'elapsed_time_diff_log_std_3_0',\n",
       " 'elapsed_time_diff_log_std_3_1',\n",
       " 'elapsed_time_diff_log_std_3_2',\n",
       " 'elapsed_time_diff_log_std_3_3',\n",
       " 'elapsed_time_diff_log_std_4_0',\n",
       " 'elapsed_time_diff_log_std_4_1',\n",
       " 'elapsed_time_diff_log_std_4_2',\n",
       " 'elapsed_time_diff_log_std_4_3',\n",
       " 'hover_duration_log_0_0',\n",
       " 'hover_duration_log_0_1',\n",
       " 'hover_duration_log_0_2',\n",
       " 'hover_duration_log_0_3',\n",
       " 'hover_duration_log_1_0',\n",
       " 'hover_duration_log_1_1',\n",
       " 'hover_duration_log_1_2',\n",
       " 'hover_duration_log_1_3',\n",
       " 'hover_duration_log_2_0',\n",
       " 'hover_duration_log_2_1',\n",
       " 'hover_duration_log_2_2',\n",
       " 'hover_duration_log_2_3',\n",
       " 'hover_duration_log_3_0',\n",
       " 'hover_duration_log_3_1',\n",
       " 'hover_duration_log_3_2',\n",
       " 'hover_duration_log_3_3',\n",
       " 'hover_duration_log_4_0',\n",
       " 'hover_duration_log_4_1',\n",
       " 'hover_duration_log_4_2',\n",
       " 'hover_duration_log_4_3',\n",
       " 'hover_duration_log_std_0_0',\n",
       " 'hover_duration_log_std_0_1',\n",
       " 'hover_duration_log_std_0_2',\n",
       " 'hover_duration_log_std_0_3',\n",
       " 'hover_duration_log_std_1_0',\n",
       " 'hover_duration_log_std_1_1',\n",
       " 'hover_duration_log_std_1_2',\n",
       " 'hover_duration_log_std_1_3',\n",
       " 'hover_duration_log_std_2_0',\n",
       " 'hover_duration_log_std_2_1',\n",
       " 'hover_duration_log_std_2_2',\n",
       " 'hover_duration_log_std_2_3',\n",
       " 'hover_duration_log_std_3_0',\n",
       " 'hover_duration_log_std_3_1',\n",
       " 'hover_duration_log_std_3_2',\n",
       " 'hover_duration_log_std_3_3',\n",
       " 'hover_duration_log_std_4_0',\n",
       " 'hover_duration_log_std_4_1',\n",
       " 'hover_duration_log_std_4_2',\n",
       " 'hover_duration_log_std_4_3',\n",
       " 'room_coor_x_0_0',\n",
       " 'room_coor_x_0_1',\n",
       " 'room_coor_x_0_2',\n",
       " 'room_coor_x_0_3',\n",
       " 'room_coor_x_1_0',\n",
       " 'room_coor_x_1_1',\n",
       " 'room_coor_x_1_2',\n",
       " 'room_coor_x_1_3',\n",
       " 'room_coor_x_2_0',\n",
       " 'room_coor_x_2_1',\n",
       " 'room_coor_x_2_2',\n",
       " 'room_coor_x_2_3',\n",
       " 'room_coor_x_3_0',\n",
       " 'room_coor_x_3_1',\n",
       " 'room_coor_x_3_2',\n",
       " 'room_coor_x_3_3',\n",
       " 'room_coor_x_4_0',\n",
       " 'room_coor_x_4_1',\n",
       " 'room_coor_x_4_2',\n",
       " 'room_coor_x_4_3',\n",
       " 'room_coor_x_std_0_0',\n",
       " 'room_coor_x_std_0_1',\n",
       " 'room_coor_x_std_0_2',\n",
       " 'room_coor_x_std_0_3',\n",
       " 'room_coor_x_std_1_0',\n",
       " 'room_coor_x_std_1_1',\n",
       " 'room_coor_x_std_1_2',\n",
       " 'room_coor_x_std_1_3',\n",
       " 'room_coor_x_std_2_0',\n",
       " 'room_coor_x_std_2_1',\n",
       " 'room_coor_x_std_2_2',\n",
       " 'room_coor_x_std_2_3',\n",
       " 'room_coor_x_std_3_0',\n",
       " 'room_coor_x_std_3_1',\n",
       " 'room_coor_x_std_3_2',\n",
       " 'room_coor_x_std_3_3',\n",
       " 'room_coor_x_std_4_0',\n",
       " 'room_coor_x_std_4_1',\n",
       " 'room_coor_x_std_4_2',\n",
       " 'room_coor_x_std_4_3',\n",
       " 'room_coor_y_0_0',\n",
       " 'room_coor_y_0_1',\n",
       " 'room_coor_y_0_2',\n",
       " 'room_coor_y_0_3',\n",
       " 'room_coor_y_1_0',\n",
       " 'room_coor_y_1_1',\n",
       " 'room_coor_y_1_2',\n",
       " 'room_coor_y_1_3',\n",
       " 'room_coor_y_2_0',\n",
       " 'room_coor_y_2_1',\n",
       " 'room_coor_y_2_2',\n",
       " 'room_coor_y_2_3',\n",
       " 'room_coor_y_3_0',\n",
       " 'room_coor_y_3_1',\n",
       " 'room_coor_y_3_2',\n",
       " 'room_coor_y_3_3',\n",
       " 'room_coor_y_4_0',\n",
       " 'room_coor_y_4_1',\n",
       " 'room_coor_y_4_2',\n",
       " 'room_coor_y_4_3',\n",
       " 'room_coor_y_std_0_0',\n",
       " 'room_coor_y_std_0_1',\n",
       " 'room_coor_y_std_0_2',\n",
       " 'room_coor_y_std_0_3',\n",
       " 'room_coor_y_std_1_0',\n",
       " 'room_coor_y_std_1_1',\n",
       " 'room_coor_y_std_1_2',\n",
       " 'room_coor_y_std_1_3',\n",
       " 'room_coor_y_std_2_0',\n",
       " 'room_coor_y_std_2_1',\n",
       " 'room_coor_y_std_2_2',\n",
       " 'room_coor_y_std_2_3',\n",
       " 'room_coor_y_std_3_0',\n",
       " 'room_coor_y_std_3_1',\n",
       " 'room_coor_y_std_3_2',\n",
       " 'room_coor_y_std_3_3',\n",
       " 'room_coor_y_std_4_0',\n",
       " 'room_coor_y_std_4_1',\n",
       " 'room_coor_y_std_4_2',\n",
       " 'room_coor_y_std_4_3',\n",
       " 'screen_coor_x_0_0',\n",
       " 'screen_coor_x_0_1',\n",
       " 'screen_coor_x_0_2',\n",
       " 'screen_coor_x_0_3',\n",
       " 'screen_coor_x_1_0',\n",
       " 'screen_coor_x_1_1',\n",
       " 'screen_coor_x_1_2',\n",
       " 'screen_coor_x_1_3',\n",
       " 'screen_coor_x_2_0',\n",
       " 'screen_coor_x_2_1',\n",
       " 'screen_coor_x_2_2',\n",
       " 'screen_coor_x_2_3',\n",
       " 'screen_coor_x_3_0',\n",
       " 'screen_coor_x_3_1',\n",
       " 'screen_coor_x_3_2',\n",
       " 'screen_coor_x_3_3',\n",
       " 'screen_coor_x_4_0',\n",
       " 'screen_coor_x_4_1',\n",
       " 'screen_coor_x_4_2',\n",
       " 'screen_coor_x_4_3',\n",
       " 'screen_coor_x_std_0_0',\n",
       " 'screen_coor_x_std_0_1',\n",
       " 'screen_coor_x_std_0_2',\n",
       " 'screen_coor_x_std_0_3',\n",
       " 'screen_coor_x_std_1_0',\n",
       " 'screen_coor_x_std_1_1',\n",
       " 'screen_coor_x_std_1_2',\n",
       " 'screen_coor_x_std_1_3',\n",
       " 'screen_coor_x_std_2_0',\n",
       " 'screen_coor_x_std_2_1',\n",
       " 'screen_coor_x_std_2_2',\n",
       " 'screen_coor_x_std_2_3',\n",
       " 'screen_coor_x_std_3_0',\n",
       " 'screen_coor_x_std_3_1',\n",
       " 'screen_coor_x_std_3_2',\n",
       " 'screen_coor_x_std_3_3',\n",
       " 'screen_coor_x_std_4_0',\n",
       " 'screen_coor_x_std_4_1',\n",
       " 'screen_coor_x_std_4_2',\n",
       " 'screen_coor_x_std_4_3',\n",
       " 'screen_coor_y_0_0',\n",
       " 'screen_coor_y_0_1',\n",
       " 'screen_coor_y_0_2',\n",
       " 'screen_coor_y_0_3',\n",
       " 'screen_coor_y_1_0',\n",
       " 'screen_coor_y_1_1',\n",
       " 'screen_coor_y_1_2',\n",
       " 'screen_coor_y_1_3',\n",
       " 'screen_coor_y_2_0',\n",
       " 'screen_coor_y_2_1',\n",
       " 'screen_coor_y_2_2',\n",
       " 'screen_coor_y_2_3',\n",
       " 'screen_coor_y_3_0',\n",
       " 'screen_coor_y_3_1',\n",
       " 'screen_coor_y_3_2',\n",
       " 'screen_coor_y_3_3',\n",
       " 'screen_coor_y_4_0',\n",
       " 'screen_coor_y_4_1',\n",
       " 'screen_coor_y_4_2',\n",
       " 'screen_coor_y_4_3',\n",
       " 'screen_coor_y_std_0_0',\n",
       " 'screen_coor_y_std_0_1',\n",
       " 'screen_coor_y_std_0_2',\n",
       " 'screen_coor_y_std_0_3',\n",
       " 'screen_coor_y_std_1_0',\n",
       " 'screen_coor_y_std_1_1',\n",
       " 'screen_coor_y_std_1_2',\n",
       " 'screen_coor_y_std_1_3',\n",
       " 'screen_coor_y_std_2_0',\n",
       " 'screen_coor_y_std_2_1',\n",
       " 'screen_coor_y_std_2_2',\n",
       " 'screen_coor_y_std_2_3',\n",
       " 'screen_coor_y_std_3_0',\n",
       " 'screen_coor_y_std_3_1',\n",
       " 'screen_coor_y_std_3_2',\n",
       " 'screen_coor_y_std_3_3',\n",
       " 'screen_coor_y_std_4_0',\n",
       " 'screen_coor_y_std_4_1',\n",
       " 'screen_coor_y_std_4_2',\n",
       " 'screen_coor_y_std_4_3',\n",
       " 'page_0_0',\n",
       " 'page_0_1',\n",
       " 'page_0_2',\n",
       " 'page_0_3',\n",
       " 'page_1_0',\n",
       " 'page_1_1',\n",
       " 'page_1_2',\n",
       " 'page_1_3',\n",
       " 'page_2_0',\n",
       " 'page_2_1',\n",
       " 'page_2_2',\n",
       " 'page_2_3',\n",
       " 'page_3_0',\n",
       " 'page_3_1',\n",
       " 'page_3_2',\n",
       " 'page_3_3',\n",
       " 'page_4_0',\n",
       " 'page_4_1',\n",
       " 'page_4_2',\n",
       " 'page_4_3',\n",
       " 'page_std_0_0',\n",
       " 'page_std_0_1',\n",
       " 'page_std_0_2',\n",
       " 'page_std_0_3',\n",
       " 'page_std_1_0',\n",
       " 'page_std_1_1',\n",
       " 'page_std_1_2',\n",
       " 'page_std_1_3',\n",
       " 'page_std_2_0',\n",
       " 'page_std_2_1',\n",
       " 'page_std_2_2',\n",
       " 'page_std_2_3',\n",
       " 'page_std_3_0',\n",
       " 'page_std_3_1',\n",
       " 'page_std_3_2',\n",
       " 'page_std_3_3',\n",
       " 'page_std_4_0',\n",
       " 'page_std_4_1',\n",
       " 'page_std_4_2',\n",
       " 'page_std_4_3',\n",
       " 'event_name_0_0',\n",
       " 'event_name_0_1',\n",
       " 'event_name_0_2',\n",
       " 'event_name_0_3',\n",
       " 'event_name_1_0',\n",
       " 'event_name_1_1',\n",
       " 'event_name_1_2',\n",
       " 'event_name_1_3',\n",
       " 'event_name_2_0',\n",
       " 'event_name_2_1',\n",
       " 'event_name_2_2',\n",
       " 'event_name_2_3',\n",
       " 'event_name_3_0',\n",
       " 'event_name_3_1',\n",
       " 'event_name_3_2',\n",
       " 'event_name_3_3',\n",
       " 'event_name_4_0',\n",
       " 'event_name_4_1',\n",
       " 'event_name_4_2',\n",
       " 'event_name_4_3',\n",
       " 'name_0_0',\n",
       " 'name_0_1',\n",
       " 'name_0_2',\n",
       " 'name_0_3',\n",
       " 'name_1_0',\n",
       " 'name_1_1',\n",
       " 'name_1_2',\n",
       " 'name_1_3',\n",
       " 'name_2_0',\n",
       " 'name_2_1',\n",
       " 'name_2_2',\n",
       " 'name_2_3',\n",
       " 'name_3_0',\n",
       " 'name_3_1',\n",
       " 'name_3_2',\n",
       " 'name_3_3',\n",
       " 'name_4_0',\n",
       " 'name_4_1',\n",
       " 'name_4_2',\n",
       " 'name_4_3',\n",
       " 'fqid_0_0',\n",
       " 'fqid_0_1',\n",
       " 'fqid_0_2',\n",
       " 'fqid_0_3',\n",
       " 'fqid_1_0',\n",
       " 'fqid_1_1',\n",
       " 'fqid_1_2',\n",
       " 'fqid_1_3',\n",
       " 'fqid_2_0',\n",
       " 'fqid_2_1',\n",
       " 'fqid_2_2',\n",
       " 'fqid_2_3',\n",
       " 'fqid_3_0',\n",
       " 'fqid_3_1',\n",
       " 'fqid_3_2',\n",
       " 'fqid_3_3',\n",
       " 'fqid_4_0',\n",
       " 'fqid_4_1',\n",
       " 'fqid_4_2',\n",
       " 'fqid_4_3',\n",
       " 'room_fqid_0_0',\n",
       " 'room_fqid_0_1',\n",
       " 'room_fqid_0_2',\n",
       " 'room_fqid_0_3',\n",
       " 'room_fqid_1_0',\n",
       " 'room_fqid_1_1',\n",
       " 'room_fqid_1_2',\n",
       " 'room_fqid_1_3',\n",
       " 'room_fqid_2_0',\n",
       " 'room_fqid_2_1',\n",
       " 'room_fqid_2_2',\n",
       " 'room_fqid_2_3',\n",
       " 'room_fqid_3_0',\n",
       " 'room_fqid_3_1',\n",
       " 'room_fqid_3_2',\n",
       " 'room_fqid_3_3',\n",
       " 'room_fqid_4_0',\n",
       " 'room_fqid_4_1',\n",
       " 'room_fqid_4_2',\n",
       " 'room_fqid_4_3',\n",
       " 'text_fqid_0_0',\n",
       " 'text_fqid_0_1',\n",
       " 'text_fqid_0_2',\n",
       " 'text_fqid_0_3',\n",
       " 'text_fqid_1_0',\n",
       " 'text_fqid_1_1',\n",
       " 'text_fqid_1_2',\n",
       " 'text_fqid_1_3',\n",
       " 'text_fqid_2_0',\n",
       " 'text_fqid_2_1',\n",
       " 'text_fqid_2_2',\n",
       " 'text_fqid_2_3',\n",
       " 'text_fqid_3_0',\n",
       " 'text_fqid_3_1',\n",
       " 'text_fqid_3_2',\n",
       " 'text_fqid_3_3',\n",
       " 'text_fqid_4_0',\n",
       " 'text_fqid_4_1',\n",
       " 'text_fqid_4_2',\n",
       " 'text_fqid_4_3',\n",
       " 'text_0_0',\n",
       " 'text_0_1',\n",
       " 'text_0_2',\n",
       " 'text_0_3',\n",
       " 'text_1_0',\n",
       " 'text_1_1',\n",
       " 'text_1_2',\n",
       " 'text_1_3',\n",
       " 'text_2_0',\n",
       " 'text_2_1',\n",
       " 'text_2_2',\n",
       " 'text_2_3',\n",
       " 'text_3_0',\n",
       " 'text_3_1',\n",
       " 'text_3_2',\n",
       " 'text_3_3',\n",
       " 'text_4_0',\n",
       " 'text_4_1',\n",
       " 'text_4_2',\n",
       " 'text_4_3',\n",
       " 'fullscreen',\n",
       " 'hq',\n",
       " 'music']"
      ]
     },
     "execution_count": 25,
     "metadata": {},
     "output_type": "execute_result"
    }
   ],
   "source": [
    "list(df_1.columns)"
   ]
  },
  {
   "cell_type": "code",
   "execution_count": 21,
   "metadata": {},
   "outputs": [
    {
     "name": "stdout",
     "output_type": "stream",
     "text": [
      "Binary Completado. Tiempo transcurrido: 0.67 segundos\n",
      "\n",
      "Elapsed Time por quantil Completado. Tiempo transcurrido: 1.74 segundos\n",
      "\n",
      "Eventos por quantil Completado. Tiempo transcurrido: 2.65 segundos\n",
      "\n",
      "Densidad de eventos Completado. Tiempo transcurrido: 2.76 segundos\n",
      "\n",
      "elapsed_time_log Completado. Tiempo transcurrido: 4.74 segundos\n",
      "\n",
      "elapsed_time_diff_log Completado. Tiempo transcurrido: 7.07 segundos\n",
      "\n",
      "hover_duration_log Completado. Tiempo transcurrido: 9.49 segundos\n",
      "\n",
      "room_coor_x Completado. Tiempo transcurrido: 11.23 segundos\n",
      "\n",
      "room_coor_y Completado. Tiempo transcurrido: 13.28 segundos\n",
      "\n",
      "screen_coor_x Completado. Tiempo transcurrido: 15.52 segundos\n",
      "\n",
      "screen_coor_y Completado. Tiempo transcurrido: 17.76 segundos\n",
      "\n",
      "page Completado. Tiempo transcurrido: 19.50 segundos\n",
      "\n",
      "event_name Completado. Tiempo transcurrido: 21.19 segundos\n",
      "\n",
      "name Completado. Tiempo transcurrido: 22.66 segundos\n",
      "\n",
      "fqid Completado. Tiempo transcurrido: 24.45 segundos\n",
      "\n",
      "room_fqid Completado. Tiempo transcurrido: 26.04 segundos\n",
      "\n",
      "text_fqid Completado. Tiempo transcurrido: 27.51 segundos\n",
      "\n",
      "text Completado. Tiempo transcurrido: 29.20 segundos\n",
      "\n",
      "Unstack Completado. Tiempo transcurrido: 32.15 segundos\n",
      "\n",
      "Binary concatenado Completado. Tiempo transcurrido: 32.24 segundos\n",
      "\n",
      "Merge Completado. Tiempo transcurrido: 32.33 segundos\n",
      "\n"
     ]
    }
   ],
   "source": [
    "df_2 = feature_engineer(df_5_12)"
   ]
  },
  {
   "cell_type": "code",
   "execution_count": 26,
   "metadata": {},
   "outputs": [
    {
     "name": "stdout",
     "output_type": "stream",
     "text": [
      "Binary Completado. Tiempo transcurrido: 1.02 segundos\n",
      "\n",
      "Elapsed Time por quantil Completado. Tiempo transcurrido: 2.72 segundos\n",
      "\n",
      "Eventos por quantil Completado. Tiempo transcurrido: 3.94 segundos\n",
      "\n",
      "Densidad de eventos Completado. Tiempo transcurrido: 4.12 segundos\n",
      "\n",
      "elapsed_time_log Completado. Tiempo transcurrido: 6.93 segundos\n",
      "\n",
      "elapsed_time_diff_log Completado. Tiempo transcurrido: 9.55 segundos\n",
      "\n",
      "hover_duration_log Completado. Tiempo transcurrido: 12.10 segundos\n",
      "\n",
      "room_coor_x Completado. Tiempo transcurrido: 14.74 segundos\n",
      "\n",
      "room_coor_y Completado. Tiempo transcurrido: 17.32 segundos\n",
      "\n",
      "screen_coor_x Completado. Tiempo transcurrido: 19.86 segundos\n",
      "\n",
      "screen_coor_y Completado. Tiempo transcurrido: 22.33 segundos\n",
      "\n",
      "page Completado. Tiempo transcurrido: 24.71 segundos\n",
      "\n",
      "event_name Completado. Tiempo transcurrido: 27.13 segundos\n",
      "\n",
      "name Completado. Tiempo transcurrido: 29.29 segundos\n",
      "\n",
      "fqid Completado. Tiempo transcurrido: 32.07 segundos\n",
      "\n",
      "room_fqid Completado. Tiempo transcurrido: 34.67 segundos\n",
      "\n",
      "text_fqid Completado. Tiempo transcurrido: 36.99 segundos\n",
      "\n",
      "text Completado. Tiempo transcurrido: 39.60 segundos\n",
      "\n",
      "Unstack Completado. Tiempo transcurrido: 43.12 segundos\n",
      "\n",
      "Binary concatenado Completado. Tiempo transcurrido: 43.20 segundos\n",
      "\n",
      "Merge Completado. Tiempo transcurrido: 43.33 segundos\n",
      "\n"
     ]
    }
   ],
   "source": [
    "df_3 = feature_engineer(df_13_22)"
   ]
  },
  {
   "cell_type": "code",
   "execution_count": 27,
   "metadata": {},
   "outputs": [
    {
     "data": {
      "text/plain": [
       "21"
      ]
     },
     "execution_count": 27,
     "metadata": {},
     "output_type": "execute_result"
    }
   ],
   "source": [
    "del df_0_4, df_5_12, df_13_22\n",
    "gc.collect()"
   ]
  },
  {
   "cell_type": "code",
   "execution_count": 39,
   "metadata": {},
   "outputs": [
    {
     "data": {
      "text/plain": [
       "Index(['quantile_elapsed_5_0', 'quantile_elapsed_5_1', 'quantile_elapsed_5_2',\n",
       "       'quantile_elapsed_5_3', 'quantile_elapsed_6_0', 'quantile_elapsed_6_1',\n",
       "       'quantile_elapsed_6_2', 'quantile_elapsed_6_3', 'quantile_elapsed_7_0',\n",
       "       'quantile_elapsed_7_1',\n",
       "       ...\n",
       "       'text_11_1', 'text_11_2', 'text_11_3', 'text_12_0', 'text_12_1',\n",
       "       'text_12_2', 'text_12_3', 'fullscreen', 'hq', 'music'],\n",
       "      dtype='object', length=803)"
      ]
     },
     "execution_count": 39,
     "metadata": {},
     "output_type": "execute_result"
    }
   ],
   "source": [
    "df_2.columns"
   ]
  },
  {
   "attachments": {},
   "cell_type": "markdown",
   "metadata": {},
   "source": [
    "## Scaler"
   ]
  },
  {
   "cell_type": "code",
   "execution_count": null,
   "metadata": {},
   "outputs": [],
   "source": [
    "scaler = StandardScaler()"
   ]
  },
  {
   "cell_type": "code",
   "execution_count": null,
   "metadata": {},
   "outputs": [],
   "source": [
    "df_scaled = scaler.fit_transform(df_nuevo)"
   ]
  },
  {
   "cell_type": "code",
   "execution_count": null,
   "metadata": {},
   "outputs": [],
   "source": [
    "df_nuevo[\"elapsed_time_log_4_3\"].describe()"
   ]
  },
  {
   "attachments": {},
   "cell_type": "markdown",
   "metadata": {},
   "source": [
    "# Labels"
   ]
  },
  {
   "cell_type": "code",
   "execution_count": 28,
   "metadata": {},
   "outputs": [],
   "source": [
    "ALL_USERS = df_1.index.values"
   ]
  },
  {
   "cell_type": "code",
   "execution_count": 29,
   "metadata": {},
   "outputs": [
    {
     "data": {
      "text/plain": [
       "22936"
      ]
     },
     "execution_count": 29,
     "metadata": {},
     "output_type": "execute_result"
    }
   ],
   "source": [
    "len(ALL_USERS)"
   ]
  },
  {
   "cell_type": "code",
   "execution_count": 30,
   "metadata": {},
   "outputs": [],
   "source": [
    "target_path = os.path.join(full_path, \"data\", \"train_labels.csv\")\n",
    "labels = pd.read_csv(target_path)"
   ]
  },
  {
   "cell_type": "code",
   "execution_count": null,
   "metadata": {},
   "outputs": [],
   "source": [
    "labels"
   ]
  },
  {
   "cell_type": "code",
   "execution_count": 31,
   "metadata": {},
   "outputs": [],
   "source": [
    "labels['session'] = labels.session_id.apply(lambda x: int(x.split('_')[0]) )\n",
    "labels['q'] = labels.session_id.apply(lambda x: int(x.split('_')[-1][1:]) )"
   ]
  },
  {
   "cell_type": "code",
   "execution_count": 32,
   "metadata": {},
   "outputs": [
    {
     "data": {
      "text/html": [
       "<div>\n",
       "<style scoped>\n",
       "    .dataframe tbody tr th:only-of-type {\n",
       "        vertical-align: middle;\n",
       "    }\n",
       "\n",
       "    .dataframe tbody tr th {\n",
       "        vertical-align: top;\n",
       "    }\n",
       "\n",
       "    .dataframe thead th {\n",
       "        text-align: right;\n",
       "    }\n",
       "</style>\n",
       "<table border=\"1\" class=\"dataframe\">\n",
       "  <thead>\n",
       "    <tr style=\"text-align: right;\">\n",
       "      <th></th>\n",
       "      <th>session_id</th>\n",
       "      <th>correct</th>\n",
       "      <th>session</th>\n",
       "      <th>q</th>\n",
       "    </tr>\n",
       "  </thead>\n",
       "  <tbody>\n",
       "    <tr>\n",
       "      <th>0</th>\n",
       "      <td>20090312431273200_q1</td>\n",
       "      <td>1</td>\n",
       "      <td>20090312431273200</td>\n",
       "      <td>1</td>\n",
       "    </tr>\n",
       "    <tr>\n",
       "      <th>1</th>\n",
       "      <td>20090312433251036_q1</td>\n",
       "      <td>0</td>\n",
       "      <td>20090312433251036</td>\n",
       "      <td>1</td>\n",
       "    </tr>\n",
       "    <tr>\n",
       "      <th>2</th>\n",
       "      <td>20090312455206810_q1</td>\n",
       "      <td>1</td>\n",
       "      <td>20090312455206810</td>\n",
       "      <td>1</td>\n",
       "    </tr>\n",
       "    <tr>\n",
       "      <th>3</th>\n",
       "      <td>20090313091715820_q1</td>\n",
       "      <td>0</td>\n",
       "      <td>20090313091715820</td>\n",
       "      <td>1</td>\n",
       "    </tr>\n",
       "    <tr>\n",
       "      <th>4</th>\n",
       "      <td>20090313571836404_q1</td>\n",
       "      <td>1</td>\n",
       "      <td>20090313571836404</td>\n",
       "      <td>1</td>\n",
       "    </tr>\n",
       "    <tr>\n",
       "      <th>...</th>\n",
       "      <td>...</td>\n",
       "      <td>...</td>\n",
       "      <td>...</td>\n",
       "      <td>...</td>\n",
       "    </tr>\n",
       "    <tr>\n",
       "      <th>424111</th>\n",
       "      <td>22100215342220508_q18</td>\n",
       "      <td>1</td>\n",
       "      <td>22100215342220508</td>\n",
       "      <td>18</td>\n",
       "    </tr>\n",
       "    <tr>\n",
       "      <th>424112</th>\n",
       "      <td>22100215460321130_q18</td>\n",
       "      <td>1</td>\n",
       "      <td>22100215460321130</td>\n",
       "      <td>18</td>\n",
       "    </tr>\n",
       "    <tr>\n",
       "      <th>424113</th>\n",
       "      <td>22100217104993650_q18</td>\n",
       "      <td>1</td>\n",
       "      <td>22100217104993650</td>\n",
       "      <td>18</td>\n",
       "    </tr>\n",
       "    <tr>\n",
       "      <th>424114</th>\n",
       "      <td>22100219442786200_q18</td>\n",
       "      <td>1</td>\n",
       "      <td>22100219442786200</td>\n",
       "      <td>18</td>\n",
       "    </tr>\n",
       "    <tr>\n",
       "      <th>424115</th>\n",
       "      <td>22100221145014656_q18</td>\n",
       "      <td>1</td>\n",
       "      <td>22100221145014656</td>\n",
       "      <td>18</td>\n",
       "    </tr>\n",
       "  </tbody>\n",
       "</table>\n",
       "<p>424116 rows × 4 columns</p>\n",
       "</div>"
      ],
      "text/plain": [
       "                   session_id  correct            session   q\n",
       "0        20090312431273200_q1        1  20090312431273200   1\n",
       "1        20090312433251036_q1        0  20090312433251036   1\n",
       "2        20090312455206810_q1        1  20090312455206810   1\n",
       "3        20090313091715820_q1        0  20090313091715820   1\n",
       "4        20090313571836404_q1        1  20090313571836404   1\n",
       "...                       ...      ...                ...  ..\n",
       "424111  22100215342220508_q18        1  22100215342220508  18\n",
       "424112  22100215460321130_q18        1  22100215460321130  18\n",
       "424113  22100217104993650_q18        1  22100217104993650  18\n",
       "424114  22100219442786200_q18        1  22100219442786200  18\n",
       "424115  22100221145014656_q18        1  22100221145014656  18\n",
       "\n",
       "[424116 rows x 4 columns]"
      ]
     },
     "execution_count": 32,
     "metadata": {},
     "output_type": "execute_result"
    }
   ],
   "source": [
    "labels"
   ]
  },
  {
   "cell_type": "code",
   "execution_count": null,
   "metadata": {},
   "outputs": [],
   "source": [
    "# labels = labels.rename(columns={\"session_id\":\"session\"})"
   ]
  },
  {
   "cell_type": "code",
   "execution_count": null,
   "metadata": {},
   "outputs": [],
   "source": [
    "# labels[['session_id', 'question']] = labels['session'].str.split('_', expand=True)\n",
    "\n",
    "# labels = labels.drop(columns=['session'])\n",
    "\n",
    "# labels = labels.pivot(index='session_id', columns='question', values='correct')"
   ]
  },
  {
   "cell_type": "code",
   "execution_count": null,
   "metadata": {},
   "outputs": [],
   "source": [
    "# labels.index = labels.index.astype(\"int64\")"
   ]
  },
  {
   "cell_type": "code",
   "execution_count": null,
   "metadata": {},
   "outputs": [],
   "source": [
    "# questions_1_3 = [\"q1\", \"q2\", \"q3\"]\n",
    "# questions_4_13 = [\"q4\", \"q5\", \"q6\", \"q7\", \"q8\", \"q9\", \"q10\", \"q11\", \"q12\", \"q13\"]\n",
    "# questions_14_18 = [\"q14\", \"q15\", \"q16\", \"q17\", \"q18\"]"
   ]
  },
  {
   "cell_type": "code",
   "execution_count": null,
   "metadata": {},
   "outputs": [],
   "source": [
    "# labels_1_3 = labels[questions_1_3].copy()\n",
    "# labels_4_13 = labels[questions_4_13].copy()\n",
    "# labels_14_18 = labels[questions_14_18].copy()"
   ]
  },
  {
   "attachments": {},
   "cell_type": "markdown",
   "metadata": {},
   "source": [
    "# Model training and feature importance"
   ]
  },
  {
   "cell_type": "code",
   "execution_count": null,
   "metadata": {},
   "outputs": [],
   "source": [
    "# Assuming that your dataframe df_nuevo is already defined and preprocessed\n",
    "X = df_nuevo.copy()\n",
    "y = labels[\"q1\"].copy()\n",
    "\n",
    "# Initialize GroupKFold\n",
    "gkf = GroupKFold(n_splits=5)\n",
    "\n",
    "# Initialize the model\n",
    "model = lgb.LGBMClassifier()\n",
    "\n",
    "# Arrays to store scores\n",
    "oof_preds = np.zeros(X.shape[0])\n",
    "feature_importances = np.zeros(X.shape[1])\n",
    "\n",
    "# Loop for each fold\n",
    "for train_index, valid_index in gkf.split(X, y, groups=df_nuevo.index):\n",
    "    X_train, X_valid = X.iloc[train_index], X.iloc[valid_index]\n",
    "    y_train, y_valid = y.iloc[train_index], y.iloc[valid_index]\n",
    "\n",
    "    # Train the model\n",
    "    model.fit(X_train, y_train, eval_set=[(X_valid, y_valid)], early_stopping_rounds=100, verbose=False)\n",
    "\n",
    "    # Get predictions\n",
    "    oof_preds[valid_index] = model.predict_proba(X_valid)[:, 1]\n",
    "\n",
    "    # Get feature importance\n",
    "    feature_importances += model.feature_importances_ / 5  # Assuming 5 folds\n",
    "\n",
    "# Compute the score\n",
    "auc_score = roc_auc_score(y, oof_preds)\n",
    "f1_sc = f1_score(y, oof_preds.round())\n",
    "print(f\"AUC: {auc_score}, F1: {f1_sc}\")\n",
    "\n",
    "# Feature importance\n",
    "importance_df = pd.DataFrame({\n",
    "    'feature': X.columns,\n",
    "    'importance': feature_importances,\n",
    "}).sort_values(by='importance', ascending=False)\n",
    "print(importance_df)"
   ]
  },
  {
   "cell_type": "code",
   "execution_count": null,
   "metadata": {},
   "outputs": [],
   "source": [
    "X = df_nuevo.copy()\n",
    "y = labels[\"q1\"].copy()"
   ]
  },
  {
   "cell_type": "code",
   "execution_count": null,
   "metadata": {},
   "outputs": [],
   "source": [
    "X, y = X.align(y, join='inner', axis=0)"
   ]
  },
  {
   "cell_type": "code",
   "execution_count": null,
   "metadata": {},
   "outputs": [],
   "source": [
    "# Initialize GroupKFold\n",
    "gkf = GroupKFold(n_splits=5)\n",
    "\n",
    "# Initialize the model\n",
    "model = lgb.LGBMClassifier()\n",
    "\n",
    "# Arrays to store scores\n",
    "oof_preds = np.zeros(X.shape[0])\n",
    "feature_importances = np.zeros(X.shape[1])"
   ]
  },
  {
   "cell_type": "code",
   "execution_count": null,
   "metadata": {},
   "outputs": [],
   "source": [
    "X_scaled = df_scaled.copy()"
   ]
  },
  {
   "cell_type": "code",
   "execution_count": null,
   "metadata": {},
   "outputs": [],
   "source": [
    "X_scaled_df = pd.DataFrame(X_scaled, index=df_nuevo.index, columns=df_nuevo.columns)"
   ]
  },
  {
   "cell_type": "code",
   "execution_count": null,
   "metadata": {},
   "outputs": [],
   "source": [
    "X_scaled_df, y = X_scaled_df.align(y, join='inner', axis=0)"
   ]
  },
  {
   "cell_type": "code",
   "execution_count": null,
   "metadata": {},
   "outputs": [],
   "source": [
    "# Initialize GroupKFold\n",
    "gkf_2 = GroupKFold(n_splits=5)\n",
    "\n",
    "# Initialize the model\n",
    "model_2 = lgb.LGBMClassifier()\n",
    "\n",
    "# Arrays to store scores\n",
    "oof_preds_2 = np.zeros(X.shape[0])\n",
    "feature_importances_2 = np.zeros(X.shape[1])"
   ]
  },
  {
   "cell_type": "code",
   "execution_count": null,
   "metadata": {},
   "outputs": [],
   "source": [
    "# Loop for each fold\n",
    "for train_index, valid_index in gkf.split(X, y, groups=df_nuevo.index):\n",
    "    X_train, X_valid = X.iloc[train_index], X.iloc[valid_index]\n",
    "    y_train, y_valid = y.iloc[train_index], y.iloc[valid_index]\n",
    "\n",
    "    # Train the model\n",
    "    model.fit(X_train, y_train, eval_set=[(X_valid, y_valid)], early_stopping_rounds=100, verbose=False)\n",
    "\n",
    "    # Get predictions\n",
    "    oof_preds[valid_index] = model.predict_proba(X_valid)[:, 1]\n",
    "\n",
    "    # Get feature importance\n",
    "    feature_importances += model.feature_importances_ / 5  # Assuming 5 folds\n"
   ]
  },
  {
   "cell_type": "code",
   "execution_count": null,
   "metadata": {},
   "outputs": [],
   "source": [
    "# Loop for each fold\n",
    "for train_index, valid_index in gkf_2.split(X_scaled_df, y, groups=df_nuevo.index):\n",
    "    X_train, X_valid = X_scaled_df.iloc[train_index], X_scaled_df.iloc[valid_index]\n",
    "    y_train, y_valid = y.iloc[train_index], y.iloc[valid_index]\n",
    "\n",
    "    # Train the model\n",
    "    model_2.fit(X_train, y_train, eval_set=[(X_valid, y_valid)], early_stopping_rounds=100, verbose=False)\n",
    "\n",
    "    # Get predictions\n",
    "    oof_preds_2[valid_index] = model_2.predict_proba(X_valid)[:, 1]\n",
    "\n",
    "    # Get feature importance\n",
    "    feature_importances_2 += model_2.feature_importances_ / 5  # Assuming 5 folds\n"
   ]
  },
  {
   "cell_type": "code",
   "execution_count": null,
   "metadata": {},
   "outputs": [],
   "source": [
    "# Feature importance\n",
    "importance_df_2 = pd.DataFrame({\n",
    "    'feature': X_scaled_df.columns,\n",
    "    'importance': feature_importances_2,\n",
    "}).sort_values(by='importance', ascending=False)\n",
    "print(importance_df_2)"
   ]
  },
  {
   "cell_type": "code",
   "execution_count": null,
   "metadata": {},
   "outputs": [],
   "source": [
    "len(importance_df_2[importance_df_2[\"importance\"]>10])"
   ]
  },
  {
   "cell_type": "code",
   "execution_count": null,
   "metadata": {},
   "outputs": [],
   "source": [
    "del f1_score"
   ]
  },
  {
   "cell_type": "code",
   "execution_count": null,
   "metadata": {},
   "outputs": [],
   "source": [
    "auc_score = roc_auc_score(y, oof_preds)\n",
    "f1_sc = f1_score(y, oof_preds.round())\n",
    "print(f\"AUC: {auc_score}, F1: {f1_sc}\")"
   ]
  },
  {
   "cell_type": "code",
   "execution_count": null,
   "metadata": {},
   "outputs": [],
   "source": [
    "# Compute the score\n",
    "auc_score = roc_auc_score(y, oof_preds)\n",
    "f1_sc = f1_score(y, oof_preds.round())\n",
    "print(f\"AUC: {auc_score}, F1: {f1_sc}\")\n",
    "\n",
    "# Feature importance\n",
    "importance_df = pd.DataFrame({\n",
    "    'feature': X.columns,\n",
    "    'importance': feature_importances,\n",
    "}).sort_values(by='importance', ascending=False)\n",
    "print(importance_df)"
   ]
  },
  {
   "cell_type": "code",
   "execution_count": null,
   "metadata": {},
   "outputs": [],
   "source": [
    "len(importance_df[importance_df[\"importance\"]>10])"
   ]
  },
  {
   "attachments": {},
   "cell_type": "markdown",
   "metadata": {},
   "source": [
    "## Save importances"
   ]
  },
  {
   "cell_type": "code",
   "execution_count": null,
   "metadata": {},
   "outputs": [],
   "source": [
    "# Define the output directory and file\n",
    "output_dir_importances = os.path.join(full_path, 'importances')\n",
    "if not os.path.exists(output_dir_importances):  # create the directory if it doesn't exist\n",
    "    os.makedirs(output_dir_importances)\n",
    "output_file = os.path.join(output_dir_importances, 'importance_q1_sc.pkl')\n",
    "# Save dataframe to pickle file\n",
    "importance_df_2.to_pickle(output_file)"
   ]
  },
  {
   "cell_type": "code",
   "execution_count": null,
   "metadata": {},
   "outputs": [],
   "source": [
    "importance_df[importance_df[\"importance\"]>10]"
   ]
  },
  {
   "cell_type": "code",
   "execution_count": null,
   "metadata": {},
   "outputs": [],
   "source": [
    "del f1_score"
   ]
  },
  {
   "cell_type": "code",
   "execution_count": null,
   "metadata": {},
   "outputs": [],
   "source": [
    "# Initialize arrays for scores and thresholds\n",
    "scores = []\n",
    "thresholds = []\n",
    "best_score = 0\n",
    "best_threshold = 0\n",
    "\n",
    "# Calculate AUC\n",
    "auc_score = roc_auc_score(y, oof_preds)\n",
    "print(f'Overall AUC: {auc_score}')\n",
    "\n",
    "# FIND BEST THRESHOLD TO CONVERT PROBS INTO 1s AND 0s\n",
    "for threshold in np.arange(0.4,0.81,0.01):\n",
    "    print(f'{threshold:.02f}, ',end='')\n",
    "    preds = (oof_preds > threshold).astype('int')\n",
    "    f1 = f1_score(y, preds, average='macro')   \n",
    "    scores.append(f1)\n",
    "    thresholds.append(threshold)\n",
    "    if f1 > best_score:\n",
    "        best_score = f1\n",
    "        best_threshold = threshold\n",
    "\n",
    "print()\n",
    "print(f'Best F1 score {best_score} at threshold {best_threshold}')"
   ]
  },
  {
   "cell_type": "code",
   "execution_count": null,
   "metadata": {},
   "outputs": [],
   "source": [
    "# PLOT THRESHOLD VS. F1_SCORE\n",
    "plt.figure(figsize=(20,5))\n",
    "plt.plot(thresholds,scores,'-o',color='blue')\n",
    "plt.scatter([best_threshold], [best_score], color='blue', s=300, alpha=1)\n",
    "plt.xlabel('Threshold',size=14)\n",
    "plt.ylabel('Validation F1 Score',size=14)\n",
    "plt.title(f'Threshold vs. F1_Score with Best F1_Score = {best_score:.3f} at Best Threshold = {best_threshold:.3}',size=18)\n",
    "plt.show()"
   ]
  },
  {
   "cell_type": "code",
   "execution_count": null,
   "metadata": {},
   "outputs": [],
   "source": []
  },
  {
   "cell_type": "code",
   "execution_count": null,
   "metadata": {},
   "outputs": [],
   "source": [
    "scores = []\n",
    "thresholds = []\n",
    "best_score = 0\n",
    "best_threshold = 0\n",
    "\n",
    "# FIND BEST THRESHOLD TO CONVERT PROBS INTO 1s AND 0s\n",
    "for threshold in np.arange(0.4,0.81,0.01):\n",
    "    print(f'{threshold:.02f}, ',end='')\n",
    "    preds = (oof_preds > threshold).astype('int')\n",
    "    f1 = f1_score(y, preds, average='binary')  # 'binary' instead of 'macro'\n",
    "    scores.append(f1)\n",
    "    thresholds.append(threshold)\n",
    "    if f1 > best_score:\n",
    "        best_score = f1\n",
    "        best_threshold = threshold\n",
    "\n",
    "print()\n",
    "print(f'Best F1 score {best_score} at threshold {best_threshold}')"
   ]
  },
  {
   "cell_type": "code",
   "execution_count": null,
   "metadata": {},
   "outputs": [],
   "source": [
    "# PLOT THRESHOLD VS. F1_SCORE\n",
    "plt.figure(figsize=(20,5))\n",
    "plt.plot(thresholds,scores,'-o',color='blue')\n",
    "plt.scatter([best_threshold], [best_score], color='blue', s=300, alpha=1)\n",
    "plt.xlabel('Threshold',size=14)\n",
    "plt.ylabel('Validation F1 Score',size=14)\n",
    "plt.title(f'Threshold vs. F1_Score with Best F1_Score = {best_score:.3f} at Best Threshold = {best_threshold:.3}',size=18)\n",
    "plt.show()"
   ]
  },
  {
   "attachments": {},
   "cell_type": "markdown",
   "metadata": {},
   "source": [
    "# Model Training 2"
   ]
  },
  {
   "cell_type": "code",
   "execution_count": 33,
   "metadata": {},
   "outputs": [],
   "source": [
    "def user_split(dataset, random_seed=42):\n",
    "    np.random.seed(random_seed)\n",
    "    USER_LIST = dataset.index.unique()\n",
    "    USER_LIST = np.random.permutation(USER_LIST)\n",
    "    return USER_LIST"
   ]
  },
  {
   "cell_type": "code",
   "execution_count": 34,
   "metadata": {},
   "outputs": [],
   "source": [
    "USER_SPLIT = user_split(df_1)"
   ]
  },
  {
   "cell_type": "code",
   "execution_count": 35,
   "metadata": {},
   "outputs": [],
   "source": [
    "def split_dataset(dataset, USER_LIST, test_ratio=0.20):    \n",
    "    split = int(len(USER_LIST) * (1 - test_ratio))\n",
    "    return dataset.loc[USER_LIST[:split]], dataset.loc[USER_LIST[split:]]\n"
   ]
  },
  {
   "cell_type": "code",
   "execution_count": 36,
   "metadata": {},
   "outputs": [
    {
     "name": "stdout",
     "output_type": "stream",
     "text": [
      "18348 examples in training, 4588 examples in testing.\n"
     ]
    }
   ],
   "source": [
    "train_x_1, valid_x_1 = split_dataset(df_1, USER_SPLIT)\n",
    "print(\"{} examples in training, {} examples in testing.\".format(\n",
    "    len(train_x_1), len(valid_x_1)))"
   ]
  },
  {
   "cell_type": "code",
   "execution_count": 37,
   "metadata": {},
   "outputs": [
    {
     "name": "stdout",
     "output_type": "stream",
     "text": [
      "18348 examples in training, 4588 examples in testing.\n"
     ]
    }
   ],
   "source": [
    "train_x_2, valid_x_2 = split_dataset(df_2, USER_SPLIT)\n",
    "print(\"{} examples in training, {} examples in testing.\".format(\n",
    "    len(train_x_2), len(valid_x_2)))"
   ]
  },
  {
   "cell_type": "code",
   "execution_count": 38,
   "metadata": {},
   "outputs": [
    {
     "name": "stdout",
     "output_type": "stream",
     "text": [
      "18348 examples in training, 4588 examples in testing.\n"
     ]
    }
   ],
   "source": [
    "train_x_3, valid_x_3 = split_dataset(df_3, USER_SPLIT)\n",
    "print(\"{} examples in training, {} examples in testing.\".format(\n",
    "    len(train_x_3), len(valid_x_3)))"
   ]
  },
  {
   "cell_type": "code",
   "execution_count": 39,
   "metadata": {},
   "outputs": [],
   "source": [
    "VALID_USER_LIST = valid_x_1.index.unique()"
   ]
  },
  {
   "cell_type": "code",
   "execution_count": 40,
   "metadata": {},
   "outputs": [],
   "source": [
    "prediction_df = pd.DataFrame(data=np.zeros((len(VALID_USER_LIST),18)), index=VALID_USER_LIST)\n",
    "# Create an empty dictionary to store the models created for each question.\n",
    "models = {}\n",
    "\n",
    "# Create an empty dictionary to store the evaluation score for each question.\n",
    "evaluation_dict ={}"
   ]
  },
  {
   "cell_type": "code",
   "execution_count": null,
   "metadata": {},
   "outputs": [],
   "source": [
    "# group_dic = {\"0-4\":[0,1,2,3,4],\"5-12\":[5,6,7,8,9,10,11,12],\"13-22\":[13,14,15,16,17,18,19,20,21,22]}"
   ]
  },
  {
   "cell_type": "code",
   "execution_count": 41,
   "metadata": {},
   "outputs": [],
   "source": [
    "dataframes = {\n",
    "    \"0-4\": (train_x_1, valid_x_1),\n",
    "    \"5-12\": (train_x_2, valid_x_2),\n",
    "    \"13-22\": (train_x_3, valid_x_3),\n",
    "}"
   ]
  },
  {
   "cell_type": "code",
   "execution_count": 42,
   "metadata": {},
   "outputs": [],
   "source": [
    "dataframes_2 = {\n",
    "    \"0-4\": df_1,\n",
    "    \"5-12\": df_2,\n",
    "    \"13-22\": df_3,\n",
    "}"
   ]
  },
  {
   "attachments": {},
   "cell_type": "markdown",
   "metadata": {},
   "source": [
    "## Importance_df"
   ]
  },
  {
   "cell_type": "code",
   "execution_count": 75,
   "metadata": {},
   "outputs": [
    {
     "name": "stdout",
     "output_type": "stream",
     "text": [
      "### q_no 1 grp 0-4\n",
      "### q_no 2 grp 0-4\n",
      "### q_no 3 grp 0-4\n"
     ]
    },
    {
     "ename": "KeyboardInterrupt",
     "evalue": "",
     "output_type": "error",
     "traceback": [
      "\u001b[1;31m---------------------------------------------------------------------------\u001b[0m",
      "\u001b[1;31mKeyboardInterrupt\u001b[0m                         Traceback (most recent call last)",
      "\u001b[1;32m~\\AppData\\Local\\Temp\\ipykernel_16320\\3522109438.py\u001b[0m in \u001b[0;36m<module>\u001b[1;34m\u001b[0m\n\u001b[0;32m     20\u001b[0m \u001b[1;33m\u001b[0m\u001b[0m\n\u001b[0;32m     21\u001b[0m     \u001b[1;31m# Fit model\u001b[0m\u001b[1;33m\u001b[0m\u001b[1;33m\u001b[0m\u001b[1;33m\u001b[0m\u001b[0m\n\u001b[1;32m---> 22\u001b[1;33m     \u001b[0mmodel\u001b[0m\u001b[1;33m.\u001b[0m\u001b[0mfit\u001b[0m\u001b[1;33m(\u001b[0m\u001b[0mdf\u001b[0m\u001b[1;33m,\u001b[0m \u001b[0mtargets\u001b[0m\u001b[1;33m[\u001b[0m\u001b[1;34m'correct'\u001b[0m\u001b[1;33m]\u001b[0m\u001b[1;33m)\u001b[0m\u001b[1;33m\u001b[0m\u001b[1;33m\u001b[0m\u001b[0m\n\u001b[0m\u001b[0;32m     23\u001b[0m \u001b[1;33m\u001b[0m\u001b[0m\n\u001b[0;32m     24\u001b[0m     \u001b[1;31m# Get feature importances\u001b[0m\u001b[1;33m\u001b[0m\u001b[1;33m\u001b[0m\u001b[1;33m\u001b[0m\u001b[0m\n",
      "\u001b[1;32mc:\\Projects\\EDA GSP\\venv\\lib\\site-packages\\sklearn\\ensemble\\_forest.py\u001b[0m in \u001b[0;36mfit\u001b[1;34m(self, X, y, sample_weight)\u001b[0m\n\u001b[0;32m    471\u001b[0m             \u001b[1;31m# parallel_backend contexts set at a higher level,\u001b[0m\u001b[1;33m\u001b[0m\u001b[1;33m\u001b[0m\u001b[1;33m\u001b[0m\u001b[0m\n\u001b[0;32m    472\u001b[0m             \u001b[1;31m# since correctness does not rely on using threads.\u001b[0m\u001b[1;33m\u001b[0m\u001b[1;33m\u001b[0m\u001b[1;33m\u001b[0m\u001b[0m\n\u001b[1;32m--> 473\u001b[1;33m             trees = Parallel(\n\u001b[0m\u001b[0;32m    474\u001b[0m                 \u001b[0mn_jobs\u001b[0m\u001b[1;33m=\u001b[0m\u001b[0mself\u001b[0m\u001b[1;33m.\u001b[0m\u001b[0mn_jobs\u001b[0m\u001b[1;33m,\u001b[0m\u001b[1;33m\u001b[0m\u001b[1;33m\u001b[0m\u001b[0m\n\u001b[0;32m    475\u001b[0m                 \u001b[0mverbose\u001b[0m\u001b[1;33m=\u001b[0m\u001b[0mself\u001b[0m\u001b[1;33m.\u001b[0m\u001b[0mverbose\u001b[0m\u001b[1;33m,\u001b[0m\u001b[1;33m\u001b[0m\u001b[1;33m\u001b[0m\u001b[0m\n",
      "\u001b[1;32mc:\\Projects\\EDA GSP\\venv\\lib\\site-packages\\sklearn\\utils\\parallel.py\u001b[0m in \u001b[0;36m__call__\u001b[1;34m(self, iterable)\u001b[0m\n\u001b[0;32m     61\u001b[0m             \u001b[1;32mfor\u001b[0m \u001b[0mdelayed_func\u001b[0m\u001b[1;33m,\u001b[0m \u001b[0margs\u001b[0m\u001b[1;33m,\u001b[0m \u001b[0mkwargs\u001b[0m \u001b[1;32min\u001b[0m \u001b[0miterable\u001b[0m\u001b[1;33m\u001b[0m\u001b[1;33m\u001b[0m\u001b[0m\n\u001b[0;32m     62\u001b[0m         )\n\u001b[1;32m---> 63\u001b[1;33m         \u001b[1;32mreturn\u001b[0m \u001b[0msuper\u001b[0m\u001b[1;33m(\u001b[0m\u001b[1;33m)\u001b[0m\u001b[1;33m.\u001b[0m\u001b[0m__call__\u001b[0m\u001b[1;33m(\u001b[0m\u001b[0miterable_with_config\u001b[0m\u001b[1;33m)\u001b[0m\u001b[1;33m\u001b[0m\u001b[1;33m\u001b[0m\u001b[0m\n\u001b[0m\u001b[0;32m     64\u001b[0m \u001b[1;33m\u001b[0m\u001b[0m\n\u001b[0;32m     65\u001b[0m \u001b[1;33m\u001b[0m\u001b[0m\n",
      "\u001b[1;32mc:\\Projects\\EDA GSP\\venv\\lib\\site-packages\\joblib\\parallel.py\u001b[0m in \u001b[0;36m__call__\u001b[1;34m(self, iterable)\u001b[0m\n\u001b[0;32m   1086\u001b[0m                 \u001b[0mself\u001b[0m\u001b[1;33m.\u001b[0m\u001b[0m_iterating\u001b[0m \u001b[1;33m=\u001b[0m \u001b[0mself\u001b[0m\u001b[1;33m.\u001b[0m\u001b[0m_original_iterator\u001b[0m \u001b[1;32mis\u001b[0m \u001b[1;32mnot\u001b[0m \u001b[1;32mNone\u001b[0m\u001b[1;33m\u001b[0m\u001b[1;33m\u001b[0m\u001b[0m\n\u001b[0;32m   1087\u001b[0m \u001b[1;33m\u001b[0m\u001b[0m\n\u001b[1;32m-> 1088\u001b[1;33m             \u001b[1;32mwhile\u001b[0m \u001b[0mself\u001b[0m\u001b[1;33m.\u001b[0m\u001b[0mdispatch_one_batch\u001b[0m\u001b[1;33m(\u001b[0m\u001b[0miterator\u001b[0m\u001b[1;33m)\u001b[0m\u001b[1;33m:\u001b[0m\u001b[1;33m\u001b[0m\u001b[1;33m\u001b[0m\u001b[0m\n\u001b[0m\u001b[0;32m   1089\u001b[0m                 \u001b[1;32mpass\u001b[0m\u001b[1;33m\u001b[0m\u001b[1;33m\u001b[0m\u001b[0m\n\u001b[0;32m   1090\u001b[0m \u001b[1;33m\u001b[0m\u001b[0m\n",
      "\u001b[1;32mc:\\Projects\\EDA GSP\\venv\\lib\\site-packages\\joblib\\parallel.py\u001b[0m in \u001b[0;36mdispatch_one_batch\u001b[1;34m(self, iterator)\u001b[0m\n\u001b[0;32m    899\u001b[0m                 \u001b[1;32mreturn\u001b[0m \u001b[1;32mFalse\u001b[0m\u001b[1;33m\u001b[0m\u001b[1;33m\u001b[0m\u001b[0m\n\u001b[0;32m    900\u001b[0m             \u001b[1;32melse\u001b[0m\u001b[1;33m:\u001b[0m\u001b[1;33m\u001b[0m\u001b[1;33m\u001b[0m\u001b[0m\n\u001b[1;32m--> 901\u001b[1;33m                 \u001b[0mself\u001b[0m\u001b[1;33m.\u001b[0m\u001b[0m_dispatch\u001b[0m\u001b[1;33m(\u001b[0m\u001b[0mtasks\u001b[0m\u001b[1;33m)\u001b[0m\u001b[1;33m\u001b[0m\u001b[1;33m\u001b[0m\u001b[0m\n\u001b[0m\u001b[0;32m    902\u001b[0m                 \u001b[1;32mreturn\u001b[0m \u001b[1;32mTrue\u001b[0m\u001b[1;33m\u001b[0m\u001b[1;33m\u001b[0m\u001b[0m\n\u001b[0;32m    903\u001b[0m \u001b[1;33m\u001b[0m\u001b[0m\n",
      "\u001b[1;32mc:\\Projects\\EDA GSP\\venv\\lib\\site-packages\\joblib\\parallel.py\u001b[0m in \u001b[0;36m_dispatch\u001b[1;34m(self, batch)\u001b[0m\n\u001b[0;32m    817\u001b[0m         \u001b[1;32mwith\u001b[0m \u001b[0mself\u001b[0m\u001b[1;33m.\u001b[0m\u001b[0m_lock\u001b[0m\u001b[1;33m:\u001b[0m\u001b[1;33m\u001b[0m\u001b[1;33m\u001b[0m\u001b[0m\n\u001b[0;32m    818\u001b[0m             \u001b[0mjob_idx\u001b[0m \u001b[1;33m=\u001b[0m \u001b[0mlen\u001b[0m\u001b[1;33m(\u001b[0m\u001b[0mself\u001b[0m\u001b[1;33m.\u001b[0m\u001b[0m_jobs\u001b[0m\u001b[1;33m)\u001b[0m\u001b[1;33m\u001b[0m\u001b[1;33m\u001b[0m\u001b[0m\n\u001b[1;32m--> 819\u001b[1;33m             \u001b[0mjob\u001b[0m \u001b[1;33m=\u001b[0m \u001b[0mself\u001b[0m\u001b[1;33m.\u001b[0m\u001b[0m_backend\u001b[0m\u001b[1;33m.\u001b[0m\u001b[0mapply_async\u001b[0m\u001b[1;33m(\u001b[0m\u001b[0mbatch\u001b[0m\u001b[1;33m,\u001b[0m \u001b[0mcallback\u001b[0m\u001b[1;33m=\u001b[0m\u001b[0mcb\u001b[0m\u001b[1;33m)\u001b[0m\u001b[1;33m\u001b[0m\u001b[1;33m\u001b[0m\u001b[0m\n\u001b[0m\u001b[0;32m    820\u001b[0m             \u001b[1;31m# A job can complete so quickly than its callback is\u001b[0m\u001b[1;33m\u001b[0m\u001b[1;33m\u001b[0m\u001b[1;33m\u001b[0m\u001b[0m\n\u001b[0;32m    821\u001b[0m             \u001b[1;31m# called before we get here, causing self._jobs to\u001b[0m\u001b[1;33m\u001b[0m\u001b[1;33m\u001b[0m\u001b[1;33m\u001b[0m\u001b[0m\n",
      "\u001b[1;32mc:\\Projects\\EDA GSP\\venv\\lib\\site-packages\\joblib\\_parallel_backends.py\u001b[0m in \u001b[0;36mapply_async\u001b[1;34m(self, func, callback)\u001b[0m\n\u001b[0;32m    206\u001b[0m     \u001b[1;32mdef\u001b[0m \u001b[0mapply_async\u001b[0m\u001b[1;33m(\u001b[0m\u001b[0mself\u001b[0m\u001b[1;33m,\u001b[0m \u001b[0mfunc\u001b[0m\u001b[1;33m,\u001b[0m \u001b[0mcallback\u001b[0m\u001b[1;33m=\u001b[0m\u001b[1;32mNone\u001b[0m\u001b[1;33m)\u001b[0m\u001b[1;33m:\u001b[0m\u001b[1;33m\u001b[0m\u001b[1;33m\u001b[0m\u001b[0m\n\u001b[0;32m    207\u001b[0m         \u001b[1;34m\"\"\"Schedule a func to be run\"\"\"\u001b[0m\u001b[1;33m\u001b[0m\u001b[1;33m\u001b[0m\u001b[0m\n\u001b[1;32m--> 208\u001b[1;33m         \u001b[0mresult\u001b[0m \u001b[1;33m=\u001b[0m \u001b[0mImmediateResult\u001b[0m\u001b[1;33m(\u001b[0m\u001b[0mfunc\u001b[0m\u001b[1;33m)\u001b[0m\u001b[1;33m\u001b[0m\u001b[1;33m\u001b[0m\u001b[0m\n\u001b[0m\u001b[0;32m    209\u001b[0m         \u001b[1;32mif\u001b[0m \u001b[0mcallback\u001b[0m\u001b[1;33m:\u001b[0m\u001b[1;33m\u001b[0m\u001b[1;33m\u001b[0m\u001b[0m\n\u001b[0;32m    210\u001b[0m             \u001b[0mcallback\u001b[0m\u001b[1;33m(\u001b[0m\u001b[0mresult\u001b[0m\u001b[1;33m)\u001b[0m\u001b[1;33m\u001b[0m\u001b[1;33m\u001b[0m\u001b[0m\n",
      "\u001b[1;32mc:\\Projects\\EDA GSP\\venv\\lib\\site-packages\\joblib\\_parallel_backends.py\u001b[0m in \u001b[0;36m__init__\u001b[1;34m(self, batch)\u001b[0m\n\u001b[0;32m    595\u001b[0m         \u001b[1;31m# Don't delay the application, to avoid keeping the input\u001b[0m\u001b[1;33m\u001b[0m\u001b[1;33m\u001b[0m\u001b[1;33m\u001b[0m\u001b[0m\n\u001b[0;32m    596\u001b[0m         \u001b[1;31m# arguments in memory\u001b[0m\u001b[1;33m\u001b[0m\u001b[1;33m\u001b[0m\u001b[1;33m\u001b[0m\u001b[0m\n\u001b[1;32m--> 597\u001b[1;33m         \u001b[0mself\u001b[0m\u001b[1;33m.\u001b[0m\u001b[0mresults\u001b[0m \u001b[1;33m=\u001b[0m \u001b[0mbatch\u001b[0m\u001b[1;33m(\u001b[0m\u001b[1;33m)\u001b[0m\u001b[1;33m\u001b[0m\u001b[1;33m\u001b[0m\u001b[0m\n\u001b[0m\u001b[0;32m    598\u001b[0m \u001b[1;33m\u001b[0m\u001b[0m\n\u001b[0;32m    599\u001b[0m     \u001b[1;32mdef\u001b[0m \u001b[0mget\u001b[0m\u001b[1;33m(\u001b[0m\u001b[0mself\u001b[0m\u001b[1;33m)\u001b[0m\u001b[1;33m:\u001b[0m\u001b[1;33m\u001b[0m\u001b[1;33m\u001b[0m\u001b[0m\n",
      "\u001b[1;32mc:\\Projects\\EDA GSP\\venv\\lib\\site-packages\\joblib\\parallel.py\u001b[0m in \u001b[0;36m__call__\u001b[1;34m(self)\u001b[0m\n\u001b[0;32m    286\u001b[0m         \u001b[1;31m# change the default number of processes to -1\u001b[0m\u001b[1;33m\u001b[0m\u001b[1;33m\u001b[0m\u001b[1;33m\u001b[0m\u001b[0m\n\u001b[0;32m    287\u001b[0m         \u001b[1;32mwith\u001b[0m \u001b[0mparallel_backend\u001b[0m\u001b[1;33m(\u001b[0m\u001b[0mself\u001b[0m\u001b[1;33m.\u001b[0m\u001b[0m_backend\u001b[0m\u001b[1;33m,\u001b[0m \u001b[0mn_jobs\u001b[0m\u001b[1;33m=\u001b[0m\u001b[0mself\u001b[0m\u001b[1;33m.\u001b[0m\u001b[0m_n_jobs\u001b[0m\u001b[1;33m)\u001b[0m\u001b[1;33m:\u001b[0m\u001b[1;33m\u001b[0m\u001b[1;33m\u001b[0m\u001b[0m\n\u001b[1;32m--> 288\u001b[1;33m             return [func(*args, **kwargs)\n\u001b[0m\u001b[0;32m    289\u001b[0m                     for func, args, kwargs in self.items]\n\u001b[0;32m    290\u001b[0m \u001b[1;33m\u001b[0m\u001b[0m\n",
      "\u001b[1;32mc:\\Projects\\EDA GSP\\venv\\lib\\site-packages\\joblib\\parallel.py\u001b[0m in \u001b[0;36m<listcomp>\u001b[1;34m(.0)\u001b[0m\n\u001b[0;32m    286\u001b[0m         \u001b[1;31m# change the default number of processes to -1\u001b[0m\u001b[1;33m\u001b[0m\u001b[1;33m\u001b[0m\u001b[1;33m\u001b[0m\u001b[0m\n\u001b[0;32m    287\u001b[0m         \u001b[1;32mwith\u001b[0m \u001b[0mparallel_backend\u001b[0m\u001b[1;33m(\u001b[0m\u001b[0mself\u001b[0m\u001b[1;33m.\u001b[0m\u001b[0m_backend\u001b[0m\u001b[1;33m,\u001b[0m \u001b[0mn_jobs\u001b[0m\u001b[1;33m=\u001b[0m\u001b[0mself\u001b[0m\u001b[1;33m.\u001b[0m\u001b[0m_n_jobs\u001b[0m\u001b[1;33m)\u001b[0m\u001b[1;33m:\u001b[0m\u001b[1;33m\u001b[0m\u001b[1;33m\u001b[0m\u001b[0m\n\u001b[1;32m--> 288\u001b[1;33m             return [func(*args, **kwargs)\n\u001b[0m\u001b[0;32m    289\u001b[0m                     for func, args, kwargs in self.items]\n\u001b[0;32m    290\u001b[0m \u001b[1;33m\u001b[0m\u001b[0m\n",
      "\u001b[1;32mc:\\Projects\\EDA GSP\\venv\\lib\\site-packages\\sklearn\\utils\\parallel.py\u001b[0m in \u001b[0;36m__call__\u001b[1;34m(self, *args, **kwargs)\u001b[0m\n\u001b[0;32m    121\u001b[0m             \u001b[0mconfig\u001b[0m \u001b[1;33m=\u001b[0m \u001b[1;33m{\u001b[0m\u001b[1;33m}\u001b[0m\u001b[1;33m\u001b[0m\u001b[1;33m\u001b[0m\u001b[0m\n\u001b[0;32m    122\u001b[0m         \u001b[1;32mwith\u001b[0m \u001b[0mconfig_context\u001b[0m\u001b[1;33m(\u001b[0m\u001b[1;33m**\u001b[0m\u001b[0mconfig\u001b[0m\u001b[1;33m)\u001b[0m\u001b[1;33m:\u001b[0m\u001b[1;33m\u001b[0m\u001b[1;33m\u001b[0m\u001b[0m\n\u001b[1;32m--> 123\u001b[1;33m             \u001b[1;32mreturn\u001b[0m \u001b[0mself\u001b[0m\u001b[1;33m.\u001b[0m\u001b[0mfunction\u001b[0m\u001b[1;33m(\u001b[0m\u001b[1;33m*\u001b[0m\u001b[0margs\u001b[0m\u001b[1;33m,\u001b[0m \u001b[1;33m**\u001b[0m\u001b[0mkwargs\u001b[0m\u001b[1;33m)\u001b[0m\u001b[1;33m\u001b[0m\u001b[1;33m\u001b[0m\u001b[0m\n\u001b[0m",
      "\u001b[1;32mc:\\Projects\\EDA GSP\\venv\\lib\\site-packages\\sklearn\\ensemble\\_forest.py\u001b[0m in \u001b[0;36m_parallel_build_trees\u001b[1;34m(tree, bootstrap, X, y, sample_weight, tree_idx, n_trees, verbose, class_weight, n_samples_bootstrap)\u001b[0m\n\u001b[0;32m    184\u001b[0m         \u001b[0mtree\u001b[0m\u001b[1;33m.\u001b[0m\u001b[0mfit\u001b[0m\u001b[1;33m(\u001b[0m\u001b[0mX\u001b[0m\u001b[1;33m,\u001b[0m \u001b[0my\u001b[0m\u001b[1;33m,\u001b[0m \u001b[0msample_weight\u001b[0m\u001b[1;33m=\u001b[0m\u001b[0mcurr_sample_weight\u001b[0m\u001b[1;33m,\u001b[0m \u001b[0mcheck_input\u001b[0m\u001b[1;33m=\u001b[0m\u001b[1;32mFalse\u001b[0m\u001b[1;33m)\u001b[0m\u001b[1;33m\u001b[0m\u001b[1;33m\u001b[0m\u001b[0m\n\u001b[0;32m    185\u001b[0m     \u001b[1;32melse\u001b[0m\u001b[1;33m:\u001b[0m\u001b[1;33m\u001b[0m\u001b[1;33m\u001b[0m\u001b[0m\n\u001b[1;32m--> 186\u001b[1;33m         \u001b[0mtree\u001b[0m\u001b[1;33m.\u001b[0m\u001b[0mfit\u001b[0m\u001b[1;33m(\u001b[0m\u001b[0mX\u001b[0m\u001b[1;33m,\u001b[0m \u001b[0my\u001b[0m\u001b[1;33m,\u001b[0m \u001b[0msample_weight\u001b[0m\u001b[1;33m=\u001b[0m\u001b[0msample_weight\u001b[0m\u001b[1;33m,\u001b[0m \u001b[0mcheck_input\u001b[0m\u001b[1;33m=\u001b[0m\u001b[1;32mFalse\u001b[0m\u001b[1;33m)\u001b[0m\u001b[1;33m\u001b[0m\u001b[1;33m\u001b[0m\u001b[0m\n\u001b[0m\u001b[0;32m    187\u001b[0m \u001b[1;33m\u001b[0m\u001b[0m\n\u001b[0;32m    188\u001b[0m     \u001b[1;32mreturn\u001b[0m \u001b[0mtree\u001b[0m\u001b[1;33m\u001b[0m\u001b[1;33m\u001b[0m\u001b[0m\n",
      "\u001b[1;32mc:\\Projects\\EDA GSP\\venv\\lib\\site-packages\\sklearn\\tree\\_classes.py\u001b[0m in \u001b[0;36mfit\u001b[1;34m(self, X, y, sample_weight, check_input)\u001b[0m\n\u001b[0;32m    887\u001b[0m         \"\"\"\n\u001b[0;32m    888\u001b[0m \u001b[1;33m\u001b[0m\u001b[0m\n\u001b[1;32m--> 889\u001b[1;33m         super().fit(\n\u001b[0m\u001b[0;32m    890\u001b[0m             \u001b[0mX\u001b[0m\u001b[1;33m,\u001b[0m\u001b[1;33m\u001b[0m\u001b[1;33m\u001b[0m\u001b[0m\n\u001b[0;32m    891\u001b[0m             \u001b[0my\u001b[0m\u001b[1;33m,\u001b[0m\u001b[1;33m\u001b[0m\u001b[1;33m\u001b[0m\u001b[0m\n",
      "\u001b[1;32mc:\\Projects\\EDA GSP\\venv\\lib\\site-packages\\sklearn\\tree\\_classes.py\u001b[0m in \u001b[0;36mfit\u001b[1;34m(self, X, y, sample_weight, check_input)\u001b[0m\n\u001b[0;32m    377\u001b[0m             )\n\u001b[0;32m    378\u001b[0m \u001b[1;33m\u001b[0m\u001b[0m\n\u001b[1;32m--> 379\u001b[1;33m         \u001b[0mbuilder\u001b[0m\u001b[1;33m.\u001b[0m\u001b[0mbuild\u001b[0m\u001b[1;33m(\u001b[0m\u001b[0mself\u001b[0m\u001b[1;33m.\u001b[0m\u001b[0mtree_\u001b[0m\u001b[1;33m,\u001b[0m \u001b[0mX\u001b[0m\u001b[1;33m,\u001b[0m \u001b[0my\u001b[0m\u001b[1;33m,\u001b[0m \u001b[0msample_weight\u001b[0m\u001b[1;33m)\u001b[0m\u001b[1;33m\u001b[0m\u001b[1;33m\u001b[0m\u001b[0m\n\u001b[0m\u001b[0;32m    380\u001b[0m \u001b[1;33m\u001b[0m\u001b[0m\n\u001b[0;32m    381\u001b[0m         \u001b[1;32mif\u001b[0m \u001b[0mself\u001b[0m\u001b[1;33m.\u001b[0m\u001b[0mn_outputs_\u001b[0m \u001b[1;33m==\u001b[0m \u001b[1;36m1\u001b[0m \u001b[1;32mand\u001b[0m \u001b[0mis_classifier\u001b[0m\u001b[1;33m(\u001b[0m\u001b[0mself\u001b[0m\u001b[1;33m)\u001b[0m\u001b[1;33m:\u001b[0m\u001b[1;33m\u001b[0m\u001b[1;33m\u001b[0m\u001b[0m\n",
      "\u001b[1;31mKeyboardInterrupt\u001b[0m: "
     ]
    }
   ],
   "source": [
    "# Dictionary to store feature importances for each question\n",
    "feature_importances_dict = {}\n",
    "\n",
    "for q_no in range(1, 19):\n",
    "\n",
    "    # Select level group for the question based on the q_no.\n",
    "    if q_no <= 3: grp = '0-4'\n",
    "    elif q_no <= 13: grp = '5-12'\n",
    "    elif q_no <= 22: grp = '13-22'\n",
    "    print(\"### q_no\", q_no, \"grp\", grp)\n",
    "\n",
    "    # Select the appropriate dataframes based on the group\n",
    "    df = dataframes_2[grp]\n",
    "\n",
    "    # Select the labels for the related q_no.\n",
    "    targets = labels.loc[labels.q==q_no].set_index('session').loc[df.index]\n",
    "\n",
    "    # Define model\n",
    "    model = ExtraTreesClassifier()\n",
    "\n",
    "    # Fit model\n",
    "    model.fit(df, targets['correct'])\n",
    "\n",
    "    # Get feature importances\n",
    "    importances = model.feature_importances_\n",
    "\n",
    "    # Store feature importances in dictionary\n",
    "    feature_importances_dict[q_no] = pd.Series(importances, index=df.columns)\n",
    "\n",
    "# At this point, `feature_importances_dict` contains the feature importances for each question\n"
   ]
  },
  {
   "cell_type": "code",
   "execution_count": 76,
   "metadata": {},
   "outputs": [],
   "source": [
    "importance_df_path = os.path.join(full_path, \"dataframes\", \"importances_df.pkl\")\n",
    "importances_df = pd.read_pickle(importance_df_path)"
   ]
  },
  {
   "cell_type": "code",
   "execution_count": 77,
   "metadata": {},
   "outputs": [
    {
     "data": {
      "text/html": [
       "<div>\n",
       "<style scoped>\n",
       "    .dataframe tbody tr th:only-of-type {\n",
       "        vertical-align: middle;\n",
       "    }\n",
       "\n",
       "    .dataframe tbody tr th {\n",
       "        vertical-align: top;\n",
       "    }\n",
       "\n",
       "    .dataframe thead th {\n",
       "        text-align: right;\n",
       "    }\n",
       "</style>\n",
       "<table border=\"1\" class=\"dataframe\">\n",
       "  <thead>\n",
       "    <tr style=\"text-align: right;\">\n",
       "      <th></th>\n",
       "      <th>1</th>\n",
       "      <th>2</th>\n",
       "      <th>3</th>\n",
       "      <th>4</th>\n",
       "      <th>5</th>\n",
       "      <th>6</th>\n",
       "      <th>7</th>\n",
       "      <th>8</th>\n",
       "      <th>9</th>\n",
       "      <th>10</th>\n",
       "      <th>11</th>\n",
       "      <th>12</th>\n",
       "      <th>13</th>\n",
       "      <th>14</th>\n",
       "      <th>15</th>\n",
       "      <th>16</th>\n",
       "      <th>17</th>\n",
       "      <th>18</th>\n",
       "    </tr>\n",
       "  </thead>\n",
       "  <tbody>\n",
       "    <tr>\n",
       "      <th>elapsed_time_diff_log_0_0</th>\n",
       "      <td>0.002784</td>\n",
       "      <td>0.002926</td>\n",
       "      <td>0.002521</td>\n",
       "      <td>NaN</td>\n",
       "      <td>NaN</td>\n",
       "      <td>NaN</td>\n",
       "      <td>NaN</td>\n",
       "      <td>NaN</td>\n",
       "      <td>NaN</td>\n",
       "      <td>NaN</td>\n",
       "      <td>NaN</td>\n",
       "      <td>NaN</td>\n",
       "      <td>NaN</td>\n",
       "      <td>NaN</td>\n",
       "      <td>NaN</td>\n",
       "      <td>NaN</td>\n",
       "      <td>NaN</td>\n",
       "      <td>NaN</td>\n",
       "    </tr>\n",
       "    <tr>\n",
       "      <th>elapsed_time_diff_log_0_1</th>\n",
       "      <td>0.002443</td>\n",
       "      <td>0.002934</td>\n",
       "      <td>0.002385</td>\n",
       "      <td>NaN</td>\n",
       "      <td>NaN</td>\n",
       "      <td>NaN</td>\n",
       "      <td>NaN</td>\n",
       "      <td>NaN</td>\n",
       "      <td>NaN</td>\n",
       "      <td>NaN</td>\n",
       "      <td>NaN</td>\n",
       "      <td>NaN</td>\n",
       "      <td>NaN</td>\n",
       "      <td>NaN</td>\n",
       "      <td>NaN</td>\n",
       "      <td>NaN</td>\n",
       "      <td>NaN</td>\n",
       "      <td>NaN</td>\n",
       "    </tr>\n",
       "    <tr>\n",
       "      <th>elapsed_time_diff_log_0_2</th>\n",
       "      <td>0.002293</td>\n",
       "      <td>0.002069</td>\n",
       "      <td>0.002295</td>\n",
       "      <td>NaN</td>\n",
       "      <td>NaN</td>\n",
       "      <td>NaN</td>\n",
       "      <td>NaN</td>\n",
       "      <td>NaN</td>\n",
       "      <td>NaN</td>\n",
       "      <td>NaN</td>\n",
       "      <td>NaN</td>\n",
       "      <td>NaN</td>\n",
       "      <td>NaN</td>\n",
       "      <td>NaN</td>\n",
       "      <td>NaN</td>\n",
       "      <td>NaN</td>\n",
       "      <td>NaN</td>\n",
       "      <td>NaN</td>\n",
       "    </tr>\n",
       "    <tr>\n",
       "      <th>elapsed_time_diff_log_0_3</th>\n",
       "      <td>0.002462</td>\n",
       "      <td>0.002301</td>\n",
       "      <td>0.002735</td>\n",
       "      <td>NaN</td>\n",
       "      <td>NaN</td>\n",
       "      <td>NaN</td>\n",
       "      <td>NaN</td>\n",
       "      <td>NaN</td>\n",
       "      <td>NaN</td>\n",
       "      <td>NaN</td>\n",
       "      <td>NaN</td>\n",
       "      <td>NaN</td>\n",
       "      <td>NaN</td>\n",
       "      <td>NaN</td>\n",
       "      <td>NaN</td>\n",
       "      <td>NaN</td>\n",
       "      <td>NaN</td>\n",
       "      <td>NaN</td>\n",
       "    </tr>\n",
       "    <tr>\n",
       "      <th>elapsed_time_diff_log_10_0</th>\n",
       "      <td>NaN</td>\n",
       "      <td>NaN</td>\n",
       "      <td>NaN</td>\n",
       "      <td>0.001303</td>\n",
       "      <td>0.001250</td>\n",
       "      <td>0.001250</td>\n",
       "      <td>0.001425</td>\n",
       "      <td>0.001300</td>\n",
       "      <td>0.001276</td>\n",
       "      <td>0.001248</td>\n",
       "      <td>0.001372</td>\n",
       "      <td>0.001444</td>\n",
       "      <td>0.001516</td>\n",
       "      <td>NaN</td>\n",
       "      <td>NaN</td>\n",
       "      <td>NaN</td>\n",
       "      <td>NaN</td>\n",
       "      <td>NaN</td>\n",
       "    </tr>\n",
       "    <tr>\n",
       "      <th>...</th>\n",
       "      <td>...</td>\n",
       "      <td>...</td>\n",
       "      <td>...</td>\n",
       "      <td>...</td>\n",
       "      <td>...</td>\n",
       "      <td>...</td>\n",
       "      <td>...</td>\n",
       "      <td>...</td>\n",
       "      <td>...</td>\n",
       "      <td>...</td>\n",
       "      <td>...</td>\n",
       "      <td>...</td>\n",
       "      <td>...</td>\n",
       "      <td>...</td>\n",
       "      <td>...</td>\n",
       "      <td>...</td>\n",
       "      <td>...</td>\n",
       "      <td>...</td>\n",
       "    </tr>\n",
       "    <tr>\n",
       "      <th>text_fqid_8_3</th>\n",
       "      <td>NaN</td>\n",
       "      <td>NaN</td>\n",
       "      <td>NaN</td>\n",
       "      <td>0.001147</td>\n",
       "      <td>0.001350</td>\n",
       "      <td>0.001277</td>\n",
       "      <td>0.001254</td>\n",
       "      <td>0.001264</td>\n",
       "      <td>0.001262</td>\n",
       "      <td>0.001253</td>\n",
       "      <td>0.001282</td>\n",
       "      <td>0.001378</td>\n",
       "      <td>0.001303</td>\n",
       "      <td>NaN</td>\n",
       "      <td>NaN</td>\n",
       "      <td>NaN</td>\n",
       "      <td>NaN</td>\n",
       "      <td>NaN</td>\n",
       "    </tr>\n",
       "    <tr>\n",
       "      <th>text_fqid_9_0</th>\n",
       "      <td>NaN</td>\n",
       "      <td>NaN</td>\n",
       "      <td>NaN</td>\n",
       "      <td>0.001037</td>\n",
       "      <td>0.001136</td>\n",
       "      <td>0.001309</td>\n",
       "      <td>0.001179</td>\n",
       "      <td>0.001167</td>\n",
       "      <td>0.001422</td>\n",
       "      <td>0.001299</td>\n",
       "      <td>0.001433</td>\n",
       "      <td>0.001124</td>\n",
       "      <td>0.001142</td>\n",
       "      <td>NaN</td>\n",
       "      <td>NaN</td>\n",
       "      <td>NaN</td>\n",
       "      <td>NaN</td>\n",
       "      <td>NaN</td>\n",
       "    </tr>\n",
       "    <tr>\n",
       "      <th>text_fqid_9_1</th>\n",
       "      <td>NaN</td>\n",
       "      <td>NaN</td>\n",
       "      <td>NaN</td>\n",
       "      <td>0.001155</td>\n",
       "      <td>0.000959</td>\n",
       "      <td>0.001219</td>\n",
       "      <td>0.001263</td>\n",
       "      <td>0.000982</td>\n",
       "      <td>0.001030</td>\n",
       "      <td>0.000846</td>\n",
       "      <td>0.000925</td>\n",
       "      <td>0.001069</td>\n",
       "      <td>0.000935</td>\n",
       "      <td>NaN</td>\n",
       "      <td>NaN</td>\n",
       "      <td>NaN</td>\n",
       "      <td>NaN</td>\n",
       "      <td>NaN</td>\n",
       "    </tr>\n",
       "    <tr>\n",
       "      <th>text_fqid_9_2</th>\n",
       "      <td>NaN</td>\n",
       "      <td>NaN</td>\n",
       "      <td>NaN</td>\n",
       "      <td>0.001431</td>\n",
       "      <td>0.001257</td>\n",
       "      <td>0.001312</td>\n",
       "      <td>0.001270</td>\n",
       "      <td>0.001413</td>\n",
       "      <td>0.001605</td>\n",
       "      <td>0.001449</td>\n",
       "      <td>0.001541</td>\n",
       "      <td>0.001322</td>\n",
       "      <td>0.001459</td>\n",
       "      <td>NaN</td>\n",
       "      <td>NaN</td>\n",
       "      <td>NaN</td>\n",
       "      <td>NaN</td>\n",
       "      <td>NaN</td>\n",
       "    </tr>\n",
       "    <tr>\n",
       "      <th>text_fqid_9_3</th>\n",
       "      <td>NaN</td>\n",
       "      <td>NaN</td>\n",
       "      <td>NaN</td>\n",
       "      <td>0.000430</td>\n",
       "      <td>0.000317</td>\n",
       "      <td>0.000446</td>\n",
       "      <td>0.000427</td>\n",
       "      <td>0.000331</td>\n",
       "      <td>0.000391</td>\n",
       "      <td>0.000309</td>\n",
       "      <td>0.000325</td>\n",
       "      <td>0.000474</td>\n",
       "      <td>0.000395</td>\n",
       "      <td>NaN</td>\n",
       "      <td>NaN</td>\n",
       "      <td>NaN</td>\n",
       "      <td>NaN</td>\n",
       "      <td>NaN</td>\n",
       "    </tr>\n",
       "  </tbody>\n",
       "</table>\n",
       "<p>2303 rows × 18 columns</p>\n",
       "</div>"
      ],
      "text/plain": [
       "                                  1         2         3         4         5    \n",
       "elapsed_time_diff_log_0_0   0.002784  0.002926  0.002521       NaN       NaN  \\\n",
       "elapsed_time_diff_log_0_1   0.002443  0.002934  0.002385       NaN       NaN   \n",
       "elapsed_time_diff_log_0_2   0.002293  0.002069  0.002295       NaN       NaN   \n",
       "elapsed_time_diff_log_0_3   0.002462  0.002301  0.002735       NaN       NaN   \n",
       "elapsed_time_diff_log_10_0       NaN       NaN       NaN  0.001303  0.001250   \n",
       "...                              ...       ...       ...       ...       ...   \n",
       "text_fqid_8_3                    NaN       NaN       NaN  0.001147  0.001350   \n",
       "text_fqid_9_0                    NaN       NaN       NaN  0.001037  0.001136   \n",
       "text_fqid_9_1                    NaN       NaN       NaN  0.001155  0.000959   \n",
       "text_fqid_9_2                    NaN       NaN       NaN  0.001431  0.001257   \n",
       "text_fqid_9_3                    NaN       NaN       NaN  0.000430  0.000317   \n",
       "\n",
       "                                  6         7         8         9         10   \n",
       "elapsed_time_diff_log_0_0        NaN       NaN       NaN       NaN       NaN  \\\n",
       "elapsed_time_diff_log_0_1        NaN       NaN       NaN       NaN       NaN   \n",
       "elapsed_time_diff_log_0_2        NaN       NaN       NaN       NaN       NaN   \n",
       "elapsed_time_diff_log_0_3        NaN       NaN       NaN       NaN       NaN   \n",
       "elapsed_time_diff_log_10_0  0.001250  0.001425  0.001300  0.001276  0.001248   \n",
       "...                              ...       ...       ...       ...       ...   \n",
       "text_fqid_8_3               0.001277  0.001254  0.001264  0.001262  0.001253   \n",
       "text_fqid_9_0               0.001309  0.001179  0.001167  0.001422  0.001299   \n",
       "text_fqid_9_1               0.001219  0.001263  0.000982  0.001030  0.000846   \n",
       "text_fqid_9_2               0.001312  0.001270  0.001413  0.001605  0.001449   \n",
       "text_fqid_9_3               0.000446  0.000427  0.000331  0.000391  0.000309   \n",
       "\n",
       "                                  11        12        13  14  15  16  17  18  \n",
       "elapsed_time_diff_log_0_0        NaN       NaN       NaN NaN NaN NaN NaN NaN  \n",
       "elapsed_time_diff_log_0_1        NaN       NaN       NaN NaN NaN NaN NaN NaN  \n",
       "elapsed_time_diff_log_0_2        NaN       NaN       NaN NaN NaN NaN NaN NaN  \n",
       "elapsed_time_diff_log_0_3        NaN       NaN       NaN NaN NaN NaN NaN NaN  \n",
       "elapsed_time_diff_log_10_0  0.001372  0.001444  0.001516 NaN NaN NaN NaN NaN  \n",
       "...                              ...       ...       ...  ..  ..  ..  ..  ..  \n",
       "text_fqid_8_3               0.001282  0.001378  0.001303 NaN NaN NaN NaN NaN  \n",
       "text_fqid_9_0               0.001433  0.001124  0.001142 NaN NaN NaN NaN NaN  \n",
       "text_fqid_9_1               0.000925  0.001069  0.000935 NaN NaN NaN NaN NaN  \n",
       "text_fqid_9_2               0.001541  0.001322  0.001459 NaN NaN NaN NaN NaN  \n",
       "text_fqid_9_3               0.000325  0.000474  0.000395 NaN NaN NaN NaN NaN  \n",
       "\n",
       "[2303 rows x 18 columns]"
      ]
     },
     "execution_count": 77,
     "metadata": {},
     "output_type": "execute_result"
    }
   ],
   "source": [
    "importances_df"
   ]
  },
  {
   "cell_type": "code",
   "execution_count": 73,
   "metadata": {},
   "outputs": [],
   "source": [
    "# importances_df = pd.DataFrame(feature_importances_dict)"
   ]
  },
  {
   "cell_type": "code",
   "execution_count": 79,
   "metadata": {},
   "outputs": [],
   "source": [
    "prueba_df = importances_df[1].sort_values(ascending=False).to_frame()"
   ]
  },
  {
   "cell_type": "code",
   "execution_count": 80,
   "metadata": {},
   "outputs": [
    {
     "data": {
      "text/html": [
       "<div>\n",
       "<style scoped>\n",
       "    .dataframe tbody tr th:only-of-type {\n",
       "        vertical-align: middle;\n",
       "    }\n",
       "\n",
       "    .dataframe tbody tr th {\n",
       "        vertical-align: top;\n",
       "    }\n",
       "\n",
       "    .dataframe thead th {\n",
       "        text-align: right;\n",
       "    }\n",
       "</style>\n",
       "<table border=\"1\" class=\"dataframe\">\n",
       "  <thead>\n",
       "    <tr style=\"text-align: right;\">\n",
       "      <th></th>\n",
       "      <th>1</th>\n",
       "    </tr>\n",
       "  </thead>\n",
       "  <tbody>\n",
       "    <tr>\n",
       "      <th>quantile_elapsed_4_3</th>\n",
       "      <td>0.005819</td>\n",
       "    </tr>\n",
       "    <tr>\n",
       "      <th>name_3_0</th>\n",
       "      <td>0.005026</td>\n",
       "    </tr>\n",
       "    <tr>\n",
       "      <th>session_events_3_0</th>\n",
       "      <td>0.003780</td>\n",
       "    </tr>\n",
       "    <tr>\n",
       "      <th>session_events_3_2</th>\n",
       "      <td>0.003761</td>\n",
       "    </tr>\n",
       "    <tr>\n",
       "      <th>elapsed_time_diff_log_1_2</th>\n",
       "      <td>0.003651</td>\n",
       "    </tr>\n",
       "    <tr>\n",
       "      <th>session_events_3_3</th>\n",
       "      <td>0.003547</td>\n",
       "    </tr>\n",
       "    <tr>\n",
       "      <th>text_3_0</th>\n",
       "      <td>0.003501</td>\n",
       "    </tr>\n",
       "    <tr>\n",
       "      <th>elapsed_time_diff_log_2_3</th>\n",
       "      <td>0.003485</td>\n",
       "    </tr>\n",
       "    <tr>\n",
       "      <th>elapsed_time_diff_log_1_1</th>\n",
       "      <td>0.003383</td>\n",
       "    </tr>\n",
       "    <tr>\n",
       "      <th>event_density_3_0</th>\n",
       "      <td>0.003377</td>\n",
       "    </tr>\n",
       "  </tbody>\n",
       "</table>\n",
       "</div>"
      ],
      "text/plain": [
       "                                  1\n",
       "quantile_elapsed_4_3       0.005819\n",
       "name_3_0                   0.005026\n",
       "session_events_3_0         0.003780\n",
       "session_events_3_2         0.003761\n",
       "elapsed_time_diff_log_1_2  0.003651\n",
       "session_events_3_3         0.003547\n",
       "text_3_0                   0.003501\n",
       "elapsed_time_diff_log_2_3  0.003485\n",
       "elapsed_time_diff_log_1_1  0.003383\n",
       "event_density_3_0          0.003377"
      ]
     },
     "execution_count": 80,
     "metadata": {},
     "output_type": "execute_result"
    }
   ],
   "source": [
    "prueba_df.head(10)"
   ]
  },
  {
   "cell_type": "markdown",
   "metadata": {},
   "source": [
    "# 10 primeras feature_importance de cada question"
   ]
  },
  {
   "cell_type": "code",
   "execution_count": 107,
   "metadata": {},
   "outputs": [
    {
     "data": {
      "text/html": [
       "<div>\n",
       "<style scoped>\n",
       "    .dataframe tbody tr th:only-of-type {\n",
       "        vertical-align: middle;\n",
       "    }\n",
       "\n",
       "    .dataframe tbody tr th {\n",
       "        vertical-align: top;\n",
       "    }\n",
       "\n",
       "    .dataframe thead th {\n",
       "        text-align: right;\n",
       "    }\n",
       "</style>\n",
       "<table border=\"1\" class=\"dataframe\">\n",
       "  <thead>\n",
       "    <tr style=\"text-align: right;\">\n",
       "      <th></th>\n",
       "      <th>1</th>\n",
       "    </tr>\n",
       "  </thead>\n",
       "  <tbody>\n",
       "    <tr>\n",
       "      <th>quantile_elapsed_4_3</th>\n",
       "      <td>0.005819</td>\n",
       "    </tr>\n",
       "    <tr>\n",
       "      <th>name_3_0</th>\n",
       "      <td>0.005026</td>\n",
       "    </tr>\n",
       "    <tr>\n",
       "      <th>session_events_3_0</th>\n",
       "      <td>0.003780</td>\n",
       "    </tr>\n",
       "    <tr>\n",
       "      <th>session_events_3_2</th>\n",
       "      <td>0.003761</td>\n",
       "    </tr>\n",
       "    <tr>\n",
       "      <th>elapsed_time_diff_log_1_2</th>\n",
       "      <td>0.003651</td>\n",
       "    </tr>\n",
       "  </tbody>\n",
       "</table>\n",
       "</div>"
      ],
      "text/plain": [
       "                                  1\n",
       "quantile_elapsed_4_3       0.005819\n",
       "name_3_0                   0.005026\n",
       "session_events_3_0         0.003780\n",
       "session_events_3_2         0.003761\n",
       "elapsed_time_diff_log_1_2  0.003651"
      ]
     },
     "execution_count": 107,
     "metadata": {},
     "output_type": "execute_result"
    }
   ],
   "source": [
    "importances_df[1].sort_values(ascending=False).to_frame().head(5)"
   ]
  },
  {
   "cell_type": "code",
   "execution_count": 108,
   "metadata": {},
   "outputs": [
    {
     "data": {
      "text/html": [
       "<div>\n",
       "<style scoped>\n",
       "    .dataframe tbody tr th:only-of-type {\n",
       "        vertical-align: middle;\n",
       "    }\n",
       "\n",
       "    .dataframe tbody tr th {\n",
       "        vertical-align: top;\n",
       "    }\n",
       "\n",
       "    .dataframe thead th {\n",
       "        text-align: right;\n",
       "    }\n",
       "</style>\n",
       "<table border=\"1\" class=\"dataframe\">\n",
       "  <thead>\n",
       "    <tr style=\"text-align: right;\">\n",
       "      <th></th>\n",
       "      <th>2</th>\n",
       "    </tr>\n",
       "  </thead>\n",
       "  <tbody>\n",
       "    <tr>\n",
       "      <th>quantile_elapsed_4_3</th>\n",
       "      <td>0.004685</td>\n",
       "    </tr>\n",
       "    <tr>\n",
       "      <th>elapsed_time_log_std_4_3</th>\n",
       "      <td>0.004438</td>\n",
       "    </tr>\n",
       "    <tr>\n",
       "      <th>elapsed_time_diff_log_std_2_3</th>\n",
       "      <td>0.003805</td>\n",
       "    </tr>\n",
       "    <tr>\n",
       "      <th>elapsed_time_diff_log_2_3</th>\n",
       "      <td>0.003658</td>\n",
       "    </tr>\n",
       "    <tr>\n",
       "      <th>room_coor_y_4_1</th>\n",
       "      <td>0.003408</td>\n",
       "    </tr>\n",
       "  </tbody>\n",
       "</table>\n",
       "</div>"
      ],
      "text/plain": [
       "                                      2\n",
       "quantile_elapsed_4_3           0.004685\n",
       "elapsed_time_log_std_4_3       0.004438\n",
       "elapsed_time_diff_log_std_2_3  0.003805\n",
       "elapsed_time_diff_log_2_3      0.003658\n",
       "room_coor_y_4_1                0.003408"
      ]
     },
     "execution_count": 108,
     "metadata": {},
     "output_type": "execute_result"
    }
   ],
   "source": [
    "importances_df[2].sort_values(ascending=False).to_frame().head(5)"
   ]
  },
  {
   "cell_type": "code",
   "execution_count": 109,
   "metadata": {},
   "outputs": [
    {
     "data": {
      "text/html": [
       "<div>\n",
       "<style scoped>\n",
       "    .dataframe tbody tr th:only-of-type {\n",
       "        vertical-align: middle;\n",
       "    }\n",
       "\n",
       "    .dataframe tbody tr th {\n",
       "        vertical-align: top;\n",
       "    }\n",
       "\n",
       "    .dataframe thead th {\n",
       "        text-align: right;\n",
       "    }\n",
       "</style>\n",
       "<table border=\"1\" class=\"dataframe\">\n",
       "  <thead>\n",
       "    <tr style=\"text-align: right;\">\n",
       "      <th></th>\n",
       "      <th>3</th>\n",
       "    </tr>\n",
       "  </thead>\n",
       "  <tbody>\n",
       "    <tr>\n",
       "      <th>quantile_elapsed_4_3</th>\n",
       "      <td>0.004749</td>\n",
       "    </tr>\n",
       "    <tr>\n",
       "      <th>event_density_3_0</th>\n",
       "      <td>0.003232</td>\n",
       "    </tr>\n",
       "    <tr>\n",
       "      <th>event_density_3_2</th>\n",
       "      <td>0.003228</td>\n",
       "    </tr>\n",
       "    <tr>\n",
       "      <th>elapsed_time_log_std_4_3</th>\n",
       "      <td>0.003219</td>\n",
       "    </tr>\n",
       "    <tr>\n",
       "      <th>room_coor_y_std_3_2</th>\n",
       "      <td>0.003213</td>\n",
       "    </tr>\n",
       "  </tbody>\n",
       "</table>\n",
       "</div>"
      ],
      "text/plain": [
       "                                 3\n",
       "quantile_elapsed_4_3      0.004749\n",
       "event_density_3_0         0.003232\n",
       "event_density_3_2         0.003228\n",
       "elapsed_time_log_std_4_3  0.003219\n",
       "room_coor_y_std_3_2       0.003213"
      ]
     },
     "execution_count": 109,
     "metadata": {},
     "output_type": "execute_result"
    }
   ],
   "source": [
    "importances_df[3].sort_values(ascending=False).to_frame().head(5)"
   ]
  },
  {
   "cell_type": "code",
   "execution_count": 110,
   "metadata": {},
   "outputs": [
    {
     "data": {
      "text/html": [
       "<div>\n",
       "<style scoped>\n",
       "    .dataframe tbody tr th:only-of-type {\n",
       "        vertical-align: middle;\n",
       "    }\n",
       "\n",
       "    .dataframe tbody tr th {\n",
       "        vertical-align: top;\n",
       "    }\n",
       "\n",
       "    .dataframe thead th {\n",
       "        text-align: right;\n",
       "    }\n",
       "</style>\n",
       "<table border=\"1\" class=\"dataframe\">\n",
       "  <thead>\n",
       "    <tr style=\"text-align: right;\">\n",
       "      <th></th>\n",
       "      <th>4</th>\n",
       "    </tr>\n",
       "  </thead>\n",
       "  <tbody>\n",
       "    <tr>\n",
       "      <th>elapsed_time_diff_log_10_3</th>\n",
       "      <td>0.006126</td>\n",
       "    </tr>\n",
       "    <tr>\n",
       "      <th>elapsed_time_diff_log_8_2</th>\n",
       "      <td>0.006060</td>\n",
       "    </tr>\n",
       "    <tr>\n",
       "      <th>elapsed_time_diff_log_std_6_3</th>\n",
       "      <td>0.003977</td>\n",
       "    </tr>\n",
       "    <tr>\n",
       "      <th>elapsed_time_diff_log_std_8_2</th>\n",
       "      <td>0.003694</td>\n",
       "    </tr>\n",
       "    <tr>\n",
       "      <th>elapsed_time_diff_log_7_2</th>\n",
       "      <td>0.003572</td>\n",
       "    </tr>\n",
       "  </tbody>\n",
       "</table>\n",
       "</div>"
      ],
      "text/plain": [
       "                                      4\n",
       "elapsed_time_diff_log_10_3     0.006126\n",
       "elapsed_time_diff_log_8_2      0.006060\n",
       "elapsed_time_diff_log_std_6_3  0.003977\n",
       "elapsed_time_diff_log_std_8_2  0.003694\n",
       "elapsed_time_diff_log_7_2      0.003572"
      ]
     },
     "execution_count": 110,
     "metadata": {},
     "output_type": "execute_result"
    }
   ],
   "source": [
    "importances_df[4].sort_values(ascending=False).to_frame().head(5)"
   ]
  },
  {
   "cell_type": "code",
   "execution_count": 111,
   "metadata": {},
   "outputs": [
    {
     "data": {
      "text/html": [
       "<div>\n",
       "<style scoped>\n",
       "    .dataframe tbody tr th:only-of-type {\n",
       "        vertical-align: middle;\n",
       "    }\n",
       "\n",
       "    .dataframe tbody tr th {\n",
       "        vertical-align: top;\n",
       "    }\n",
       "\n",
       "    .dataframe thead th {\n",
       "        text-align: right;\n",
       "    }\n",
       "</style>\n",
       "<table border=\"1\" class=\"dataframe\">\n",
       "  <thead>\n",
       "    <tr style=\"text-align: right;\">\n",
       "      <th></th>\n",
       "      <th>5</th>\n",
       "    </tr>\n",
       "  </thead>\n",
       "  <tbody>\n",
       "    <tr>\n",
       "      <th>event_density_11_3</th>\n",
       "      <td>0.003487</td>\n",
       "    </tr>\n",
       "    <tr>\n",
       "      <th>event_name_11_1</th>\n",
       "      <td>0.003473</td>\n",
       "    </tr>\n",
       "    <tr>\n",
       "      <th>session_events_11_1</th>\n",
       "      <td>0.003083</td>\n",
       "    </tr>\n",
       "    <tr>\n",
       "      <th>room_coor_x_std_11_1</th>\n",
       "      <td>0.003000</td>\n",
       "    </tr>\n",
       "    <tr>\n",
       "      <th>screen_coor_x_std_11_1</th>\n",
       "      <td>0.002979</td>\n",
       "    </tr>\n",
       "  </tbody>\n",
       "</table>\n",
       "</div>"
      ],
      "text/plain": [
       "                               5\n",
       "event_density_11_3      0.003487\n",
       "event_name_11_1         0.003473\n",
       "session_events_11_1     0.003083\n",
       "room_coor_x_std_11_1    0.003000\n",
       "screen_coor_x_std_11_1  0.002979"
      ]
     },
     "execution_count": 111,
     "metadata": {},
     "output_type": "execute_result"
    }
   ],
   "source": [
    "importances_df[5].sort_values(ascending=False).to_frame().head(5)"
   ]
  },
  {
   "cell_type": "code",
   "execution_count": 112,
   "metadata": {},
   "outputs": [
    {
     "data": {
      "text/html": [
       "<div>\n",
       "<style scoped>\n",
       "    .dataframe tbody tr th:only-of-type {\n",
       "        vertical-align: middle;\n",
       "    }\n",
       "\n",
       "    .dataframe tbody tr th {\n",
       "        vertical-align: top;\n",
       "    }\n",
       "\n",
       "    .dataframe thead th {\n",
       "        text-align: right;\n",
       "    }\n",
       "</style>\n",
       "<table border=\"1\" class=\"dataframe\">\n",
       "  <thead>\n",
       "    <tr style=\"text-align: right;\">\n",
       "      <th></th>\n",
       "      <th>6</th>\n",
       "    </tr>\n",
       "  </thead>\n",
       "  <tbody>\n",
       "    <tr>\n",
       "      <th>room_coor_x_std_11_1</th>\n",
       "      <td>0.003649</td>\n",
       "    </tr>\n",
       "    <tr>\n",
       "      <th>event_name_11_1</th>\n",
       "      <td>0.003544</td>\n",
       "    </tr>\n",
       "    <tr>\n",
       "      <th>session_events_11_0</th>\n",
       "      <td>0.003217</td>\n",
       "    </tr>\n",
       "    <tr>\n",
       "      <th>fqid_11_1</th>\n",
       "      <td>0.003097</td>\n",
       "    </tr>\n",
       "    <tr>\n",
       "      <th>session_events_11_2</th>\n",
       "      <td>0.003034</td>\n",
       "    </tr>\n",
       "  </tbody>\n",
       "</table>\n",
       "</div>"
      ],
      "text/plain": [
       "                             6\n",
       "room_coor_x_std_11_1  0.003649\n",
       "event_name_11_1       0.003544\n",
       "session_events_11_0   0.003217\n",
       "fqid_11_1             0.003097\n",
       "session_events_11_2   0.003034"
      ]
     },
     "execution_count": 112,
     "metadata": {},
     "output_type": "execute_result"
    }
   ],
   "source": [
    "importances_df[6].sort_values(ascending=False).to_frame().head(5)"
   ]
  },
  {
   "cell_type": "code",
   "execution_count": 113,
   "metadata": {},
   "outputs": [
    {
     "data": {
      "text/html": [
       "<div>\n",
       "<style scoped>\n",
       "    .dataframe tbody tr th:only-of-type {\n",
       "        vertical-align: middle;\n",
       "    }\n",
       "\n",
       "    .dataframe tbody tr th {\n",
       "        vertical-align: top;\n",
       "    }\n",
       "\n",
       "    .dataframe thead th {\n",
       "        text-align: right;\n",
       "    }\n",
       "</style>\n",
       "<table border=\"1\" class=\"dataframe\">\n",
       "  <thead>\n",
       "    <tr style=\"text-align: right;\">\n",
       "      <th></th>\n",
       "      <th>7</th>\n",
       "    </tr>\n",
       "  </thead>\n",
       "  <tbody>\n",
       "    <tr>\n",
       "      <th>fqid_11_1</th>\n",
       "      <td>0.002639</td>\n",
       "    </tr>\n",
       "    <tr>\n",
       "      <th>session_events_11_1</th>\n",
       "      <td>0.002622</td>\n",
       "    </tr>\n",
       "    <tr>\n",
       "      <th>elapsed_time_diff_log_8_2</th>\n",
       "      <td>0.002390</td>\n",
       "    </tr>\n",
       "    <tr>\n",
       "      <th>room_coor_x_std_11_1</th>\n",
       "      <td>0.002369</td>\n",
       "    </tr>\n",
       "    <tr>\n",
       "      <th>event_name_11_1</th>\n",
       "      <td>0.002368</td>\n",
       "    </tr>\n",
       "  </tbody>\n",
       "</table>\n",
       "</div>"
      ],
      "text/plain": [
       "                                  7\n",
       "fqid_11_1                  0.002639\n",
       "session_events_11_1        0.002622\n",
       "elapsed_time_diff_log_8_2  0.002390\n",
       "room_coor_x_std_11_1       0.002369\n",
       "event_name_11_1            0.002368"
      ]
     },
     "execution_count": 113,
     "metadata": {},
     "output_type": "execute_result"
    }
   ],
   "source": [
    "importances_df[7].sort_values(ascending=False).to_frame().head(5)"
   ]
  },
  {
   "cell_type": "code",
   "execution_count": 114,
   "metadata": {},
   "outputs": [
    {
     "data": {
      "text/html": [
       "<div>\n",
       "<style scoped>\n",
       "    .dataframe tbody tr th:only-of-type {\n",
       "        vertical-align: middle;\n",
       "    }\n",
       "\n",
       "    .dataframe tbody tr th {\n",
       "        vertical-align: top;\n",
       "    }\n",
       "\n",
       "    .dataframe thead th {\n",
       "        text-align: right;\n",
       "    }\n",
       "</style>\n",
       "<table border=\"1\" class=\"dataframe\">\n",
       "  <thead>\n",
       "    <tr style=\"text-align: right;\">\n",
       "      <th></th>\n",
       "      <th>8</th>\n",
       "    </tr>\n",
       "  </thead>\n",
       "  <tbody>\n",
       "    <tr>\n",
       "      <th>elapsed_time_diff_log_std_11_1</th>\n",
       "      <td>0.001894</td>\n",
       "    </tr>\n",
       "    <tr>\n",
       "      <th>room_coor_x_std_11_1</th>\n",
       "      <td>0.001859</td>\n",
       "    </tr>\n",
       "    <tr>\n",
       "      <th>event_density_11_0</th>\n",
       "      <td>0.001790</td>\n",
       "    </tr>\n",
       "    <tr>\n",
       "      <th>screen_coor_x_std_11_1</th>\n",
       "      <td>0.001772</td>\n",
       "    </tr>\n",
       "    <tr>\n",
       "      <th>room_coor_y_std_11_1</th>\n",
       "      <td>0.001739</td>\n",
       "    </tr>\n",
       "  </tbody>\n",
       "</table>\n",
       "</div>"
      ],
      "text/plain": [
       "                                       8\n",
       "elapsed_time_diff_log_std_11_1  0.001894\n",
       "room_coor_x_std_11_1            0.001859\n",
       "event_density_11_0              0.001790\n",
       "screen_coor_x_std_11_1          0.001772\n",
       "room_coor_y_std_11_1            0.001739"
      ]
     },
     "execution_count": 114,
     "metadata": {},
     "output_type": "execute_result"
    }
   ],
   "source": [
    "importances_df[8].sort_values(ascending=False).to_frame().head(5)"
   ]
  },
  {
   "cell_type": "code",
   "execution_count": 115,
   "metadata": {},
   "outputs": [
    {
     "data": {
      "text/html": [
       "<div>\n",
       "<style scoped>\n",
       "    .dataframe tbody tr th:only-of-type {\n",
       "        vertical-align: middle;\n",
       "    }\n",
       "\n",
       "    .dataframe tbody tr th {\n",
       "        vertical-align: top;\n",
       "    }\n",
       "\n",
       "    .dataframe thead th {\n",
       "        text-align: right;\n",
       "    }\n",
       "</style>\n",
       "<table border=\"1\" class=\"dataframe\">\n",
       "  <thead>\n",
       "    <tr style=\"text-align: right;\">\n",
       "      <th></th>\n",
       "      <th>9</th>\n",
       "    </tr>\n",
       "  </thead>\n",
       "  <tbody>\n",
       "    <tr>\n",
       "      <th>session_events_11_2</th>\n",
       "      <td>0.003246</td>\n",
       "    </tr>\n",
       "    <tr>\n",
       "      <th>event_density_11_0</th>\n",
       "      <td>0.002892</td>\n",
       "    </tr>\n",
       "    <tr>\n",
       "      <th>fqid_11_1</th>\n",
       "      <td>0.002840</td>\n",
       "    </tr>\n",
       "    <tr>\n",
       "      <th>event_density_11_1</th>\n",
       "      <td>0.002797</td>\n",
       "    </tr>\n",
       "    <tr>\n",
       "      <th>event_density_11_2</th>\n",
       "      <td>0.002727</td>\n",
       "    </tr>\n",
       "  </tbody>\n",
       "</table>\n",
       "</div>"
      ],
      "text/plain": [
       "                            9\n",
       "session_events_11_2  0.003246\n",
       "event_density_11_0   0.002892\n",
       "fqid_11_1            0.002840\n",
       "event_density_11_1   0.002797\n",
       "event_density_11_2   0.002727"
      ]
     },
     "execution_count": 115,
     "metadata": {},
     "output_type": "execute_result"
    }
   ],
   "source": [
    "importances_df[9].sort_values(ascending=False).to_frame().head(5)"
   ]
  },
  {
   "cell_type": "code",
   "execution_count": 116,
   "metadata": {},
   "outputs": [
    {
     "data": {
      "text/html": [
       "<div>\n",
       "<style scoped>\n",
       "    .dataframe tbody tr th:only-of-type {\n",
       "        vertical-align: middle;\n",
       "    }\n",
       "\n",
       "    .dataframe tbody tr th {\n",
       "        vertical-align: top;\n",
       "    }\n",
       "\n",
       "    .dataframe thead th {\n",
       "        text-align: right;\n",
       "    }\n",
       "</style>\n",
       "<table border=\"1\" class=\"dataframe\">\n",
       "  <thead>\n",
       "    <tr style=\"text-align: right;\">\n",
       "      <th></th>\n",
       "      <th>10</th>\n",
       "    </tr>\n",
       "  </thead>\n",
       "  <tbody>\n",
       "    <tr>\n",
       "      <th>session_events_11_1</th>\n",
       "      <td>0.003268</td>\n",
       "    </tr>\n",
       "    <tr>\n",
       "      <th>session_events_11_3</th>\n",
       "      <td>0.003257</td>\n",
       "    </tr>\n",
       "    <tr>\n",
       "      <th>event_density_11_1</th>\n",
       "      <td>0.003037</td>\n",
       "    </tr>\n",
       "    <tr>\n",
       "      <th>screen_coor_x_std_11_1</th>\n",
       "      <td>0.003022</td>\n",
       "    </tr>\n",
       "    <tr>\n",
       "      <th>session_events_11_2</th>\n",
       "      <td>0.002993</td>\n",
       "    </tr>\n",
       "  </tbody>\n",
       "</table>\n",
       "</div>"
      ],
      "text/plain": [
       "                              10\n",
       "session_events_11_1     0.003268\n",
       "session_events_11_3     0.003257\n",
       "event_density_11_1      0.003037\n",
       "screen_coor_x_std_11_1  0.003022\n",
       "session_events_11_2     0.002993"
      ]
     },
     "execution_count": 116,
     "metadata": {},
     "output_type": "execute_result"
    }
   ],
   "source": [
    "importances_df[10].sort_values(ascending=False).to_frame().head(5)"
   ]
  },
  {
   "cell_type": "code",
   "execution_count": 117,
   "metadata": {},
   "outputs": [
    {
     "data": {
      "text/html": [
       "<div>\n",
       "<style scoped>\n",
       "    .dataframe tbody tr th:only-of-type {\n",
       "        vertical-align: middle;\n",
       "    }\n",
       "\n",
       "    .dataframe tbody tr th {\n",
       "        vertical-align: top;\n",
       "    }\n",
       "\n",
       "    .dataframe thead th {\n",
       "        text-align: right;\n",
       "    }\n",
       "</style>\n",
       "<table border=\"1\" class=\"dataframe\">\n",
       "  <thead>\n",
       "    <tr style=\"text-align: right;\">\n",
       "      <th></th>\n",
       "      <th>11</th>\n",
       "    </tr>\n",
       "  </thead>\n",
       "  <tbody>\n",
       "    <tr>\n",
       "      <th>room_coor_x_std_11_1</th>\n",
       "      <td>0.002485</td>\n",
       "    </tr>\n",
       "    <tr>\n",
       "      <th>event_name_11_1</th>\n",
       "      <td>0.002415</td>\n",
       "    </tr>\n",
       "    <tr>\n",
       "      <th>session_events_11_0</th>\n",
       "      <td>0.002288</td>\n",
       "    </tr>\n",
       "    <tr>\n",
       "      <th>fqid_11_1</th>\n",
       "      <td>0.002242</td>\n",
       "    </tr>\n",
       "    <tr>\n",
       "      <th>event_density_11_1</th>\n",
       "      <td>0.002233</td>\n",
       "    </tr>\n",
       "  </tbody>\n",
       "</table>\n",
       "</div>"
      ],
      "text/plain": [
       "                            11\n",
       "room_coor_x_std_11_1  0.002485\n",
       "event_name_11_1       0.002415\n",
       "session_events_11_0   0.002288\n",
       "fqid_11_1             0.002242\n",
       "event_density_11_1    0.002233"
      ]
     },
     "execution_count": 117,
     "metadata": {},
     "output_type": "execute_result"
    }
   ],
   "source": [
    "importances_df[11].sort_values(ascending=False).to_frame().head(5)"
   ]
  },
  {
   "cell_type": "code",
   "execution_count": 118,
   "metadata": {},
   "outputs": [
    {
     "data": {
      "text/html": [
       "<div>\n",
       "<style scoped>\n",
       "    .dataframe tbody tr th:only-of-type {\n",
       "        vertical-align: middle;\n",
       "    }\n",
       "\n",
       "    .dataframe tbody tr th {\n",
       "        vertical-align: top;\n",
       "    }\n",
       "\n",
       "    .dataframe thead th {\n",
       "        text-align: right;\n",
       "    }\n",
       "</style>\n",
       "<table border=\"1\" class=\"dataframe\">\n",
       "  <thead>\n",
       "    <tr style=\"text-align: right;\">\n",
       "      <th></th>\n",
       "      <th>12</th>\n",
       "    </tr>\n",
       "  </thead>\n",
       "  <tbody>\n",
       "    <tr>\n",
       "      <th>elapsed_time_diff_log_std_6_3</th>\n",
       "      <td>0.002134</td>\n",
       "    </tr>\n",
       "    <tr>\n",
       "      <th>session_events_11_0</th>\n",
       "      <td>0.002073</td>\n",
       "    </tr>\n",
       "    <tr>\n",
       "      <th>elapsed_time_diff_log_10_3</th>\n",
       "      <td>0.002055</td>\n",
       "    </tr>\n",
       "    <tr>\n",
       "      <th>elapsed_time_diff_log_std_11_1</th>\n",
       "      <td>0.002027</td>\n",
       "    </tr>\n",
       "    <tr>\n",
       "      <th>elapsed_time_diff_log_8_2</th>\n",
       "      <td>0.002026</td>\n",
       "    </tr>\n",
       "  </tbody>\n",
       "</table>\n",
       "</div>"
      ],
      "text/plain": [
       "                                      12\n",
       "elapsed_time_diff_log_std_6_3   0.002134\n",
       "session_events_11_0             0.002073\n",
       "elapsed_time_diff_log_10_3      0.002055\n",
       "elapsed_time_diff_log_std_11_1  0.002027\n",
       "elapsed_time_diff_log_8_2       0.002026"
      ]
     },
     "execution_count": 118,
     "metadata": {},
     "output_type": "execute_result"
    }
   ],
   "source": [
    "importances_df[12].sort_values(ascending=False).to_frame().head(5)"
   ]
  },
  {
   "cell_type": "code",
   "execution_count": 119,
   "metadata": {},
   "outputs": [
    {
     "data": {
      "text/html": [
       "<div>\n",
       "<style scoped>\n",
       "    .dataframe tbody tr th:only-of-type {\n",
       "        vertical-align: middle;\n",
       "    }\n",
       "\n",
       "    .dataframe tbody tr th {\n",
       "        vertical-align: top;\n",
       "    }\n",
       "\n",
       "    .dataframe thead th {\n",
       "        text-align: right;\n",
       "    }\n",
       "</style>\n",
       "<table border=\"1\" class=\"dataframe\">\n",
       "  <thead>\n",
       "    <tr style=\"text-align: right;\">\n",
       "      <th></th>\n",
       "      <th>13</th>\n",
       "    </tr>\n",
       "  </thead>\n",
       "  <tbody>\n",
       "    <tr>\n",
       "      <th>quantile_elapsed_11_3</th>\n",
       "      <td>0.002723</td>\n",
       "    </tr>\n",
       "    <tr>\n",
       "      <th>quantile_elapsed_11_2</th>\n",
       "      <td>0.002421</td>\n",
       "    </tr>\n",
       "    <tr>\n",
       "      <th>session_events_11_2</th>\n",
       "      <td>0.002408</td>\n",
       "    </tr>\n",
       "    <tr>\n",
       "      <th>event_name_11_1</th>\n",
       "      <td>0.002356</td>\n",
       "    </tr>\n",
       "    <tr>\n",
       "      <th>quantile_elapsed_8_3</th>\n",
       "      <td>0.002346</td>\n",
       "    </tr>\n",
       "  </tbody>\n",
       "</table>\n",
       "</div>"
      ],
      "text/plain": [
       "                             13\n",
       "quantile_elapsed_11_3  0.002723\n",
       "quantile_elapsed_11_2  0.002421\n",
       "session_events_11_2    0.002408\n",
       "event_name_11_1        0.002356\n",
       "quantile_elapsed_8_3   0.002346"
      ]
     },
     "execution_count": 119,
     "metadata": {},
     "output_type": "execute_result"
    }
   ],
   "source": [
    "importances_df[13].sort_values(ascending=False).to_frame().head(5)"
   ]
  },
  {
   "cell_type": "code",
   "execution_count": 120,
   "metadata": {},
   "outputs": [
    {
     "data": {
      "text/html": [
       "<div>\n",
       "<style scoped>\n",
       "    .dataframe tbody tr th:only-of-type {\n",
       "        vertical-align: middle;\n",
       "    }\n",
       "\n",
       "    .dataframe tbody tr th {\n",
       "        vertical-align: top;\n",
       "    }\n",
       "\n",
       "    .dataframe thead th {\n",
       "        text-align: right;\n",
       "    }\n",
       "</style>\n",
       "<table border=\"1\" class=\"dataframe\">\n",
       "  <thead>\n",
       "    <tr style=\"text-align: right;\">\n",
       "      <th></th>\n",
       "      <th>14</th>\n",
       "    </tr>\n",
       "  </thead>\n",
       "  <tbody>\n",
       "    <tr>\n",
       "      <th>elapsed_time_diff_log_13_3</th>\n",
       "      <td>0.002072</td>\n",
       "    </tr>\n",
       "    <tr>\n",
       "      <th>quantile_elapsed_13_0</th>\n",
       "      <td>0.002006</td>\n",
       "    </tr>\n",
       "    <tr>\n",
       "      <th>event_density_20_2</th>\n",
       "      <td>0.002001</td>\n",
       "    </tr>\n",
       "    <tr>\n",
       "      <th>elapsed_time_diff_log_std_18_0</th>\n",
       "      <td>0.001998</td>\n",
       "    </tr>\n",
       "    <tr>\n",
       "      <th>room_coor_y_std_15_2</th>\n",
       "      <td>0.001976</td>\n",
       "    </tr>\n",
       "  </tbody>\n",
       "</table>\n",
       "</div>"
      ],
      "text/plain": [
       "                                      14\n",
       "elapsed_time_diff_log_13_3      0.002072\n",
       "quantile_elapsed_13_0           0.002006\n",
       "event_density_20_2              0.002001\n",
       "elapsed_time_diff_log_std_18_0  0.001998\n",
       "room_coor_y_std_15_2            0.001976"
      ]
     },
     "execution_count": 120,
     "metadata": {},
     "output_type": "execute_result"
    }
   ],
   "source": [
    "importances_df[14].sort_values(ascending=False).to_frame().head(5)"
   ]
  },
  {
   "cell_type": "code",
   "execution_count": 121,
   "metadata": {},
   "outputs": [
    {
     "data": {
      "text/html": [
       "<div>\n",
       "<style scoped>\n",
       "    .dataframe tbody tr th:only-of-type {\n",
       "        vertical-align: middle;\n",
       "    }\n",
       "\n",
       "    .dataframe tbody tr th {\n",
       "        vertical-align: top;\n",
       "    }\n",
       "\n",
       "    .dataframe thead th {\n",
       "        text-align: right;\n",
       "    }\n",
       "</style>\n",
       "<table border=\"1\" class=\"dataframe\">\n",
       "  <thead>\n",
       "    <tr style=\"text-align: right;\">\n",
       "      <th></th>\n",
       "      <th>15</th>\n",
       "    </tr>\n",
       "  </thead>\n",
       "  <tbody>\n",
       "    <tr>\n",
       "      <th>event_name_21_3</th>\n",
       "      <td>0.002597</td>\n",
       "    </tr>\n",
       "    <tr>\n",
       "      <th>elapsed_time_diff_log_std_18_0</th>\n",
       "      <td>0.002459</td>\n",
       "    </tr>\n",
       "    <tr>\n",
       "      <th>elapsed_time_diff_log_18_0</th>\n",
       "      <td>0.002393</td>\n",
       "    </tr>\n",
       "    <tr>\n",
       "      <th>room_coor_y_std_15_2</th>\n",
       "      <td>0.002220</td>\n",
       "    </tr>\n",
       "    <tr>\n",
       "      <th>quantile_elapsed_13_0</th>\n",
       "      <td>0.002202</td>\n",
       "    </tr>\n",
       "  </tbody>\n",
       "</table>\n",
       "</div>"
      ],
      "text/plain": [
       "                                      15\n",
       "event_name_21_3                 0.002597\n",
       "elapsed_time_diff_log_std_18_0  0.002459\n",
       "elapsed_time_diff_log_18_0      0.002393\n",
       "room_coor_y_std_15_2            0.002220\n",
       "quantile_elapsed_13_0           0.002202"
      ]
     },
     "execution_count": 121,
     "metadata": {},
     "output_type": "execute_result"
    }
   ],
   "source": [
    "importances_df[15].sort_values(ascending=False).to_frame().head(5)"
   ]
  },
  {
   "cell_type": "code",
   "execution_count": 122,
   "metadata": {},
   "outputs": [
    {
     "data": {
      "text/html": [
       "<div>\n",
       "<style scoped>\n",
       "    .dataframe tbody tr th:only-of-type {\n",
       "        vertical-align: middle;\n",
       "    }\n",
       "\n",
       "    .dataframe tbody tr th {\n",
       "        vertical-align: top;\n",
       "    }\n",
       "\n",
       "    .dataframe thead th {\n",
       "        text-align: right;\n",
       "    }\n",
       "</style>\n",
       "<table border=\"1\" class=\"dataframe\">\n",
       "  <thead>\n",
       "    <tr style=\"text-align: right;\">\n",
       "      <th></th>\n",
       "      <th>16</th>\n",
       "    </tr>\n",
       "  </thead>\n",
       "  <tbody>\n",
       "    <tr>\n",
       "      <th>hover_duration_log_20_3</th>\n",
       "      <td>0.001574</td>\n",
       "    </tr>\n",
       "    <tr>\n",
       "      <th>hover_duration_log_21_3</th>\n",
       "      <td>0.001571</td>\n",
       "    </tr>\n",
       "    <tr>\n",
       "      <th>quantile_elapsed_13_0</th>\n",
       "      <td>0.001512</td>\n",
       "    </tr>\n",
       "    <tr>\n",
       "      <th>room_coor_y_19_2</th>\n",
       "      <td>0.001509</td>\n",
       "    </tr>\n",
       "    <tr>\n",
       "      <th>room_coor_x_std_16_3</th>\n",
       "      <td>0.001462</td>\n",
       "    </tr>\n",
       "  </tbody>\n",
       "</table>\n",
       "</div>"
      ],
      "text/plain": [
       "                               16\n",
       "hover_duration_log_20_3  0.001574\n",
       "hover_duration_log_21_3  0.001571\n",
       "quantile_elapsed_13_0    0.001512\n",
       "room_coor_y_19_2         0.001509\n",
       "room_coor_x_std_16_3     0.001462"
      ]
     },
     "execution_count": 122,
     "metadata": {},
     "output_type": "execute_result"
    }
   ],
   "source": [
    "importances_df[16].sort_values(ascending=False).to_frame().head(5)"
   ]
  },
  {
   "cell_type": "code",
   "execution_count": 123,
   "metadata": {},
   "outputs": [
    {
     "data": {
      "text/html": [
       "<div>\n",
       "<style scoped>\n",
       "    .dataframe tbody tr th:only-of-type {\n",
       "        vertical-align: middle;\n",
       "    }\n",
       "\n",
       "    .dataframe tbody tr th {\n",
       "        vertical-align: top;\n",
       "    }\n",
       "\n",
       "    .dataframe thead th {\n",
       "        text-align: right;\n",
       "    }\n",
       "</style>\n",
       "<table border=\"1\" class=\"dataframe\">\n",
       "  <thead>\n",
       "    <tr style=\"text-align: right;\">\n",
       "      <th></th>\n",
       "      <th>17</th>\n",
       "    </tr>\n",
       "  </thead>\n",
       "  <tbody>\n",
       "    <tr>\n",
       "      <th>quantile_elapsed_13_0</th>\n",
       "      <td>0.001714</td>\n",
       "    </tr>\n",
       "    <tr>\n",
       "      <th>quantile_elapsed_18_3</th>\n",
       "      <td>0.001541</td>\n",
       "    </tr>\n",
       "    <tr>\n",
       "      <th>room_coor_x_18_2</th>\n",
       "      <td>0.001455</td>\n",
       "    </tr>\n",
       "    <tr>\n",
       "      <th>quantile_elapsed_19_3</th>\n",
       "      <td>0.001392</td>\n",
       "    </tr>\n",
       "    <tr>\n",
       "      <th>elapsed_time_diff_log_std_20_3</th>\n",
       "      <td>0.001372</td>\n",
       "    </tr>\n",
       "  </tbody>\n",
       "</table>\n",
       "</div>"
      ],
      "text/plain": [
       "                                      17\n",
       "quantile_elapsed_13_0           0.001714\n",
       "quantile_elapsed_18_3           0.001541\n",
       "room_coor_x_18_2                0.001455\n",
       "quantile_elapsed_19_3           0.001392\n",
       "elapsed_time_diff_log_std_20_3  0.001372"
      ]
     },
     "execution_count": 123,
     "metadata": {},
     "output_type": "execute_result"
    }
   ],
   "source": [
    "importances_df[17].sort_values(ascending=False).to_frame().head(5)"
   ]
  },
  {
   "cell_type": "code",
   "execution_count": 124,
   "metadata": {},
   "outputs": [
    {
     "data": {
      "text/html": [
       "<div>\n",
       "<style scoped>\n",
       "    .dataframe tbody tr th:only-of-type {\n",
       "        vertical-align: middle;\n",
       "    }\n",
       "\n",
       "    .dataframe tbody tr th {\n",
       "        vertical-align: top;\n",
       "    }\n",
       "\n",
       "    .dataframe thead th {\n",
       "        text-align: right;\n",
       "    }\n",
       "</style>\n",
       "<table border=\"1\" class=\"dataframe\">\n",
       "  <thead>\n",
       "    <tr style=\"text-align: right;\">\n",
       "      <th></th>\n",
       "      <th>18</th>\n",
       "    </tr>\n",
       "  </thead>\n",
       "  <tbody>\n",
       "    <tr>\n",
       "      <th>quantile_elapsed_13_0</th>\n",
       "      <td>0.002253</td>\n",
       "    </tr>\n",
       "    <tr>\n",
       "      <th>elapsed_time_diff_log_16_3</th>\n",
       "      <td>0.002162</td>\n",
       "    </tr>\n",
       "    <tr>\n",
       "      <th>session_events_20_1</th>\n",
       "      <td>0.001838</td>\n",
       "    </tr>\n",
       "    <tr>\n",
       "      <th>text_21_0</th>\n",
       "      <td>0.001837</td>\n",
       "    </tr>\n",
       "    <tr>\n",
       "      <th>event_density_18_2</th>\n",
       "      <td>0.001698</td>\n",
       "    </tr>\n",
       "  </tbody>\n",
       "</table>\n",
       "</div>"
      ],
      "text/plain": [
       "                                  18\n",
       "quantile_elapsed_13_0       0.002253\n",
       "elapsed_time_diff_log_16_3  0.002162\n",
       "session_events_20_1         0.001838\n",
       "text_21_0                   0.001837\n",
       "event_density_18_2          0.001698"
      ]
     },
     "execution_count": 124,
     "metadata": {},
     "output_type": "execute_result"
    }
   ],
   "source": [
    "importances_df[18].sort_values(ascending=False).to_frame().head(5)"
   ]
  },
  {
   "cell_type": "markdown",
   "metadata": {},
   "source": [
    "# Resto del código"
   ]
  },
  {
   "cell_type": "code",
   "execution_count": 61,
   "metadata": {},
   "outputs": [
    {
     "data": {
      "text/plain": [
       "Index(['quantile_elapsed_4_3', 'name_3_0', 'session_events_3_0',\n",
       "       'session_events_3_2', 'elapsed_time_diff_log_1_2', 'session_events_3_3',\n",
       "       'text_3_0', 'elapsed_time_diff_log_2_3', 'elapsed_time_diff_log_1_1',\n",
       "       'event_density_3_0',\n",
       "       ...\n",
       "       'text_fqid_7_2', 'text_fqid_7_3', 'text_fqid_8_0', 'text_fqid_8_1',\n",
       "       'text_fqid_8_2', 'text_fqid_8_3', 'text_fqid_9_0', 'text_fqid_9_1',\n",
       "       'text_fqid_9_2', 'text_fqid_9_3'],\n",
       "      dtype='object', length=1303)"
      ]
     },
     "execution_count": 61,
     "metadata": {},
     "output_type": "execute_result"
    }
   ],
   "source": [
    "prueba_df.index"
   ]
  },
  {
   "cell_type": "code",
   "execution_count": 29,
   "metadata": {},
   "outputs": [],
   "source": [
    "# Define the output directory and file\n",
    "output_dir = os.path.join(full_path, 'dataframes')\n",
    "if not os.path.exists(output_dir):  # create the directory if it doesn't exist\n",
    "    os.makedirs(output_dir)\n",
    "output_file = os.path.join(output_dir, 'importances_df.pkl')\n",
    "# Save dataframe to pickle file\n",
    "importances_df.to_pickle(output_file)"
   ]
  },
  {
   "cell_type": "code",
   "execution_count": null,
   "metadata": {},
   "outputs": [],
   "source": [
    "importances_df[1].sort_values(ascending=False)"
   ]
  },
  {
   "cell_type": "code",
   "execution_count": null,
   "metadata": {},
   "outputs": [],
   "source": [
    "importances_df[1][importances_df[1]<0.002].sort_values(ascending=False)"
   ]
  },
  {
   "cell_type": "code",
   "execution_count": null,
   "metadata": {},
   "outputs": [],
   "source": [
    "importances_df[1][importances_df[1]>0.002265].sort_values(ascending=False)"
   ]
  },
  {
   "cell_type": "code",
   "execution_count": null,
   "metadata": {},
   "outputs": [],
   "source": [
    "list(importances_df[1][importances_df[1]>0.0025].sort_values(ascending=False).index)"
   ]
  },
  {
   "cell_type": "code",
   "execution_count": null,
   "metadata": {},
   "outputs": [],
   "source": [
    "importances_df[1].describe()"
   ]
  },
  {
   "cell_type": "code",
   "execution_count": 30,
   "metadata": {},
   "outputs": [],
   "source": [
    "fe_thresholds = {1:0.002265, 2:0.002202, 3:0.002261, 4:0.001252, 5:0.001339,\n",
    "                6:0.001312, 7:0.001352, 8:0.001399, 9:0.001337, 10:0.001363, \n",
    "                11:0.001383, 12:0.001346, 13:0.001365, 14:1.059217e-03, 15: 0.001070, 16: 0.001105, 17: 0.001107, 18: 0.001038 }"
   ]
  },
  {
   "cell_type": "code",
   "execution_count": null,
   "metadata": {},
   "outputs": [],
   "source": [
    "for q_no in importances_df.columns:\n",
    "    # Get the feature importances for the current question\n",
    "    feature_importances = importances_df[q_no]\n",
    "    \n",
    "    # Plot the distribution of feature importances\n",
    "    plt.figure()\n",
    "    plt.hist(feature_importances, bins=100)\n",
    "    \n",
    "    # Set plot title and labels\n",
    "    plt.title(f\"Feature Importance Distribution - Question {q_no}\")\n",
    "    plt.xlabel(\"Feature Importance\")\n",
    "    plt.ylabel(\"Frequency\")\n",
    "    \n",
    "    # Show the plot\n",
    "    plt.show()"
   ]
  },
  {
   "cell_type": "code",
   "execution_count": null,
   "metadata": {},
   "outputs": [],
   "source": [
    "filtered_importances_df = importances_df.copy()\n",
    "\n",
    "# Iterate over each question and its associated threshold\n",
    "for q_no, threshold in fe_thresholds.items():\n",
    "    # Filter the feature importances for the current question based on the threshold\n",
    "    filtered_importances = importances_df[q_no] >= threshold\n",
    "    \n",
    "    # Keep only the features that meet the threshold for the current question\n",
    "    filtered_importances_df.loc[~filtered_importances, q_no] = 0\n",
    "\n",
    "# Remove features with zero importance for all questions\n",
    "filtered_importances_df = filtered_importances_df.loc[:, (filtered_importances_df != 0).any(axis=0)]\n"
   ]
  },
  {
   "cell_type": "code",
   "execution_count": 103,
   "metadata": {},
   "outputs": [],
   "source": [
    "filtered_importances_df = importances_df.copy()\n",
    "# Iterate over each question\n",
    "for q_no in filtered_importances_df.columns:\n",
    "    # Sort by feature importance\n",
    "    sorted_importances = filtered_importances_df[q_no].sort_values(ascending=False)\n",
    "    \n",
    "    # Select the top 100 features\n",
    "    top_features = sorted_importances[:100].index\n",
    "    \n",
    "    # Set the importances of features not in the top 100 to zero\n",
    "    filtered_importances_df.loc[~filtered_importances_df.index.isin(top_features), q_no] = 0"
   ]
  },
  {
   "cell_type": "code",
   "execution_count": 104,
   "metadata": {},
   "outputs": [
    {
     "data": {
      "text/html": [
       "<div>\n",
       "<style scoped>\n",
       "    .dataframe tbody tr th:only-of-type {\n",
       "        vertical-align: middle;\n",
       "    }\n",
       "\n",
       "    .dataframe tbody tr th {\n",
       "        vertical-align: top;\n",
       "    }\n",
       "\n",
       "    .dataframe thead th {\n",
       "        text-align: right;\n",
       "    }\n",
       "</style>\n",
       "<table border=\"1\" class=\"dataframe\">\n",
       "  <thead>\n",
       "    <tr style=\"text-align: right;\">\n",
       "      <th></th>\n",
       "      <th>1</th>\n",
       "      <th>2</th>\n",
       "      <th>3</th>\n",
       "      <th>4</th>\n",
       "      <th>5</th>\n",
       "      <th>6</th>\n",
       "      <th>7</th>\n",
       "      <th>8</th>\n",
       "      <th>9</th>\n",
       "      <th>10</th>\n",
       "      <th>11</th>\n",
       "      <th>12</th>\n",
       "      <th>13</th>\n",
       "      <th>14</th>\n",
       "      <th>15</th>\n",
       "      <th>16</th>\n",
       "      <th>17</th>\n",
       "      <th>18</th>\n",
       "    </tr>\n",
       "  </thead>\n",
       "  <tbody>\n",
       "    <tr>\n",
       "      <th>elapsed_time_diff_log_0_0</th>\n",
       "      <td>0.002784</td>\n",
       "      <td>0.002926</td>\n",
       "      <td>0.000000</td>\n",
       "      <td>0.0</td>\n",
       "      <td>0.0</td>\n",
       "      <td>0.0</td>\n",
       "      <td>0.0</td>\n",
       "      <td>0.0</td>\n",
       "      <td>0.000000</td>\n",
       "      <td>0.0</td>\n",
       "      <td>0.0</td>\n",
       "      <td>0.0</td>\n",
       "      <td>0.0</td>\n",
       "      <td>0.0</td>\n",
       "      <td>0.0</td>\n",
       "      <td>0.0</td>\n",
       "      <td>0.0</td>\n",
       "      <td>0.0</td>\n",
       "    </tr>\n",
       "    <tr>\n",
       "      <th>elapsed_time_diff_log_0_1</th>\n",
       "      <td>0.000000</td>\n",
       "      <td>0.002934</td>\n",
       "      <td>0.000000</td>\n",
       "      <td>0.0</td>\n",
       "      <td>0.0</td>\n",
       "      <td>0.0</td>\n",
       "      <td>0.0</td>\n",
       "      <td>0.0</td>\n",
       "      <td>0.000000</td>\n",
       "      <td>0.0</td>\n",
       "      <td>0.0</td>\n",
       "      <td>0.0</td>\n",
       "      <td>0.0</td>\n",
       "      <td>0.0</td>\n",
       "      <td>0.0</td>\n",
       "      <td>0.0</td>\n",
       "      <td>0.0</td>\n",
       "      <td>0.0</td>\n",
       "    </tr>\n",
       "    <tr>\n",
       "      <th>elapsed_time_diff_log_0_2</th>\n",
       "      <td>0.000000</td>\n",
       "      <td>0.000000</td>\n",
       "      <td>0.000000</td>\n",
       "      <td>0.0</td>\n",
       "      <td>0.0</td>\n",
       "      <td>0.0</td>\n",
       "      <td>0.0</td>\n",
       "      <td>0.0</td>\n",
       "      <td>0.000000</td>\n",
       "      <td>0.0</td>\n",
       "      <td>0.0</td>\n",
       "      <td>0.0</td>\n",
       "      <td>0.0</td>\n",
       "      <td>0.0</td>\n",
       "      <td>0.0</td>\n",
       "      <td>0.0</td>\n",
       "      <td>0.0</td>\n",
       "      <td>0.0</td>\n",
       "    </tr>\n",
       "    <tr>\n",
       "      <th>elapsed_time_diff_log_0_3</th>\n",
       "      <td>0.000000</td>\n",
       "      <td>0.000000</td>\n",
       "      <td>0.002735</td>\n",
       "      <td>0.0</td>\n",
       "      <td>0.0</td>\n",
       "      <td>0.0</td>\n",
       "      <td>0.0</td>\n",
       "      <td>0.0</td>\n",
       "      <td>0.000000</td>\n",
       "      <td>0.0</td>\n",
       "      <td>0.0</td>\n",
       "      <td>0.0</td>\n",
       "      <td>0.0</td>\n",
       "      <td>0.0</td>\n",
       "      <td>0.0</td>\n",
       "      <td>0.0</td>\n",
       "      <td>0.0</td>\n",
       "      <td>0.0</td>\n",
       "    </tr>\n",
       "    <tr>\n",
       "      <th>elapsed_time_diff_log_10_0</th>\n",
       "      <td>0.000000</td>\n",
       "      <td>0.000000</td>\n",
       "      <td>0.000000</td>\n",
       "      <td>0.0</td>\n",
       "      <td>0.0</td>\n",
       "      <td>0.0</td>\n",
       "      <td>0.0</td>\n",
       "      <td>0.0</td>\n",
       "      <td>0.000000</td>\n",
       "      <td>0.0</td>\n",
       "      <td>0.0</td>\n",
       "      <td>0.0</td>\n",
       "      <td>0.0</td>\n",
       "      <td>0.0</td>\n",
       "      <td>0.0</td>\n",
       "      <td>0.0</td>\n",
       "      <td>0.0</td>\n",
       "      <td>0.0</td>\n",
       "    </tr>\n",
       "    <tr>\n",
       "      <th>...</th>\n",
       "      <td>...</td>\n",
       "      <td>...</td>\n",
       "      <td>...</td>\n",
       "      <td>...</td>\n",
       "      <td>...</td>\n",
       "      <td>...</td>\n",
       "      <td>...</td>\n",
       "      <td>...</td>\n",
       "      <td>...</td>\n",
       "      <td>...</td>\n",
       "      <td>...</td>\n",
       "      <td>...</td>\n",
       "      <td>...</td>\n",
       "      <td>...</td>\n",
       "      <td>...</td>\n",
       "      <td>...</td>\n",
       "      <td>...</td>\n",
       "      <td>...</td>\n",
       "    </tr>\n",
       "    <tr>\n",
       "      <th>text_fqid_8_3</th>\n",
       "      <td>0.000000</td>\n",
       "      <td>0.000000</td>\n",
       "      <td>0.000000</td>\n",
       "      <td>0.0</td>\n",
       "      <td>0.0</td>\n",
       "      <td>0.0</td>\n",
       "      <td>0.0</td>\n",
       "      <td>0.0</td>\n",
       "      <td>0.000000</td>\n",
       "      <td>0.0</td>\n",
       "      <td>0.0</td>\n",
       "      <td>0.0</td>\n",
       "      <td>0.0</td>\n",
       "      <td>0.0</td>\n",
       "      <td>0.0</td>\n",
       "      <td>0.0</td>\n",
       "      <td>0.0</td>\n",
       "      <td>0.0</td>\n",
       "    </tr>\n",
       "    <tr>\n",
       "      <th>text_fqid_9_0</th>\n",
       "      <td>0.000000</td>\n",
       "      <td>0.000000</td>\n",
       "      <td>0.000000</td>\n",
       "      <td>0.0</td>\n",
       "      <td>0.0</td>\n",
       "      <td>0.0</td>\n",
       "      <td>0.0</td>\n",
       "      <td>0.0</td>\n",
       "      <td>0.000000</td>\n",
       "      <td>0.0</td>\n",
       "      <td>0.0</td>\n",
       "      <td>0.0</td>\n",
       "      <td>0.0</td>\n",
       "      <td>0.0</td>\n",
       "      <td>0.0</td>\n",
       "      <td>0.0</td>\n",
       "      <td>0.0</td>\n",
       "      <td>0.0</td>\n",
       "    </tr>\n",
       "    <tr>\n",
       "      <th>text_fqid_9_1</th>\n",
       "      <td>0.000000</td>\n",
       "      <td>0.000000</td>\n",
       "      <td>0.000000</td>\n",
       "      <td>0.0</td>\n",
       "      <td>0.0</td>\n",
       "      <td>0.0</td>\n",
       "      <td>0.0</td>\n",
       "      <td>0.0</td>\n",
       "      <td>0.000000</td>\n",
       "      <td>0.0</td>\n",
       "      <td>0.0</td>\n",
       "      <td>0.0</td>\n",
       "      <td>0.0</td>\n",
       "      <td>0.0</td>\n",
       "      <td>0.0</td>\n",
       "      <td>0.0</td>\n",
       "      <td>0.0</td>\n",
       "      <td>0.0</td>\n",
       "    </tr>\n",
       "    <tr>\n",
       "      <th>text_fqid_9_2</th>\n",
       "      <td>0.000000</td>\n",
       "      <td>0.000000</td>\n",
       "      <td>0.000000</td>\n",
       "      <td>0.0</td>\n",
       "      <td>0.0</td>\n",
       "      <td>0.0</td>\n",
       "      <td>0.0</td>\n",
       "      <td>0.0</td>\n",
       "      <td>0.001605</td>\n",
       "      <td>0.0</td>\n",
       "      <td>0.0</td>\n",
       "      <td>0.0</td>\n",
       "      <td>0.0</td>\n",
       "      <td>0.0</td>\n",
       "      <td>0.0</td>\n",
       "      <td>0.0</td>\n",
       "      <td>0.0</td>\n",
       "      <td>0.0</td>\n",
       "    </tr>\n",
       "    <tr>\n",
       "      <th>text_fqid_9_3</th>\n",
       "      <td>0.000000</td>\n",
       "      <td>0.000000</td>\n",
       "      <td>0.000000</td>\n",
       "      <td>0.0</td>\n",
       "      <td>0.0</td>\n",
       "      <td>0.0</td>\n",
       "      <td>0.0</td>\n",
       "      <td>0.0</td>\n",
       "      <td>0.000000</td>\n",
       "      <td>0.0</td>\n",
       "      <td>0.0</td>\n",
       "      <td>0.0</td>\n",
       "      <td>0.0</td>\n",
       "      <td>0.0</td>\n",
       "      <td>0.0</td>\n",
       "      <td>0.0</td>\n",
       "      <td>0.0</td>\n",
       "      <td>0.0</td>\n",
       "    </tr>\n",
       "  </tbody>\n",
       "</table>\n",
       "<p>2303 rows × 18 columns</p>\n",
       "</div>"
      ],
      "text/plain": [
       "                                  1         2         3    4    5    6    7    \n",
       "elapsed_time_diff_log_0_0   0.002784  0.002926  0.000000  0.0  0.0  0.0  0.0  \\\n",
       "elapsed_time_diff_log_0_1   0.000000  0.002934  0.000000  0.0  0.0  0.0  0.0   \n",
       "elapsed_time_diff_log_0_2   0.000000  0.000000  0.000000  0.0  0.0  0.0  0.0   \n",
       "elapsed_time_diff_log_0_3   0.000000  0.000000  0.002735  0.0  0.0  0.0  0.0   \n",
       "elapsed_time_diff_log_10_0  0.000000  0.000000  0.000000  0.0  0.0  0.0  0.0   \n",
       "...                              ...       ...       ...  ...  ...  ...  ...   \n",
       "text_fqid_8_3               0.000000  0.000000  0.000000  0.0  0.0  0.0  0.0   \n",
       "text_fqid_9_0               0.000000  0.000000  0.000000  0.0  0.0  0.0  0.0   \n",
       "text_fqid_9_1               0.000000  0.000000  0.000000  0.0  0.0  0.0  0.0   \n",
       "text_fqid_9_2               0.000000  0.000000  0.000000  0.0  0.0  0.0  0.0   \n",
       "text_fqid_9_3               0.000000  0.000000  0.000000  0.0  0.0  0.0  0.0   \n",
       "\n",
       "                             8         9    10   11   12   13   14   15   16   \n",
       "elapsed_time_diff_log_0_0   0.0  0.000000  0.0  0.0  0.0  0.0  0.0  0.0  0.0  \\\n",
       "elapsed_time_diff_log_0_1   0.0  0.000000  0.0  0.0  0.0  0.0  0.0  0.0  0.0   \n",
       "elapsed_time_diff_log_0_2   0.0  0.000000  0.0  0.0  0.0  0.0  0.0  0.0  0.0   \n",
       "elapsed_time_diff_log_0_3   0.0  0.000000  0.0  0.0  0.0  0.0  0.0  0.0  0.0   \n",
       "elapsed_time_diff_log_10_0  0.0  0.000000  0.0  0.0  0.0  0.0  0.0  0.0  0.0   \n",
       "...                         ...       ...  ...  ...  ...  ...  ...  ...  ...   \n",
       "text_fqid_8_3               0.0  0.000000  0.0  0.0  0.0  0.0  0.0  0.0  0.0   \n",
       "text_fqid_9_0               0.0  0.000000  0.0  0.0  0.0  0.0  0.0  0.0  0.0   \n",
       "text_fqid_9_1               0.0  0.000000  0.0  0.0  0.0  0.0  0.0  0.0  0.0   \n",
       "text_fqid_9_2               0.0  0.001605  0.0  0.0  0.0  0.0  0.0  0.0  0.0   \n",
       "text_fqid_9_3               0.0  0.000000  0.0  0.0  0.0  0.0  0.0  0.0  0.0   \n",
       "\n",
       "                             17   18  \n",
       "elapsed_time_diff_log_0_0   0.0  0.0  \n",
       "elapsed_time_diff_log_0_1   0.0  0.0  \n",
       "elapsed_time_diff_log_0_2   0.0  0.0  \n",
       "elapsed_time_diff_log_0_3   0.0  0.0  \n",
       "elapsed_time_diff_log_10_0  0.0  0.0  \n",
       "...                         ...  ...  \n",
       "text_fqid_8_3               0.0  0.0  \n",
       "text_fqid_9_0               0.0  0.0  \n",
       "text_fqid_9_1               0.0  0.0  \n",
       "text_fqid_9_2               0.0  0.0  \n",
       "text_fqid_9_3               0.0  0.0  \n",
       "\n",
       "[2303 rows x 18 columns]"
      ]
     },
     "execution_count": 104,
     "metadata": {},
     "output_type": "execute_result"
    }
   ],
   "source": [
    "filtered_importances_df"
   ]
  },
  {
   "cell_type": "code",
   "execution_count": null,
   "metadata": {},
   "outputs": [],
   "source": [
    "train_x_1[(filtered_importances_df[1][filtered_importances_df[1]!=0]).index.values]"
   ]
  },
  {
   "attachments": {},
   "cell_type": "markdown",
   "metadata": {},
   "source": [
    "## Model training"
   ]
  },
  {
   "cell_type": "code",
   "execution_count": 31,
   "metadata": {},
   "outputs": [],
   "source": [
    "# param_grid = {\n",
    "#     'learning_rate': [0.05, 0.1, 0.2],\n",
    "#     'n_estimators': [100, 200, 500, 1000],\n",
    "#     'max_depth': [3, 5, 7, 9, -1],  # -1 indica ninguna limitación de profundidad\n",
    "#     'num_leaves': [31, 50, 100, 200],\n",
    "#     'min_child_samples': [20, 50, 100, 200],\n",
    "#     'subsample': [0.6, 0.7, 0.8, 0.9, 1.0],\n",
    "#     'colsample_bytree': [0.6, 0.7, 0.8, 0.9, 1.0],\n",
    "#     'reg_alpha': [0, 0.1, 0.5, 1.0, 10.0],\n",
    "#     'reg_lambda': [0, 0.1, 0.5, 1.0, 10.0]\n",
    "# }\n",
    "param_grid = {\n",
    "    'learning_rate': [0.1, 0.01, 0.001],\n",
    "    'n_estimators': [100, 200, 500],\n",
    "    'max_depth': [3, 5, 10],\n",
    "    'num_leaves': [31, 50, 100],\n",
    "    'min_child_samples': [20, 50, 100],\n",
    "    'reg_alpha': [0, 1, 10],\n",
    "    'reg_lambda': [0, 1, 10]\n",
    "}"
   ]
  },
  {
   "cell_type": "code",
   "execution_count": null,
   "metadata": {},
   "outputs": [],
   "source": [
    "for q_no in range(1, 19):\n",
    "\n",
    "    # Select level group for the question based on the q_no.\n",
    "    if q_no <= 3: grp = '0-4'\n",
    "    elif q_no <= 13: grp = '5-12'\n",
    "    elif q_no <= 22: grp = '13-22'\n",
    "    print(\"### q_no\", q_no, \"grp\", grp)\n",
    "\n",
    "    # Select the appropriate dataframes based on the group\n",
    "    train_df, valid_df = dataframes[grp]\n",
    "\n",
    "    train_df = train_df[(filtered_importances_df[q_no][filtered_importances_df[1]!=0]).index.values]\n",
    "    valid_df = valid_df[(filtered_importances_df[q_no][filtered_importances_df[1]!=0]).index.values]\n",
    "\n",
    "    # Select the labels for the related q_no.\n",
    "    train_labels = labels.loc[labels.q==q_no].set_index('session').loc[train_df.index]\n",
    "    valid_labels = labels.loc[labels.q==q_no].set_index('session').loc[valid_df.index]\n",
    "\n",
    "    # Create and train the LGBMClassifier model\n",
    "    lgbm = LGBMClassifier()\n",
    "    lgbm.fit(train_df, train_labels['correct'])\n",
    "\n",
    "    # Store the model\n",
    "    models[f'{grp}_{q_no}'] = lgbm\n",
    "\n",
    "    # Evaluate the trained model on the validation dataset and store the \n",
    "    # evaluation accuracy in the `evaluation_dict`.\n",
    "    evaluation = lgbm.score(valid_df, valid_labels['correct'])\n",
    "    evaluation_dict[q_no] = evaluation\n",
    "\n",
    "    # Use the trained model to make predictions on the validation dataset and \n",
    "    # store the predicted values in the `prediction_df` dataframe.\n",
    "    predict = lgbm.predict(valid_df)\n",
    "    prediction_df.loc[valid_df.index, q_no-1] = predict.flatten()\n"
   ]
  },
  {
   "cell_type": "code",
   "execution_count": 32,
   "metadata": {},
   "outputs": [
    {
     "name": "stdout",
     "output_type": "stream",
     "text": [
      "### q_no 1 grp 0-4\n"
     ]
    },
    {
     "ename": "KeyboardInterrupt",
     "evalue": "",
     "output_type": "error",
     "traceback": [
      "\u001b[1;31m---------------------------------------------------------------------------\u001b[0m",
      "\u001b[1;31mKeyboardInterrupt\u001b[0m                         Traceback (most recent call last)",
      "\u001b[1;32m~\\AppData\\Local\\Temp\\ipykernel_13664\\1372194468.py\u001b[0m in \u001b[0;36m<module>\u001b[1;34m\u001b[0m\n\u001b[0;32m     20\u001b[0m     \u001b[0mlgbm\u001b[0m \u001b[1;33m=\u001b[0m \u001b[0mLGBMClassifier\u001b[0m\u001b[1;33m(\u001b[0m\u001b[1;33m)\u001b[0m\u001b[1;33m\u001b[0m\u001b[1;33m\u001b[0m\u001b[0m\n\u001b[0;32m     21\u001b[0m     \u001b[0mgrid_search\u001b[0m \u001b[1;33m=\u001b[0m \u001b[0mGridSearchCV\u001b[0m\u001b[1;33m(\u001b[0m\u001b[0mlgbm\u001b[0m\u001b[1;33m,\u001b[0m \u001b[0mparam_grid\u001b[0m\u001b[1;33m,\u001b[0m \u001b[0mcv\u001b[0m\u001b[1;33m=\u001b[0m\u001b[1;36m5\u001b[0m\u001b[1;33m,\u001b[0m \u001b[0mscoring\u001b[0m\u001b[1;33m=\u001b[0m\u001b[1;34m'f1'\u001b[0m\u001b[1;33m)\u001b[0m\u001b[1;33m\u001b[0m\u001b[1;33m\u001b[0m\u001b[0m\n\u001b[1;32m---> 22\u001b[1;33m     \u001b[0mgrid_search\u001b[0m\u001b[1;33m.\u001b[0m\u001b[0mfit\u001b[0m\u001b[1;33m(\u001b[0m\u001b[0mtrain_df\u001b[0m\u001b[1;33m,\u001b[0m \u001b[0mtrain_labels\u001b[0m\u001b[1;33m[\u001b[0m\u001b[1;34m'correct'\u001b[0m\u001b[1;33m]\u001b[0m\u001b[1;33m)\u001b[0m\u001b[1;33m\u001b[0m\u001b[1;33m\u001b[0m\u001b[0m\n\u001b[0m\u001b[0;32m     23\u001b[0m \u001b[1;33m\u001b[0m\u001b[0m\n\u001b[0;32m     24\u001b[0m     \u001b[0mbest_model\u001b[0m \u001b[1;33m=\u001b[0m \u001b[0mgrid_search\u001b[0m\u001b[1;33m.\u001b[0m\u001b[0mbest_estimator_\u001b[0m\u001b[1;33m\u001b[0m\u001b[1;33m\u001b[0m\u001b[0m\n",
      "\u001b[1;32mc:\\Projects\\EDA GSP\\venv\\lib\\site-packages\\sklearn\\model_selection\\_search.py\u001b[0m in \u001b[0;36mfit\u001b[1;34m(self, X, y, groups, **fit_params)\u001b[0m\n\u001b[0;32m    872\u001b[0m                 \u001b[1;32mreturn\u001b[0m \u001b[0mresults\u001b[0m\u001b[1;33m\u001b[0m\u001b[1;33m\u001b[0m\u001b[0m\n\u001b[0;32m    873\u001b[0m \u001b[1;33m\u001b[0m\u001b[0m\n\u001b[1;32m--> 874\u001b[1;33m             \u001b[0mself\u001b[0m\u001b[1;33m.\u001b[0m\u001b[0m_run_search\u001b[0m\u001b[1;33m(\u001b[0m\u001b[0mevaluate_candidates\u001b[0m\u001b[1;33m)\u001b[0m\u001b[1;33m\u001b[0m\u001b[1;33m\u001b[0m\u001b[0m\n\u001b[0m\u001b[0;32m    875\u001b[0m \u001b[1;33m\u001b[0m\u001b[0m\n\u001b[0;32m    876\u001b[0m             \u001b[1;31m# multimetric is determined here because in the case of a callable\u001b[0m\u001b[1;33m\u001b[0m\u001b[1;33m\u001b[0m\u001b[1;33m\u001b[0m\u001b[0m\n",
      "\u001b[1;32mc:\\Projects\\EDA GSP\\venv\\lib\\site-packages\\sklearn\\model_selection\\_search.py\u001b[0m in \u001b[0;36m_run_search\u001b[1;34m(self, evaluate_candidates)\u001b[0m\n\u001b[0;32m   1386\u001b[0m     \u001b[1;32mdef\u001b[0m \u001b[0m_run_search\u001b[0m\u001b[1;33m(\u001b[0m\u001b[0mself\u001b[0m\u001b[1;33m,\u001b[0m \u001b[0mevaluate_candidates\u001b[0m\u001b[1;33m)\u001b[0m\u001b[1;33m:\u001b[0m\u001b[1;33m\u001b[0m\u001b[1;33m\u001b[0m\u001b[0m\n\u001b[0;32m   1387\u001b[0m         \u001b[1;34m\"\"\"Search all candidates in param_grid\"\"\"\u001b[0m\u001b[1;33m\u001b[0m\u001b[1;33m\u001b[0m\u001b[0m\n\u001b[1;32m-> 1388\u001b[1;33m         \u001b[0mevaluate_candidates\u001b[0m\u001b[1;33m(\u001b[0m\u001b[0mParameterGrid\u001b[0m\u001b[1;33m(\u001b[0m\u001b[0mself\u001b[0m\u001b[1;33m.\u001b[0m\u001b[0mparam_grid\u001b[0m\u001b[1;33m)\u001b[0m\u001b[1;33m)\u001b[0m\u001b[1;33m\u001b[0m\u001b[1;33m\u001b[0m\u001b[0m\n\u001b[0m\u001b[0;32m   1389\u001b[0m \u001b[1;33m\u001b[0m\u001b[0m\n\u001b[0;32m   1390\u001b[0m \u001b[1;33m\u001b[0m\u001b[0m\n",
      "\u001b[1;32mc:\\Projects\\EDA GSP\\venv\\lib\\site-packages\\sklearn\\model_selection\\_search.py\u001b[0m in \u001b[0;36mevaluate_candidates\u001b[1;34m(candidate_params, cv, more_results)\u001b[0m\n\u001b[0;32m    819\u001b[0m                     )\n\u001b[0;32m    820\u001b[0m \u001b[1;33m\u001b[0m\u001b[0m\n\u001b[1;32m--> 821\u001b[1;33m                 out = parallel(\n\u001b[0m\u001b[0;32m    822\u001b[0m                     delayed(_fit_and_score)(\n\u001b[0;32m    823\u001b[0m                         \u001b[0mclone\u001b[0m\u001b[1;33m(\u001b[0m\u001b[0mbase_estimator\u001b[0m\u001b[1;33m)\u001b[0m\u001b[1;33m,\u001b[0m\u001b[1;33m\u001b[0m\u001b[1;33m\u001b[0m\u001b[0m\n",
      "\u001b[1;32mc:\\Projects\\EDA GSP\\venv\\lib\\site-packages\\sklearn\\utils\\parallel.py\u001b[0m in \u001b[0;36m__call__\u001b[1;34m(self, iterable)\u001b[0m\n\u001b[0;32m     61\u001b[0m             \u001b[1;32mfor\u001b[0m \u001b[0mdelayed_func\u001b[0m\u001b[1;33m,\u001b[0m \u001b[0margs\u001b[0m\u001b[1;33m,\u001b[0m \u001b[0mkwargs\u001b[0m \u001b[1;32min\u001b[0m \u001b[0miterable\u001b[0m\u001b[1;33m\u001b[0m\u001b[1;33m\u001b[0m\u001b[0m\n\u001b[0;32m     62\u001b[0m         )\n\u001b[1;32m---> 63\u001b[1;33m         \u001b[1;32mreturn\u001b[0m \u001b[0msuper\u001b[0m\u001b[1;33m(\u001b[0m\u001b[1;33m)\u001b[0m\u001b[1;33m.\u001b[0m\u001b[0m__call__\u001b[0m\u001b[1;33m(\u001b[0m\u001b[0miterable_with_config\u001b[0m\u001b[1;33m)\u001b[0m\u001b[1;33m\u001b[0m\u001b[1;33m\u001b[0m\u001b[0m\n\u001b[0m\u001b[0;32m     64\u001b[0m \u001b[1;33m\u001b[0m\u001b[0m\n\u001b[0;32m     65\u001b[0m \u001b[1;33m\u001b[0m\u001b[0m\n",
      "\u001b[1;32mc:\\Projects\\EDA GSP\\venv\\lib\\site-packages\\joblib\\parallel.py\u001b[0m in \u001b[0;36m__call__\u001b[1;34m(self, iterable)\u001b[0m\n\u001b[0;32m   1086\u001b[0m                 \u001b[0mself\u001b[0m\u001b[1;33m.\u001b[0m\u001b[0m_iterating\u001b[0m \u001b[1;33m=\u001b[0m \u001b[0mself\u001b[0m\u001b[1;33m.\u001b[0m\u001b[0m_original_iterator\u001b[0m \u001b[1;32mis\u001b[0m \u001b[1;32mnot\u001b[0m \u001b[1;32mNone\u001b[0m\u001b[1;33m\u001b[0m\u001b[1;33m\u001b[0m\u001b[0m\n\u001b[0;32m   1087\u001b[0m \u001b[1;33m\u001b[0m\u001b[0m\n\u001b[1;32m-> 1088\u001b[1;33m             \u001b[1;32mwhile\u001b[0m \u001b[0mself\u001b[0m\u001b[1;33m.\u001b[0m\u001b[0mdispatch_one_batch\u001b[0m\u001b[1;33m(\u001b[0m\u001b[0miterator\u001b[0m\u001b[1;33m)\u001b[0m\u001b[1;33m:\u001b[0m\u001b[1;33m\u001b[0m\u001b[1;33m\u001b[0m\u001b[0m\n\u001b[0m\u001b[0;32m   1089\u001b[0m                 \u001b[1;32mpass\u001b[0m\u001b[1;33m\u001b[0m\u001b[1;33m\u001b[0m\u001b[0m\n\u001b[0;32m   1090\u001b[0m \u001b[1;33m\u001b[0m\u001b[0m\n",
      "\u001b[1;32mc:\\Projects\\EDA GSP\\venv\\lib\\site-packages\\joblib\\parallel.py\u001b[0m in \u001b[0;36mdispatch_one_batch\u001b[1;34m(self, iterator)\u001b[0m\n\u001b[0;32m    899\u001b[0m                 \u001b[1;32mreturn\u001b[0m \u001b[1;32mFalse\u001b[0m\u001b[1;33m\u001b[0m\u001b[1;33m\u001b[0m\u001b[0m\n\u001b[0;32m    900\u001b[0m             \u001b[1;32melse\u001b[0m\u001b[1;33m:\u001b[0m\u001b[1;33m\u001b[0m\u001b[1;33m\u001b[0m\u001b[0m\n\u001b[1;32m--> 901\u001b[1;33m                 \u001b[0mself\u001b[0m\u001b[1;33m.\u001b[0m\u001b[0m_dispatch\u001b[0m\u001b[1;33m(\u001b[0m\u001b[0mtasks\u001b[0m\u001b[1;33m)\u001b[0m\u001b[1;33m\u001b[0m\u001b[1;33m\u001b[0m\u001b[0m\n\u001b[0m\u001b[0;32m    902\u001b[0m                 \u001b[1;32mreturn\u001b[0m \u001b[1;32mTrue\u001b[0m\u001b[1;33m\u001b[0m\u001b[1;33m\u001b[0m\u001b[0m\n\u001b[0;32m    903\u001b[0m \u001b[1;33m\u001b[0m\u001b[0m\n",
      "\u001b[1;32mc:\\Projects\\EDA GSP\\venv\\lib\\site-packages\\joblib\\parallel.py\u001b[0m in \u001b[0;36m_dispatch\u001b[1;34m(self, batch)\u001b[0m\n\u001b[0;32m    817\u001b[0m         \u001b[1;32mwith\u001b[0m \u001b[0mself\u001b[0m\u001b[1;33m.\u001b[0m\u001b[0m_lock\u001b[0m\u001b[1;33m:\u001b[0m\u001b[1;33m\u001b[0m\u001b[1;33m\u001b[0m\u001b[0m\n\u001b[0;32m    818\u001b[0m             \u001b[0mjob_idx\u001b[0m \u001b[1;33m=\u001b[0m \u001b[0mlen\u001b[0m\u001b[1;33m(\u001b[0m\u001b[0mself\u001b[0m\u001b[1;33m.\u001b[0m\u001b[0m_jobs\u001b[0m\u001b[1;33m)\u001b[0m\u001b[1;33m\u001b[0m\u001b[1;33m\u001b[0m\u001b[0m\n\u001b[1;32m--> 819\u001b[1;33m             \u001b[0mjob\u001b[0m \u001b[1;33m=\u001b[0m \u001b[0mself\u001b[0m\u001b[1;33m.\u001b[0m\u001b[0m_backend\u001b[0m\u001b[1;33m.\u001b[0m\u001b[0mapply_async\u001b[0m\u001b[1;33m(\u001b[0m\u001b[0mbatch\u001b[0m\u001b[1;33m,\u001b[0m \u001b[0mcallback\u001b[0m\u001b[1;33m=\u001b[0m\u001b[0mcb\u001b[0m\u001b[1;33m)\u001b[0m\u001b[1;33m\u001b[0m\u001b[1;33m\u001b[0m\u001b[0m\n\u001b[0m\u001b[0;32m    820\u001b[0m             \u001b[1;31m# A job can complete so quickly than its callback is\u001b[0m\u001b[1;33m\u001b[0m\u001b[1;33m\u001b[0m\u001b[1;33m\u001b[0m\u001b[0m\n\u001b[0;32m    821\u001b[0m             \u001b[1;31m# called before we get here, causing self._jobs to\u001b[0m\u001b[1;33m\u001b[0m\u001b[1;33m\u001b[0m\u001b[1;33m\u001b[0m\u001b[0m\n",
      "\u001b[1;32mc:\\Projects\\EDA GSP\\venv\\lib\\site-packages\\joblib\\_parallel_backends.py\u001b[0m in \u001b[0;36mapply_async\u001b[1;34m(self, func, callback)\u001b[0m\n\u001b[0;32m    206\u001b[0m     \u001b[1;32mdef\u001b[0m \u001b[0mapply_async\u001b[0m\u001b[1;33m(\u001b[0m\u001b[0mself\u001b[0m\u001b[1;33m,\u001b[0m \u001b[0mfunc\u001b[0m\u001b[1;33m,\u001b[0m \u001b[0mcallback\u001b[0m\u001b[1;33m=\u001b[0m\u001b[1;32mNone\u001b[0m\u001b[1;33m)\u001b[0m\u001b[1;33m:\u001b[0m\u001b[1;33m\u001b[0m\u001b[1;33m\u001b[0m\u001b[0m\n\u001b[0;32m    207\u001b[0m         \u001b[1;34m\"\"\"Schedule a func to be run\"\"\"\u001b[0m\u001b[1;33m\u001b[0m\u001b[1;33m\u001b[0m\u001b[0m\n\u001b[1;32m--> 208\u001b[1;33m         \u001b[0mresult\u001b[0m \u001b[1;33m=\u001b[0m \u001b[0mImmediateResult\u001b[0m\u001b[1;33m(\u001b[0m\u001b[0mfunc\u001b[0m\u001b[1;33m)\u001b[0m\u001b[1;33m\u001b[0m\u001b[1;33m\u001b[0m\u001b[0m\n\u001b[0m\u001b[0;32m    209\u001b[0m         \u001b[1;32mif\u001b[0m \u001b[0mcallback\u001b[0m\u001b[1;33m:\u001b[0m\u001b[1;33m\u001b[0m\u001b[1;33m\u001b[0m\u001b[0m\n\u001b[0;32m    210\u001b[0m             \u001b[0mcallback\u001b[0m\u001b[1;33m(\u001b[0m\u001b[0mresult\u001b[0m\u001b[1;33m)\u001b[0m\u001b[1;33m\u001b[0m\u001b[1;33m\u001b[0m\u001b[0m\n",
      "\u001b[1;32mc:\\Projects\\EDA GSP\\venv\\lib\\site-packages\\joblib\\_parallel_backends.py\u001b[0m in \u001b[0;36m__init__\u001b[1;34m(self, batch)\u001b[0m\n\u001b[0;32m    595\u001b[0m         \u001b[1;31m# Don't delay the application, to avoid keeping the input\u001b[0m\u001b[1;33m\u001b[0m\u001b[1;33m\u001b[0m\u001b[1;33m\u001b[0m\u001b[0m\n\u001b[0;32m    596\u001b[0m         \u001b[1;31m# arguments in memory\u001b[0m\u001b[1;33m\u001b[0m\u001b[1;33m\u001b[0m\u001b[1;33m\u001b[0m\u001b[0m\n\u001b[1;32m--> 597\u001b[1;33m         \u001b[0mself\u001b[0m\u001b[1;33m.\u001b[0m\u001b[0mresults\u001b[0m \u001b[1;33m=\u001b[0m \u001b[0mbatch\u001b[0m\u001b[1;33m(\u001b[0m\u001b[1;33m)\u001b[0m\u001b[1;33m\u001b[0m\u001b[1;33m\u001b[0m\u001b[0m\n\u001b[0m\u001b[0;32m    598\u001b[0m \u001b[1;33m\u001b[0m\u001b[0m\n\u001b[0;32m    599\u001b[0m     \u001b[1;32mdef\u001b[0m \u001b[0mget\u001b[0m\u001b[1;33m(\u001b[0m\u001b[0mself\u001b[0m\u001b[1;33m)\u001b[0m\u001b[1;33m:\u001b[0m\u001b[1;33m\u001b[0m\u001b[1;33m\u001b[0m\u001b[0m\n",
      "\u001b[1;32mc:\\Projects\\EDA GSP\\venv\\lib\\site-packages\\joblib\\parallel.py\u001b[0m in \u001b[0;36m__call__\u001b[1;34m(self)\u001b[0m\n\u001b[0;32m    286\u001b[0m         \u001b[1;31m# change the default number of processes to -1\u001b[0m\u001b[1;33m\u001b[0m\u001b[1;33m\u001b[0m\u001b[1;33m\u001b[0m\u001b[0m\n\u001b[0;32m    287\u001b[0m         \u001b[1;32mwith\u001b[0m \u001b[0mparallel_backend\u001b[0m\u001b[1;33m(\u001b[0m\u001b[0mself\u001b[0m\u001b[1;33m.\u001b[0m\u001b[0m_backend\u001b[0m\u001b[1;33m,\u001b[0m \u001b[0mn_jobs\u001b[0m\u001b[1;33m=\u001b[0m\u001b[0mself\u001b[0m\u001b[1;33m.\u001b[0m\u001b[0m_n_jobs\u001b[0m\u001b[1;33m)\u001b[0m\u001b[1;33m:\u001b[0m\u001b[1;33m\u001b[0m\u001b[1;33m\u001b[0m\u001b[0m\n\u001b[1;32m--> 288\u001b[1;33m             return [func(*args, **kwargs)\n\u001b[0m\u001b[0;32m    289\u001b[0m                     for func, args, kwargs in self.items]\n\u001b[0;32m    290\u001b[0m \u001b[1;33m\u001b[0m\u001b[0m\n",
      "\u001b[1;32mc:\\Projects\\EDA GSP\\venv\\lib\\site-packages\\joblib\\parallel.py\u001b[0m in \u001b[0;36m<listcomp>\u001b[1;34m(.0)\u001b[0m\n\u001b[0;32m    286\u001b[0m         \u001b[1;31m# change the default number of processes to -1\u001b[0m\u001b[1;33m\u001b[0m\u001b[1;33m\u001b[0m\u001b[1;33m\u001b[0m\u001b[0m\n\u001b[0;32m    287\u001b[0m         \u001b[1;32mwith\u001b[0m \u001b[0mparallel_backend\u001b[0m\u001b[1;33m(\u001b[0m\u001b[0mself\u001b[0m\u001b[1;33m.\u001b[0m\u001b[0m_backend\u001b[0m\u001b[1;33m,\u001b[0m \u001b[0mn_jobs\u001b[0m\u001b[1;33m=\u001b[0m\u001b[0mself\u001b[0m\u001b[1;33m.\u001b[0m\u001b[0m_n_jobs\u001b[0m\u001b[1;33m)\u001b[0m\u001b[1;33m:\u001b[0m\u001b[1;33m\u001b[0m\u001b[1;33m\u001b[0m\u001b[0m\n\u001b[1;32m--> 288\u001b[1;33m             return [func(*args, **kwargs)\n\u001b[0m\u001b[0;32m    289\u001b[0m                     for func, args, kwargs in self.items]\n\u001b[0;32m    290\u001b[0m \u001b[1;33m\u001b[0m\u001b[0m\n",
      "\u001b[1;32mc:\\Projects\\EDA GSP\\venv\\lib\\site-packages\\sklearn\\utils\\parallel.py\u001b[0m in \u001b[0;36m__call__\u001b[1;34m(self, *args, **kwargs)\u001b[0m\n\u001b[0;32m    121\u001b[0m             \u001b[0mconfig\u001b[0m \u001b[1;33m=\u001b[0m \u001b[1;33m{\u001b[0m\u001b[1;33m}\u001b[0m\u001b[1;33m\u001b[0m\u001b[1;33m\u001b[0m\u001b[0m\n\u001b[0;32m    122\u001b[0m         \u001b[1;32mwith\u001b[0m \u001b[0mconfig_context\u001b[0m\u001b[1;33m(\u001b[0m\u001b[1;33m**\u001b[0m\u001b[0mconfig\u001b[0m\u001b[1;33m)\u001b[0m\u001b[1;33m:\u001b[0m\u001b[1;33m\u001b[0m\u001b[1;33m\u001b[0m\u001b[0m\n\u001b[1;32m--> 123\u001b[1;33m             \u001b[1;32mreturn\u001b[0m \u001b[0mself\u001b[0m\u001b[1;33m.\u001b[0m\u001b[0mfunction\u001b[0m\u001b[1;33m(\u001b[0m\u001b[1;33m*\u001b[0m\u001b[0margs\u001b[0m\u001b[1;33m,\u001b[0m \u001b[1;33m**\u001b[0m\u001b[0mkwargs\u001b[0m\u001b[1;33m)\u001b[0m\u001b[1;33m\u001b[0m\u001b[1;33m\u001b[0m\u001b[0m\n\u001b[0m",
      "\u001b[1;32mc:\\Projects\\EDA GSP\\venv\\lib\\site-packages\\sklearn\\model_selection\\_validation.py\u001b[0m in \u001b[0;36m_fit_and_score\u001b[1;34m(estimator, X, y, scorer, train, test, verbose, parameters, fit_params, return_train_score, return_parameters, return_n_test_samples, return_times, return_estimator, split_progress, candidate_progress, error_score)\u001b[0m\n\u001b[0;32m    684\u001b[0m             \u001b[0mestimator\u001b[0m\u001b[1;33m.\u001b[0m\u001b[0mfit\u001b[0m\u001b[1;33m(\u001b[0m\u001b[0mX_train\u001b[0m\u001b[1;33m,\u001b[0m \u001b[1;33m**\u001b[0m\u001b[0mfit_params\u001b[0m\u001b[1;33m)\u001b[0m\u001b[1;33m\u001b[0m\u001b[1;33m\u001b[0m\u001b[0m\n\u001b[0;32m    685\u001b[0m         \u001b[1;32melse\u001b[0m\u001b[1;33m:\u001b[0m\u001b[1;33m\u001b[0m\u001b[1;33m\u001b[0m\u001b[0m\n\u001b[1;32m--> 686\u001b[1;33m             \u001b[0mestimator\u001b[0m\u001b[1;33m.\u001b[0m\u001b[0mfit\u001b[0m\u001b[1;33m(\u001b[0m\u001b[0mX_train\u001b[0m\u001b[1;33m,\u001b[0m \u001b[0my_train\u001b[0m\u001b[1;33m,\u001b[0m \u001b[1;33m**\u001b[0m\u001b[0mfit_params\u001b[0m\u001b[1;33m)\u001b[0m\u001b[1;33m\u001b[0m\u001b[1;33m\u001b[0m\u001b[0m\n\u001b[0m\u001b[0;32m    687\u001b[0m \u001b[1;33m\u001b[0m\u001b[0m\n\u001b[0;32m    688\u001b[0m     \u001b[1;32mexcept\u001b[0m \u001b[0mException\u001b[0m\u001b[1;33m:\u001b[0m\u001b[1;33m\u001b[0m\u001b[1;33m\u001b[0m\u001b[0m\n",
      "\u001b[1;32mc:\\Projects\\EDA GSP\\venv\\lib\\site-packages\\lightgbm\\sklearn.py\u001b[0m in \u001b[0;36mfit\u001b[1;34m(self, X, y, sample_weight, init_score, eval_set, eval_names, eval_sample_weight, eval_class_weight, eval_init_score, eval_metric, early_stopping_rounds, verbose, feature_name, categorical_feature, callbacks, init_model)\u001b[0m\n\u001b[0;32m    965\u001b[0m                     \u001b[0mvalid_sets\u001b[0m\u001b[1;33m[\u001b[0m\u001b[0mi\u001b[0m\u001b[1;33m]\u001b[0m \u001b[1;33m=\u001b[0m \u001b[1;33m(\u001b[0m\u001b[0mvalid_x\u001b[0m\u001b[1;33m,\u001b[0m \u001b[0mself\u001b[0m\u001b[1;33m.\u001b[0m\u001b[0m_le\u001b[0m\u001b[1;33m.\u001b[0m\u001b[0mtransform\u001b[0m\u001b[1;33m(\u001b[0m\u001b[0mvalid_y\u001b[0m\u001b[1;33m)\u001b[0m\u001b[1;33m)\u001b[0m\u001b[1;33m\u001b[0m\u001b[1;33m\u001b[0m\u001b[0m\n\u001b[0;32m    966\u001b[0m \u001b[1;33m\u001b[0m\u001b[0m\n\u001b[1;32m--> 967\u001b[1;33m         super().fit(X, _y, sample_weight=sample_weight, init_score=init_score, eval_set=valid_sets,\n\u001b[0m\u001b[0;32m    968\u001b[0m                     \u001b[0meval_names\u001b[0m\u001b[1;33m=\u001b[0m\u001b[0meval_names\u001b[0m\u001b[1;33m,\u001b[0m \u001b[0meval_sample_weight\u001b[0m\u001b[1;33m=\u001b[0m\u001b[0meval_sample_weight\u001b[0m\u001b[1;33m,\u001b[0m\u001b[1;33m\u001b[0m\u001b[1;33m\u001b[0m\u001b[0m\n\u001b[0;32m    969\u001b[0m                     \u001b[0meval_class_weight\u001b[0m\u001b[1;33m=\u001b[0m\u001b[0meval_class_weight\u001b[0m\u001b[1;33m,\u001b[0m \u001b[0meval_init_score\u001b[0m\u001b[1;33m=\u001b[0m\u001b[0meval_init_score\u001b[0m\u001b[1;33m,\u001b[0m\u001b[1;33m\u001b[0m\u001b[1;33m\u001b[0m\u001b[0m\n",
      "\u001b[1;32mc:\\Projects\\EDA GSP\\venv\\lib\\site-packages\\lightgbm\\sklearn.py\u001b[0m in \u001b[0;36mfit\u001b[1;34m(self, X, y, sample_weight, init_score, group, eval_set, eval_names, eval_sample_weight, eval_class_weight, eval_init_score, eval_group, eval_metric, early_stopping_rounds, verbose, feature_name, categorical_feature, callbacks, init_model)\u001b[0m\n\u001b[0;32m    746\u001b[0m         \u001b[0mcallbacks\u001b[0m\u001b[1;33m.\u001b[0m\u001b[0mappend\u001b[0m\u001b[1;33m(\u001b[0m\u001b[0mrecord_evaluation\u001b[0m\u001b[1;33m(\u001b[0m\u001b[0mevals_result\u001b[0m\u001b[1;33m)\u001b[0m\u001b[1;33m)\u001b[0m\u001b[1;33m\u001b[0m\u001b[1;33m\u001b[0m\u001b[0m\n\u001b[0;32m    747\u001b[0m \u001b[1;33m\u001b[0m\u001b[0m\n\u001b[1;32m--> 748\u001b[1;33m         self._Booster = train(\n\u001b[0m\u001b[0;32m    749\u001b[0m             \u001b[0mparams\u001b[0m\u001b[1;33m=\u001b[0m\u001b[0mparams\u001b[0m\u001b[1;33m,\u001b[0m\u001b[1;33m\u001b[0m\u001b[1;33m\u001b[0m\u001b[0m\n\u001b[0;32m    750\u001b[0m             \u001b[0mtrain_set\u001b[0m\u001b[1;33m=\u001b[0m\u001b[0mtrain_set\u001b[0m\u001b[1;33m,\u001b[0m\u001b[1;33m\u001b[0m\u001b[1;33m\u001b[0m\u001b[0m\n",
      "\u001b[1;32mc:\\Projects\\EDA GSP\\venv\\lib\\site-packages\\lightgbm\\engine.py\u001b[0m in \u001b[0;36mtrain\u001b[1;34m(params, train_set, num_boost_round, valid_sets, valid_names, fobj, feval, init_model, feature_name, categorical_feature, early_stopping_rounds, evals_result, verbose_eval, learning_rates, keep_training_booster, callbacks)\u001b[0m\n\u001b[0;32m    290\u001b[0m                                     evaluation_result_list=None))\n\u001b[0;32m    291\u001b[0m \u001b[1;33m\u001b[0m\u001b[0m\n\u001b[1;32m--> 292\u001b[1;33m         \u001b[0mbooster\u001b[0m\u001b[1;33m.\u001b[0m\u001b[0mupdate\u001b[0m\u001b[1;33m(\u001b[0m\u001b[0mfobj\u001b[0m\u001b[1;33m=\u001b[0m\u001b[0mfobj\u001b[0m\u001b[1;33m)\u001b[0m\u001b[1;33m\u001b[0m\u001b[1;33m\u001b[0m\u001b[0m\n\u001b[0m\u001b[0;32m    293\u001b[0m \u001b[1;33m\u001b[0m\u001b[0m\n\u001b[0;32m    294\u001b[0m         \u001b[0mevaluation_result_list\u001b[0m \u001b[1;33m=\u001b[0m \u001b[1;33m[\u001b[0m\u001b[1;33m]\u001b[0m\u001b[1;33m\u001b[0m\u001b[1;33m\u001b[0m\u001b[0m\n",
      "\u001b[1;32mc:\\Projects\\EDA GSP\\venv\\lib\\site-packages\\lightgbm\\basic.py\u001b[0m in \u001b[0;36mupdate\u001b[1;34m(self, train_set, fobj)\u001b[0m\n\u001b[0;32m   3019\u001b[0m             \u001b[1;32mif\u001b[0m \u001b[0mself\u001b[0m\u001b[1;33m.\u001b[0m\u001b[0m__set_objective_to_none\u001b[0m\u001b[1;33m:\u001b[0m\u001b[1;33m\u001b[0m\u001b[1;33m\u001b[0m\u001b[0m\n\u001b[0;32m   3020\u001b[0m                 \u001b[1;32mraise\u001b[0m \u001b[0mLightGBMError\u001b[0m\u001b[1;33m(\u001b[0m\u001b[1;34m'Cannot update due to null objective function.'\u001b[0m\u001b[1;33m)\u001b[0m\u001b[1;33m\u001b[0m\u001b[1;33m\u001b[0m\u001b[0m\n\u001b[1;32m-> 3021\u001b[1;33m             _safe_call(_LIB.LGBM_BoosterUpdateOneIter(\n\u001b[0m\u001b[0;32m   3022\u001b[0m                 \u001b[0mself\u001b[0m\u001b[1;33m.\u001b[0m\u001b[0mhandle\u001b[0m\u001b[1;33m,\u001b[0m\u001b[1;33m\u001b[0m\u001b[1;33m\u001b[0m\u001b[0m\n\u001b[0;32m   3023\u001b[0m                 ctypes.byref(is_finished)))\n",
      "\u001b[1;31mKeyboardInterrupt\u001b[0m: "
     ]
    }
   ],
   "source": [
    "for q_no in range(1, 19):\n",
    "\n",
    "    # Select level group for the question based on the q_no.\n",
    "    if q_no <= 3: grp = '0-4'\n",
    "    elif q_no <= 13: grp = '5-12'\n",
    "    elif q_no <= 22: grp = '13-22'\n",
    "    print(\"### q_no\", q_no, \"grp\", grp)\n",
    "\n",
    "    # Select the appropriate dataframes based on the group\n",
    "    train_df, valid_df = dataframes[grp]\n",
    "\n",
    "    train_df = train_df[(filtered_importances_df[q_no][filtered_importances_df[1]!=0]).index.values]\n",
    "    valid_df = valid_df[(filtered_importances_df[q_no][filtered_importances_df[1]!=0]).index.values]\n",
    "\n",
    "    # Select the labels for the related q_no.\n",
    "    train_labels = labels.loc[labels.q==q_no].set_index('session').loc[train_df.index]\n",
    "    valid_labels = labels.loc[labels.q==q_no].set_index('session').loc[valid_df.index]\n",
    "\n",
    "    # Create and train the LGBMClassifier model\n",
    "    lgbm = LGBMClassifier()\n",
    "    grid_search = GridSearchCV(lgbm, param_grid, cv=5, scoring='f1')\n",
    "    grid_search.fit(train_df, train_labels['correct'])\n",
    "\n",
    "    best_model = grid_search.best_estimator_\n",
    "    models[f'{grp}_{q_no}'] = best_model\n",
    "\n",
    "    evaluation = f1_score(valid_labels['correct'], best_model.predict(valid_df))\n",
    "    evaluation_dict[q_no] = evaluation\n",
    "\n",
    "    predict = best_model.predict(valid_df)\n",
    "    prediction_df.loc[valid_df.index, q_no - 1] = predict.flatten()\n"
   ]
  },
  {
   "cell_type": "code",
   "execution_count": 34,
   "metadata": {},
   "outputs": [],
   "source": [
    "model_list = [LGBMClassifier(), RandomForestClassifier(), SVC(), LogisticRegression(), GradientBoostingClassifier()]"
   ]
  },
  {
   "cell_type": "code",
   "execution_count": 41,
   "metadata": {},
   "outputs": [
    {
     "data": {
      "text/plain": [
       "100"
      ]
     },
     "execution_count": 41,
     "metadata": {},
     "output_type": "execute_result"
    }
   ],
   "source": [
    "len((filtered_importances_df[4][filtered_importances_df[4]!=0]).index.values)"
   ]
  },
  {
   "cell_type": "code",
   "execution_count": 42,
   "metadata": {},
   "outputs": [
    {
     "data": {
      "text/plain": [
       "elapsed_time_diff_log_10_3       0.006126\n",
       "elapsed_time_diff_log_8_2        0.006060\n",
       "elapsed_time_diff_log_std_6_3    0.003977\n",
       "elapsed_time_diff_log_std_8_2    0.003694\n",
       "elapsed_time_diff_log_7_2        0.003572\n",
       "                                   ...   \n",
       "hover_duration_log_std_22_0      0.000000\n",
       "hover_duration_log_std_21_3      0.000000\n",
       "hover_duration_log_std_21_2      0.000000\n",
       "hover_duration_log_std_21_1      0.000000\n",
       "text_fqid_9_3                    0.000000\n",
       "Name: 4, Length: 2303, dtype: float64"
      ]
     },
     "execution_count": 42,
     "metadata": {},
     "output_type": "execute_result"
    }
   ],
   "source": [
    "filtered_importances_df[4].sort_values(ascending=False)"
   ]
  },
  {
   "cell_type": "code",
   "execution_count": 43,
   "metadata": {},
   "outputs": [
    {
     "name": "stdout",
     "output_type": "stream",
     "text": [
      "### q_no 1 grp 0-4\n"
     ]
    },
    {
     "name": "stderr",
     "output_type": "stream",
     "text": [
      "c:\\Projects\\EDA GSP\\venv\\lib\\site-packages\\sklearn\\linear_model\\_logistic.py:458: ConvergenceWarning: lbfgs failed to converge (status=1):\n",
      "STOP: TOTAL NO. of ITERATIONS REACHED LIMIT.\n",
      "\n",
      "Increase the number of iterations (max_iter) or scale the data as shown in:\n",
      "    https://scikit-learn.org/stable/modules/preprocessing.html\n",
      "Please also refer to the documentation for alternative solver options:\n",
      "    https://scikit-learn.org/stable/modules/linear_model.html#logistic-regression\n",
      "  n_iter_i = _check_optimize_result(\n"
     ]
    },
    {
     "name": "stdout",
     "output_type": "stream",
     "text": [
      "Best model for question 1: GradientBoostingClassifier with f1 score: 0.8496400959744068\n"
     ]
    },
    {
     "data": {
      "image/png": "[encoded data removed]",
      "text/plain": [
       "<Figure size 864x432 with 1 Axes>"
      ]
     },
     "metadata": {
      "needs_background": "light"
     },
     "output_type": "display_data"
    },
    {
     "name": "stdout",
     "output_type": "stream",
     "text": [
      "### q_no 2 grp 0-4\n"
     ]
    },
    {
     "name": "stderr",
     "output_type": "stream",
     "text": [
      "c:\\Projects\\EDA GSP\\venv\\lib\\site-packages\\sklearn\\linear_model\\_logistic.py:458: ConvergenceWarning: lbfgs failed to converge (status=1):\n",
      "STOP: TOTAL NO. of ITERATIONS REACHED LIMIT.\n",
      "\n",
      "Increase the number of iterations (max_iter) or scale the data as shown in:\n",
      "    https://scikit-learn.org/stable/modules/preprocessing.html\n",
      "Please also refer to the documentation for alternative solver options:\n",
      "    https://scikit-learn.org/stable/modules/linear_model.html#logistic-regression\n",
      "  n_iter_i = _check_optimize_result(\n"
     ]
    },
    {
     "name": "stdout",
     "output_type": "stream",
     "text": [
      "Best model for question 2: RandomForestClassifier with f1 score: 0.988201565773514\n"
     ]
    },
    {
     "data": {
      "image/png": "[encoded data removed]",
      "text/plain": [
       "<Figure size 864x432 with 1 Axes>"
      ]
     },
     "metadata": {
      "needs_background": "light"
     },
     "output_type": "display_data"
    },
    {
     "name": "stdout",
     "output_type": "stream",
     "text": [
      "### q_no 3 grp 0-4\n"
     ]
    },
    {
     "name": "stderr",
     "output_type": "stream",
     "text": [
      "c:\\Projects\\EDA GSP\\venv\\lib\\site-packages\\sklearn\\linear_model\\_logistic.py:458: ConvergenceWarning: lbfgs failed to converge (status=1):\n",
      "STOP: TOTAL NO. of ITERATIONS REACHED LIMIT.\n",
      "\n",
      "Increase the number of iterations (max_iter) or scale the data as shown in:\n",
      "    https://scikit-learn.org/stable/modules/preprocessing.html\n",
      "Please also refer to the documentation for alternative solver options:\n",
      "    https://scikit-learn.org/stable/modules/linear_model.html#logistic-regression\n",
      "  n_iter_i = _check_optimize_result(\n"
     ]
    },
    {
     "name": "stdout",
     "output_type": "stream",
     "text": [
      "Best model for question 3: SVC with f1 score: 0.9670156478667117\n"
     ]
    },
    {
     "data": {
      "image/png": "[encoded data removed]",
      "text/plain": [
       "<Figure size 864x432 with 1 Axes>"
      ]
     },
     "metadata": {
      "needs_background": "light"
     },
     "output_type": "display_data"
    },
    {
     "name": "stdout",
     "output_type": "stream",
     "text": [
      "### q_no 4 grp 5-12\n"
     ]
    },
    {
     "name": "stderr",
     "output_type": "stream",
     "text": [
      "c:\\Projects\\EDA GSP\\venv\\lib\\site-packages\\sklearn\\linear_model\\_logistic.py:458: ConvergenceWarning: lbfgs failed to converge (status=1):\n",
      "STOP: TOTAL NO. of ITERATIONS REACHED LIMIT.\n",
      "\n",
      "Increase the number of iterations (max_iter) or scale the data as shown in:\n",
      "    https://scikit-learn.org/stable/modules/preprocessing.html\n",
      "Please also refer to the documentation for alternative solver options:\n",
      "    https://scikit-learn.org/stable/modules/linear_model.html#logistic-regression\n",
      "  n_iter_i = _check_optimize_result(\n"
     ]
    },
    {
     "name": "stdout",
     "output_type": "stream",
     "text": [
      "Best model for question 4: RandomForestClassifier with f1 score: 0.8990390615250218\n"
     ]
    },
    {
     "data": {
      "image/png": "[encoded data removed]",
      "text/plain": [
       "<Figure size 864x432 with 1 Axes>"
      ]
     },
     "metadata": {
      "needs_background": "light"
     },
     "output_type": "display_data"
    },
    {
     "name": "stdout",
     "output_type": "stream",
     "text": [
      "### q_no 5 grp 5-12\n"
     ]
    },
    {
     "name": "stderr",
     "output_type": "stream",
     "text": [
      "c:\\Projects\\EDA GSP\\venv\\lib\\site-packages\\sklearn\\linear_model\\_logistic.py:458: ConvergenceWarning: lbfgs failed to converge (status=1):\n",
      "STOP: TOTAL NO. of ITERATIONS REACHED LIMIT.\n",
      "\n",
      "Increase the number of iterations (max_iter) or scale the data as shown in:\n",
      "    https://scikit-learn.org/stable/modules/preprocessing.html\n",
      "Please also refer to the documentation for alternative solver options:\n",
      "    https://scikit-learn.org/stable/modules/linear_model.html#logistic-regression\n",
      "  n_iter_i = _check_optimize_result(\n"
     ]
    },
    {
     "name": "stdout",
     "output_type": "stream",
     "text": [
      "Best model for question 5: SVC with f1 score: 0.6991316192746467\n"
     ]
    },
    {
     "data": {
      "image/png": "[encoded data removed]",
      "text/plain": [
       "<Figure size 864x432 with 1 Axes>"
      ]
     },
     "metadata": {
      "needs_background": "light"
     },
     "output_type": "display_data"
    },
    {
     "name": "stdout",
     "output_type": "stream",
     "text": [
      "### q_no 6 grp 5-12\n"
     ]
    },
    {
     "name": "stderr",
     "output_type": "stream",
     "text": [
      "c:\\Projects\\EDA GSP\\venv\\lib\\site-packages\\sklearn\\linear_model\\_logistic.py:458: ConvergenceWarning: lbfgs failed to converge (status=1):\n",
      "STOP: TOTAL NO. of ITERATIONS REACHED LIMIT.\n",
      "\n",
      "Increase the number of iterations (max_iter) or scale the data as shown in:\n",
      "    https://scikit-learn.org/stable/modules/preprocessing.html\n",
      "Please also refer to the documentation for alternative solver options:\n",
      "    https://scikit-learn.org/stable/modules/linear_model.html#logistic-regression\n",
      "  n_iter_i = _check_optimize_result(\n"
     ]
    },
    {
     "name": "stdout",
     "output_type": "stream",
     "text": [
      "Best model for question 6: GradientBoostingClassifier with f1 score: 0.885064690365532\n"
     ]
    },
    {
     "data": {
      "image/png": "[encoded data removed]",
      "text/plain": [
       "<Figure size 864x432 with 1 Axes>"
      ]
     },
     "metadata": {
      "needs_background": "light"
     },
     "output_type": "display_data"
    },
    {
     "name": "stdout",
     "output_type": "stream",
     "text": [
      "### q_no 7 grp 5-12\n"
     ]
    },
    {
     "name": "stderr",
     "output_type": "stream",
     "text": [
      "c:\\Projects\\EDA GSP\\venv\\lib\\site-packages\\sklearn\\linear_model\\_logistic.py:458: ConvergenceWarning: lbfgs failed to converge (status=1):\n",
      "STOP: TOTAL NO. of ITERATIONS REACHED LIMIT.\n",
      "\n",
      "Increase the number of iterations (max_iter) or scale the data as shown in:\n",
      "    https://scikit-learn.org/stable/modules/preprocessing.html\n",
      "Please also refer to the documentation for alternative solver options:\n",
      "    https://scikit-learn.org/stable/modules/linear_model.html#logistic-regression\n",
      "  n_iter_i = _check_optimize_result(\n"
     ]
    },
    {
     "name": "stdout",
     "output_type": "stream",
     "text": [
      "Best model for question 7: SVC with f1 score: 0.8442932728647013\n"
     ]
    },
    {
     "data": {
      "image/png": "[encoded data removed]",
      "text/plain": [
       "<Figure size 864x432 with 1 Axes>"
      ]
     },
     "metadata": {
      "needs_background": "light"
     },
     "output_type": "display_data"
    },
    {
     "name": "stdout",
     "output_type": "stream",
     "text": [
      "### q_no 8 grp 5-12\n"
     ]
    },
    {
     "name": "stderr",
     "output_type": "stream",
     "text": [
      "c:\\Projects\\EDA GSP\\venv\\lib\\site-packages\\sklearn\\linear_model\\_logistic.py:458: ConvergenceWarning: lbfgs failed to converge (status=1):\n",
      "STOP: TOTAL NO. of ITERATIONS REACHED LIMIT.\n",
      "\n",
      "Increase the number of iterations (max_iter) or scale the data as shown in:\n",
      "    https://scikit-learn.org/stable/modules/preprocessing.html\n",
      "Please also refer to the documentation for alternative solver options:\n",
      "    https://scikit-learn.org/stable/modules/linear_model.html#logistic-regression\n",
      "  n_iter_i = _check_optimize_result(\n"
     ]
    },
    {
     "name": "stdout",
     "output_type": "stream",
     "text": [
      "Best model for question 8: SVC with f1 score: 0.7601406165494863\n"
     ]
    },
    {
     "data": {
      "image/png": "[encoded data removed]",
      "text/plain": [
       "<Figure size 864x432 with 1 Axes>"
      ]
     },
     "metadata": {
      "needs_background": "light"
     },
     "output_type": "display_data"
    },
    {
     "name": "stdout",
     "output_type": "stream",
     "text": [
      "### q_no 9 grp 5-12\n"
     ]
    },
    {
     "name": "stderr",
     "output_type": "stream",
     "text": [
      "c:\\Projects\\EDA GSP\\venv\\lib\\site-packages\\sklearn\\linear_model\\_logistic.py:458: ConvergenceWarning: lbfgs failed to converge (status=1):\n",
      "STOP: TOTAL NO. of ITERATIONS REACHED LIMIT.\n",
      "\n",
      "Increase the number of iterations (max_iter) or scale the data as shown in:\n",
      "    https://scikit-learn.org/stable/modules/preprocessing.html\n",
      "Please also refer to the documentation for alternative solver options:\n",
      "    https://scikit-learn.org/stable/modules/linear_model.html#logistic-regression\n",
      "  n_iter_i = _check_optimize_result(\n"
     ]
    },
    {
     "name": "stdout",
     "output_type": "stream",
     "text": [
      "Best model for question 9: SVC with f1 score: 0.847526255852208\n"
     ]
    },
    {
     "data": {
      "image/png": "[encoded data removed]",
      "text/plain": [
       "<Figure size 864x432 with 1 Axes>"
      ]
     },
     "metadata": {
      "needs_background": "light"
     },
     "output_type": "display_data"
    },
    {
     "name": "stdout",
     "output_type": "stream",
     "text": [
      "### q_no 10 grp 5-12\n"
     ]
    },
    {
     "name": "stderr",
     "output_type": "stream",
     "text": [
      "c:\\Projects\\EDA GSP\\venv\\lib\\site-packages\\sklearn\\linear_model\\_logistic.py:458: ConvergenceWarning: lbfgs failed to converge (status=1):\n",
      "STOP: TOTAL NO. of ITERATIONS REACHED LIMIT.\n",
      "\n",
      "Increase the number of iterations (max_iter) or scale the data as shown in:\n",
      "    https://scikit-learn.org/stable/modules/preprocessing.html\n",
      "Please also refer to the documentation for alternative solver options:\n",
      "    https://scikit-learn.org/stable/modules/linear_model.html#logistic-regression\n",
      "  n_iter_i = _check_optimize_result(\n"
     ]
    },
    {
     "name": "stdout",
     "output_type": "stream",
     "text": [
      "Best model for question 10: GradientBoostingClassifier with f1 score: 0.6443309499489274\n"
     ]
    },
    {
     "data": {
      "image/png": "[encoded data removed]",
      "text/plain": [
       "<Figure size 864x432 with 1 Axes>"
      ]
     },
     "metadata": {
      "needs_background": "light"
     },
     "output_type": "display_data"
    },
    {
     "name": "stdout",
     "output_type": "stream",
     "text": [
      "### q_no 11 grp 5-12\n"
     ]
    },
    {
     "name": "stderr",
     "output_type": "stream",
     "text": [
      "c:\\Projects\\EDA GSP\\venv\\lib\\site-packages\\sklearn\\linear_model\\_logistic.py:458: ConvergenceWarning: lbfgs failed to converge (status=1):\n",
      "STOP: TOTAL NO. of ITERATIONS REACHED LIMIT.\n",
      "\n",
      "Increase the number of iterations (max_iter) or scale the data as shown in:\n",
      "    https://scikit-learn.org/stable/modules/preprocessing.html\n",
      "Please also refer to the documentation for alternative solver options:\n",
      "    https://scikit-learn.org/stable/modules/linear_model.html#logistic-regression\n",
      "  n_iter_i = _check_optimize_result(\n"
     ]
    },
    {
     "name": "stdout",
     "output_type": "stream",
     "text": [
      "Best model for question 11: SVC with f1 score: 0.7814551788824868\n"
     ]
    },
    {
     "data": {
      "image/png": "[encoded data removed]",
      "text/plain": [
       "<Figure size 864x432 with 1 Axes>"
      ]
     },
     "metadata": {
      "needs_background": "light"
     },
     "output_type": "display_data"
    },
    {
     "name": "stdout",
     "output_type": "stream",
     "text": [
      "### q_no 12 grp 5-12\n"
     ]
    },
    {
     "name": "stderr",
     "output_type": "stream",
     "text": [
      "c:\\Projects\\EDA GSP\\venv\\lib\\site-packages\\sklearn\\linear_model\\_logistic.py:458: ConvergenceWarning: lbfgs failed to converge (status=1):\n",
      "STOP: TOTAL NO. of ITERATIONS REACHED LIMIT.\n",
      "\n",
      "Increase the number of iterations (max_iter) or scale the data as shown in:\n",
      "    https://scikit-learn.org/stable/modules/preprocessing.html\n",
      "Please also refer to the documentation for alternative solver options:\n",
      "    https://scikit-learn.org/stable/modules/linear_model.html#logistic-regression\n",
      "  n_iter_i = _check_optimize_result(\n"
     ]
    },
    {
     "name": "stdout",
     "output_type": "stream",
     "text": [
      "Best model for question 12: SVC with f1 score: 0.9296628951358917\n"
     ]
    },
    {
     "data": {
      "image/png": "[encoded data removed]",
      "text/plain": [
       "<Figure size 864x432 with 1 Axes>"
      ]
     },
     "metadata": {
      "needs_background": "light"
     },
     "output_type": "display_data"
    },
    {
     "name": "stdout",
     "output_type": "stream",
     "text": [
      "### q_no 13 grp 5-12\n"
     ]
    },
    {
     "name": "stderr",
     "output_type": "stream",
     "text": [
      "c:\\Projects\\EDA GSP\\venv\\lib\\site-packages\\sklearn\\linear_model\\_logistic.py:458: ConvergenceWarning: lbfgs failed to converge (status=1):\n",
      "STOP: TOTAL NO. of ITERATIONS REACHED LIMIT.\n",
      "\n",
      "Increase the number of iterations (max_iter) or scale the data as shown in:\n",
      "    https://scikit-learn.org/stable/modules/preprocessing.html\n",
      "Please also refer to the documentation for alternative solver options:\n",
      "    https://scikit-learn.org/stable/modules/linear_model.html#logistic-regression\n",
      "  n_iter_i = _check_optimize_result(\n"
     ]
    },
    {
     "name": "stdout",
     "output_type": "stream",
     "text": [
      "Best model for question 13: LGBMClassifier with f1 score: 0.2340686274509804\n"
     ]
    },
    {
     "data": {
      "image/png": "[encoded data removed]",
      "text/plain": [
       "<Figure size 864x432 with 1 Axes>"
      ]
     },
     "metadata": {
      "needs_background": "light"
     },
     "output_type": "display_data"
    },
    {
     "name": "stdout",
     "output_type": "stream",
     "text": [
      "### q_no 14 grp 13-22\n"
     ]
    },
    {
     "name": "stderr",
     "output_type": "stream",
     "text": [
      "c:\\Projects\\EDA GSP\\venv\\lib\\site-packages\\sklearn\\linear_model\\_logistic.py:458: ConvergenceWarning: lbfgs failed to converge (status=1):\n",
      "STOP: TOTAL NO. of ITERATIONS REACHED LIMIT.\n",
      "\n",
      "Increase the number of iterations (max_iter) or scale the data as shown in:\n",
      "    https://scikit-learn.org/stable/modules/preprocessing.html\n",
      "Please also refer to the documentation for alternative solver options:\n",
      "    https://scikit-learn.org/stable/modules/linear_model.html#logistic-regression\n",
      "  n_iter_i = _check_optimize_result(\n"
     ]
    },
    {
     "name": "stdout",
     "output_type": "stream",
     "text": [
      "Best model for question 14: LogisticRegression with f1 score: 0.8356782585611892\n"
     ]
    },
    {
     "data": {
      "image/png": "[encoded data removed]",
      "text/plain": [
       "<Figure size 864x432 with 1 Axes>"
      ]
     },
     "metadata": {
      "needs_background": "light"
     },
     "output_type": "display_data"
    },
    {
     "name": "stdout",
     "output_type": "stream",
     "text": [
      "### q_no 15 grp 13-22\n"
     ]
    },
    {
     "name": "stderr",
     "output_type": "stream",
     "text": [
      "c:\\Projects\\EDA GSP\\venv\\lib\\site-packages\\sklearn\\linear_model\\_logistic.py:458: ConvergenceWarning: lbfgs failed to converge (status=1):\n",
      "STOP: TOTAL NO. of ITERATIONS REACHED LIMIT.\n",
      "\n",
      "Increase the number of iterations (max_iter) or scale the data as shown in:\n",
      "    https://scikit-learn.org/stable/modules/preprocessing.html\n",
      "Please also refer to the documentation for alternative solver options:\n",
      "    https://scikit-learn.org/stable/modules/linear_model.html#logistic-regression\n",
      "  n_iter_i = _check_optimize_result(\n"
     ]
    },
    {
     "name": "stdout",
     "output_type": "stream",
     "text": [
      "Best model for question 15: GradientBoostingClassifier with f1 score: 0.6482818997592471\n"
     ]
    },
    {
     "data": {
      "image/png": "[encoded data removed]",
      "text/plain": [
       "<Figure size 864x432 with 1 Axes>"
      ]
     },
     "metadata": {
      "needs_background": "light"
     },
     "output_type": "display_data"
    },
    {
     "name": "stdout",
     "output_type": "stream",
     "text": [
      "### q_no 16 grp 13-22\n"
     ]
    },
    {
     "name": "stderr",
     "output_type": "stream",
     "text": [
      "c:\\Projects\\EDA GSP\\venv\\lib\\site-packages\\sklearn\\linear_model\\_logistic.py:458: ConvergenceWarning: lbfgs failed to converge (status=1):\n",
      "STOP: TOTAL NO. of ITERATIONS REACHED LIMIT.\n",
      "\n",
      "Increase the number of iterations (max_iter) or scale the data as shown in:\n",
      "    https://scikit-learn.org/stable/modules/preprocessing.html\n",
      "Please also refer to the documentation for alternative solver options:\n",
      "    https://scikit-learn.org/stable/modules/linear_model.html#logistic-regression\n",
      "  n_iter_i = _check_optimize_result(\n"
     ]
    },
    {
     "name": "stdout",
     "output_type": "stream",
     "text": [
      "Best model for question 16: SVC with f1 score: 0.8521391043282462\n"
     ]
    },
    {
     "data": {
      "image/png": "[encoded data removed]",
      "text/plain": [
       "<Figure size 864x432 with 1 Axes>"
      ]
     },
     "metadata": {
      "needs_background": "light"
     },
     "output_type": "display_data"
    },
    {
     "name": "stdout",
     "output_type": "stream",
     "text": [
      "### q_no 17 grp 13-22\n"
     ]
    },
    {
     "name": "stderr",
     "output_type": "stream",
     "text": [
      "c:\\Projects\\EDA GSP\\venv\\lib\\site-packages\\sklearn\\linear_model\\_logistic.py:458: ConvergenceWarning: lbfgs failed to converge (status=1):\n",
      "STOP: TOTAL NO. of ITERATIONS REACHED LIMIT.\n",
      "\n",
      "Increase the number of iterations (max_iter) or scale the data as shown in:\n",
      "    https://scikit-learn.org/stable/modules/preprocessing.html\n",
      "Please also refer to the documentation for alternative solver options:\n",
      "    https://scikit-learn.org/stable/modules/linear_model.html#logistic-regression\n",
      "  n_iter_i = _check_optimize_result(\n"
     ]
    },
    {
     "name": "stdout",
     "output_type": "stream",
     "text": [
      "Best model for question 17: SVC with f1 score: 0.8147765435288039\n"
     ]
    },
    {
     "data": {
      "image/png": "[encoded data removed]",
      "text/plain": [
       "<Figure size 864x432 with 1 Axes>"
      ]
     },
     "metadata": {
      "needs_background": "light"
     },
     "output_type": "display_data"
    },
    {
     "name": "stdout",
     "output_type": "stream",
     "text": [
      "### q_no 18 grp 13-22\n"
     ]
    },
    {
     "name": "stderr",
     "output_type": "stream",
     "text": [
      "c:\\Projects\\EDA GSP\\venv\\lib\\site-packages\\sklearn\\linear_model\\_logistic.py:458: ConvergenceWarning: lbfgs failed to converge (status=1):\n",
      "STOP: TOTAL NO. of ITERATIONS REACHED LIMIT.\n",
      "\n",
      "Increase the number of iterations (max_iter) or scale the data as shown in:\n",
      "    https://scikit-learn.org/stable/modules/preprocessing.html\n",
      "Please also refer to the documentation for alternative solver options:\n",
      "    https://scikit-learn.org/stable/modules/linear_model.html#logistic-regression\n",
      "  n_iter_i = _check_optimize_result(\n"
     ]
    },
    {
     "name": "stdout",
     "output_type": "stream",
     "text": [
      "Best model for question 18: RandomForestClassifier with f1 score: 0.9752066115702479\n"
     ]
    },
    {
     "data": {
      "image/png": "[encoded data removed]",
      "text/plain": [
       "<Figure size 864x432 with 1 Axes>"
      ]
     },
     "metadata": {
      "needs_background": "light"
     },
     "output_type": "display_data"
    }
   ],
   "source": [
    "for q_no in range(1, 19):\n",
    "\n",
    "    # Select level group for the question based on the q_no.\n",
    "    if q_no <= 3: grp = '0-4'\n",
    "    elif q_no <= 13: grp = '5-12'\n",
    "    elif q_no <= 22: grp = '13-22'\n",
    "    print(\"### q_no\", q_no, \"grp\", grp)\n",
    "\n",
    "    # Select the appropriate dataframes based on the group\n",
    "    train_df, valid_df = dataframes[grp]\n",
    "\n",
    "    train_df = train_df[(filtered_importances_df[q_no][filtered_importances_df[q_no]!=0]).index.values]\n",
    "    valid_df = valid_df[(filtered_importances_df[q_no][filtered_importances_df[q_no]!=0]).index.values]\n",
    "\n",
    "    # Select the labels for the related q_no.\n",
    "    train_labels = labels.loc[labels.q==q_no].set_index('session').loc[train_df.index]\n",
    "    valid_df_labels = labels.loc[labels.q==q_no].set_index('session').loc[valid_df.index]\n",
    "\n",
    "    max_score = -1\n",
    "    best_model = None\n",
    "    train_scores = []\n",
    "    valid_scores = []\n",
    "\n",
    "    for model in model_list:\n",
    "        # Fit model on training data\n",
    "        model.fit(train_df, train_labels['correct'])\n",
    "\n",
    "        # Evaluate model on training data and validation data\n",
    "        train_score = f1_score(train_labels['correct'], model.predict(train_df))\n",
    "        valid_score = f1_score(valid_df_labels['correct'], model.predict(valid_df))\n",
    "\n",
    "        # Store scores\n",
    "        train_scores.append(train_score)\n",
    "        valid_scores.append(valid_score)\n",
    "\n",
    "        if valid_score > max_score:\n",
    "            max_score = valid_score\n",
    "            best_model = model\n",
    "            models[f'{grp}_{q_no}'] = best_model\n",
    "\n",
    "    print(f'Best model for question {q_no}: {type(best_model).__name__} with f1 score: {max_score}')\n",
    "\n",
    "    prediction = best_model.predict(valid_df)\n",
    "    prediction_df.loc[valid_df.index, q_no - 1] = prediction.flatten()\n",
    "\n",
    "    # Plot training vs validation scores\n",
    "    model_names = [type(model).__name__ for model in model_list]\n",
    "    plt.figure(figsize=(12, 6))\n",
    "    plt.plot(model_names, train_scores, 'o-', label='Training score')\n",
    "    plt.plot(model_names, valid_scores, 'o-', label='Validation score')\n",
    "    plt.title(f'Question {q_no} Training vs Validation F1 Scores')\n",
    "    plt.xlabel('Model')\n",
    "    plt.ylabel('F1 Score')\n",
    "    plt.legend()\n",
    "    plt.grid(True)\n",
    "    plt.show()\n"
   ]
  },
  {
   "cell_type": "code",
   "execution_count": 100,
   "metadata": {},
   "outputs": [],
   "source": [
    "model_list_2 = [LGBMClassifier(), RandomForestClassifier(), SVC(), LogisticRegression(), GradientBoostingClassifier()]"
   ]
  },
  {
   "cell_type": "code",
   "execution_count": null,
   "metadata": {},
   "outputs": [],
   "source": [
    "for q_no in range(1, 19):\n",
    "\n",
    "    # Select level group for the question based on the q_no.\n",
    "    if q_no <= 3: grp = '0-4'\n",
    "    elif q_no <= 13: grp = '5-12'\n",
    "    elif q_no <= 22: grp = '13-22'\n",
    "    print(\"### q_no\", q_no, \"grp\", grp)\n",
    "\n",
    "    # Select the appropriate dataframes based on the group\n",
    "    train_df, valid_df = dataframes[grp]\n",
    "\n",
    "    train_df = train_df[(filtered_importances_df[q_no][filtered_importances_df[q_no]!=0]).index.values]\n",
    "    valid_df = valid_df[(filtered_importances_df[q_no][filtered_importances_df[q_no]!=0]).index.values]\n",
    "\n",
    "    # Select the labels for the related q_no.\n",
    "    train_labels = labels.loc[labels.q==q_no].set_index('session').loc[train_df.index]\n",
    "    valid_df_labels = labels.loc[labels.q==q_no].set_index('session').loc[valid_df.index]\n",
    "\n",
    "    scaler = StandardScaler()\n",
    "    train_df = scaler.fit_transform(train_df)\n",
    "    valid_df = scaler.transform(valid_df)\n",
    "\n",
    "    max_score = -1\n",
    "    best_model = None\n",
    "    train_scores_2 = []\n",
    "    valid_scores_2 = []\n",
    "\n",
    "    for model in model_list_2:\n",
    "        # Fit model on training data\n",
    "        model.fit(train_df, train_labels['correct'])\n",
    "\n",
    "        # Evaluate model on training data and validation data\n",
    "        train_score = f1_score(train_labels['correct'], model.predict(train_df))\n",
    "        valid_score = f1_score(valid_df_labels['correct'], model.predict(valid_df))\n",
    "\n",
    "        # Store scores\n",
    "        train_scores_2.append(train_score)\n",
    "        valid_scores_2.append(valid_score)\n",
    "\n",
    "        if valid_score > max_score:\n",
    "            max_score = valid_score\n",
    "            best_model = model\n",
    "            models[f'{grp}_{q_no}'] = best_model\n",
    "\n",
    "    print(f'Best model for question {q_no}: {type(best_model).__name__} with f1 score: {max_score}')\n",
    "\n",
    "    prediction = best_model.predict(valid_df)\n",
    "    prediction_df.loc[valid_df.index, q_no - 1] = prediction.flatten()\n",
    "\n",
    "    # Plot training vs validation scores\n",
    "    model_names = [type(model).__name__ for model in model_list_2]\n",
    "    plt.figure(figsize=(12, 6))\n",
    "    plt.plot(model_names, train_scores_2, 'o-', label='Training score')\n",
    "    plt.plot(model_names, valid_scores_2, 'o-', label='Validation score')\n",
    "    plt.title(f'Question {q_no} Training vs Validation F1 Scores')\n",
    "    plt.xlabel('Model')\n",
    "    plt.ylabel('F1 Score')\n",
    "    plt.legend()\n",
    "    plt.grid(True)\n",
    "    plt.show()\n"
   ]
  },
  {
   "cell_type": "code",
   "execution_count": 44,
   "metadata": {},
   "outputs": [
    {
     "data": {
      "text/plain": [
       "{'0-4_1': GradientBoostingClassifier(),\n",
       " '0-4_2': RandomForestClassifier(),\n",
       " '0-4_3': SVC(),\n",
       " '5-12_4': RandomForestClassifier(),\n",
       " '5-12_5': SVC(),\n",
       " '5-12_6': GradientBoostingClassifier(),\n",
       " '5-12_7': SVC(),\n",
       " '5-12_8': SVC(),\n",
       " '5-12_9': SVC(),\n",
       " '5-12_10': GradientBoostingClassifier(),\n",
       " '5-12_11': SVC(),\n",
       " '5-12_12': SVC(),\n",
       " '5-12_13': LGBMClassifier(),\n",
       " '13-22_14': LogisticRegression(),\n",
       " '13-22_15': GradientBoostingClassifier(),\n",
       " '13-22_16': SVC(),\n",
       " '13-22_17': SVC(),\n",
       " '13-22_18': RandomForestClassifier()}"
      ]
     },
     "execution_count": 44,
     "metadata": {},
     "output_type": "execute_result"
    }
   ],
   "source": [
    "models"
   ]
  },
  {
   "cell_type": "code",
   "execution_count": 28,
   "metadata": {},
   "outputs": [],
   "source": [
    "models_2 = {}"
   ]
  },
  {
   "cell_type": "code",
   "execution_count": null,
   "metadata": {},
   "outputs": [],
   "source": [
    "# Definir los valores de los hiperparámetros para buscar\n",
    "param_grid = {'C': [0.1, 1, 10], 'kernel': ['linear', 'rbf']}\n",
    "\n",
    "f1_scores = []  # Aquí almacenaremos todos los f1_score\n",
    "\n",
    "for q_no in range(1, 19):\n",
    "\n",
    "    # Select level group for the question based on the q_no.\n",
    "    if q_no <= 3: grp = '0-4'\n",
    "    elif q_no <= 13: grp = '5-12'\n",
    "    elif q_no <= 22: grp = '13-22'\n",
    "    print(\"### q_no\", q_no, \"grp\", grp)\n",
    "\n",
    "    # Select the appropriate dataframes based on the group\n",
    "    train_df, valid_df = dataframes[grp]\n",
    "\n",
    "    train_df = train_df[(filtered_importances_df[q_no][filtered_importances_df[q_no]!=0]).index.values]\n",
    "    valid_df = valid_df[(filtered_importances_df[q_no][filtered_importances_df[q_no]!=0]).index.values]\n",
    "\n",
    "    # Select the labels for the related q_no.\n",
    "    train_labels = labels.loc[labels.q==q_no].set_index('session').loc[train_df.index]\n",
    "    valid_df_labels = labels.loc[labels.q==q_no].set_index('session').loc[valid_df.index]\n",
    "\n",
    "    # Creamos el modelo SVC\n",
    "    svc = SVC()\n",
    "\n",
    "    # Aplicamos GridSearchCV\n",
    "    grid_search = GridSearchCV(svc, param_grid, cv=5, scoring='f1', n_jobs=-1)\n",
    "    grid_search.fit(train_df, train_labels['correct'])\n",
    "\n",
    "    # Obtenemos el mejor modelo\n",
    "    best_model = grid_search.best_estimator_\n",
    "\n",
    "    # Evaluamos el mejor modelo en los datos de validación\n",
    "    valid_score = f1_score(valid_df_labels['correct'], best_model.predict(valid_df))\n",
    "\n",
    "    # Almacenamos el mejor modelo\n",
    "    models_2[f'{grp}_{q_no}'] = best_model\n",
    "\n",
    "    # Almacenamos el f1_score\n",
    "    f1_scores.append(valid_score)\n",
    "\n",
    "    print(f'Best model for question {q_no}: SVC with parameters {grid_search.best_params_} and f1 score: {valid_score}')\n",
    "\n",
    "    prediction = models_2[f'{grp}_{q_no}'].predict(valid_df)\n",
    "    prediction_df.loc[valid_df.index, q_no - 1] = prediction.flatten()\n",
    "\n",
    "# Calculamos la media de los f1_score\n",
    "print('F1 Score medio: ', np.mean(f1_scores))"
   ]
  },
  {
   "cell_type": "code",
   "execution_count": 29,
   "metadata": {},
   "outputs": [
    {
     "name": "stdout",
     "output_type": "stream",
     "text": [
      "### q_no 1 grp 0-4\n",
      "Best model for question 1: SVC with f1 score: 0.843895678467935\n",
      "### q_no 2 grp 0-4\n",
      "Best model for question 2: SVC with f1 score: 0.988201565773514\n",
      "### q_no 3 grp 0-4\n",
      "Best model for question 3: SVC with f1 score: 0.9670156478667117\n",
      "### q_no 4 grp 5-12\n",
      "Best model for question 4: SVC with f1 score: 0.8922403308197518\n",
      "### q_no 5 grp 5-12\n",
      "Best model for question 5: SVC with f1 score: 0.6991316192746467\n",
      "### q_no 6 grp 5-12\n",
      "Best model for question 6: SVC with f1 score: 0.882691131498471\n",
      "### q_no 7 grp 5-12\n",
      "Best model for question 7: SVC with f1 score: 0.8442932728647013\n",
      "### q_no 8 grp 5-12\n",
      "Best model for question 8: SVC with f1 score: 0.7601406165494863\n",
      "### q_no 9 grp 5-12\n",
      "Best model for question 9: SVC with f1 score: 0.847526255852208\n",
      "### q_no 10 grp 5-12\n",
      "Best model for question 10: SVC with f1 score: 0.6270588235294117\n",
      "### q_no 11 grp 5-12\n",
      "Best model for question 11: SVC with f1 score: 0.7814551788824868\n",
      "### q_no 12 grp 5-12\n",
      "Best model for question 12: SVC with f1 score: 0.9296628951358917\n",
      "### q_no 13 grp 5-12\n",
      "Best model for question 13: SVC with f1 score: 0.0\n",
      "### q_no 14 grp 13-22\n",
      "Best model for question 14: SVC with f1 score: 0.8348965694462289\n",
      "### q_no 15 grp 13-22\n",
      "Best model for question 15: SVC with f1 score: 0.6175782081293892\n",
      "### q_no 16 grp 13-22\n",
      "Best model for question 16: SVC with f1 score: 0.8521391043282462\n",
      "### q_no 17 grp 13-22\n",
      "Best model for question 17: SVC with f1 score: 0.8147765435288039\n",
      "### q_no 18 grp 13-22\n",
      "Best model for question 18: SVC with f1 score: 0.9752066115702479\n",
      "F1 Score medio:  0.7865505585287852\n"
     ]
    }
   ],
   "source": [
    "# Definir los valores de los hiperparámetros para buscar\n",
    "\n",
    "f1_scores = []  # Aquí almacenaremos todos los f1_score\n",
    "\n",
    "for q_no in range(1, 19):\n",
    "\n",
    "    # Select level group for the question based on the q_no.\n",
    "    if q_no <= 3: grp = '0-4'\n",
    "    elif q_no <= 13: grp = '5-12'\n",
    "    elif q_no <= 22: grp = '13-22'\n",
    "    print(\"### q_no\", q_no, \"grp\", grp)\n",
    "\n",
    "    # Select the appropriate dataframes based on the group\n",
    "    train_df, valid_df = dataframes[grp]\n",
    "\n",
    "    train_df = train_df[(filtered_importances_df[q_no][filtered_importances_df[q_no]!=0]).index.values]\n",
    "    valid_df = valid_df[(filtered_importances_df[q_no][filtered_importances_df[q_no]!=0]).index.values]\n",
    "\n",
    "    # Select the labels for the related q_no.\n",
    "    train_labels = labels.loc[labels.q==q_no].set_index('session').loc[train_df.index]\n",
    "    valid_df_labels = labels.loc[labels.q==q_no].set_index('session').loc[valid_df.index]\n",
    "\n",
    "    # Creamos el modelo SVC\n",
    "    svc = SVC()\n",
    "\n",
    "    svc.fit(train_df, train_labels['correct'])\n",
    "    # # Aplicamos RandomizedSearchCV\n",
    "    # randomized_search = RandomizedSearchCV(svc, param_grid, n_iter=3, cv=3, scoring='f1', n_jobs=-1)\n",
    "    # randomized_search.fit(train_df, train_labels['correct'])\n",
    "\n",
    "    # # Obtenemos el mejor modelo\n",
    "    # best_model = randomized_search.best_estimator_\n",
    "\n",
    "    # Evaluamos el mejor modelo en los datos de validación\n",
    "    # valid_score = f1_score(valid_df_labels['correct'], best_model.predict(valid_df))\n",
    "    valid_score = f1_score(valid_df_labels['correct'], svc.predict(valid_df))\n",
    "\n",
    "    # Almacenamos el mejor modelo\n",
    "    models_2[f'{grp}_{q_no}'] = svc\n",
    "\n",
    "    # Almacenamos el f1_score\n",
    "    f1_scores.append(valid_score)\n",
    "\n",
    "    print(f'Best model for question {q_no}: SVC with f1 score: {valid_score}')\n",
    "\n",
    "    prediction = models_2[f'{grp}_{q_no}'].predict(valid_df)\n",
    "    prediction_df.loc[valid_df.index, q_no - 1] = prediction.flatten()\n",
    "\n",
    "# Calculamos la media de los f1_score\n",
    "print('F1 Score medio: ', np.mean(f1_scores))\n"
   ]
  },
  {
   "cell_type": "code",
   "execution_count": null,
   "metadata": {},
   "outputs": [],
   "source": [
    "# Definir los valores de los hiperparámetros para buscar\n",
    "\n",
    "f1_scores = []  # Aquí almacenaremos todos los f1_score\n",
    "\n",
    "for q_no in range(1, 19):\n",
    "\n",
    "    # Select level group for the question based on the q_no.\n",
    "    if q_no <= 3: grp = '0-4'\n",
    "    elif q_no <= 13: grp = '5-12'\n",
    "    elif q_no <= 22: grp = '13-22'\n",
    "    print(\"### q_no\", q_no, \"grp\", grp)\n",
    "\n",
    "    # Select the appropriate dataframes based on the group\n",
    "    train_df, valid_df = dataframes[grp]\n",
    "\n",
    "    train_df = train_df[(filtered_importances_df[q_no][filtered_importances_df[q_no]!=0]).index.values]\n",
    "    valid_df = valid_df[(filtered_importances_df[q_no][filtered_importances_df[q_no]!=0]).index.values]\n",
    "\n",
    "    # Select the labels for the related q_no.\n",
    "    train_labels = labels.loc[labels.q==q_no].set_index('session').loc[train_df.index]\n",
    "    valid_df_labels = labels.loc[labels.q==q_no].set_index('session').loc[valid_df.index]\n",
    "\n",
    "    # Creamos el modelo SVC\n",
    "    svc = SVC()\n",
    "\n",
    "    svc.fit(train_df, train_labels['correct'])\n",
    "    valid_score = f1_score(valid_df_labels['correct'], svc.predict(valid_df))\n",
    "\n",
    "    # Almacenamos el mejor modelo\n",
    "    models_2[f'{grp}_{q_no}'] = svc\n",
    "\n",
    "    # Almacenamos el f1_score\n",
    "    f1_scores.append(valid_score)\n",
    "\n",
    "    print(f'Best model for question {q_no}: SVC with f1 score: {valid_score}')\n",
    "\n",
    "    prediction = models_2[f'{grp}_{q_no}'].predict(valid_df)\n",
    "    prediction_df.loc[valid_df.index, q_no - 1] = prediction.flatten()\n",
    "\n",
    "# Calculamos la media de los f1_score\n",
    "print('F1 Score medio: ', np.mean(f1_scores))\n"
   ]
  },
  {
   "cell_type": "code",
   "execution_count": 30,
   "metadata": {},
   "outputs": [
    {
     "data": {
      "text/plain": [
       "{'0-4_1': SVC(),\n",
       " '0-4_2': SVC(),\n",
       " '0-4_3': SVC(),\n",
       " '5-12_4': SVC(),\n",
       " '5-12_5': SVC(),\n",
       " '5-12_6': SVC(),\n",
       " '5-12_7': SVC(),\n",
       " '5-12_8': SVC(),\n",
       " '5-12_9': SVC(),\n",
       " '5-12_10': SVC(),\n",
       " '5-12_11': SVC(),\n",
       " '5-12_12': SVC(),\n",
       " '5-12_13': SVC(),\n",
       " '13-22_14': SVC(),\n",
       " '13-22_15': SVC(),\n",
       " '13-22_16': SVC(),\n",
       " '13-22_17': SVC(),\n",
       " '13-22_18': SVC()}"
      ]
     },
     "execution_count": 30,
     "metadata": {},
     "output_type": "execute_result"
    }
   ],
   "source": [
    "models_2"
   ]
  },
  {
   "cell_type": "code",
   "execution_count": 32,
   "metadata": {},
   "outputs": [],
   "source": [
    "def save_models(models_dict, base_path='.', folder='models'):\n",
    "    # Define the output directory\n",
    "    output_dir = os.path.join(base_path, folder)\n",
    "    if not os.path.exists(output_dir):  # create the directory if it doesn't exist\n",
    "        os.makedirs(output_dir)\n",
    "    \n",
    "    # Iterate over the models in the dictionary\n",
    "    for key, model in models_dict.items():\n",
    "        # Extract the model number from the key\n",
    "        model_num = key.split('_')[-1]\n",
    "        \n",
    "        # Define the output file path\n",
    "        output_file = os.path.join(output_dir, f'SVC_{model_num}.pkl')\n",
    "        \n",
    "        # Save the model to a pickle file\n",
    "        with open(output_file, 'wb') as f:\n",
    "            pickle.dump(model, f)"
   ]
  },
  {
   "cell_type": "code",
   "execution_count": 33,
   "metadata": {},
   "outputs": [],
   "source": [
    "# Then you can call this function with your dictionary like this:\n",
    "save_models(models_2, base_path=full_path)"
   ]
  },
  {
   "cell_type": "code",
   "execution_count": 34,
   "metadata": {},
   "outputs": [
    {
     "data": {
      "text/html": [
       "<style>#sk-container-id-1 {color: black;background-color: white;}#sk-container-id-1 pre{padding: 0;}#sk-container-id-1 div.sk-toggleable {background-color: white;}#sk-container-id-1 label.sk-toggleable__label {cursor: pointer;display: block;width: 100%;margin-bottom: 0;padding: 0.3em;box-sizing: border-box;text-align: center;}#sk-container-id-1 label.sk-toggleable__label-arrow:before {content: \"▸\";float: left;margin-right: 0.25em;color: #696969;}#sk-container-id-1 label.sk-toggleable__label-arrow:hover:before {color: black;}#sk-container-id-1 div.sk-estimator:hover label.sk-toggleable__label-arrow:before {color: black;}#sk-container-id-1 div.sk-toggleable__content {max-height: 0;max-width: 0;overflow: hidden;text-align: left;background-color: #f0f8ff;}#sk-container-id-1 div.sk-toggleable__content pre {margin: 0.2em;color: black;border-radius: 0.25em;background-color: #f0f8ff;}#sk-container-id-1 input.sk-toggleable__control:checked~div.sk-toggleable__content {max-height: 200px;max-width: 100%;overflow: auto;}#sk-container-id-1 input.sk-toggleable__control:checked~label.sk-toggleable__label-arrow:before {content: \"▾\";}#sk-container-id-1 div.sk-estimator input.sk-toggleable__control:checked~label.sk-toggleable__label {background-color: #d4ebff;}#sk-container-id-1 div.sk-label input.sk-toggleable__control:checked~label.sk-toggleable__label {background-color: #d4ebff;}#sk-container-id-1 input.sk-hidden--visually {border: 0;clip: rect(1px 1px 1px 1px);clip: rect(1px, 1px, 1px, 1px);height: 1px;margin: -1px;overflow: hidden;padding: 0;position: absolute;width: 1px;}#sk-container-id-1 div.sk-estimator {font-family: monospace;background-color: #f0f8ff;border: 1px dotted black;border-radius: 0.25em;box-sizing: border-box;margin-bottom: 0.5em;}#sk-container-id-1 div.sk-estimator:hover {background-color: #d4ebff;}#sk-container-id-1 div.sk-parallel-item::after {content: \"\";width: 100%;border-bottom: 1px solid gray;flex-grow: 1;}#sk-container-id-1 div.sk-label:hover label.sk-toggleable__label {background-color: #d4ebff;}#sk-container-id-1 div.sk-serial::before {content: \"\";position: absolute;border-left: 1px solid gray;box-sizing: border-box;top: 0;bottom: 0;left: 50%;z-index: 0;}#sk-container-id-1 div.sk-serial {display: flex;flex-direction: column;align-items: center;background-color: white;padding-right: 0.2em;padding-left: 0.2em;position: relative;}#sk-container-id-1 div.sk-item {position: relative;z-index: 1;}#sk-container-id-1 div.sk-parallel {display: flex;align-items: stretch;justify-content: center;background-color: white;position: relative;}#sk-container-id-1 div.sk-item::before, #sk-container-id-1 div.sk-parallel-item::before {content: \"\";position: absolute;border-left: 1px solid gray;box-sizing: border-box;top: 0;bottom: 0;left: 50%;z-index: -1;}#sk-container-id-1 div.sk-parallel-item {display: flex;flex-direction: column;z-index: 1;position: relative;background-color: white;}#sk-container-id-1 div.sk-parallel-item:first-child::after {align-self: flex-end;width: 50%;}#sk-container-id-1 div.sk-parallel-item:last-child::after {align-self: flex-start;width: 50%;}#sk-container-id-1 div.sk-parallel-item:only-child::after {width: 0;}#sk-container-id-1 div.sk-dashed-wrapped {border: 1px dashed gray;margin: 0 0.4em 0.5em 0.4em;box-sizing: border-box;padding-bottom: 0.4em;background-color: white;}#sk-container-id-1 div.sk-label label {font-family: monospace;font-weight: bold;display: inline-block;line-height: 1.2em;}#sk-container-id-1 div.sk-label-container {text-align: center;}#sk-container-id-1 div.sk-container {/* jupyter's `normalize.less` sets `[hidden] { display: none; }` but bootstrap.min.css set `[hidden] { display: none !important; }` so we also need the `!important` here to be able to override the default hidden behavior on the sphinx rendered scikit-learn.org. See: https://github.com/scikit-learn/scikit-learn/issues/21755 */display: inline-block !important;position: relative;}#sk-container-id-1 div.sk-text-repr-fallback {display: none;}</style><div id=\"sk-container-id-1\" class=\"sk-top-container\"><div class=\"sk-text-repr-fallback\"><pre>SVC()</pre><b>In a Jupyter environment, please rerun this cell to show the HTML representation or trust the notebook. <br />On GitHub, the HTML representation is unable to render, please try loading this page with nbviewer.org.</b></div><div class=\"sk-container\" hidden><div class=\"sk-item\"><div class=\"sk-estimator sk-toggleable\"><input class=\"sk-toggleable__control sk-hidden--visually\" id=\"sk-estimator-id-1\" type=\"checkbox\" checked><label for=\"sk-estimator-id-1\" class=\"sk-toggleable__label sk-toggleable__label-arrow\">SVC</label><div class=\"sk-toggleable__content\"><pre>SVC()</pre></div></div></div></div></div>"
      ],
      "text/plain": [
       "SVC()"
      ]
     },
     "execution_count": 34,
     "metadata": {},
     "output_type": "execute_result"
    }
   ],
   "source": [
    "models_2[\"0-4_1\"]"
   ]
  },
  {
   "cell_type": "code",
   "execution_count": 58,
   "metadata": {},
   "outputs": [
    {
     "data": {
      "text/html": [
       "<div>\n",
       "<style scoped>\n",
       "    .dataframe tbody tr th:only-of-type {\n",
       "        vertical-align: middle;\n",
       "    }\n",
       "\n",
       "    .dataframe tbody tr th {\n",
       "        vertical-align: top;\n",
       "    }\n",
       "\n",
       "    .dataframe thead th {\n",
       "        text-align: right;\n",
       "    }\n",
       "</style>\n",
       "<table border=\"1\" class=\"dataframe\">\n",
       "  <thead>\n",
       "    <tr style=\"text-align: right;\">\n",
       "      <th></th>\n",
       "      <th>session_id</th>\n",
       "      <th>correct</th>\n",
       "      <th>session</th>\n",
       "      <th>q</th>\n",
       "    </tr>\n",
       "  </thead>\n",
       "  <tbody>\n",
       "    <tr>\n",
       "      <th>0</th>\n",
       "      <td>20090312431273200_q1</td>\n",
       "      <td>1</td>\n",
       "      <td>20090312431273200</td>\n",
       "      <td>1</td>\n",
       "    </tr>\n",
       "    <tr>\n",
       "      <th>1</th>\n",
       "      <td>20090312433251036_q1</td>\n",
       "      <td>0</td>\n",
       "      <td>20090312433251036</td>\n",
       "      <td>1</td>\n",
       "    </tr>\n",
       "    <tr>\n",
       "      <th>2</th>\n",
       "      <td>20090312455206810_q1</td>\n",
       "      <td>1</td>\n",
       "      <td>20090312455206810</td>\n",
       "      <td>1</td>\n",
       "    </tr>\n",
       "    <tr>\n",
       "      <th>3</th>\n",
       "      <td>20090313091715820_q1</td>\n",
       "      <td>0</td>\n",
       "      <td>20090313091715820</td>\n",
       "      <td>1</td>\n",
       "    </tr>\n",
       "    <tr>\n",
       "      <th>4</th>\n",
       "      <td>20090313571836404_q1</td>\n",
       "      <td>1</td>\n",
       "      <td>20090313571836404</td>\n",
       "      <td>1</td>\n",
       "    </tr>\n",
       "    <tr>\n",
       "      <th>...</th>\n",
       "      <td>...</td>\n",
       "      <td>...</td>\n",
       "      <td>...</td>\n",
       "      <td>...</td>\n",
       "    </tr>\n",
       "    <tr>\n",
       "      <th>424111</th>\n",
       "      <td>22100215342220508_q18</td>\n",
       "      <td>1</td>\n",
       "      <td>22100215342220508</td>\n",
       "      <td>18</td>\n",
       "    </tr>\n",
       "    <tr>\n",
       "      <th>424112</th>\n",
       "      <td>22100215460321130_q18</td>\n",
       "      <td>1</td>\n",
       "      <td>22100215460321130</td>\n",
       "      <td>18</td>\n",
       "    </tr>\n",
       "    <tr>\n",
       "      <th>424113</th>\n",
       "      <td>22100217104993650_q18</td>\n",
       "      <td>1</td>\n",
       "      <td>22100217104993650</td>\n",
       "      <td>18</td>\n",
       "    </tr>\n",
       "    <tr>\n",
       "      <th>424114</th>\n",
       "      <td>22100219442786200_q18</td>\n",
       "      <td>1</td>\n",
       "      <td>22100219442786200</td>\n",
       "      <td>18</td>\n",
       "    </tr>\n",
       "    <tr>\n",
       "      <th>424115</th>\n",
       "      <td>22100221145014656_q18</td>\n",
       "      <td>1</td>\n",
       "      <td>22100221145014656</td>\n",
       "      <td>18</td>\n",
       "    </tr>\n",
       "  </tbody>\n",
       "</table>\n",
       "<p>424116 rows × 4 columns</p>\n",
       "</div>"
      ],
      "text/plain": [
       "                   session_id  correct            session   q\n",
       "0        20090312431273200_q1        1  20090312431273200   1\n",
       "1        20090312433251036_q1        0  20090312433251036   1\n",
       "2        20090312455206810_q1        1  20090312455206810   1\n",
       "3        20090313091715820_q1        0  20090313091715820   1\n",
       "4        20090313571836404_q1        1  20090313571836404   1\n",
       "...                       ...      ...                ...  ..\n",
       "424111  22100215342220508_q18        1  22100215342220508  18\n",
       "424112  22100215460321130_q18        1  22100215460321130  18\n",
       "424113  22100217104993650_q18        1  22100217104993650  18\n",
       "424114  22100219442786200_q18        1  22100219442786200  18\n",
       "424115  22100221145014656_q18        1  22100221145014656  18\n",
       "\n",
       "[424116 rows x 4 columns]"
      ]
     },
     "execution_count": 58,
     "metadata": {},
     "output_type": "execute_result"
    }
   ],
   "source": [
    "labels"
   ]
  },
  {
   "cell_type": "code",
   "execution_count": 59,
   "metadata": {},
   "outputs": [
    {
     "data": {
      "text/plain": [
       "Index([22050317282090390, 22020410301178670, 21050007591270176,\n",
       "       22070017182983470, 22030311070130930, 21040508274303176,\n",
       "       20100510223839770, 21070510391133720, 21040216234285370,\n",
       "       21030209222488860,\n",
       "       ...\n",
       "       21000509420338212, 21100313504764316, 21010415370725316,\n",
       "       22080216152194430, 21040212461167524, 21040410403281456,\n",
       "       22060321213062630, 21010211594453184, 20100411140929120,\n",
       "       21090207050867936],\n",
       "      dtype='int64', name='session_id', length=4588)"
      ]
     },
     "execution_count": 59,
     "metadata": {},
     "output_type": "execute_result"
    }
   ],
   "source": [
    "VALID_USER_LIST"
   ]
  },
  {
   "cell_type": "code",
   "execution_count": 62,
   "metadata": {},
   "outputs": [],
   "source": [
    "true_df = pd.DataFrame(data=np.zeros((len(VALID_USER_LIST),18)), index=VALID_USER_LIST)"
   ]
  },
  {
   "cell_type": "code",
   "execution_count": 63,
   "metadata": {},
   "outputs": [
    {
     "name": "stdout",
     "output_type": "stream",
     "text": [
      "Best threshold  0.4 \tF1 score  0.7092921246091639\n"
     ]
    }
   ],
   "source": [
    "true_df = pd.DataFrame(data=np.zeros((len(VALID_USER_LIST),18)), index=VALID_USER_LIST)\n",
    "for i in range(18):\n",
    "    # Get the true labels.\n",
    "    tmp = labels.loc[labels.q == i+1].set_index('session').loc[VALID_USER_LIST]\n",
    "    true_df[i] = tmp.correct.values\n",
    "\n",
    "max_score = 0; best_threshold = 0\n",
    "\n",
    "# Loop through threshold values from 0.4 to 0.8 and select the threshold with \n",
    "# the highest `F1 score`.\n",
    "for threshold in np.arange(0.4,0.8,0.01):\n",
    "    y_pred = (prediction_df.values.reshape((-1)) > threshold).astype('int')\n",
    "    score = f1_score(true_df.values.reshape((-1)), y_pred, average=\"weighted\")\n",
    "    if score > max_score:\n",
    "        max_score = score\n",
    "        best_threshold = threshold\n",
    "        \n",
    "print(\"Best threshold \", best_threshold, \"\\tF1 score \", max_score)"
   ]
  },
  {
   "cell_type": "code",
   "execution_count": 67,
   "metadata": {},
   "outputs": [
    {
     "ename": "AttributeError",
     "evalue": "predict_proba is not available when  probability=False",
     "output_type": "error",
     "traceback": [
      "\u001b[1;31m---------------------------------------------------------------------------\u001b[0m",
      "\u001b[1;31mAttributeError\u001b[0m                            Traceback (most recent call last)",
      "\u001b[1;32m~\\AppData\\Local\\Temp\\ipykernel_8172\\3677585341.py\u001b[0m in \u001b[0;36m<module>\u001b[1;34m\u001b[0m\n\u001b[0;32m     17\u001b[0m \u001b[1;33m\u001b[0m\u001b[0m\n\u001b[0;32m     18\u001b[0m     \u001b[1;31m# Predecimos las probabilidades y tomamos la columna correspondiente a la clase '1'\u001b[0m\u001b[1;33m\u001b[0m\u001b[1;33m\u001b[0m\u001b[1;33m\u001b[0m\u001b[0m\n\u001b[1;32m---> 19\u001b[1;33m     \u001b[0mprobabilities\u001b[0m \u001b[1;33m=\u001b[0m \u001b[0msvc\u001b[0m\u001b[1;33m.\u001b[0m\u001b[0mpredict_proba\u001b[0m\u001b[1;33m(\u001b[0m\u001b[0mvalid_df_pr\u001b[0m\u001b[1;33m)\u001b[0m\u001b[1;33m[\u001b[0m\u001b[1;33m:\u001b[0m\u001b[1;33m,\u001b[0m \u001b[1;36m1\u001b[0m\u001b[1;33m]\u001b[0m\u001b[1;33m\u001b[0m\u001b[1;33m\u001b[0m\u001b[0m\n\u001b[0m\u001b[0;32m     20\u001b[0m \u001b[1;33m\u001b[0m\u001b[0m\n\u001b[0;32m     21\u001b[0m     \u001b[1;31m# Asignamos las probabilidades en el dataframe\u001b[0m\u001b[1;33m\u001b[0m\u001b[1;33m\u001b[0m\u001b[1;33m\u001b[0m\u001b[0m\n",
      "\u001b[1;32mc:\\Projects\\EDA GSP\\venv\\lib\\site-packages\\sklearn\\utils\\_available_if.py\u001b[0m in \u001b[0;36m__get__\u001b[1;34m(self, obj, owner)\u001b[0m\n\u001b[0;32m     30\u001b[0m             \u001b[1;31m# delegate only on instances, not the classes.\u001b[0m\u001b[1;33m\u001b[0m\u001b[1;33m\u001b[0m\u001b[1;33m\u001b[0m\u001b[0m\n\u001b[0;32m     31\u001b[0m             \u001b[1;31m# this is to allow access to the docstrings.\u001b[0m\u001b[1;33m\u001b[0m\u001b[1;33m\u001b[0m\u001b[1;33m\u001b[0m\u001b[0m\n\u001b[1;32m---> 32\u001b[1;33m             \u001b[1;32mif\u001b[0m \u001b[1;32mnot\u001b[0m \u001b[0mself\u001b[0m\u001b[1;33m.\u001b[0m\u001b[0mcheck\u001b[0m\u001b[1;33m(\u001b[0m\u001b[0mobj\u001b[0m\u001b[1;33m)\u001b[0m\u001b[1;33m:\u001b[0m\u001b[1;33m\u001b[0m\u001b[1;33m\u001b[0m\u001b[0m\n\u001b[0m\u001b[0;32m     33\u001b[0m                 \u001b[1;32mraise\u001b[0m \u001b[0mattr_err\u001b[0m\u001b[1;33m\u001b[0m\u001b[1;33m\u001b[0m\u001b[0m\n\u001b[0;32m     34\u001b[0m             \u001b[0mout\u001b[0m \u001b[1;33m=\u001b[0m \u001b[0mMethodType\u001b[0m\u001b[1;33m(\u001b[0m\u001b[0mself\u001b[0m\u001b[1;33m.\u001b[0m\u001b[0mfn\u001b[0m\u001b[1;33m,\u001b[0m \u001b[0mobj\u001b[0m\u001b[1;33m)\u001b[0m\u001b[1;33m\u001b[0m\u001b[1;33m\u001b[0m\u001b[0m\n",
      "\u001b[1;32mc:\\Projects\\EDA GSP\\venv\\lib\\site-packages\\sklearn\\svm\\_base.py\u001b[0m in \u001b[0;36m_check_proba\u001b[1;34m(self)\u001b[0m\n\u001b[0;32m    827\u001b[0m     \u001b[1;32mdef\u001b[0m \u001b[0m_check_proba\u001b[0m\u001b[1;33m(\u001b[0m\u001b[0mself\u001b[0m\u001b[1;33m)\u001b[0m\u001b[1;33m:\u001b[0m\u001b[1;33m\u001b[0m\u001b[1;33m\u001b[0m\u001b[0m\n\u001b[0;32m    828\u001b[0m         \u001b[1;32mif\u001b[0m \u001b[1;32mnot\u001b[0m \u001b[0mself\u001b[0m\u001b[1;33m.\u001b[0m\u001b[0mprobability\u001b[0m\u001b[1;33m:\u001b[0m\u001b[1;33m\u001b[0m\u001b[1;33m\u001b[0m\u001b[0m\n\u001b[1;32m--> 829\u001b[1;33m             raise AttributeError(\n\u001b[0m\u001b[0;32m    830\u001b[0m                 \u001b[1;34m\"predict_proba is not available when  probability=False\"\u001b[0m\u001b[1;33m\u001b[0m\u001b[1;33m\u001b[0m\u001b[0m\n\u001b[0;32m    831\u001b[0m             )\n",
      "\u001b[1;31mAttributeError\u001b[0m: predict_proba is not available when  probability=False"
     ]
    }
   ],
   "source": [
    "predict_proba_df = pd.DataFrame(data=np.zeros((len(VALID_USER_LIST),18)), index=VALID_USER_LIST)\n",
    "\n",
    "for q_no in range(1, 19):\n",
    "\n",
    "    # Select level group for the question based on the q_no.\n",
    "    if q_no <= 3: grp = '0-4'\n",
    "    elif q_no <= 13: grp = '5-12'\n",
    "    elif q_no <= 22: grp = '13-22'\n",
    "\n",
    "    # Select the appropriate dataframes based on the group\n",
    "    _, valid_df_pr = dataframes[grp] # Solo necesitamos el conjunto de validación\n",
    "\n",
    "    valid_df_pr = valid_df_pr[(filtered_importances_df[q_no][filtered_importances_df[q_no]!=0]).index.values]\n",
    "\n",
    "    # Recuperamos el modelo correspondiente\n",
    "    svc = models_2[f'{grp}_{q_no}']\n",
    "\n",
    "    # Predecimos las probabilidades y tomamos la columna correspondiente a la clase '1'\n",
    "    probabilities = svc.predict_proba(valid_df_pr)[:, 1]\n",
    "\n",
    "    # Asignamos las probabilidades en el dataframe\n",
    "    predict_proba_df.loc[valid_df_pr.index, q_no - 1] = probabilities"
   ]
  },
  {
   "cell_type": "code",
   "execution_count": 64,
   "metadata": {},
   "outputs": [
    {
     "name": "stdout",
     "output_type": "stream",
     "text": [
      "Best threshold  0.4 \tF1 score  0.7092921246091639\n"
     ]
    },
    {
     "data": {
      "image/png": "[encoded data removed]",
      "text/plain": [
       "<Figure size 720x432 with 1 Axes>"
      ]
     },
     "metadata": {
      "needs_background": "light"
     },
     "output_type": "display_data"
    }
   ],
   "source": [
    "true_df = pd.DataFrame(data=np.zeros((len(VALID_USER_LIST),18)), index=VALID_USER_LIST)\n",
    "for i in range(18):\n",
    "    # Get the true labels.\n",
    "    tmp = labels.loc[labels.q == i+1].set_index('session').loc[VALID_USER_LIST]\n",
    "    true_df[i] = tmp.correct.values\n",
    "\n",
    "max_score = 0; best_threshold = 0\n",
    "\n",
    "# Crear listas para almacenar los resultados para cada umbral\n",
    "thresholds = []\n",
    "scores = []\n",
    "\n",
    "# Loop through threshold values from 0.4 to 0.8 and select the threshold with \n",
    "# the highest `F1 score`.\n",
    "for threshold in np.arange(0.4,0.8,0.01):\n",
    "    y_pred = (prediction_df.values.reshape((-1)) > threshold).astype('int')\n",
    "    score = f1_score(true_df.values.reshape((-1)), y_pred, average=\"weighted\")\n",
    "    \n",
    "    # Agregar los resultados a las listas\n",
    "    thresholds.append(threshold)\n",
    "    scores.append(score)\n",
    "    \n",
    "    if score > max_score:\n",
    "        max_score = score\n",
    "        best_threshold = threshold\n",
    "        \n",
    "print(\"Best threshold \", best_threshold, \"\\tF1 score \", max_score)\n",
    "\n",
    "# Plotear los resultados\n",
    "plt.figure(figsize=(10,6))\n",
    "plt.plot(thresholds, scores, marker='o')\n",
    "plt.xlabel('Threshold')\n",
    "plt.ylabel('Weighted F1 Score')\n",
    "plt.title('Selection of Threshold')\n",
    "plt.grid(True)\n",
    "plt.show()\n"
   ]
  },
  {
   "cell_type": "code",
   "execution_count": 65,
   "metadata": {},
   "outputs": [
    {
     "name": "stdout",
     "output_type": "stream",
     "text": [
      "Best threshold  0.4 \tF1 score  0.6164351452487046\n"
     ]
    },
    {
     "data": {
      "image/png": "[encoded data removed]",
      "text/plain": [
       "<Figure size 720x432 with 1 Axes>"
      ]
     },
     "metadata": {
      "needs_background": "light"
     },
     "output_type": "display_data"
    }
   ],
   "source": [
    "import matplotlib.pyplot as plt\n",
    "\n",
    "true_df = pd.DataFrame(data=np.zeros((len(VALID_USER_LIST),18)), index=VALID_USER_LIST)\n",
    "for i in range(18):\n",
    "    # Get the true labels.\n",
    "    tmp = labels.loc[labels.q == i+1].set_index('session').loc[VALID_USER_LIST]\n",
    "    true_df[i] = tmp.correct.values\n",
    "\n",
    "max_score = 0; best_threshold = 0\n",
    "\n",
    "# Crear listas para almacenar los resultados para cada umbral\n",
    "thresholds = []\n",
    "scores = []\n",
    "\n",
    "# Loop through threshold values from 0.4 to 0.8 and select the threshold with \n",
    "# the highest `F1 score`.\n",
    "for threshold in np.arange(0.4,0.8,0.01):\n",
    "    y_pred = (prediction_df.values.reshape((-1)) > threshold).astype('int')\n",
    "    score = f1_score(true_df.values.reshape((-1)), y_pred, average=\"macro\")\n",
    "    \n",
    "    # Agregar los resultados a las listas\n",
    "    thresholds.append(threshold)\n",
    "    scores.append(score)\n",
    "    \n",
    "    if score > max_score:\n",
    "        max_score = score\n",
    "        best_threshold = threshold\n",
    "        \n",
    "print(\"Best threshold \", best_threshold, \"\\tF1 score \", max_score)\n",
    "\n",
    "# Plotear los resultados\n",
    "plt.figure(figsize=(10,6))\n",
    "plt.plot(thresholds, scores, marker='o')\n",
    "plt.xlabel('Threshold')\n",
    "plt.ylabel('Weighted F1 Score')\n",
    "plt.title('Selection of Threshold')\n",
    "plt.grid(True)\n",
    "plt.show()\n"
   ]
  },
  {
   "cell_type": "code",
   "execution_count": 68,
   "metadata": {},
   "outputs": [],
   "source": [
    "limits = {'0-4':(1,4), '5-12':(4,14), '13-22':(14,19)}"
   ]
  },
  {
   "cell_type": "code",
   "execution_count": 70,
   "metadata": {},
   "outputs": [
    {
     "name": "stdout",
     "output_type": "stream",
     "text": [
      "0-4\n",
      "1 4\n",
      "\n",
      "1\n",
      "\n",
      "2\n",
      "\n",
      "3\n",
      "\n",
      "5-12\n",
      "4 14\n",
      "\n",
      "4\n",
      "\n",
      "5\n",
      "\n",
      "6\n",
      "\n",
      "7\n",
      "\n",
      "8\n",
      "\n",
      "9\n",
      "\n",
      "10\n",
      "\n",
      "11\n",
      "\n",
      "12\n",
      "\n",
      "13\n",
      "\n",
      "13-22\n",
      "14 19\n",
      "\n",
      "14\n",
      "\n",
      "15\n",
      "\n",
      "16\n",
      "\n",
      "17\n",
      "\n",
      "18\n",
      "\n"
     ]
    }
   ],
   "source": [
    "for grp, (start, end) in limits.items():\n",
    "    print(grp)\n",
    "    print(str(start) +\" \"+str(end))\n",
    "    print()\n",
    "    for t in range(start, end):\n",
    "        print(t)\n",
    "        print()"
   ]
  },
  {
   "cell_type": "markdown",
   "metadata": {},
   "source": [
    "# Features Importance"
   ]
  }
 ],
 "metadata": {
  "kernelspec": {
   "display_name": "Python 3",
   "language": "python",
   "name": "python3"
  },
  "language_info": {
   "codemirror_mode": {
    "name": "ipython",
    "version": 3
   },
   "file_extension": ".py",
   "mimetype": "text/x-python",
   "name": "python",
   "nbconvert_exporter": "python",
   "pygments_lexer": "ipython3",
   "version": "3.8.0"
  },
  "orig_nbformat": 4
 },
 "nbformat": 4,
 "nbformat_minor": 2
}
