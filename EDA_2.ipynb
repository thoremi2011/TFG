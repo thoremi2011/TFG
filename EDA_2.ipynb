{
 "cells": [
  {
   "cell_type": "code",
   "execution_count": 2,
   "metadata": {},
   "outputs": [],
   "source": [
    "import pandas as pd\n",
    "import numpy as np\n",
    "import matplotlib.pyplot as plt\n",
    "import seaborn as sns\n",
    "\n",
    "import os"
   ]
  },
  {
   "attachments": {},
   "cell_type": "markdown",
   "metadata": {},
   "source": [
    "# Resumen"
   ]
  },
  {
   "attachments": {},
   "cell_type": "markdown",
   "metadata": {},
   "source": [
    "- **sorted_df** contiene el dataframe habiendo eliminado las sesiones que no tienen el indice correctamente como dicen en la explicación de la data.\n",
    "- **under_day_df** contiene el dataframe con las sesiones que han tardado menos de 1 día en acabar el juego."
   ]
  },
  {
   "attachments": {},
   "cell_type": "markdown",
   "metadata": {},
   "source": [
    "# Funciones útiles"
   ]
  },
  {
   "cell_type": "code",
   "execution_count": 3,
   "metadata": {},
   "outputs": [],
   "source": [
    "def round_half(x):\n",
    "    return round(x * 2) / 2"
   ]
  },
  {
   "attachments": {},
   "cell_type": "markdown",
   "metadata": {},
   "source": [
    "# Importamos Training Data"
   ]
  },
  {
   "cell_type": "code",
   "execution_count": 4,
   "metadata": {},
   "outputs": [],
   "source": [
    "full_path = \"C:\\Projects\\EDA GSP\"\n",
    "train_path = os.path.join(full_path, \"data\", \"train.csv\")"
   ]
  },
  {
   "cell_type": "code",
   "execution_count": 5,
   "metadata": {},
   "outputs": [],
   "source": [
    "dtypes={\n",
    "    'elapsed_time':np.int32,\n",
    "    'event_name':'category',\n",
    "    'name':'category',\n",
    "    'level':np.uint8,\n",
    "    'room_coor_x':np.float32,\n",
    "    'room_coor_y':np.float32,\n",
    "    'screen_coor_x':np.float32,\n",
    "    'screen_coor_y':np.float32,\n",
    "    'hover_duration':np.float32,\n",
    "    'text':'category',\n",
    "    'fqid':'category',\n",
    "    'room_fqid':'category',\n",
    "    'text_fqid':'category',\n",
    "    'fullscreen':'category',\n",
    "    'hq':'category',\n",
    "    'music':'category',\n",
    "    'level_group':'category'}\n",
    "\n",
    "train_df = pd.read_csv(train_path, dtype=dtypes)"
   ]
  },
  {
   "cell_type": "code",
   "execution_count": 6,
   "metadata": {},
   "outputs": [],
   "source": [
    "CATEGORICAL = ['event_name', 'name','fqid', 'room_fqid', 'text_fqid']\n",
    "NUMERICAL = ['elapsed_time','level','page','room_coor_x', 'room_coor_y', 'screen_coor_x', 'screen_coor_y', 'hover_duration']"
   ]
  },
  {
   "cell_type": "code",
   "execution_count": 7,
   "metadata": {},
   "outputs": [
    {
     "data": {
      "text/html": [
       "<div>\n",
       "<style scoped>\n",
       "    .dataframe tbody tr th:only-of-type {\n",
       "        vertical-align: middle;\n",
       "    }\n",
       "\n",
       "    .dataframe tbody tr th {\n",
       "        vertical-align: top;\n",
       "    }\n",
       "\n",
       "    .dataframe thead th {\n",
       "        text-align: right;\n",
       "    }\n",
       "</style>\n",
       "<table border=\"1\" class=\"dataframe\">\n",
       "  <thead>\n",
       "    <tr style=\"text-align: right;\">\n",
       "      <th></th>\n",
       "      <th>session_id</th>\n",
       "      <th>index</th>\n",
       "      <th>elapsed_time</th>\n",
       "      <th>event_name</th>\n",
       "      <th>name</th>\n",
       "      <th>level</th>\n",
       "      <th>page</th>\n",
       "      <th>room_coor_x</th>\n",
       "      <th>room_coor_y</th>\n",
       "      <th>screen_coor_x</th>\n",
       "      <th>screen_coor_y</th>\n",
       "      <th>hover_duration</th>\n",
       "      <th>text</th>\n",
       "      <th>fqid</th>\n",
       "      <th>room_fqid</th>\n",
       "      <th>text_fqid</th>\n",
       "      <th>fullscreen</th>\n",
       "      <th>hq</th>\n",
       "      <th>music</th>\n",
       "      <th>level_group</th>\n",
       "    </tr>\n",
       "  </thead>\n",
       "  <tbody>\n",
       "    <tr>\n",
       "      <th>0</th>\n",
       "      <td>20090312431273200</td>\n",
       "      <td>0</td>\n",
       "      <td>0</td>\n",
       "      <td>cutscene_click</td>\n",
       "      <td>basic</td>\n",
       "      <td>0</td>\n",
       "      <td>NaN</td>\n",
       "      <td>-413.991394</td>\n",
       "      <td>-159.314682</td>\n",
       "      <td>380.0</td>\n",
       "      <td>494.0</td>\n",
       "      <td>NaN</td>\n",
       "      <td>undefined</td>\n",
       "      <td>intro</td>\n",
       "      <td>tunic.historicalsociety.closet</td>\n",
       "      <td>tunic.historicalsociety.closet.intro</td>\n",
       "      <td>0</td>\n",
       "      <td>0</td>\n",
       "      <td>1</td>\n",
       "      <td>0-4</td>\n",
       "    </tr>\n",
       "    <tr>\n",
       "      <th>1</th>\n",
       "      <td>20090312431273200</td>\n",
       "      <td>1</td>\n",
       "      <td>1323</td>\n",
       "      <td>person_click</td>\n",
       "      <td>basic</td>\n",
       "      <td>0</td>\n",
       "      <td>NaN</td>\n",
       "      <td>-413.991394</td>\n",
       "      <td>-159.314682</td>\n",
       "      <td>380.0</td>\n",
       "      <td>494.0</td>\n",
       "      <td>NaN</td>\n",
       "      <td>Whatcha doing over there, Jo?</td>\n",
       "      <td>gramps</td>\n",
       "      <td>tunic.historicalsociety.closet</td>\n",
       "      <td>tunic.historicalsociety.closet.gramps.intro_0_...</td>\n",
       "      <td>0</td>\n",
       "      <td>0</td>\n",
       "      <td>1</td>\n",
       "      <td>0-4</td>\n",
       "    </tr>\n",
       "    <tr>\n",
       "      <th>2</th>\n",
       "      <td>20090312431273200</td>\n",
       "      <td>2</td>\n",
       "      <td>831</td>\n",
       "      <td>person_click</td>\n",
       "      <td>basic</td>\n",
       "      <td>0</td>\n",
       "      <td>NaN</td>\n",
       "      <td>-413.991394</td>\n",
       "      <td>-159.314682</td>\n",
       "      <td>380.0</td>\n",
       "      <td>494.0</td>\n",
       "      <td>NaN</td>\n",
       "      <td>Just talking to Teddy.</td>\n",
       "      <td>gramps</td>\n",
       "      <td>tunic.historicalsociety.closet</td>\n",
       "      <td>tunic.historicalsociety.closet.gramps.intro_0_...</td>\n",
       "      <td>0</td>\n",
       "      <td>0</td>\n",
       "      <td>1</td>\n",
       "      <td>0-4</td>\n",
       "    </tr>\n",
       "    <tr>\n",
       "      <th>3</th>\n",
       "      <td>20090312431273200</td>\n",
       "      <td>3</td>\n",
       "      <td>1147</td>\n",
       "      <td>person_click</td>\n",
       "      <td>basic</td>\n",
       "      <td>0</td>\n",
       "      <td>NaN</td>\n",
       "      <td>-413.991394</td>\n",
       "      <td>-159.314682</td>\n",
       "      <td>380.0</td>\n",
       "      <td>494.0</td>\n",
       "      <td>NaN</td>\n",
       "      <td>I gotta run to my meeting!</td>\n",
       "      <td>gramps</td>\n",
       "      <td>tunic.historicalsociety.closet</td>\n",
       "      <td>tunic.historicalsociety.closet.gramps.intro_0_...</td>\n",
       "      <td>0</td>\n",
       "      <td>0</td>\n",
       "      <td>1</td>\n",
       "      <td>0-4</td>\n",
       "    </tr>\n",
       "    <tr>\n",
       "      <th>4</th>\n",
       "      <td>20090312431273200</td>\n",
       "      <td>4</td>\n",
       "      <td>1863</td>\n",
       "      <td>person_click</td>\n",
       "      <td>basic</td>\n",
       "      <td>0</td>\n",
       "      <td>NaN</td>\n",
       "      <td>-412.991394</td>\n",
       "      <td>-159.314682</td>\n",
       "      <td>381.0</td>\n",
       "      <td>494.0</td>\n",
       "      <td>NaN</td>\n",
       "      <td>Can I come, Gramps?</td>\n",
       "      <td>gramps</td>\n",
       "      <td>tunic.historicalsociety.closet</td>\n",
       "      <td>tunic.historicalsociety.closet.gramps.intro_0_...</td>\n",
       "      <td>0</td>\n",
       "      <td>0</td>\n",
       "      <td>1</td>\n",
       "      <td>0-4</td>\n",
       "    </tr>\n",
       "    <tr>\n",
       "      <th>...</th>\n",
       "      <td>...</td>\n",
       "      <td>...</td>\n",
       "      <td>...</td>\n",
       "      <td>...</td>\n",
       "      <td>...</td>\n",
       "      <td>...</td>\n",
       "      <td>...</td>\n",
       "      <td>...</td>\n",
       "      <td>...</td>\n",
       "      <td>...</td>\n",
       "      <td>...</td>\n",
       "      <td>...</td>\n",
       "      <td>...</td>\n",
       "      <td>...</td>\n",
       "      <td>...</td>\n",
       "      <td>...</td>\n",
       "      <td>...</td>\n",
       "      <td>...</td>\n",
       "      <td>...</td>\n",
       "      <td>...</td>\n",
       "    </tr>\n",
       "    <tr>\n",
       "      <th>26296941</th>\n",
       "      <td>22100221145014656</td>\n",
       "      <td>1600</td>\n",
       "      <td>5483231</td>\n",
       "      <td>navigate_click</td>\n",
       "      <td>undefined</td>\n",
       "      <td>22</td>\n",
       "      <td>NaN</td>\n",
       "      <td>343.887299</td>\n",
       "      <td>36.701027</td>\n",
       "      <td>483.0</td>\n",
       "      <td>273.0</td>\n",
       "      <td>NaN</td>\n",
       "      <td>NaN</td>\n",
       "      <td>NaN</td>\n",
       "      <td>tunic.capitol_2.hall</td>\n",
       "      <td>NaN</td>\n",
       "      <td>0</td>\n",
       "      <td>0</td>\n",
       "      <td>1</td>\n",
       "      <td>13-22</td>\n",
       "    </tr>\n",
       "    <tr>\n",
       "      <th>26296942</th>\n",
       "      <td>22100221145014656</td>\n",
       "      <td>1601</td>\n",
       "      <td>5485166</td>\n",
       "      <td>navigate_click</td>\n",
       "      <td>undefined</td>\n",
       "      <td>22</td>\n",
       "      <td>NaN</td>\n",
       "      <td>332.696075</td>\n",
       "      <td>141.493179</td>\n",
       "      <td>545.0</td>\n",
       "      <td>221.0</td>\n",
       "      <td>NaN</td>\n",
       "      <td>NaN</td>\n",
       "      <td>chap4_finale_c</td>\n",
       "      <td>tunic.capitol_2.hall</td>\n",
       "      <td>NaN</td>\n",
       "      <td>0</td>\n",
       "      <td>0</td>\n",
       "      <td>1</td>\n",
       "      <td>13-22</td>\n",
       "    </tr>\n",
       "    <tr>\n",
       "      <th>26296943</th>\n",
       "      <td>22100221145014656</td>\n",
       "      <td>1602</td>\n",
       "      <td>5485917</td>\n",
       "      <td>navigate_click</td>\n",
       "      <td>undefined</td>\n",
       "      <td>22</td>\n",
       "      <td>NaN</td>\n",
       "      <td>369.912872</td>\n",
       "      <td>140.569199</td>\n",
       "      <td>611.0</td>\n",
       "      <td>217.0</td>\n",
       "      <td>NaN</td>\n",
       "      <td>NaN</td>\n",
       "      <td>NaN</td>\n",
       "      <td>tunic.capitol_2.hall</td>\n",
       "      <td>NaN</td>\n",
       "      <td>0</td>\n",
       "      <td>0</td>\n",
       "      <td>1</td>\n",
       "      <td>13-22</td>\n",
       "    </tr>\n",
       "    <tr>\n",
       "      <th>26296944</th>\n",
       "      <td>22100221145014656</td>\n",
       "      <td>1603</td>\n",
       "      <td>5486753</td>\n",
       "      <td>navigate_click</td>\n",
       "      <td>undefined</td>\n",
       "      <td>22</td>\n",
       "      <td>NaN</td>\n",
       "      <td>252.299652</td>\n",
       "      <td>123.805893</td>\n",
       "      <td>526.0</td>\n",
       "      <td>232.0</td>\n",
       "      <td>NaN</td>\n",
       "      <td>NaN</td>\n",
       "      <td>chap4_finale_c</td>\n",
       "      <td>tunic.capitol_2.hall</td>\n",
       "      <td>NaN</td>\n",
       "      <td>0</td>\n",
       "      <td>0</td>\n",
       "      <td>1</td>\n",
       "      <td>13-22</td>\n",
       "    </tr>\n",
       "    <tr>\n",
       "      <th>26296945</th>\n",
       "      <td>22100221145014656</td>\n",
       "      <td>1604</td>\n",
       "      <td>5487952</td>\n",
       "      <td>checkpoint</td>\n",
       "      <td>basic</td>\n",
       "      <td>22</td>\n",
       "      <td>NaN</td>\n",
       "      <td>NaN</td>\n",
       "      <td>NaN</td>\n",
       "      <td>NaN</td>\n",
       "      <td>NaN</td>\n",
       "      <td>NaN</td>\n",
       "      <td>NaN</td>\n",
       "      <td>chap4_finale_c</td>\n",
       "      <td>tunic.capitol_2.hall</td>\n",
       "      <td>NaN</td>\n",
       "      <td>0</td>\n",
       "      <td>0</td>\n",
       "      <td>1</td>\n",
       "      <td>13-22</td>\n",
       "    </tr>\n",
       "  </tbody>\n",
       "</table>\n",
       "<p>26296946 rows × 20 columns</p>\n",
       "</div>"
      ],
      "text/plain": [
       "                 session_id  index  elapsed_time      event_name       name   \n",
       "0         20090312431273200      0             0  cutscene_click      basic  \\\n",
       "1         20090312431273200      1          1323    person_click      basic   \n",
       "2         20090312431273200      2           831    person_click      basic   \n",
       "3         20090312431273200      3          1147    person_click      basic   \n",
       "4         20090312431273200      4          1863    person_click      basic   \n",
       "...                     ...    ...           ...             ...        ...   \n",
       "26296941  22100221145014656   1600       5483231  navigate_click  undefined   \n",
       "26296942  22100221145014656   1601       5485166  navigate_click  undefined   \n",
       "26296943  22100221145014656   1602       5485917  navigate_click  undefined   \n",
       "26296944  22100221145014656   1603       5486753  navigate_click  undefined   \n",
       "26296945  22100221145014656   1604       5487952      checkpoint      basic   \n",
       "\n",
       "          level  page  room_coor_x  room_coor_y  screen_coor_x  screen_coor_y   \n",
       "0             0   NaN  -413.991394  -159.314682          380.0          494.0  \\\n",
       "1             0   NaN  -413.991394  -159.314682          380.0          494.0   \n",
       "2             0   NaN  -413.991394  -159.314682          380.0          494.0   \n",
       "3             0   NaN  -413.991394  -159.314682          380.0          494.0   \n",
       "4             0   NaN  -412.991394  -159.314682          381.0          494.0   \n",
       "...         ...   ...          ...          ...            ...            ...   \n",
       "26296941     22   NaN   343.887299    36.701027          483.0          273.0   \n",
       "26296942     22   NaN   332.696075   141.493179          545.0          221.0   \n",
       "26296943     22   NaN   369.912872   140.569199          611.0          217.0   \n",
       "26296944     22   NaN   252.299652   123.805893          526.0          232.0   \n",
       "26296945     22   NaN          NaN          NaN            NaN            NaN   \n",
       "\n",
       "          hover_duration                           text            fqid   \n",
       "0                    NaN                      undefined           intro  \\\n",
       "1                    NaN  Whatcha doing over there, Jo?          gramps   \n",
       "2                    NaN         Just talking to Teddy.          gramps   \n",
       "3                    NaN     I gotta run to my meeting!          gramps   \n",
       "4                    NaN            Can I come, Gramps?          gramps   \n",
       "...                  ...                            ...             ...   \n",
       "26296941             NaN                            NaN             NaN   \n",
       "26296942             NaN                            NaN  chap4_finale_c   \n",
       "26296943             NaN                            NaN             NaN   \n",
       "26296944             NaN                            NaN  chap4_finale_c   \n",
       "26296945             NaN                            NaN  chap4_finale_c   \n",
       "\n",
       "                               room_fqid   \n",
       "0         tunic.historicalsociety.closet  \\\n",
       "1         tunic.historicalsociety.closet   \n",
       "2         tunic.historicalsociety.closet   \n",
       "3         tunic.historicalsociety.closet   \n",
       "4         tunic.historicalsociety.closet   \n",
       "...                                  ...   \n",
       "26296941            tunic.capitol_2.hall   \n",
       "26296942            tunic.capitol_2.hall   \n",
       "26296943            tunic.capitol_2.hall   \n",
       "26296944            tunic.capitol_2.hall   \n",
       "26296945            tunic.capitol_2.hall   \n",
       "\n",
       "                                                  text_fqid fullscreen hq   \n",
       "0                      tunic.historicalsociety.closet.intro          0  0  \\\n",
       "1         tunic.historicalsociety.closet.gramps.intro_0_...          0  0   \n",
       "2         tunic.historicalsociety.closet.gramps.intro_0_...          0  0   \n",
       "3         tunic.historicalsociety.closet.gramps.intro_0_...          0  0   \n",
       "4         tunic.historicalsociety.closet.gramps.intro_0_...          0  0   \n",
       "...                                                     ...        ... ..   \n",
       "26296941                                                NaN          0  0   \n",
       "26296942                                                NaN          0  0   \n",
       "26296943                                                NaN          0  0   \n",
       "26296944                                                NaN          0  0   \n",
       "26296945                                                NaN          0  0   \n",
       "\n",
       "         music level_group  \n",
       "0            1         0-4  \n",
       "1            1         0-4  \n",
       "2            1         0-4  \n",
       "3            1         0-4  \n",
       "4            1         0-4  \n",
       "...        ...         ...  \n",
       "26296941     1       13-22  \n",
       "26296942     1       13-22  \n",
       "26296943     1       13-22  \n",
       "26296944     1       13-22  \n",
       "26296945     1       13-22  \n",
       "\n",
       "[26296946 rows x 20 columns]"
      ]
     },
     "execution_count": 7,
     "metadata": {},
     "output_type": "execute_result"
    }
   ],
   "source": [
    "train_df"
   ]
  },
  {
   "cell_type": "code",
   "execution_count": 8,
   "metadata": {},
   "outputs": [
    {
     "data": {
      "text/html": [
       "<div>\n",
       "<style scoped>\n",
       "    .dataframe tbody tr th:only-of-type {\n",
       "        vertical-align: middle;\n",
       "    }\n",
       "\n",
       "    .dataframe tbody tr th {\n",
       "        vertical-align: top;\n",
       "    }\n",
       "\n",
       "    .dataframe thead th {\n",
       "        text-align: right;\n",
       "    }\n",
       "</style>\n",
       "<table border=\"1\" class=\"dataframe\">\n",
       "  <thead>\n",
       "    <tr style=\"text-align: right;\">\n",
       "      <th></th>\n",
       "      <th>session_id</th>\n",
       "      <th>index</th>\n",
       "      <th>elapsed_time</th>\n",
       "      <th>level</th>\n",
       "      <th>page</th>\n",
       "      <th>room_coor_x</th>\n",
       "      <th>room_coor_y</th>\n",
       "      <th>screen_coor_x</th>\n",
       "      <th>screen_coor_y</th>\n",
       "      <th>hover_duration</th>\n",
       "    </tr>\n",
       "  </thead>\n",
       "  <tbody>\n",
       "    <tr>\n",
       "      <th>count</th>\n",
       "      <td>2.629695e+07</td>\n",
       "      <td>2.629695e+07</td>\n",
       "      <td>2.629695e+07</td>\n",
       "      <td>2.629695e+07</td>\n",
       "      <td>564544.000000</td>\n",
       "      <td>2.422367e+07</td>\n",
       "      <td>2.422367e+07</td>\n",
       "      <td>2.422367e+07</td>\n",
       "      <td>2.422367e+07</td>\n",
       "      <td>2.002244e+06</td>\n",
       "    </tr>\n",
       "    <tr>\n",
       "      <th>mean</th>\n",
       "      <td>2.113249e+16</td>\n",
       "      <td>6.445102e+02</td>\n",
       "      <td>4.016694e+06</td>\n",
       "      <td>1.219169e+01</td>\n",
       "      <td>3.166559</td>\n",
       "      <td>-5.490582e+01</td>\n",
       "      <td>-1.162119e+02</td>\n",
       "      <td>4.584099e+02</td>\n",
       "      <td>3.855858e+02</td>\n",
       "      <td>3.471006e+03</td>\n",
       "    </tr>\n",
       "    <tr>\n",
       "      <th>std</th>\n",
       "      <td>5.712953e+14</td>\n",
       "      <td>5.457880e+02</td>\n",
       "      <td>3.127032e+07</td>\n",
       "      <td>6.497789e+00</td>\n",
       "      <td>2.063291</td>\n",
       "      <td>5.202926e+02</td>\n",
       "      <td>2.184710e+02</td>\n",
       "      <td>2.479389e+02</td>\n",
       "      <td>1.298166e+02</td>\n",
       "      <td>4.602024e+05</td>\n",
       "    </tr>\n",
       "    <tr>\n",
       "      <th>min</th>\n",
       "      <td>2.009031e+16</td>\n",
       "      <td>0.000000e+00</td>\n",
       "      <td>0.000000e+00</td>\n",
       "      <td>0.000000e+00</td>\n",
       "      <td>0.000000</td>\n",
       "      <td>-1.992355e+03</td>\n",
       "      <td>-9.181624e+02</td>\n",
       "      <td>0.000000e+00</td>\n",
       "      <td>0.000000e+00</td>\n",
       "      <td>0.000000e+00</td>\n",
       "    </tr>\n",
       "    <tr>\n",
       "      <th>25%</th>\n",
       "      <td>2.101022e+16</td>\n",
       "      <td>2.880000e+02</td>\n",
       "      <td>4.397000e+05</td>\n",
       "      <td>6.000000e+00</td>\n",
       "      <td>1.000000</td>\n",
       "      <td>-3.528395e+02</td>\n",
       "      <td>-2.127183e+02</td>\n",
       "      <td>2.690000e+02</td>\n",
       "      <td>3.040000e+02</td>\n",
       "      <td>9.900000e+01</td>\n",
       "    </tr>\n",
       "    <tr>\n",
       "      <th>50%</th>\n",
       "      <td>2.104021e+16</td>\n",
       "      <td>5.950000e+02</td>\n",
       "      <td>1.014801e+06</td>\n",
       "      <td>1.300000e+01</td>\n",
       "      <td>3.000000</td>\n",
       "      <td>-1.116280e+01</td>\n",
       "      <td>-9.760534e+01</td>\n",
       "      <td>4.470000e+02</td>\n",
       "      <td>3.970000e+02</td>\n",
       "      <td>4.190000e+02</td>\n",
       "    </tr>\n",
       "    <tr>\n",
       "      <th>75%</th>\n",
       "      <td>2.110052e+16</td>\n",
       "      <td>8.960000e+02</td>\n",
       "      <td>1.747040e+06</td>\n",
       "      <td>1.800000e+01</td>\n",
       "      <td>5.000000</td>\n",
       "      <td>2.966515e+02</td>\n",
       "      <td>2.268786e+01</td>\n",
       "      <td>6.630000e+02</td>\n",
       "      <td>4.710000e+02</td>\n",
       "      <td>1.266000e+03</td>\n",
       "    </tr>\n",
       "    <tr>\n",
       "      <th>max</th>\n",
       "      <td>2.210022e+16</td>\n",
       "      <td>2.047300e+04</td>\n",
       "      <td>1.988607e+09</td>\n",
       "      <td>2.200000e+01</td>\n",
       "      <td>6.000000</td>\n",
       "      <td>1.261774e+03</td>\n",
       "      <td>5.436164e+02</td>\n",
       "      <td>1.919000e+03</td>\n",
       "      <td>1.440000e+03</td>\n",
       "      <td>2.451637e+08</td>\n",
       "    </tr>\n",
       "  </tbody>\n",
       "</table>\n",
       "</div>"
      ],
      "text/plain": [
       "         session_id         index  elapsed_time         level           page   \n",
       "count  2.629695e+07  2.629695e+07  2.629695e+07  2.629695e+07  564544.000000  \\\n",
       "mean   2.113249e+16  6.445102e+02  4.016694e+06  1.219169e+01       3.166559   \n",
       "std    5.712953e+14  5.457880e+02  3.127032e+07  6.497789e+00       2.063291   \n",
       "min    2.009031e+16  0.000000e+00  0.000000e+00  0.000000e+00       0.000000   \n",
       "25%    2.101022e+16  2.880000e+02  4.397000e+05  6.000000e+00       1.000000   \n",
       "50%    2.104021e+16  5.950000e+02  1.014801e+06  1.300000e+01       3.000000   \n",
       "75%    2.110052e+16  8.960000e+02  1.747040e+06  1.800000e+01       5.000000   \n",
       "max    2.210022e+16  2.047300e+04  1.988607e+09  2.200000e+01       6.000000   \n",
       "\n",
       "        room_coor_x   room_coor_y  screen_coor_x  screen_coor_y   \n",
       "count  2.422367e+07  2.422367e+07   2.422367e+07   2.422367e+07  \\\n",
       "mean  -5.490582e+01 -1.162119e+02   4.584099e+02   3.855858e+02   \n",
       "std    5.202926e+02  2.184710e+02   2.479389e+02   1.298166e+02   \n",
       "min   -1.992355e+03 -9.181624e+02   0.000000e+00   0.000000e+00   \n",
       "25%   -3.528395e+02 -2.127183e+02   2.690000e+02   3.040000e+02   \n",
       "50%   -1.116280e+01 -9.760534e+01   4.470000e+02   3.970000e+02   \n",
       "75%    2.966515e+02  2.268786e+01   6.630000e+02   4.710000e+02   \n",
       "max    1.261774e+03  5.436164e+02   1.919000e+03   1.440000e+03   \n",
       "\n",
       "       hover_duration  \n",
       "count    2.002244e+06  \n",
       "mean     3.471006e+03  \n",
       "std      4.602024e+05  \n",
       "min      0.000000e+00  \n",
       "25%      9.900000e+01  \n",
       "50%      4.190000e+02  \n",
       "75%      1.266000e+03  \n",
       "max      2.451637e+08  "
      ]
     },
     "execution_count": 8,
     "metadata": {},
     "output_type": "execute_result"
    }
   ],
   "source": [
    "train_df.describe()"
   ]
  },
  {
   "attachments": {},
   "cell_type": "markdown",
   "metadata": {},
   "source": [
    "# Index data cleaning"
   ]
  },
  {
   "cell_type": "code",
   "execution_count": 9,
   "metadata": {},
   "outputs": [],
   "source": [
    "is_sorted = train_df.groupby('session_id')['index'].apply(lambda x: x.is_monotonic_increasing)"
   ]
  },
  {
   "cell_type": "code",
   "execution_count": 10,
   "metadata": {},
   "outputs": [
    {
     "name": "stdout",
     "output_type": "stream",
     "text": [
      "The 'index' column is not sorted in ascending order for all sessions.\n"
     ]
    }
   ],
   "source": [
    "if not is_sorted.all():\n",
    "    print(\"The 'index' column is not sorted in ascending order for all sessions.\")\n",
    "else:\n",
    "    print(\"The 'index' column is sorted in ascending order for all sessions.\")"
   ]
  },
  {
   "cell_type": "code",
   "execution_count": 11,
   "metadata": {},
   "outputs": [
    {
     "name": "stdout",
     "output_type": "stream",
     "text": [
      "Number of unique sessions with unsorted 'index': 258\n"
     ]
    }
   ],
   "source": [
    "# Filter 'is_sorted' to get only the sessions where 'index' is not sorted.\n",
    "unsorted_sessions = is_sorted[~is_sorted]\n",
    "\n",
    "# Create a DataFrame with all rows belonging to the unsorted sessions.\n",
    "unsorted_df = train_df[train_df['session_id'].isin(unsorted_sessions.index)]\n",
    "\n",
    "# Print the number of unique unsorted sessions.\n",
    "print(\"Number of unique sessions with unsorted 'index':\", unsorted_sessions.shape[0])"
   ]
  },
  {
   "cell_type": "code",
   "execution_count": 12,
   "metadata": {},
   "outputs": [
    {
     "name": "stdout",
     "output_type": "stream",
     "text": [
      "Number of unique session_ids in train_df: 23562\n"
     ]
    }
   ],
   "source": [
    "num_unique_sessions = train_df['session_id'].nunique()\n",
    "print(\"Number of unique session_ids in train_df:\", num_unique_sessions)"
   ]
  },
  {
   "cell_type": "code",
   "execution_count": 13,
   "metadata": {},
   "outputs": [
    {
     "data": {
      "text/plain": [
       "1.09"
      ]
     },
     "execution_count": 13,
     "metadata": {},
     "output_type": "execute_result"
    }
   ],
   "source": [
    "round((unsorted_sessions.shape[0]/num_unique_sessions)*100,2)"
   ]
  },
  {
   "attachments": {},
   "cell_type": "markdown",
   "metadata": {},
   "source": [
    "Decision: eliminar sesiones con indice que no funciona correctamente."
   ]
  },
  {
   "cell_type": "code",
   "execution_count": 14,
   "metadata": {},
   "outputs": [],
   "source": [
    "sorted_sessions = is_sorted[is_sorted].index\n",
    "sorted_df = train_df[train_df['session_id'].isin(sorted_sessions)]"
   ]
  },
  {
   "attachments": {},
   "cell_type": "markdown",
   "metadata": {},
   "source": [
    "# Elapsed time understanding"
   ]
  },
  {
   "cell_type": "code",
   "execution_count": 15,
   "metadata": {},
   "outputs": [],
   "source": [
    "Q1_et = sorted_df['elapsed_time'].quantile(0.25)\n",
    "Q3_et = sorted_df['elapsed_time'].quantile(0.75)\n",
    "IQR_et = Q3_et - Q1_et\n",
    "lower_limit_et = Q1_et - 1.5 * IQR_et\n",
    "upper_limit_et = Q3_et + 1.5 * IQR_et"
   ]
  },
  {
   "cell_type": "code",
   "execution_count": 16,
   "metadata": {},
   "outputs": [
    {
     "data": {
      "text/plain": [
       "3707674.5"
      ]
     },
     "execution_count": 16,
     "metadata": {},
     "output_type": "execute_result"
    }
   ],
   "source": [
    "upper_limit_et"
   ]
  },
  {
   "cell_type": "code",
   "execution_count": 17,
   "metadata": {},
   "outputs": [
    {
     "data": {
      "text/plain": [
       "3921"
      ]
     },
     "execution_count": 17,
     "metadata": {},
     "output_type": "execute_result"
    }
   ],
   "source": [
    "num_upper_limit = len(sorted_df[sorted_df['elapsed_time']>upper_limit_et][\"session_id\"].unique())\n",
    "num_upper_limit"
   ]
  },
  {
   "cell_type": "code",
   "execution_count": 18,
   "metadata": {},
   "outputs": [
    {
     "data": {
      "text/plain": [
       "23304"
      ]
     },
     "execution_count": 18,
     "metadata": {},
     "output_type": "execute_result"
    }
   ],
   "source": [
    "unique_sorted_sessions = len(sorted_df[\"session_id\"].unique())\n",
    "unique_sorted_sessions"
   ]
  },
  {
   "cell_type": "code",
   "execution_count": 19,
   "metadata": {},
   "outputs": [
    {
     "data": {
      "text/plain": [
       "16.83"
      ]
     },
     "execution_count": 19,
     "metadata": {},
     "output_type": "execute_result"
    }
   ],
   "source": [
    "round((num_upper_limit/unique_sorted_sessions)*100,2)"
   ]
  },
  {
   "cell_type": "code",
   "execution_count": 20,
   "metadata": {},
   "outputs": [],
   "source": [
    "# Find the sessions where 'elapsed_time' exceeds one day.\n",
    "over_day_sessions = sorted_df[sorted_df['elapsed_time'] >= 8.64e+7]['session_id'].unique()\n",
    "\n",
    "# Exclude these sessions from your DataFrame.\n",
    "under_day_df = sorted_df[~sorted_df['session_id'].isin(over_day_sessions)].copy()\n",
    "over_day_df = sorted_df[sorted_df['session_id'].isin(over_day_sessions)].copy()\n"
   ]
  },
  {
   "cell_type": "code",
   "execution_count": 21,
   "metadata": {},
   "outputs": [
    {
     "data": {
      "text/plain": [
       "366"
      ]
     },
     "execution_count": 21,
     "metadata": {},
     "output_type": "execute_result"
    }
   ],
   "source": [
    "num_over_day_sessions = len(over_day_sessions)\n",
    "num_over_day_sessions"
   ]
  },
  {
   "cell_type": "code",
   "execution_count": 22,
   "metadata": {},
   "outputs": [
    {
     "data": {
      "text/plain": [
       "count    2.554471e+07\n",
       "mean     2.113685e+06\n",
       "std      7.033144e+06\n",
       "min      0.000000e+00\n",
       "25%      4.370390e+05\n",
       "50%      1.006204e+06\n",
       "75%      1.721886e+06\n",
       "max      8.638946e+07\n",
       "Name: elapsed_time, dtype: float64"
      ]
     },
     "execution_count": 22,
     "metadata": {},
     "output_type": "execute_result"
    }
   ],
   "source": [
    "under_day_df[\"elapsed_time\"].describe()"
   ]
  },
  {
   "cell_type": "code",
   "execution_count": 23,
   "metadata": {},
   "outputs": [],
   "source": [
    "# Aplicamos transformación logarítmica a \"elapsed_time\"\n",
    "# under_day_df.loc[:, 'elapsed_time_log'] = (np.log(under_day_df['elapsed_time'] + 1)).round()\n",
    "# over_day_df.loc[:, 'elapsed_time_log'] = (np.log(over_day_df['elapsed_time'] + 1)).round()\n"
   ]
  },
  {
   "cell_type": "code",
   "execution_count": 24,
   "metadata": {},
   "outputs": [],
   "source": [
    "under_day_df['elapsed_time_log'] = (under_day_df['elapsed_time']+1).apply(np.log).apply(round_half)\n",
    "over_day_df['elapsed_time_log'] = (over_day_df['elapsed_time']+1).apply(np.log).apply(round_half)"
   ]
  },
  {
   "cell_type": "code",
   "execution_count": 25,
   "metadata": {},
   "outputs": [],
   "source": [
    "grouped_df = under_day_df.groupby('elapsed_time_log')['event_name'].count().reset_index()\n",
    "grouped_df_2 = over_day_df.groupby('elapsed_time_log')['event_name'].count().reset_index()"
   ]
  },
  {
   "cell_type": "code",
   "execution_count": 26,
   "metadata": {},
   "outputs": [
    {
     "data": {
      "image/png": "[encoded data removed]",
      "text/plain": [
       "<Figure size 720x432 with 1 Axes>"
      ]
     },
     "metadata": {
      "needs_background": "light"
     },
     "output_type": "display_data"
    }
   ],
   "source": [
    "# Plot distribución eventos a lo largo del tiempo (ln) Sesiones por debajo de 1 día\n",
    "plt.figure(figsize=(10,6))\n",
    "plt.plot(grouped_df['elapsed_time_log'], grouped_df['event_name'])\n",
    "plt.xlabel('Logaritmo de Elapsed Time (milisegundos)')\n",
    "plt.ylabel('Numero de eventos')\n",
    "plt.title('Distribución eventos a lo largo del tiempo (ln)')\n",
    "plt.show()"
   ]
  },
  {
   "attachments": {},
   "cell_type": "markdown",
   "metadata": {},
   "source": [
    "## Sesiones de usuarios que han estado más de 1 día para acabar el juego."
   ]
  },
  {
   "cell_type": "code",
   "execution_count": 27,
   "metadata": {},
   "outputs": [
    {
     "data": {
      "text/plain": [
       "1.57"
      ]
     },
     "execution_count": 27,
     "metadata": {},
     "output_type": "execute_result"
    }
   ],
   "source": [
    "round(len(over_day_sessions)/unique_sorted_sessions*100,2)"
   ]
  },
  {
   "cell_type": "code",
   "execution_count": 28,
   "metadata": {},
   "outputs": [
    {
     "data": {
      "image/png": "[encoded data removed]",
      "text/plain": [
       "<Figure size 720x432 with 1 Axes>"
      ]
     },
     "metadata": {
      "needs_background": "light"
     },
     "output_type": "display_data"
    }
   ],
   "source": [
    "# Plot distribución eventos a lo largo del tiempo (ln) Sesiones por encima de 1 día\n",
    "plt.figure(figsize=(10,6))\n",
    "plt.plot(grouped_df_2['elapsed_time_log'], grouped_df_2['event_name'])\n",
    "plt.xlabel('Logaritmo de Elapsed Time (milisegundos)')\n",
    "plt.ylabel('Numero de eventos')\n",
    "plt.title('Distribución eventos a lo largo del tiempo (ln)')\n",
    "plt.show()"
   ]
  },
  {
   "attachments": {},
   "cell_type": "markdown",
   "metadata": {},
   "source": [
    "### Crear Dataframe con sesiones por encima de 1 día para tratarlos distinto."
   ]
  },
  {
   "attachments": {},
   "cell_type": "markdown",
   "metadata": {},
   "source": [
    "# Todos las sesiones llegan al lv 22?"
   ]
  },
  {
   "cell_type": "code",
   "execution_count": 29,
   "metadata": {},
   "outputs": [
    {
     "data": {
      "image/png": "[encoded data removed]",
      "text/plain": [
       "<Figure size 720x432 with 1 Axes>"
      ]
     },
     "metadata": {
      "needs_background": "light"
     },
     "output_type": "display_data"
    }
   ],
   "source": [
    "# Get the max level for each session\n",
    "max_levels = under_day_df.groupby('session_id')['level'].max().astype(str)\n",
    "\n",
    "# Count the frequency of each max level\n",
    "level_counts = max_levels.value_counts().sort_index()\n",
    "\n",
    "# Plot the frequency of max levels\n",
    "plt.figure(figsize=(10,6))\n",
    "plt.bar(level_counts.index, level_counts.values)\n",
    "plt.xlabel('Max Level Achieved')\n",
    "plt.ylabel('Frequency')\n",
    "plt.title('Frequency of Max Levels Achieved in Unique Sessions')\n",
    "plt.show()"
   ]
  },
  {
   "cell_type": "code",
   "execution_count": 30,
   "metadata": {},
   "outputs": [
    {
     "name": "stdout",
     "output_type": "stream",
     "text": [
      "There are 0 sessions that have not reached level 22.\n"
     ]
    }
   ],
   "source": [
    "# Group by 'session_id' and get the max level for each session\n",
    "max_levels_all_sessions = train_df.groupby('session_id')['level'].max()\n",
    "\n",
    "# Find the session_ids where the max level is less than 22\n",
    "not_reached_22_sessions = max_levels_all_sessions[max_levels_all_sessions < 22].index\n",
    "\n",
    "# Count the number of sessions that haven't reached level 22\n",
    "num_not_reached_22 = len(not_reached_22_sessions)\n",
    "\n",
    "print(f\"There are {num_not_reached_22} sessions that have not reached level 22.\")\n"
   ]
  },
  {
   "attachments": {},
   "cell_type": "markdown",
   "metadata": {},
   "source": [
    "# Duplicates"
   ]
  },
  {
   "cell_type": "code",
   "execution_count": 31,
   "metadata": {},
   "outputs": [],
   "source": [
    "duplicates = under_day_df.duplicated()"
   ]
  },
  {
   "cell_type": "code",
   "execution_count": 32,
   "metadata": {},
   "outputs": [
    {
     "data": {
      "text/html": [
       "<div>\n",
       "<style scoped>\n",
       "    .dataframe tbody tr th:only-of-type {\n",
       "        vertical-align: middle;\n",
       "    }\n",
       "\n",
       "    .dataframe tbody tr th {\n",
       "        vertical-align: top;\n",
       "    }\n",
       "\n",
       "    .dataframe thead th {\n",
       "        text-align: right;\n",
       "    }\n",
       "</style>\n",
       "<table border=\"1\" class=\"dataframe\">\n",
       "  <thead>\n",
       "    <tr style=\"text-align: right;\">\n",
       "      <th></th>\n",
       "      <th>session_id</th>\n",
       "      <th>index</th>\n",
       "      <th>elapsed_time</th>\n",
       "      <th>event_name</th>\n",
       "      <th>name</th>\n",
       "      <th>level</th>\n",
       "      <th>page</th>\n",
       "      <th>room_coor_x</th>\n",
       "      <th>room_coor_y</th>\n",
       "      <th>screen_coor_x</th>\n",
       "      <th>...</th>\n",
       "      <th>hover_duration</th>\n",
       "      <th>text</th>\n",
       "      <th>fqid</th>\n",
       "      <th>room_fqid</th>\n",
       "      <th>text_fqid</th>\n",
       "      <th>fullscreen</th>\n",
       "      <th>hq</th>\n",
       "      <th>music</th>\n",
       "      <th>level_group</th>\n",
       "      <th>elapsed_time_log</th>\n",
       "    </tr>\n",
       "  </thead>\n",
       "  <tbody>\n",
       "  </tbody>\n",
       "</table>\n",
       "<p>0 rows × 21 columns</p>\n",
       "</div>"
      ],
      "text/plain": [
       "Empty DataFrame\n",
       "Columns: [session_id, index, elapsed_time, event_name, name, level, page, room_coor_x, room_coor_y, screen_coor_x, screen_coor_y, hover_duration, text, fqid, room_fqid, text_fqid, fullscreen, hq, music, level_group, elapsed_time_log]\n",
       "Index: []\n",
       "\n",
       "[0 rows x 21 columns]"
      ]
     },
     "execution_count": 32,
     "metadata": {},
     "output_type": "execute_result"
    }
   ],
   "source": [
    "under_day_df[duplicates]"
   ]
  },
  {
   "attachments": {},
   "cell_type": "markdown",
   "metadata": {},
   "source": [
    "No hay duplicados"
   ]
  },
  {
   "attachments": {},
   "cell_type": "markdown",
   "metadata": {},
   "source": [
    "# Missing Values"
   ]
  },
  {
   "cell_type": "code",
   "execution_count": 33,
   "metadata": {},
   "outputs": [
    {
     "data": {
      "text/html": [
       "<div>\n",
       "<style scoped>\n",
       "    .dataframe tbody tr th:only-of-type {\n",
       "        vertical-align: middle;\n",
       "    }\n",
       "\n",
       "    .dataframe tbody tr th {\n",
       "        vertical-align: top;\n",
       "    }\n",
       "\n",
       "    .dataframe thead th {\n",
       "        text-align: right;\n",
       "    }\n",
       "</style>\n",
       "<table border=\"1\" class=\"dataframe\">\n",
       "  <thead>\n",
       "    <tr style=\"text-align: right;\">\n",
       "      <th></th>\n",
       "      <th>session_id</th>\n",
       "      <th>index</th>\n",
       "      <th>elapsed_time</th>\n",
       "      <th>event_name</th>\n",
       "      <th>name</th>\n",
       "      <th>level</th>\n",
       "      <th>page</th>\n",
       "      <th>room_coor_x</th>\n",
       "      <th>room_coor_y</th>\n",
       "      <th>screen_coor_x</th>\n",
       "      <th>...</th>\n",
       "      <th>hover_duration</th>\n",
       "      <th>text</th>\n",
       "      <th>fqid</th>\n",
       "      <th>room_fqid</th>\n",
       "      <th>text_fqid</th>\n",
       "      <th>fullscreen</th>\n",
       "      <th>hq</th>\n",
       "      <th>music</th>\n",
       "      <th>level_group</th>\n",
       "      <th>elapsed_time_log</th>\n",
       "    </tr>\n",
       "  </thead>\n",
       "  <tbody>\n",
       "    <tr>\n",
       "      <th>0</th>\n",
       "      <td>20090312431273200</td>\n",
       "      <td>0</td>\n",
       "      <td>0</td>\n",
       "      <td>cutscene_click</td>\n",
       "      <td>basic</td>\n",
       "      <td>0</td>\n",
       "      <td>NaN</td>\n",
       "      <td>-413.991394</td>\n",
       "      <td>-159.314682</td>\n",
       "      <td>380.0</td>\n",
       "      <td>...</td>\n",
       "      <td>NaN</td>\n",
       "      <td>undefined</td>\n",
       "      <td>intro</td>\n",
       "      <td>tunic.historicalsociety.closet</td>\n",
       "      <td>tunic.historicalsociety.closet.intro</td>\n",
       "      <td>0</td>\n",
       "      <td>0</td>\n",
       "      <td>1</td>\n",
       "      <td>0-4</td>\n",
       "      <td>0.0</td>\n",
       "    </tr>\n",
       "    <tr>\n",
       "      <th>1</th>\n",
       "      <td>20090312431273200</td>\n",
       "      <td>1</td>\n",
       "      <td>1323</td>\n",
       "      <td>person_click</td>\n",
       "      <td>basic</td>\n",
       "      <td>0</td>\n",
       "      <td>NaN</td>\n",
       "      <td>-413.991394</td>\n",
       "      <td>-159.314682</td>\n",
       "      <td>380.0</td>\n",
       "      <td>...</td>\n",
       "      <td>NaN</td>\n",
       "      <td>Whatcha doing over there, Jo?</td>\n",
       "      <td>gramps</td>\n",
       "      <td>tunic.historicalsociety.closet</td>\n",
       "      <td>tunic.historicalsociety.closet.gramps.intro_0_...</td>\n",
       "      <td>0</td>\n",
       "      <td>0</td>\n",
       "      <td>1</td>\n",
       "      <td>0-4</td>\n",
       "      <td>7.0</td>\n",
       "    </tr>\n",
       "    <tr>\n",
       "      <th>2</th>\n",
       "      <td>20090312431273200</td>\n",
       "      <td>2</td>\n",
       "      <td>831</td>\n",
       "      <td>person_click</td>\n",
       "      <td>basic</td>\n",
       "      <td>0</td>\n",
       "      <td>NaN</td>\n",
       "      <td>-413.991394</td>\n",
       "      <td>-159.314682</td>\n",
       "      <td>380.0</td>\n",
       "      <td>...</td>\n",
       "      <td>NaN</td>\n",
       "      <td>Just talking to Teddy.</td>\n",
       "      <td>gramps</td>\n",
       "      <td>tunic.historicalsociety.closet</td>\n",
       "      <td>tunic.historicalsociety.closet.gramps.intro_0_...</td>\n",
       "      <td>0</td>\n",
       "      <td>0</td>\n",
       "      <td>1</td>\n",
       "      <td>0-4</td>\n",
       "      <td>6.5</td>\n",
       "    </tr>\n",
       "    <tr>\n",
       "      <th>3</th>\n",
       "      <td>20090312431273200</td>\n",
       "      <td>3</td>\n",
       "      <td>1147</td>\n",
       "      <td>person_click</td>\n",
       "      <td>basic</td>\n",
       "      <td>0</td>\n",
       "      <td>NaN</td>\n",
       "      <td>-413.991394</td>\n",
       "      <td>-159.314682</td>\n",
       "      <td>380.0</td>\n",
       "      <td>...</td>\n",
       "      <td>NaN</td>\n",
       "      <td>I gotta run to my meeting!</td>\n",
       "      <td>gramps</td>\n",
       "      <td>tunic.historicalsociety.closet</td>\n",
       "      <td>tunic.historicalsociety.closet.gramps.intro_0_...</td>\n",
       "      <td>0</td>\n",
       "      <td>0</td>\n",
       "      <td>1</td>\n",
       "      <td>0-4</td>\n",
       "      <td>7.0</td>\n",
       "    </tr>\n",
       "    <tr>\n",
       "      <th>4</th>\n",
       "      <td>20090312431273200</td>\n",
       "      <td>4</td>\n",
       "      <td>1863</td>\n",
       "      <td>person_click</td>\n",
       "      <td>basic</td>\n",
       "      <td>0</td>\n",
       "      <td>NaN</td>\n",
       "      <td>-412.991394</td>\n",
       "      <td>-159.314682</td>\n",
       "      <td>381.0</td>\n",
       "      <td>...</td>\n",
       "      <td>NaN</td>\n",
       "      <td>Can I come, Gramps?</td>\n",
       "      <td>gramps</td>\n",
       "      <td>tunic.historicalsociety.closet</td>\n",
       "      <td>tunic.historicalsociety.closet.gramps.intro_0_...</td>\n",
       "      <td>0</td>\n",
       "      <td>0</td>\n",
       "      <td>1</td>\n",
       "      <td>0-4</td>\n",
       "      <td>7.5</td>\n",
       "    </tr>\n",
       "  </tbody>\n",
       "</table>\n",
       "<p>5 rows × 21 columns</p>\n",
       "</div>"
      ],
      "text/plain": [
       "          session_id  index  elapsed_time      event_name   name  level  page   \n",
       "0  20090312431273200      0             0  cutscene_click  basic      0   NaN  \\\n",
       "1  20090312431273200      1          1323    person_click  basic      0   NaN   \n",
       "2  20090312431273200      2           831    person_click  basic      0   NaN   \n",
       "3  20090312431273200      3          1147    person_click  basic      0   NaN   \n",
       "4  20090312431273200      4          1863    person_click  basic      0   NaN   \n",
       "\n",
       "   room_coor_x  room_coor_y  screen_coor_x  ...  hover_duration   \n",
       "0  -413.991394  -159.314682          380.0  ...             NaN  \\\n",
       "1  -413.991394  -159.314682          380.0  ...             NaN   \n",
       "2  -413.991394  -159.314682          380.0  ...             NaN   \n",
       "3  -413.991394  -159.314682          380.0  ...             NaN   \n",
       "4  -412.991394  -159.314682          381.0  ...             NaN   \n",
       "\n",
       "                            text    fqid                       room_fqid   \n",
       "0                      undefined   intro  tunic.historicalsociety.closet  \\\n",
       "1  Whatcha doing over there, Jo?  gramps  tunic.historicalsociety.closet   \n",
       "2         Just talking to Teddy.  gramps  tunic.historicalsociety.closet   \n",
       "3     I gotta run to my meeting!  gramps  tunic.historicalsociety.closet   \n",
       "4            Can I come, Gramps?  gramps  tunic.historicalsociety.closet   \n",
       "\n",
       "                                           text_fqid fullscreen hq music   \n",
       "0               tunic.historicalsociety.closet.intro          0  0     1  \\\n",
       "1  tunic.historicalsociety.closet.gramps.intro_0_...          0  0     1   \n",
       "2  tunic.historicalsociety.closet.gramps.intro_0_...          0  0     1   \n",
       "3  tunic.historicalsociety.closet.gramps.intro_0_...          0  0     1   \n",
       "4  tunic.historicalsociety.closet.gramps.intro_0_...          0  0     1   \n",
       "\n",
       "  level_group elapsed_time_log  \n",
       "0         0-4              0.0  \n",
       "1         0-4              7.0  \n",
       "2         0-4              6.5  \n",
       "3         0-4              7.0  \n",
       "4         0-4              7.5  \n",
       "\n",
       "[5 rows x 21 columns]"
      ]
     },
     "execution_count": 33,
     "metadata": {},
     "output_type": "execute_result"
    }
   ],
   "source": [
    "under_day_df.head()"
   ]
  },
  {
   "cell_type": "code",
   "execution_count": 34,
   "metadata": {},
   "outputs": [
    {
     "data": {
      "text/plain": [
       "session_id                 0\n",
       "index                      0\n",
       "elapsed_time               0\n",
       "event_name                 0\n",
       "name                       0\n",
       "level                      0\n",
       "page                24998090\n",
       "room_coor_x          2009598\n",
       "room_coor_y          2009598\n",
       "screen_coor_x        2009598\n",
       "screen_coor_y        2009598\n",
       "hover_duration      23604235\n",
       "text                16190666\n",
       "fqid                 8032069\n",
       "room_fqid                  0\n",
       "text_fqid           16190564\n",
       "fullscreen                 0\n",
       "hq                         0\n",
       "music                      0\n",
       "level_group                0\n",
       "elapsed_time_log           0\n",
       "dtype: int64"
      ]
     },
     "execution_count": 34,
     "metadata": {},
     "output_type": "execute_result"
    }
   ],
   "source": [
    "under_day_df.isna().sum()"
   ]
  },
  {
   "cell_type": "code",
   "execution_count": 35,
   "metadata": {},
   "outputs": [
    {
     "data": {
      "text/plain": [
       "105"
      ]
     },
     "execution_count": 35,
     "metadata": {},
     "output_type": "execute_result"
    }
   ],
   "source": [
    "text_difference_mv = 16484716-16484611\n",
    "text_difference_mv"
   ]
  },
  {
   "attachments": {},
   "cell_type": "markdown",
   "metadata": {},
   "source": [
    "## MV Page"
   ]
  },
  {
   "cell_type": "code",
   "execution_count": 36,
   "metadata": {},
   "outputs": [
    {
     "data": {
      "text/html": [
       "<div>\n",
       "<style scoped>\n",
       "    .dataframe tbody tr th:only-of-type {\n",
       "        vertical-align: middle;\n",
       "    }\n",
       "\n",
       "    .dataframe tbody tr th {\n",
       "        vertical-align: top;\n",
       "    }\n",
       "\n",
       "    .dataframe thead th {\n",
       "        text-align: right;\n",
       "    }\n",
       "</style>\n",
       "<table border=\"1\" class=\"dataframe\">\n",
       "  <thead>\n",
       "    <tr style=\"text-align: right;\">\n",
       "      <th></th>\n",
       "      <th>session_id</th>\n",
       "      <th>index</th>\n",
       "      <th>elapsed_time</th>\n",
       "      <th>event_name</th>\n",
       "      <th>name</th>\n",
       "      <th>level</th>\n",
       "      <th>page</th>\n",
       "      <th>room_coor_x</th>\n",
       "      <th>room_coor_y</th>\n",
       "      <th>screen_coor_x</th>\n",
       "      <th>...</th>\n",
       "      <th>hover_duration</th>\n",
       "      <th>text</th>\n",
       "      <th>fqid</th>\n",
       "      <th>room_fqid</th>\n",
       "      <th>text_fqid</th>\n",
       "      <th>fullscreen</th>\n",
       "      <th>hq</th>\n",
       "      <th>music</th>\n",
       "      <th>level_group</th>\n",
       "      <th>elapsed_time_log</th>\n",
       "    </tr>\n",
       "  </thead>\n",
       "  <tbody>\n",
       "    <tr>\n",
       "      <th>0</th>\n",
       "      <td>20090312431273200</td>\n",
       "      <td>0</td>\n",
       "      <td>0</td>\n",
       "      <td>cutscene_click</td>\n",
       "      <td>basic</td>\n",
       "      <td>0</td>\n",
       "      <td>NaN</td>\n",
       "      <td>-413.991394</td>\n",
       "      <td>-159.314682</td>\n",
       "      <td>380.0</td>\n",
       "      <td>...</td>\n",
       "      <td>NaN</td>\n",
       "      <td>undefined</td>\n",
       "      <td>intro</td>\n",
       "      <td>tunic.historicalsociety.closet</td>\n",
       "      <td>tunic.historicalsociety.closet.intro</td>\n",
       "      <td>0</td>\n",
       "      <td>0</td>\n",
       "      <td>1</td>\n",
       "      <td>0-4</td>\n",
       "      <td>0.0</td>\n",
       "    </tr>\n",
       "    <tr>\n",
       "      <th>1</th>\n",
       "      <td>20090312431273200</td>\n",
       "      <td>1</td>\n",
       "      <td>1323</td>\n",
       "      <td>person_click</td>\n",
       "      <td>basic</td>\n",
       "      <td>0</td>\n",
       "      <td>NaN</td>\n",
       "      <td>-413.991394</td>\n",
       "      <td>-159.314682</td>\n",
       "      <td>380.0</td>\n",
       "      <td>...</td>\n",
       "      <td>NaN</td>\n",
       "      <td>Whatcha doing over there, Jo?</td>\n",
       "      <td>gramps</td>\n",
       "      <td>tunic.historicalsociety.closet</td>\n",
       "      <td>tunic.historicalsociety.closet.gramps.intro_0_...</td>\n",
       "      <td>0</td>\n",
       "      <td>0</td>\n",
       "      <td>1</td>\n",
       "      <td>0-4</td>\n",
       "      <td>7.0</td>\n",
       "    </tr>\n",
       "    <tr>\n",
       "      <th>2</th>\n",
       "      <td>20090312431273200</td>\n",
       "      <td>2</td>\n",
       "      <td>831</td>\n",
       "      <td>person_click</td>\n",
       "      <td>basic</td>\n",
       "      <td>0</td>\n",
       "      <td>NaN</td>\n",
       "      <td>-413.991394</td>\n",
       "      <td>-159.314682</td>\n",
       "      <td>380.0</td>\n",
       "      <td>...</td>\n",
       "      <td>NaN</td>\n",
       "      <td>Just talking to Teddy.</td>\n",
       "      <td>gramps</td>\n",
       "      <td>tunic.historicalsociety.closet</td>\n",
       "      <td>tunic.historicalsociety.closet.gramps.intro_0_...</td>\n",
       "      <td>0</td>\n",
       "      <td>0</td>\n",
       "      <td>1</td>\n",
       "      <td>0-4</td>\n",
       "      <td>6.5</td>\n",
       "    </tr>\n",
       "    <tr>\n",
       "      <th>3</th>\n",
       "      <td>20090312431273200</td>\n",
       "      <td>3</td>\n",
       "      <td>1147</td>\n",
       "      <td>person_click</td>\n",
       "      <td>basic</td>\n",
       "      <td>0</td>\n",
       "      <td>NaN</td>\n",
       "      <td>-413.991394</td>\n",
       "      <td>-159.314682</td>\n",
       "      <td>380.0</td>\n",
       "      <td>...</td>\n",
       "      <td>NaN</td>\n",
       "      <td>I gotta run to my meeting!</td>\n",
       "      <td>gramps</td>\n",
       "      <td>tunic.historicalsociety.closet</td>\n",
       "      <td>tunic.historicalsociety.closet.gramps.intro_0_...</td>\n",
       "      <td>0</td>\n",
       "      <td>0</td>\n",
       "      <td>1</td>\n",
       "      <td>0-4</td>\n",
       "      <td>7.0</td>\n",
       "    </tr>\n",
       "    <tr>\n",
       "      <th>4</th>\n",
       "      <td>20090312431273200</td>\n",
       "      <td>4</td>\n",
       "      <td>1863</td>\n",
       "      <td>person_click</td>\n",
       "      <td>basic</td>\n",
       "      <td>0</td>\n",
       "      <td>NaN</td>\n",
       "      <td>-412.991394</td>\n",
       "      <td>-159.314682</td>\n",
       "      <td>381.0</td>\n",
       "      <td>...</td>\n",
       "      <td>NaN</td>\n",
       "      <td>Can I come, Gramps?</td>\n",
       "      <td>gramps</td>\n",
       "      <td>tunic.historicalsociety.closet</td>\n",
       "      <td>tunic.historicalsociety.closet.gramps.intro_0_...</td>\n",
       "      <td>0</td>\n",
       "      <td>0</td>\n",
       "      <td>1</td>\n",
       "      <td>0-4</td>\n",
       "      <td>7.5</td>\n",
       "    </tr>\n",
       "    <tr>\n",
       "      <th>...</th>\n",
       "      <td>...</td>\n",
       "      <td>...</td>\n",
       "      <td>...</td>\n",
       "      <td>...</td>\n",
       "      <td>...</td>\n",
       "      <td>...</td>\n",
       "      <td>...</td>\n",
       "      <td>...</td>\n",
       "      <td>...</td>\n",
       "      <td>...</td>\n",
       "      <td>...</td>\n",
       "      <td>...</td>\n",
       "      <td>...</td>\n",
       "      <td>...</td>\n",
       "      <td>...</td>\n",
       "      <td>...</td>\n",
       "      <td>...</td>\n",
       "      <td>...</td>\n",
       "      <td>...</td>\n",
       "      <td>...</td>\n",
       "      <td>...</td>\n",
       "    </tr>\n",
       "    <tr>\n",
       "      <th>26296941</th>\n",
       "      <td>22100221145014656</td>\n",
       "      <td>1600</td>\n",
       "      <td>5483231</td>\n",
       "      <td>navigate_click</td>\n",
       "      <td>undefined</td>\n",
       "      <td>22</td>\n",
       "      <td>NaN</td>\n",
       "      <td>343.887299</td>\n",
       "      <td>36.701027</td>\n",
       "      <td>483.0</td>\n",
       "      <td>...</td>\n",
       "      <td>NaN</td>\n",
       "      <td>NaN</td>\n",
       "      <td>NaN</td>\n",
       "      <td>tunic.capitol_2.hall</td>\n",
       "      <td>NaN</td>\n",
       "      <td>0</td>\n",
       "      <td>0</td>\n",
       "      <td>1</td>\n",
       "      <td>13-22</td>\n",
       "      <td>15.5</td>\n",
       "    </tr>\n",
       "    <tr>\n",
       "      <th>26296942</th>\n",
       "      <td>22100221145014656</td>\n",
       "      <td>1601</td>\n",
       "      <td>5485166</td>\n",
       "      <td>navigate_click</td>\n",
       "      <td>undefined</td>\n",
       "      <td>22</td>\n",
       "      <td>NaN</td>\n",
       "      <td>332.696075</td>\n",
       "      <td>141.493179</td>\n",
       "      <td>545.0</td>\n",
       "      <td>...</td>\n",
       "      <td>NaN</td>\n",
       "      <td>NaN</td>\n",
       "      <td>chap4_finale_c</td>\n",
       "      <td>tunic.capitol_2.hall</td>\n",
       "      <td>NaN</td>\n",
       "      <td>0</td>\n",
       "      <td>0</td>\n",
       "      <td>1</td>\n",
       "      <td>13-22</td>\n",
       "      <td>15.5</td>\n",
       "    </tr>\n",
       "    <tr>\n",
       "      <th>26296943</th>\n",
       "      <td>22100221145014656</td>\n",
       "      <td>1602</td>\n",
       "      <td>5485917</td>\n",
       "      <td>navigate_click</td>\n",
       "      <td>undefined</td>\n",
       "      <td>22</td>\n",
       "      <td>NaN</td>\n",
       "      <td>369.912872</td>\n",
       "      <td>140.569199</td>\n",
       "      <td>611.0</td>\n",
       "      <td>...</td>\n",
       "      <td>NaN</td>\n",
       "      <td>NaN</td>\n",
       "      <td>NaN</td>\n",
       "      <td>tunic.capitol_2.hall</td>\n",
       "      <td>NaN</td>\n",
       "      <td>0</td>\n",
       "      <td>0</td>\n",
       "      <td>1</td>\n",
       "      <td>13-22</td>\n",
       "      <td>15.5</td>\n",
       "    </tr>\n",
       "    <tr>\n",
       "      <th>26296944</th>\n",
       "      <td>22100221145014656</td>\n",
       "      <td>1603</td>\n",
       "      <td>5486753</td>\n",
       "      <td>navigate_click</td>\n",
       "      <td>undefined</td>\n",
       "      <td>22</td>\n",
       "      <td>NaN</td>\n",
       "      <td>252.299652</td>\n",
       "      <td>123.805893</td>\n",
       "      <td>526.0</td>\n",
       "      <td>...</td>\n",
       "      <td>NaN</td>\n",
       "      <td>NaN</td>\n",
       "      <td>chap4_finale_c</td>\n",
       "      <td>tunic.capitol_2.hall</td>\n",
       "      <td>NaN</td>\n",
       "      <td>0</td>\n",
       "      <td>0</td>\n",
       "      <td>1</td>\n",
       "      <td>13-22</td>\n",
       "      <td>15.5</td>\n",
       "    </tr>\n",
       "    <tr>\n",
       "      <th>26296945</th>\n",
       "      <td>22100221145014656</td>\n",
       "      <td>1604</td>\n",
       "      <td>5487952</td>\n",
       "      <td>checkpoint</td>\n",
       "      <td>basic</td>\n",
       "      <td>22</td>\n",
       "      <td>NaN</td>\n",
       "      <td>NaN</td>\n",
       "      <td>NaN</td>\n",
       "      <td>NaN</td>\n",
       "      <td>...</td>\n",
       "      <td>NaN</td>\n",
       "      <td>NaN</td>\n",
       "      <td>chap4_finale_c</td>\n",
       "      <td>tunic.capitol_2.hall</td>\n",
       "      <td>NaN</td>\n",
       "      <td>0</td>\n",
       "      <td>0</td>\n",
       "      <td>1</td>\n",
       "      <td>13-22</td>\n",
       "      <td>15.5</td>\n",
       "    </tr>\n",
       "  </tbody>\n",
       "</table>\n",
       "<p>24998090 rows × 21 columns</p>\n",
       "</div>"
      ],
      "text/plain": [
       "                 session_id  index  elapsed_time      event_name       name   \n",
       "0         20090312431273200      0             0  cutscene_click      basic  \\\n",
       "1         20090312431273200      1          1323    person_click      basic   \n",
       "2         20090312431273200      2           831    person_click      basic   \n",
       "3         20090312431273200      3          1147    person_click      basic   \n",
       "4         20090312431273200      4          1863    person_click      basic   \n",
       "...                     ...    ...           ...             ...        ...   \n",
       "26296941  22100221145014656   1600       5483231  navigate_click  undefined   \n",
       "26296942  22100221145014656   1601       5485166  navigate_click  undefined   \n",
       "26296943  22100221145014656   1602       5485917  navigate_click  undefined   \n",
       "26296944  22100221145014656   1603       5486753  navigate_click  undefined   \n",
       "26296945  22100221145014656   1604       5487952      checkpoint      basic   \n",
       "\n",
       "          level  page  room_coor_x  room_coor_y  screen_coor_x  ...   \n",
       "0             0   NaN  -413.991394  -159.314682          380.0  ...  \\\n",
       "1             0   NaN  -413.991394  -159.314682          380.0  ...   \n",
       "2             0   NaN  -413.991394  -159.314682          380.0  ...   \n",
       "3             0   NaN  -413.991394  -159.314682          380.0  ...   \n",
       "4             0   NaN  -412.991394  -159.314682          381.0  ...   \n",
       "...         ...   ...          ...          ...            ...  ...   \n",
       "26296941     22   NaN   343.887299    36.701027          483.0  ...   \n",
       "26296942     22   NaN   332.696075   141.493179          545.0  ...   \n",
       "26296943     22   NaN   369.912872   140.569199          611.0  ...   \n",
       "26296944     22   NaN   252.299652   123.805893          526.0  ...   \n",
       "26296945     22   NaN          NaN          NaN            NaN  ...   \n",
       "\n",
       "          hover_duration                           text            fqid   \n",
       "0                    NaN                      undefined           intro  \\\n",
       "1                    NaN  Whatcha doing over there, Jo?          gramps   \n",
       "2                    NaN         Just talking to Teddy.          gramps   \n",
       "3                    NaN     I gotta run to my meeting!          gramps   \n",
       "4                    NaN            Can I come, Gramps?          gramps   \n",
       "...                  ...                            ...             ...   \n",
       "26296941             NaN                            NaN             NaN   \n",
       "26296942             NaN                            NaN  chap4_finale_c   \n",
       "26296943             NaN                            NaN             NaN   \n",
       "26296944             NaN                            NaN  chap4_finale_c   \n",
       "26296945             NaN                            NaN  chap4_finale_c   \n",
       "\n",
       "                               room_fqid   \n",
       "0         tunic.historicalsociety.closet  \\\n",
       "1         tunic.historicalsociety.closet   \n",
       "2         tunic.historicalsociety.closet   \n",
       "3         tunic.historicalsociety.closet   \n",
       "4         tunic.historicalsociety.closet   \n",
       "...                                  ...   \n",
       "26296941            tunic.capitol_2.hall   \n",
       "26296942            tunic.capitol_2.hall   \n",
       "26296943            tunic.capitol_2.hall   \n",
       "26296944            tunic.capitol_2.hall   \n",
       "26296945            tunic.capitol_2.hall   \n",
       "\n",
       "                                                  text_fqid fullscreen hq   \n",
       "0                      tunic.historicalsociety.closet.intro          0  0  \\\n",
       "1         tunic.historicalsociety.closet.gramps.intro_0_...          0  0   \n",
       "2         tunic.historicalsociety.closet.gramps.intro_0_...          0  0   \n",
       "3         tunic.historicalsociety.closet.gramps.intro_0_...          0  0   \n",
       "4         tunic.historicalsociety.closet.gramps.intro_0_...          0  0   \n",
       "...                                                     ...        ... ..   \n",
       "26296941                                                NaN          0  0   \n",
       "26296942                                                NaN          0  0   \n",
       "26296943                                                NaN          0  0   \n",
       "26296944                                                NaN          0  0   \n",
       "26296945                                                NaN          0  0   \n",
       "\n",
       "         music level_group elapsed_time_log  \n",
       "0            1         0-4              0.0  \n",
       "1            1         0-4              7.0  \n",
       "2            1         0-4              6.5  \n",
       "3            1         0-4              7.0  \n",
       "4            1         0-4              7.5  \n",
       "...        ...         ...              ...  \n",
       "26296941     1       13-22             15.5  \n",
       "26296942     1       13-22             15.5  \n",
       "26296943     1       13-22             15.5  \n",
       "26296944     1       13-22             15.5  \n",
       "26296945     1       13-22             15.5  \n",
       "\n",
       "[24998090 rows x 21 columns]"
      ]
     },
     "execution_count": 36,
     "metadata": {},
     "output_type": "execute_result"
    }
   ],
   "source": [
    "under_day_df[under_day_df[\"page\"].isnull()]"
   ]
  },
  {
   "cell_type": "code",
   "execution_count": 37,
   "metadata": {},
   "outputs": [
    {
     "data": {
      "text/plain": [
       "['cutscene_click',\n",
       " 'person_click',\n",
       " 'navigate_click',\n",
       " 'observation_click',\n",
       " 'notification_click',\n",
       " 'object_click',\n",
       " 'object_hover',\n",
       " 'map_hover',\n",
       " 'map_click',\n",
       " 'checkpoint']"
      ]
     },
     "execution_count": 37,
     "metadata": {},
     "output_type": "execute_result"
    }
   ],
   "source": [
    "list(under_day_df[under_day_df[\"page\"].isnull()][\"event_name\"].unique())"
   ]
  },
  {
   "cell_type": "code",
   "execution_count": 38,
   "metadata": {},
   "outputs": [
    {
     "data": {
      "text/plain": [
       "['cutscene_click',\n",
       " 'person_click',\n",
       " 'navigate_click',\n",
       " 'observation_click',\n",
       " 'notification_click',\n",
       " 'object_click',\n",
       " 'object_hover',\n",
       " 'map_hover',\n",
       " 'map_click',\n",
       " 'checkpoint',\n",
       " 'notebook_click']"
      ]
     },
     "execution_count": 38,
     "metadata": {},
     "output_type": "execute_result"
    }
   ],
   "source": [
    "list(under_day_df[\"event_name\"].unique())"
   ]
  },
  {
   "cell_type": "code",
   "execution_count": 39,
   "metadata": {},
   "outputs": [
    {
     "data": {
      "text/plain": [
       "['intro', 'gramps', 'teddy', 'photo', NaN, ..., 'block_badge', 'fox', 'block_badge_2', 'block_1', 'chap2_finale']\n",
       "Length: 129\n",
       "Categories (128, object): ['archivist', 'archivist_glasses', 'block', 'block_0', ..., 'fox', 'block_badge_2', 'block_1', 'chap2_finale']"
      ]
     },
     "execution_count": 39,
     "metadata": {},
     "output_type": "execute_result"
    }
   ],
   "source": [
    "under_day_df[under_day_df[\"page\"].isnull()][\"fqid\"].unique()"
   ]
  },
  {
   "attachments": {},
   "cell_type": "markdown",
   "metadata": {},
   "source": [
    "No hay missing values, los valores que no están son porque page va referenciado a la libreta (\"notebook\"). Si la libreta no está abierta no habrá page."
   ]
  },
  {
   "attachments": {},
   "cell_type": "markdown",
   "metadata": {},
   "source": [
    "## MV Coords"
   ]
  },
  {
   "attachments": {},
   "cell_type": "markdown",
   "metadata": {},
   "source": [
    "### Room Coords"
   ]
  },
  {
   "cell_type": "code",
   "execution_count": 40,
   "metadata": {},
   "outputs": [
    {
     "data": {
      "text/html": [
       "<div>\n",
       "<style scoped>\n",
       "    .dataframe tbody tr th:only-of-type {\n",
       "        vertical-align: middle;\n",
       "    }\n",
       "\n",
       "    .dataframe tbody tr th {\n",
       "        vertical-align: top;\n",
       "    }\n",
       "\n",
       "    .dataframe thead th {\n",
       "        text-align: right;\n",
       "    }\n",
       "</style>\n",
       "<table border=\"1\" class=\"dataframe\">\n",
       "  <thead>\n",
       "    <tr style=\"text-align: right;\">\n",
       "      <th></th>\n",
       "      <th>session_id</th>\n",
       "      <th>index</th>\n",
       "      <th>elapsed_time</th>\n",
       "      <th>event_name</th>\n",
       "      <th>name</th>\n",
       "      <th>level</th>\n",
       "      <th>page</th>\n",
       "      <th>room_coor_x</th>\n",
       "      <th>room_coor_y</th>\n",
       "      <th>screen_coor_x</th>\n",
       "      <th>...</th>\n",
       "      <th>hover_duration</th>\n",
       "      <th>text</th>\n",
       "      <th>fqid</th>\n",
       "      <th>room_fqid</th>\n",
       "      <th>text_fqid</th>\n",
       "      <th>fullscreen</th>\n",
       "      <th>hq</th>\n",
       "      <th>music</th>\n",
       "      <th>level_group</th>\n",
       "      <th>elapsed_time_log</th>\n",
       "    </tr>\n",
       "  </thead>\n",
       "  <tbody>\n",
       "    <tr>\n",
       "      <th>49</th>\n",
       "      <td>20090312431273200</td>\n",
       "      <td>49</td>\n",
       "      <td>52328</td>\n",
       "      <td>object_hover</td>\n",
       "      <td>basic</td>\n",
       "      <td>1</td>\n",
       "      <td>NaN</td>\n",
       "      <td>NaN</td>\n",
       "      <td>NaN</td>\n",
       "      <td>NaN</td>\n",
       "      <td>...</td>\n",
       "      <td>7899.0</td>\n",
       "      <td>NaN</td>\n",
       "      <td>groupconvo</td>\n",
       "      <td>tunic.historicalsociety.entry</td>\n",
       "      <td>NaN</td>\n",
       "      <td>0</td>\n",
       "      <td>0</td>\n",
       "      <td>1</td>\n",
       "      <td>0-4</td>\n",
       "      <td>11.0</td>\n",
       "    </tr>\n",
       "    <tr>\n",
       "      <th>82</th>\n",
       "      <td>20090312431273200</td>\n",
       "      <td>82</td>\n",
       "      <td>87242</td>\n",
       "      <td>object_hover</td>\n",
       "      <td>basic</td>\n",
       "      <td>2</td>\n",
       "      <td>NaN</td>\n",
       "      <td>NaN</td>\n",
       "      <td>NaN</td>\n",
       "      <td>NaN</td>\n",
       "      <td>...</td>\n",
       "      <td>400.0</td>\n",
       "      <td>NaN</td>\n",
       "      <td>tunic</td>\n",
       "      <td>tunic.historicalsociety.collection</td>\n",
       "      <td>NaN</td>\n",
       "      <td>0</td>\n",
       "      <td>0</td>\n",
       "      <td>1</td>\n",
       "      <td>0-4</td>\n",
       "      <td>11.5</td>\n",
       "    </tr>\n",
       "    <tr>\n",
       "      <th>87</th>\n",
       "      <td>20090312431273200</td>\n",
       "      <td>87</td>\n",
       "      <td>92242</td>\n",
       "      <td>object_hover</td>\n",
       "      <td>undefined</td>\n",
       "      <td>2</td>\n",
       "      <td>NaN</td>\n",
       "      <td>NaN</td>\n",
       "      <td>NaN</td>\n",
       "      <td>NaN</td>\n",
       "      <td>...</td>\n",
       "      <td>3949.0</td>\n",
       "      <td>NaN</td>\n",
       "      <td>tunic.hub.slip</td>\n",
       "      <td>tunic.historicalsociety.collection</td>\n",
       "      <td>NaN</td>\n",
       "      <td>0</td>\n",
       "      <td>0</td>\n",
       "      <td>1</td>\n",
       "      <td>0-4</td>\n",
       "      <td>11.5</td>\n",
       "    </tr>\n",
       "    <tr>\n",
       "      <th>127</th>\n",
       "      <td>20090312431273200</td>\n",
       "      <td>127</td>\n",
       "      <td>135124</td>\n",
       "      <td>map_hover</td>\n",
       "      <td>basic</td>\n",
       "      <td>3</td>\n",
       "      <td>NaN</td>\n",
       "      <td>NaN</td>\n",
       "      <td>NaN</td>\n",
       "      <td>NaN</td>\n",
       "      <td>...</td>\n",
       "      <td>234.0</td>\n",
       "      <td>NaN</td>\n",
       "      <td>tunic.historicalsociety</td>\n",
       "      <td>tunic.historicalsociety.entry</td>\n",
       "      <td>NaN</td>\n",
       "      <td>0</td>\n",
       "      <td>0</td>\n",
       "      <td>1</td>\n",
       "      <td>0-4</td>\n",
       "      <td>12.0</td>\n",
       "    </tr>\n",
       "    <tr>\n",
       "      <th>128</th>\n",
       "      <td>20090312431273200</td>\n",
       "      <td>128</td>\n",
       "      <td>135256</td>\n",
       "      <td>map_hover</td>\n",
       "      <td>basic</td>\n",
       "      <td>3</td>\n",
       "      <td>NaN</td>\n",
       "      <td>NaN</td>\n",
       "      <td>NaN</td>\n",
       "      <td>NaN</td>\n",
       "      <td>...</td>\n",
       "      <td>17.0</td>\n",
       "      <td>NaN</td>\n",
       "      <td>tunic.kohlcenter</td>\n",
       "      <td>tunic.historicalsociety.entry</td>\n",
       "      <td>NaN</td>\n",
       "      <td>0</td>\n",
       "      <td>0</td>\n",
       "      <td>1</td>\n",
       "      <td>0-4</td>\n",
       "      <td>12.0</td>\n",
       "    </tr>\n",
       "    <tr>\n",
       "      <th>...</th>\n",
       "      <td>...</td>\n",
       "      <td>...</td>\n",
       "      <td>...</td>\n",
       "      <td>...</td>\n",
       "      <td>...</td>\n",
       "      <td>...</td>\n",
       "      <td>...</td>\n",
       "      <td>...</td>\n",
       "      <td>...</td>\n",
       "      <td>...</td>\n",
       "      <td>...</td>\n",
       "      <td>...</td>\n",
       "      <td>...</td>\n",
       "      <td>...</td>\n",
       "      <td>...</td>\n",
       "      <td>...</td>\n",
       "      <td>...</td>\n",
       "      <td>...</td>\n",
       "      <td>...</td>\n",
       "      <td>...</td>\n",
       "      <td>...</td>\n",
       "    </tr>\n",
       "    <tr>\n",
       "      <th>26296928</th>\n",
       "      <td>22100221145014656</td>\n",
       "      <td>1587</td>\n",
       "      <td>5448152</td>\n",
       "      <td>object_hover</td>\n",
       "      <td>undefined</td>\n",
       "      <td>21</td>\n",
       "      <td>NaN</td>\n",
       "      <td>NaN</td>\n",
       "      <td>NaN</td>\n",
       "      <td>NaN</td>\n",
       "      <td>...</td>\n",
       "      <td>565.0</td>\n",
       "      <td>NaN</td>\n",
       "      <td>journals_flag.pic_2.next</td>\n",
       "      <td>tunic.historicalsociety.stacks</td>\n",
       "      <td>NaN</td>\n",
       "      <td>0</td>\n",
       "      <td>0</td>\n",
       "      <td>1</td>\n",
       "      <td>13-22</td>\n",
       "      <td>15.5</td>\n",
       "    </tr>\n",
       "    <tr>\n",
       "      <th>26296929</th>\n",
       "      <td>22100221145014656</td>\n",
       "      <td>1588</td>\n",
       "      <td>5466868</td>\n",
       "      <td>object_hover</td>\n",
       "      <td>undefined</td>\n",
       "      <td>21</td>\n",
       "      <td>NaN</td>\n",
       "      <td>NaN</td>\n",
       "      <td>NaN</td>\n",
       "      <td>NaN</td>\n",
       "      <td>...</td>\n",
       "      <td>150.0</td>\n",
       "      <td>NaN</td>\n",
       "      <td>journals_flag.pic_0.next</td>\n",
       "      <td>tunic.historicalsociety.stacks</td>\n",
       "      <td>NaN</td>\n",
       "      <td>0</td>\n",
       "      <td>0</td>\n",
       "      <td>1</td>\n",
       "      <td>13-22</td>\n",
       "      <td>15.5</td>\n",
       "    </tr>\n",
       "    <tr>\n",
       "      <th>26296938</th>\n",
       "      <td>22100221145014656</td>\n",
       "      <td>1597</td>\n",
       "      <td>5482022</td>\n",
       "      <td>map_hover</td>\n",
       "      <td>basic</td>\n",
       "      <td>22</td>\n",
       "      <td>NaN</td>\n",
       "      <td>NaN</td>\n",
       "      <td>NaN</td>\n",
       "      <td>NaN</td>\n",
       "      <td>...</td>\n",
       "      <td>1200.0</td>\n",
       "      <td>NaN</td>\n",
       "      <td>tomap</td>\n",
       "      <td>tunic.historicalsociety.entry</td>\n",
       "      <td>NaN</td>\n",
       "      <td>0</td>\n",
       "      <td>0</td>\n",
       "      <td>1</td>\n",
       "      <td>13-22</td>\n",
       "      <td>15.5</td>\n",
       "    </tr>\n",
       "    <tr>\n",
       "      <th>26296939</th>\n",
       "      <td>22100221145014656</td>\n",
       "      <td>1598</td>\n",
       "      <td>5481765</td>\n",
       "      <td>map_hover</td>\n",
       "      <td>basic</td>\n",
       "      <td>22</td>\n",
       "      <td>NaN</td>\n",
       "      <td>NaN</td>\n",
       "      <td>NaN</td>\n",
       "      <td>NaN</td>\n",
       "      <td>...</td>\n",
       "      <td>51.0</td>\n",
       "      <td>NaN</td>\n",
       "      <td>tunic.drycleaner</td>\n",
       "      <td>tunic.historicalsociety.entry</td>\n",
       "      <td>NaN</td>\n",
       "      <td>0</td>\n",
       "      <td>0</td>\n",
       "      <td>1</td>\n",
       "      <td>13-22</td>\n",
       "      <td>15.5</td>\n",
       "    </tr>\n",
       "    <tr>\n",
       "      <th>26296945</th>\n",
       "      <td>22100221145014656</td>\n",
       "      <td>1604</td>\n",
       "      <td>5487952</td>\n",
       "      <td>checkpoint</td>\n",
       "      <td>basic</td>\n",
       "      <td>22</td>\n",
       "      <td>NaN</td>\n",
       "      <td>NaN</td>\n",
       "      <td>NaN</td>\n",
       "      <td>NaN</td>\n",
       "      <td>...</td>\n",
       "      <td>NaN</td>\n",
       "      <td>NaN</td>\n",
       "      <td>chap4_finale_c</td>\n",
       "      <td>tunic.capitol_2.hall</td>\n",
       "      <td>NaN</td>\n",
       "      <td>0</td>\n",
       "      <td>0</td>\n",
       "      <td>1</td>\n",
       "      <td>13-22</td>\n",
       "      <td>15.5</td>\n",
       "    </tr>\n",
       "  </tbody>\n",
       "</table>\n",
       "<p>2009598 rows × 21 columns</p>\n",
       "</div>"
      ],
      "text/plain": [
       "                 session_id  index  elapsed_time    event_name       name   \n",
       "49        20090312431273200     49         52328  object_hover      basic  \\\n",
       "82        20090312431273200     82         87242  object_hover      basic   \n",
       "87        20090312431273200     87         92242  object_hover  undefined   \n",
       "127       20090312431273200    127        135124     map_hover      basic   \n",
       "128       20090312431273200    128        135256     map_hover      basic   \n",
       "...                     ...    ...           ...           ...        ...   \n",
       "26296928  22100221145014656   1587       5448152  object_hover  undefined   \n",
       "26296929  22100221145014656   1588       5466868  object_hover  undefined   \n",
       "26296938  22100221145014656   1597       5482022     map_hover      basic   \n",
       "26296939  22100221145014656   1598       5481765     map_hover      basic   \n",
       "26296945  22100221145014656   1604       5487952    checkpoint      basic   \n",
       "\n",
       "          level  page  room_coor_x  room_coor_y  screen_coor_x  ...   \n",
       "49            1   NaN          NaN          NaN            NaN  ...  \\\n",
       "82            2   NaN          NaN          NaN            NaN  ...   \n",
       "87            2   NaN          NaN          NaN            NaN  ...   \n",
       "127           3   NaN          NaN          NaN            NaN  ...   \n",
       "128           3   NaN          NaN          NaN            NaN  ...   \n",
       "...         ...   ...          ...          ...            ...  ...   \n",
       "26296928     21   NaN          NaN          NaN            NaN  ...   \n",
       "26296929     21   NaN          NaN          NaN            NaN  ...   \n",
       "26296938     22   NaN          NaN          NaN            NaN  ...   \n",
       "26296939     22   NaN          NaN          NaN            NaN  ...   \n",
       "26296945     22   NaN          NaN          NaN            NaN  ...   \n",
       "\n",
       "          hover_duration  text                      fqid   \n",
       "49                7899.0   NaN                groupconvo  \\\n",
       "82                 400.0   NaN                     tunic   \n",
       "87                3949.0   NaN            tunic.hub.slip   \n",
       "127                234.0   NaN   tunic.historicalsociety   \n",
       "128                 17.0   NaN          tunic.kohlcenter   \n",
       "...                  ...   ...                       ...   \n",
       "26296928           565.0   NaN  journals_flag.pic_2.next   \n",
       "26296929           150.0   NaN  journals_flag.pic_0.next   \n",
       "26296938          1200.0   NaN                     tomap   \n",
       "26296939            51.0   NaN          tunic.drycleaner   \n",
       "26296945             NaN   NaN            chap4_finale_c   \n",
       "\n",
       "                                   room_fqid text_fqid fullscreen hq music   \n",
       "49             tunic.historicalsociety.entry       NaN          0  0     1  \\\n",
       "82        tunic.historicalsociety.collection       NaN          0  0     1   \n",
       "87        tunic.historicalsociety.collection       NaN          0  0     1   \n",
       "127            tunic.historicalsociety.entry       NaN          0  0     1   \n",
       "128            tunic.historicalsociety.entry       NaN          0  0     1   \n",
       "...                                      ...       ...        ... ..   ...   \n",
       "26296928      tunic.historicalsociety.stacks       NaN          0  0     1   \n",
       "26296929      tunic.historicalsociety.stacks       NaN          0  0     1   \n",
       "26296938       tunic.historicalsociety.entry       NaN          0  0     1   \n",
       "26296939       tunic.historicalsociety.entry       NaN          0  0     1   \n",
       "26296945                tunic.capitol_2.hall       NaN          0  0     1   \n",
       "\n",
       "         level_group elapsed_time_log  \n",
       "49               0-4             11.0  \n",
       "82               0-4             11.5  \n",
       "87               0-4             11.5  \n",
       "127              0-4             12.0  \n",
       "128              0-4             12.0  \n",
       "...              ...              ...  \n",
       "26296928       13-22             15.5  \n",
       "26296929       13-22             15.5  \n",
       "26296938       13-22             15.5  \n",
       "26296939       13-22             15.5  \n",
       "26296945       13-22             15.5  \n",
       "\n",
       "[2009598 rows x 21 columns]"
      ]
     },
     "execution_count": 40,
     "metadata": {},
     "output_type": "execute_result"
    }
   ],
   "source": [
    "under_day_df[under_day_df[\"room_coor_x\"].isnull()]"
   ]
  },
  {
   "cell_type": "code",
   "execution_count": 41,
   "metadata": {},
   "outputs": [
    {
     "data": {
      "text/plain": [
       "['object_hover', 'map_hover', 'checkpoint']"
      ]
     },
     "execution_count": 41,
     "metadata": {},
     "output_type": "execute_result"
    }
   ],
   "source": [
    "list(under_day_df[under_day_df[\"room_coor_x\"].isnull()][\"event_name\"].unique())"
   ]
  },
  {
   "cell_type": "code",
   "execution_count": 42,
   "metadata": {},
   "outputs": [
    {
     "data": {
      "text/plain": [
       "['object_hover', 'map_hover', 'checkpoint']"
      ]
     },
     "execution_count": 42,
     "metadata": {},
     "output_type": "execute_result"
    }
   ],
   "source": [
    "list(under_day_df[under_day_df[\"room_coor_y\"].isnull()][\"event_name\"].unique())"
   ]
  },
  {
   "attachments": {},
   "cell_type": "markdown",
   "metadata": {},
   "source": [
    "### Screen Coords"
   ]
  },
  {
   "cell_type": "code",
   "execution_count": 43,
   "metadata": {},
   "outputs": [
    {
     "data": {
      "text/plain": [
       "['object_hover', 'map_hover', 'checkpoint']"
      ]
     },
     "execution_count": 43,
     "metadata": {},
     "output_type": "execute_result"
    }
   ],
   "source": [
    "list(under_day_df[under_day_df[\"screen_coor_x\"].isnull()][\"event_name\"].unique())"
   ]
  },
  {
   "cell_type": "code",
   "execution_count": 44,
   "metadata": {},
   "outputs": [
    {
     "data": {
      "text/plain": [
       "['object_hover', 'map_hover', 'checkpoint']"
      ]
     },
     "execution_count": 44,
     "metadata": {},
     "output_type": "execute_result"
    }
   ],
   "source": [
    "list(under_day_df[under_day_df[\"screen_coor_y\"].isnull()][\"event_name\"].unique())"
   ]
  },
  {
   "attachments": {},
   "cell_type": "markdown",
   "metadata": {},
   "source": [
    "## MV Hover duration"
   ]
  },
  {
   "cell_type": "code",
   "execution_count": 45,
   "metadata": {},
   "outputs": [
    {
     "data": {
      "text/html": [
       "<div>\n",
       "<style scoped>\n",
       "    .dataframe tbody tr th:only-of-type {\n",
       "        vertical-align: middle;\n",
       "    }\n",
       "\n",
       "    .dataframe tbody tr th {\n",
       "        vertical-align: top;\n",
       "    }\n",
       "\n",
       "    .dataframe thead th {\n",
       "        text-align: right;\n",
       "    }\n",
       "</style>\n",
       "<table border=\"1\" class=\"dataframe\">\n",
       "  <thead>\n",
       "    <tr style=\"text-align: right;\">\n",
       "      <th></th>\n",
       "      <th>session_id</th>\n",
       "      <th>index</th>\n",
       "      <th>elapsed_time</th>\n",
       "      <th>event_name</th>\n",
       "      <th>name</th>\n",
       "      <th>level</th>\n",
       "      <th>page</th>\n",
       "      <th>room_coor_x</th>\n",
       "      <th>room_coor_y</th>\n",
       "      <th>screen_coor_x</th>\n",
       "      <th>...</th>\n",
       "      <th>hover_duration</th>\n",
       "      <th>text</th>\n",
       "      <th>fqid</th>\n",
       "      <th>room_fqid</th>\n",
       "      <th>text_fqid</th>\n",
       "      <th>fullscreen</th>\n",
       "      <th>hq</th>\n",
       "      <th>music</th>\n",
       "      <th>level_group</th>\n",
       "      <th>elapsed_time_log</th>\n",
       "    </tr>\n",
       "  </thead>\n",
       "  <tbody>\n",
       "    <tr>\n",
       "      <th>0</th>\n",
       "      <td>20090312431273200</td>\n",
       "      <td>0</td>\n",
       "      <td>0</td>\n",
       "      <td>cutscene_click</td>\n",
       "      <td>basic</td>\n",
       "      <td>0</td>\n",
       "      <td>NaN</td>\n",
       "      <td>-413.991394</td>\n",
       "      <td>-159.314682</td>\n",
       "      <td>380.0</td>\n",
       "      <td>...</td>\n",
       "      <td>NaN</td>\n",
       "      <td>undefined</td>\n",
       "      <td>intro</td>\n",
       "      <td>tunic.historicalsociety.closet</td>\n",
       "      <td>tunic.historicalsociety.closet.intro</td>\n",
       "      <td>0</td>\n",
       "      <td>0</td>\n",
       "      <td>1</td>\n",
       "      <td>0-4</td>\n",
       "      <td>0.0</td>\n",
       "    </tr>\n",
       "    <tr>\n",
       "      <th>1</th>\n",
       "      <td>20090312431273200</td>\n",
       "      <td>1</td>\n",
       "      <td>1323</td>\n",
       "      <td>person_click</td>\n",
       "      <td>basic</td>\n",
       "      <td>0</td>\n",
       "      <td>NaN</td>\n",
       "      <td>-413.991394</td>\n",
       "      <td>-159.314682</td>\n",
       "      <td>380.0</td>\n",
       "      <td>...</td>\n",
       "      <td>NaN</td>\n",
       "      <td>Whatcha doing over there, Jo?</td>\n",
       "      <td>gramps</td>\n",
       "      <td>tunic.historicalsociety.closet</td>\n",
       "      <td>tunic.historicalsociety.closet.gramps.intro_0_...</td>\n",
       "      <td>0</td>\n",
       "      <td>0</td>\n",
       "      <td>1</td>\n",
       "      <td>0-4</td>\n",
       "      <td>7.0</td>\n",
       "    </tr>\n",
       "    <tr>\n",
       "      <th>2</th>\n",
       "      <td>20090312431273200</td>\n",
       "      <td>2</td>\n",
       "      <td>831</td>\n",
       "      <td>person_click</td>\n",
       "      <td>basic</td>\n",
       "      <td>0</td>\n",
       "      <td>NaN</td>\n",
       "      <td>-413.991394</td>\n",
       "      <td>-159.314682</td>\n",
       "      <td>380.0</td>\n",
       "      <td>...</td>\n",
       "      <td>NaN</td>\n",
       "      <td>Just talking to Teddy.</td>\n",
       "      <td>gramps</td>\n",
       "      <td>tunic.historicalsociety.closet</td>\n",
       "      <td>tunic.historicalsociety.closet.gramps.intro_0_...</td>\n",
       "      <td>0</td>\n",
       "      <td>0</td>\n",
       "      <td>1</td>\n",
       "      <td>0-4</td>\n",
       "      <td>6.5</td>\n",
       "    </tr>\n",
       "    <tr>\n",
       "      <th>3</th>\n",
       "      <td>20090312431273200</td>\n",
       "      <td>3</td>\n",
       "      <td>1147</td>\n",
       "      <td>person_click</td>\n",
       "      <td>basic</td>\n",
       "      <td>0</td>\n",
       "      <td>NaN</td>\n",
       "      <td>-413.991394</td>\n",
       "      <td>-159.314682</td>\n",
       "      <td>380.0</td>\n",
       "      <td>...</td>\n",
       "      <td>NaN</td>\n",
       "      <td>I gotta run to my meeting!</td>\n",
       "      <td>gramps</td>\n",
       "      <td>tunic.historicalsociety.closet</td>\n",
       "      <td>tunic.historicalsociety.closet.gramps.intro_0_...</td>\n",
       "      <td>0</td>\n",
       "      <td>0</td>\n",
       "      <td>1</td>\n",
       "      <td>0-4</td>\n",
       "      <td>7.0</td>\n",
       "    </tr>\n",
       "    <tr>\n",
       "      <th>4</th>\n",
       "      <td>20090312431273200</td>\n",
       "      <td>4</td>\n",
       "      <td>1863</td>\n",
       "      <td>person_click</td>\n",
       "      <td>basic</td>\n",
       "      <td>0</td>\n",
       "      <td>NaN</td>\n",
       "      <td>-412.991394</td>\n",
       "      <td>-159.314682</td>\n",
       "      <td>381.0</td>\n",
       "      <td>...</td>\n",
       "      <td>NaN</td>\n",
       "      <td>Can I come, Gramps?</td>\n",
       "      <td>gramps</td>\n",
       "      <td>tunic.historicalsociety.closet</td>\n",
       "      <td>tunic.historicalsociety.closet.gramps.intro_0_...</td>\n",
       "      <td>0</td>\n",
       "      <td>0</td>\n",
       "      <td>1</td>\n",
       "      <td>0-4</td>\n",
       "      <td>7.5</td>\n",
       "    </tr>\n",
       "    <tr>\n",
       "      <th>...</th>\n",
       "      <td>...</td>\n",
       "      <td>...</td>\n",
       "      <td>...</td>\n",
       "      <td>...</td>\n",
       "      <td>...</td>\n",
       "      <td>...</td>\n",
       "      <td>...</td>\n",
       "      <td>...</td>\n",
       "      <td>...</td>\n",
       "      <td>...</td>\n",
       "      <td>...</td>\n",
       "      <td>...</td>\n",
       "      <td>...</td>\n",
       "      <td>...</td>\n",
       "      <td>...</td>\n",
       "      <td>...</td>\n",
       "      <td>...</td>\n",
       "      <td>...</td>\n",
       "      <td>...</td>\n",
       "      <td>...</td>\n",
       "      <td>...</td>\n",
       "    </tr>\n",
       "    <tr>\n",
       "      <th>26296941</th>\n",
       "      <td>22100221145014656</td>\n",
       "      <td>1600</td>\n",
       "      <td>5483231</td>\n",
       "      <td>navigate_click</td>\n",
       "      <td>undefined</td>\n",
       "      <td>22</td>\n",
       "      <td>NaN</td>\n",
       "      <td>343.887299</td>\n",
       "      <td>36.701027</td>\n",
       "      <td>483.0</td>\n",
       "      <td>...</td>\n",
       "      <td>NaN</td>\n",
       "      <td>NaN</td>\n",
       "      <td>NaN</td>\n",
       "      <td>tunic.capitol_2.hall</td>\n",
       "      <td>NaN</td>\n",
       "      <td>0</td>\n",
       "      <td>0</td>\n",
       "      <td>1</td>\n",
       "      <td>13-22</td>\n",
       "      <td>15.5</td>\n",
       "    </tr>\n",
       "    <tr>\n",
       "      <th>26296942</th>\n",
       "      <td>22100221145014656</td>\n",
       "      <td>1601</td>\n",
       "      <td>5485166</td>\n",
       "      <td>navigate_click</td>\n",
       "      <td>undefined</td>\n",
       "      <td>22</td>\n",
       "      <td>NaN</td>\n",
       "      <td>332.696075</td>\n",
       "      <td>141.493179</td>\n",
       "      <td>545.0</td>\n",
       "      <td>...</td>\n",
       "      <td>NaN</td>\n",
       "      <td>NaN</td>\n",
       "      <td>chap4_finale_c</td>\n",
       "      <td>tunic.capitol_2.hall</td>\n",
       "      <td>NaN</td>\n",
       "      <td>0</td>\n",
       "      <td>0</td>\n",
       "      <td>1</td>\n",
       "      <td>13-22</td>\n",
       "      <td>15.5</td>\n",
       "    </tr>\n",
       "    <tr>\n",
       "      <th>26296943</th>\n",
       "      <td>22100221145014656</td>\n",
       "      <td>1602</td>\n",
       "      <td>5485917</td>\n",
       "      <td>navigate_click</td>\n",
       "      <td>undefined</td>\n",
       "      <td>22</td>\n",
       "      <td>NaN</td>\n",
       "      <td>369.912872</td>\n",
       "      <td>140.569199</td>\n",
       "      <td>611.0</td>\n",
       "      <td>...</td>\n",
       "      <td>NaN</td>\n",
       "      <td>NaN</td>\n",
       "      <td>NaN</td>\n",
       "      <td>tunic.capitol_2.hall</td>\n",
       "      <td>NaN</td>\n",
       "      <td>0</td>\n",
       "      <td>0</td>\n",
       "      <td>1</td>\n",
       "      <td>13-22</td>\n",
       "      <td>15.5</td>\n",
       "    </tr>\n",
       "    <tr>\n",
       "      <th>26296944</th>\n",
       "      <td>22100221145014656</td>\n",
       "      <td>1603</td>\n",
       "      <td>5486753</td>\n",
       "      <td>navigate_click</td>\n",
       "      <td>undefined</td>\n",
       "      <td>22</td>\n",
       "      <td>NaN</td>\n",
       "      <td>252.299652</td>\n",
       "      <td>123.805893</td>\n",
       "      <td>526.0</td>\n",
       "      <td>...</td>\n",
       "      <td>NaN</td>\n",
       "      <td>NaN</td>\n",
       "      <td>chap4_finale_c</td>\n",
       "      <td>tunic.capitol_2.hall</td>\n",
       "      <td>NaN</td>\n",
       "      <td>0</td>\n",
       "      <td>0</td>\n",
       "      <td>1</td>\n",
       "      <td>13-22</td>\n",
       "      <td>15.5</td>\n",
       "    </tr>\n",
       "    <tr>\n",
       "      <th>26296945</th>\n",
       "      <td>22100221145014656</td>\n",
       "      <td>1604</td>\n",
       "      <td>5487952</td>\n",
       "      <td>checkpoint</td>\n",
       "      <td>basic</td>\n",
       "      <td>22</td>\n",
       "      <td>NaN</td>\n",
       "      <td>NaN</td>\n",
       "      <td>NaN</td>\n",
       "      <td>NaN</td>\n",
       "      <td>...</td>\n",
       "      <td>NaN</td>\n",
       "      <td>NaN</td>\n",
       "      <td>chap4_finale_c</td>\n",
       "      <td>tunic.capitol_2.hall</td>\n",
       "      <td>NaN</td>\n",
       "      <td>0</td>\n",
       "      <td>0</td>\n",
       "      <td>1</td>\n",
       "      <td>13-22</td>\n",
       "      <td>15.5</td>\n",
       "    </tr>\n",
       "  </tbody>\n",
       "</table>\n",
       "<p>23604235 rows × 21 columns</p>\n",
       "</div>"
      ],
      "text/plain": [
       "                 session_id  index  elapsed_time      event_name       name   \n",
       "0         20090312431273200      0             0  cutscene_click      basic  \\\n",
       "1         20090312431273200      1          1323    person_click      basic   \n",
       "2         20090312431273200      2           831    person_click      basic   \n",
       "3         20090312431273200      3          1147    person_click      basic   \n",
       "4         20090312431273200      4          1863    person_click      basic   \n",
       "...                     ...    ...           ...             ...        ...   \n",
       "26296941  22100221145014656   1600       5483231  navigate_click  undefined   \n",
       "26296942  22100221145014656   1601       5485166  navigate_click  undefined   \n",
       "26296943  22100221145014656   1602       5485917  navigate_click  undefined   \n",
       "26296944  22100221145014656   1603       5486753  navigate_click  undefined   \n",
       "26296945  22100221145014656   1604       5487952      checkpoint      basic   \n",
       "\n",
       "          level  page  room_coor_x  room_coor_y  screen_coor_x  ...   \n",
       "0             0   NaN  -413.991394  -159.314682          380.0  ...  \\\n",
       "1             0   NaN  -413.991394  -159.314682          380.0  ...   \n",
       "2             0   NaN  -413.991394  -159.314682          380.0  ...   \n",
       "3             0   NaN  -413.991394  -159.314682          380.0  ...   \n",
       "4             0   NaN  -412.991394  -159.314682          381.0  ...   \n",
       "...         ...   ...          ...          ...            ...  ...   \n",
       "26296941     22   NaN   343.887299    36.701027          483.0  ...   \n",
       "26296942     22   NaN   332.696075   141.493179          545.0  ...   \n",
       "26296943     22   NaN   369.912872   140.569199          611.0  ...   \n",
       "26296944     22   NaN   252.299652   123.805893          526.0  ...   \n",
       "26296945     22   NaN          NaN          NaN            NaN  ...   \n",
       "\n",
       "          hover_duration                           text            fqid   \n",
       "0                    NaN                      undefined           intro  \\\n",
       "1                    NaN  Whatcha doing over there, Jo?          gramps   \n",
       "2                    NaN         Just talking to Teddy.          gramps   \n",
       "3                    NaN     I gotta run to my meeting!          gramps   \n",
       "4                    NaN            Can I come, Gramps?          gramps   \n",
       "...                  ...                            ...             ...   \n",
       "26296941             NaN                            NaN             NaN   \n",
       "26296942             NaN                            NaN  chap4_finale_c   \n",
       "26296943             NaN                            NaN             NaN   \n",
       "26296944             NaN                            NaN  chap4_finale_c   \n",
       "26296945             NaN                            NaN  chap4_finale_c   \n",
       "\n",
       "                               room_fqid   \n",
       "0         tunic.historicalsociety.closet  \\\n",
       "1         tunic.historicalsociety.closet   \n",
       "2         tunic.historicalsociety.closet   \n",
       "3         tunic.historicalsociety.closet   \n",
       "4         tunic.historicalsociety.closet   \n",
       "...                                  ...   \n",
       "26296941            tunic.capitol_2.hall   \n",
       "26296942            tunic.capitol_2.hall   \n",
       "26296943            tunic.capitol_2.hall   \n",
       "26296944            tunic.capitol_2.hall   \n",
       "26296945            tunic.capitol_2.hall   \n",
       "\n",
       "                                                  text_fqid fullscreen hq   \n",
       "0                      tunic.historicalsociety.closet.intro          0  0  \\\n",
       "1         tunic.historicalsociety.closet.gramps.intro_0_...          0  0   \n",
       "2         tunic.historicalsociety.closet.gramps.intro_0_...          0  0   \n",
       "3         tunic.historicalsociety.closet.gramps.intro_0_...          0  0   \n",
       "4         tunic.historicalsociety.closet.gramps.intro_0_...          0  0   \n",
       "...                                                     ...        ... ..   \n",
       "26296941                                                NaN          0  0   \n",
       "26296942                                                NaN          0  0   \n",
       "26296943                                                NaN          0  0   \n",
       "26296944                                                NaN          0  0   \n",
       "26296945                                                NaN          0  0   \n",
       "\n",
       "         music level_group elapsed_time_log  \n",
       "0            1         0-4              0.0  \n",
       "1            1         0-4              7.0  \n",
       "2            1         0-4              6.5  \n",
       "3            1         0-4              7.0  \n",
       "4            1         0-4              7.5  \n",
       "...        ...         ...              ...  \n",
       "26296941     1       13-22             15.5  \n",
       "26296942     1       13-22             15.5  \n",
       "26296943     1       13-22             15.5  \n",
       "26296944     1       13-22             15.5  \n",
       "26296945     1       13-22             15.5  \n",
       "\n",
       "[23604235 rows x 21 columns]"
      ]
     },
     "execution_count": 45,
     "metadata": {},
     "output_type": "execute_result"
    }
   ],
   "source": [
    "under_day_df[under_day_df[\"hover_duration\"].isnull()]"
   ]
  },
  {
   "cell_type": "code",
   "execution_count": 46,
   "metadata": {},
   "outputs": [
    {
     "data": {
      "text/plain": [
       "['cutscene_click',\n",
       " 'person_click',\n",
       " 'navigate_click',\n",
       " 'observation_click',\n",
       " 'notification_click',\n",
       " 'object_click',\n",
       " 'map_click',\n",
       " 'checkpoint',\n",
       " 'notebook_click']"
      ]
     },
     "execution_count": 46,
     "metadata": {},
     "output_type": "execute_result"
    }
   ],
   "source": [
    "list(under_day_df[under_day_df[\"hover_duration\"].isnull()][\"event_name\"].unique())"
   ]
  },
  {
   "attachments": {},
   "cell_type": "markdown",
   "metadata": {},
   "source": [
    "## MV FQID"
   ]
  },
  {
   "attachments": {},
   "cell_type": "markdown",
   "metadata": {},
   "source": [
    "fqid - the fully qualified ID of the event"
   ]
  },
  {
   "cell_type": "code",
   "execution_count": 47,
   "metadata": {},
   "outputs": [
    {
     "data": {
      "text/html": [
       "<div>\n",
       "<style scoped>\n",
       "    .dataframe tbody tr th:only-of-type {\n",
       "        vertical-align: middle;\n",
       "    }\n",
       "\n",
       "    .dataframe tbody tr th {\n",
       "        vertical-align: top;\n",
       "    }\n",
       "\n",
       "    .dataframe thead th {\n",
       "        text-align: right;\n",
       "    }\n",
       "</style>\n",
       "<table border=\"1\" class=\"dataframe\">\n",
       "  <thead>\n",
       "    <tr style=\"text-align: right;\">\n",
       "      <th></th>\n",
       "      <th>session_id</th>\n",
       "      <th>index</th>\n",
       "      <th>elapsed_time</th>\n",
       "      <th>event_name</th>\n",
       "      <th>name</th>\n",
       "      <th>level</th>\n",
       "      <th>page</th>\n",
       "      <th>room_coor_x</th>\n",
       "      <th>room_coor_y</th>\n",
       "      <th>screen_coor_x</th>\n",
       "      <th>...</th>\n",
       "      <th>hover_duration</th>\n",
       "      <th>text</th>\n",
       "      <th>fqid</th>\n",
       "      <th>room_fqid</th>\n",
       "      <th>text_fqid</th>\n",
       "      <th>fullscreen</th>\n",
       "      <th>hq</th>\n",
       "      <th>music</th>\n",
       "      <th>level_group</th>\n",
       "      <th>elapsed_time_log</th>\n",
       "    </tr>\n",
       "  </thead>\n",
       "  <tbody>\n",
       "    <tr>\n",
       "      <th>14</th>\n",
       "      <td>20090312431273200</td>\n",
       "      <td>14</td>\n",
       "      <td>14814</td>\n",
       "      <td>navigate_click</td>\n",
       "      <td>undefined</td>\n",
       "      <td>0</td>\n",
       "      <td>NaN</td>\n",
       "      <td>273.991425</td>\n",
       "      <td>-196.802368</td>\n",
       "      <td>406.0</td>\n",
       "      <td>...</td>\n",
       "      <td>NaN</td>\n",
       "      <td>NaN</td>\n",
       "      <td>NaN</td>\n",
       "      <td>tunic.historicalsociety.closet</td>\n",
       "      <td>NaN</td>\n",
       "      <td>0</td>\n",
       "      <td>0</td>\n",
       "      <td>1</td>\n",
       "      <td>0-4</td>\n",
       "      <td>9.5</td>\n",
       "    </tr>\n",
       "    <tr>\n",
       "      <th>15</th>\n",
       "      <td>20090312431273200</td>\n",
       "      <td>15</td>\n",
       "      <td>15498</td>\n",
       "      <td>navigate_click</td>\n",
       "      <td>undefined</td>\n",
       "      <td>0</td>\n",
       "      <td>NaN</td>\n",
       "      <td>185.708466</td>\n",
       "      <td>-205.806534</td>\n",
       "      <td>363.0</td>\n",
       "      <td>...</td>\n",
       "      <td>NaN</td>\n",
       "      <td>NaN</td>\n",
       "      <td>NaN</td>\n",
       "      <td>tunic.historicalsociety.closet</td>\n",
       "      <td>NaN</td>\n",
       "      <td>0</td>\n",
       "      <td>0</td>\n",
       "      <td>1</td>\n",
       "      <td>0-4</td>\n",
       "      <td>9.5</td>\n",
       "    </tr>\n",
       "    <tr>\n",
       "      <th>16</th>\n",
       "      <td>20090312431273200</td>\n",
       "      <td>16</td>\n",
       "      <td>16046</td>\n",
       "      <td>navigate_click</td>\n",
       "      <td>undefined</td>\n",
       "      <td>0</td>\n",
       "      <td>NaN</td>\n",
       "      <td>0.583565</td>\n",
       "      <td>-225.691299</td>\n",
       "      <td>234.0</td>\n",
       "      <td>...</td>\n",
       "      <td>NaN</td>\n",
       "      <td>NaN</td>\n",
       "      <td>NaN</td>\n",
       "      <td>tunic.historicalsociety.closet</td>\n",
       "      <td>NaN</td>\n",
       "      <td>0</td>\n",
       "      <td>0</td>\n",
       "      <td>1</td>\n",
       "      <td>0-4</td>\n",
       "      <td>9.5</td>\n",
       "    </tr>\n",
       "    <tr>\n",
       "      <th>17</th>\n",
       "      <td>20090312431273200</td>\n",
       "      <td>17</td>\n",
       "      <td>17462</td>\n",
       "      <td>navigate_click</td>\n",
       "      <td>undefined</td>\n",
       "      <td>0</td>\n",
       "      <td>NaN</td>\n",
       "      <td>350.344269</td>\n",
       "      <td>-173.948624</td>\n",
       "      <td>766.0</td>\n",
       "      <td>...</td>\n",
       "      <td>NaN</td>\n",
       "      <td>NaN</td>\n",
       "      <td>NaN</td>\n",
       "      <td>tunic.historicalsociety.closet</td>\n",
       "      <td>NaN</td>\n",
       "      <td>0</td>\n",
       "      <td>0</td>\n",
       "      <td>1</td>\n",
       "      <td>0-4</td>\n",
       "      <td>10.0</td>\n",
       "    </tr>\n",
       "    <tr>\n",
       "      <th>18</th>\n",
       "      <td>20090312431273200</td>\n",
       "      <td>18</td>\n",
       "      <td>18164</td>\n",
       "      <td>navigate_click</td>\n",
       "      <td>undefined</td>\n",
       "      <td>0</td>\n",
       "      <td>NaN</td>\n",
       "      <td>-37.961716</td>\n",
       "      <td>-255.711121</td>\n",
       "      <td>301.0</td>\n",
       "      <td>...</td>\n",
       "      <td>NaN</td>\n",
       "      <td>NaN</td>\n",
       "      <td>NaN</td>\n",
       "      <td>tunic.historicalsociety.closet</td>\n",
       "      <td>NaN</td>\n",
       "      <td>0</td>\n",
       "      <td>0</td>\n",
       "      <td>1</td>\n",
       "      <td>0-4</td>\n",
       "      <td>10.0</td>\n",
       "    </tr>\n",
       "    <tr>\n",
       "      <th>...</th>\n",
       "      <td>...</td>\n",
       "      <td>...</td>\n",
       "      <td>...</td>\n",
       "      <td>...</td>\n",
       "      <td>...</td>\n",
       "      <td>...</td>\n",
       "      <td>...</td>\n",
       "      <td>...</td>\n",
       "      <td>...</td>\n",
       "      <td>...</td>\n",
       "      <td>...</td>\n",
       "      <td>...</td>\n",
       "      <td>...</td>\n",
       "      <td>...</td>\n",
       "      <td>...</td>\n",
       "      <td>...</td>\n",
       "      <td>...</td>\n",
       "      <td>...</td>\n",
       "      <td>...</td>\n",
       "      <td>...</td>\n",
       "      <td>...</td>\n",
       "    </tr>\n",
       "    <tr>\n",
       "      <th>26296933</th>\n",
       "      <td>22100221145014656</td>\n",
       "      <td>1592</td>\n",
       "      <td>5473806</td>\n",
       "      <td>notebook_click</td>\n",
       "      <td>basic</td>\n",
       "      <td>22</td>\n",
       "      <td>6.0</td>\n",
       "      <td>35.565876</td>\n",
       "      <td>-202.179367</td>\n",
       "      <td>469.0</td>\n",
       "      <td>...</td>\n",
       "      <td>NaN</td>\n",
       "      <td>NaN</td>\n",
       "      <td>NaN</td>\n",
       "      <td>tunic.historicalsociety.stacks</td>\n",
       "      <td>NaN</td>\n",
       "      <td>0</td>\n",
       "      <td>0</td>\n",
       "      <td>1</td>\n",
       "      <td>13-22</td>\n",
       "      <td>15.5</td>\n",
       "    </tr>\n",
       "    <tr>\n",
       "      <th>26296934</th>\n",
       "      <td>22100221145014656</td>\n",
       "      <td>1593</td>\n",
       "      <td>5474807</td>\n",
       "      <td>notebook_click</td>\n",
       "      <td>basic</td>\n",
       "      <td>22</td>\n",
       "      <td>6.0</td>\n",
       "      <td>330.938324</td>\n",
       "      <td>275.636627</td>\n",
       "      <td>765.0</td>\n",
       "      <td>...</td>\n",
       "      <td>NaN</td>\n",
       "      <td>NaN</td>\n",
       "      <td>NaN</td>\n",
       "      <td>tunic.historicalsociety.stacks</td>\n",
       "      <td>NaN</td>\n",
       "      <td>0</td>\n",
       "      <td>0</td>\n",
       "      <td>1</td>\n",
       "      <td>13-22</td>\n",
       "      <td>15.5</td>\n",
       "    </tr>\n",
       "    <tr>\n",
       "      <th>26296935</th>\n",
       "      <td>22100221145014656</td>\n",
       "      <td>1594</td>\n",
       "      <td>5475056</td>\n",
       "      <td>notebook_click</td>\n",
       "      <td>close</td>\n",
       "      <td>22</td>\n",
       "      <td>6.0</td>\n",
       "      <td>399.894226</td>\n",
       "      <td>251.623703</td>\n",
       "      <td>834.0</td>\n",
       "      <td>...</td>\n",
       "      <td>NaN</td>\n",
       "      <td>NaN</td>\n",
       "      <td>NaN</td>\n",
       "      <td>tunic.historicalsociety.stacks</td>\n",
       "      <td>NaN</td>\n",
       "      <td>0</td>\n",
       "      <td>0</td>\n",
       "      <td>1</td>\n",
       "      <td>13-22</td>\n",
       "      <td>15.5</td>\n",
       "    </tr>\n",
       "    <tr>\n",
       "      <th>26296941</th>\n",
       "      <td>22100221145014656</td>\n",
       "      <td>1600</td>\n",
       "      <td>5483231</td>\n",
       "      <td>navigate_click</td>\n",
       "      <td>undefined</td>\n",
       "      <td>22</td>\n",
       "      <td>NaN</td>\n",
       "      <td>343.887299</td>\n",
       "      <td>36.701027</td>\n",
       "      <td>483.0</td>\n",
       "      <td>...</td>\n",
       "      <td>NaN</td>\n",
       "      <td>NaN</td>\n",
       "      <td>NaN</td>\n",
       "      <td>tunic.capitol_2.hall</td>\n",
       "      <td>NaN</td>\n",
       "      <td>0</td>\n",
       "      <td>0</td>\n",
       "      <td>1</td>\n",
       "      <td>13-22</td>\n",
       "      <td>15.5</td>\n",
       "    </tr>\n",
       "    <tr>\n",
       "      <th>26296943</th>\n",
       "      <td>22100221145014656</td>\n",
       "      <td>1602</td>\n",
       "      <td>5485917</td>\n",
       "      <td>navigate_click</td>\n",
       "      <td>undefined</td>\n",
       "      <td>22</td>\n",
       "      <td>NaN</td>\n",
       "      <td>369.912872</td>\n",
       "      <td>140.569199</td>\n",
       "      <td>611.0</td>\n",
       "      <td>...</td>\n",
       "      <td>NaN</td>\n",
       "      <td>NaN</td>\n",
       "      <td>NaN</td>\n",
       "      <td>tunic.capitol_2.hall</td>\n",
       "      <td>NaN</td>\n",
       "      <td>0</td>\n",
       "      <td>0</td>\n",
       "      <td>1</td>\n",
       "      <td>13-22</td>\n",
       "      <td>15.5</td>\n",
       "    </tr>\n",
       "  </tbody>\n",
       "</table>\n",
       "<p>8032069 rows × 21 columns</p>\n",
       "</div>"
      ],
      "text/plain": [
       "                 session_id  index  elapsed_time      event_name       name   \n",
       "14        20090312431273200     14         14814  navigate_click  undefined  \\\n",
       "15        20090312431273200     15         15498  navigate_click  undefined   \n",
       "16        20090312431273200     16         16046  navigate_click  undefined   \n",
       "17        20090312431273200     17         17462  navigate_click  undefined   \n",
       "18        20090312431273200     18         18164  navigate_click  undefined   \n",
       "...                     ...    ...           ...             ...        ...   \n",
       "26296933  22100221145014656   1592       5473806  notebook_click      basic   \n",
       "26296934  22100221145014656   1593       5474807  notebook_click      basic   \n",
       "26296935  22100221145014656   1594       5475056  notebook_click      close   \n",
       "26296941  22100221145014656   1600       5483231  navigate_click  undefined   \n",
       "26296943  22100221145014656   1602       5485917  navigate_click  undefined   \n",
       "\n",
       "          level  page  room_coor_x  room_coor_y  screen_coor_x  ...   \n",
       "14            0   NaN   273.991425  -196.802368          406.0  ...  \\\n",
       "15            0   NaN   185.708466  -205.806534          363.0  ...   \n",
       "16            0   NaN     0.583565  -225.691299          234.0  ...   \n",
       "17            0   NaN   350.344269  -173.948624          766.0  ...   \n",
       "18            0   NaN   -37.961716  -255.711121          301.0  ...   \n",
       "...         ...   ...          ...          ...            ...  ...   \n",
       "26296933     22   6.0    35.565876  -202.179367          469.0  ...   \n",
       "26296934     22   6.0   330.938324   275.636627          765.0  ...   \n",
       "26296935     22   6.0   399.894226   251.623703          834.0  ...   \n",
       "26296941     22   NaN   343.887299    36.701027          483.0  ...   \n",
       "26296943     22   NaN   369.912872   140.569199          611.0  ...   \n",
       "\n",
       "          hover_duration  text fqid                       room_fqid text_fqid   \n",
       "14                   NaN   NaN  NaN  tunic.historicalsociety.closet       NaN  \\\n",
       "15                   NaN   NaN  NaN  tunic.historicalsociety.closet       NaN   \n",
       "16                   NaN   NaN  NaN  tunic.historicalsociety.closet       NaN   \n",
       "17                   NaN   NaN  NaN  tunic.historicalsociety.closet       NaN   \n",
       "18                   NaN   NaN  NaN  tunic.historicalsociety.closet       NaN   \n",
       "...                  ...   ...  ...                             ...       ...   \n",
       "26296933             NaN   NaN  NaN  tunic.historicalsociety.stacks       NaN   \n",
       "26296934             NaN   NaN  NaN  tunic.historicalsociety.stacks       NaN   \n",
       "26296935             NaN   NaN  NaN  tunic.historicalsociety.stacks       NaN   \n",
       "26296941             NaN   NaN  NaN            tunic.capitol_2.hall       NaN   \n",
       "26296943             NaN   NaN  NaN            tunic.capitol_2.hall       NaN   \n",
       "\n",
       "         fullscreen hq music level_group elapsed_time_log  \n",
       "14                0  0     1         0-4              9.5  \n",
       "15                0  0     1         0-4              9.5  \n",
       "16                0  0     1         0-4              9.5  \n",
       "17                0  0     1         0-4             10.0  \n",
       "18                0  0     1         0-4             10.0  \n",
       "...             ... ..   ...         ...              ...  \n",
       "26296933          0  0     1       13-22             15.5  \n",
       "26296934          0  0     1       13-22             15.5  \n",
       "26296935          0  0     1       13-22             15.5  \n",
       "26296941          0  0     1       13-22             15.5  \n",
       "26296943          0  0     1       13-22             15.5  \n",
       "\n",
       "[8032069 rows x 21 columns]"
      ]
     },
     "execution_count": 47,
     "metadata": {},
     "output_type": "execute_result"
    }
   ],
   "source": [
    "under_day_df[under_day_df[\"fqid\"].isnull()]"
   ]
  },
  {
   "cell_type": "code",
   "execution_count": 49,
   "metadata": {},
   "outputs": [
    {
     "data": {
      "text/plain": [
       "['navigate_click', 'notification_click', 'map_click', 'notebook_click']"
      ]
     },
     "execution_count": 49,
     "metadata": {},
     "output_type": "execute_result"
    }
   ],
   "source": [
    "list(under_day_df[under_day_df[\"fqid\"].isnull()][\"event_name\"].unique())"
   ]
  },
  {
   "cell_type": "code",
   "execution_count": 50,
   "metadata": {},
   "outputs": [
    {
     "data": {
      "text/plain": [
       "['undefined', 'basic', 'close', 'open', 'prev', 'next']"
      ]
     },
     "execution_count": 50,
     "metadata": {},
     "output_type": "execute_result"
    }
   ],
   "source": [
    "list(under_day_df[under_day_df[\"fqid\"].isnull()][\"name\"].unique())"
   ]
  },
  {
   "cell_type": "code",
   "execution_count": 51,
   "metadata": {},
   "outputs": [
    {
     "data": {
      "text/plain": [
       "name\n",
       "undefined    6781807\n",
       "basic         737207\n",
       "close         255483\n",
       "open          227809\n",
       "prev           18577\n",
       "next           11186\n",
       "Name: count, dtype: int64"
      ]
     },
     "execution_count": 51,
     "metadata": {},
     "output_type": "execute_result"
    }
   ],
   "source": [
    "under_day_df[under_day_df[\"fqid\"].isnull()][\"name\"].value_counts()"
   ]
  },
  {
   "cell_type": "code",
   "execution_count": 52,
   "metadata": {},
   "outputs": [
    {
     "data": {
      "text/plain": [
       "['undefined']\n",
       "Categories (6, object): ['basic', 'close', 'next', 'open', 'prev', 'undefined']"
      ]
     },
     "execution_count": 52,
     "metadata": {},
     "output_type": "execute_result"
    }
   ],
   "source": [
    "under_day_df[under_day_df[\"event_name\"]==\"navigate_click\"][\"name\"].unique()"
   ]
  },
  {
   "attachments": {},
   "cell_type": "markdown",
   "metadata": {},
   "source": [
    "### Indagar en FQID"
   ]
  },
  {
   "cell_type": "code",
   "execution_count": 53,
   "metadata": {},
   "outputs": [
    {
     "name": "stdout",
     "output_type": "stream",
     "text": [
      "The event navigate_click has the following non-null fqid values: \n",
      "['teddy', 'photo', 'notebook', 'retirement_letter', 'tobasement', ..., 'block_badge', 'fox', 'block_badge_2', 'block_1', 'chap2_finale']\n",
      "Length: 71\n",
      "Categories (128, object): ['archivist', 'archivist_glasses', 'block', 'block_0', ..., 'fox', 'block_badge_2', 'block_1', 'chap2_finale']\n",
      "\n",
      "The event notification_click does not have any non-null fqid values.\n",
      "The event map_click has the following non-null fqid values: \n",
      "['tunic.kohlcenter', 'tunic.capitol_0', 'tunic.historicalsociety', 'tunic.humanecology', 'tunic.drycleaner', 'tunic.library', 'tunic.capitol_1', 'tunic.wildlife', 'tunic.flaghouse', 'tunic.capitol_2']\n",
      "Categories (128, object): ['archivist', 'archivist_glasses', 'block', 'block_0', ..., 'fox', 'block_badge_2', 'block_1', 'chap2_finale']\n",
      "\n",
      "The event notebook_click does not have any non-null fqid values.\n"
     ]
    }
   ],
   "source": [
    "event_names_with_null_fqid = list(under_day_df[under_day_df[\"fqid\"].isnull()][\"event_name\"].unique())\n",
    "\n",
    "for event in event_names_with_null_fqid:\n",
    "    non_null_fqids = under_day_df[(under_day_df[\"event_name\"] == event) & (under_day_df[\"fqid\"].notnull())]\n",
    "    \n",
    "    if not non_null_fqids.empty:\n",
    "        print(f'The event {event} has the following non-null fqid values: ')\n",
    "        print(non_null_fqids['fqid'].unique())\n",
    "        print()\n",
    "    else:\n",
    "        print(f'The event {event} does not have any non-null fqid values.')\n"
   ]
  },
  {
   "cell_type": "code",
   "execution_count": 54,
   "metadata": {},
   "outputs": [
    {
     "name": "stdout",
     "output_type": "stream",
     "text": [
      "Level group: 0-4\n",
      "Non-null fqid values:\n",
      "['teddy', 'photo', 'notebook', 'retirement_letter', 'tobasement', ..., 'block_tocollection', 'doorblock', 'block_tomap2', 'block_tomap1', 'block_0']\n",
      "Length: 25\n",
      "Categories (128, object): ['archivist', 'archivist_glasses', 'block', 'block_0', ..., 'fox', 'block_badge_2', 'block_1', 'chap2_finale']\n",
      "\n",
      "Level group: 13-22\n",
      "Non-null fqid values:\n",
      "['toentry', 'tobasement', 'seescratches', 'gramps', 'tocage', ..., 'tunic', 'outtolunch', 'need_glasses', 'block_nelson', 'fox']\n",
      "Length: 46\n",
      "Categories (128, object): ['archivist', 'archivist_glasses', 'block', 'block_0', ..., 'fox', 'block_badge_2', 'block_1', 'chap2_finale']\n",
      "\n",
      "Level group: 5-12\n",
      "Non-null fqid values:\n",
      "['boss', 'toentry', 'tobasement', 'tocloset_dirty', 'gramps', ..., 'plaque', 'block_badge', 'block_badge_2', 'block_1', 'chap2_finale']\n",
      "Length: 37\n",
      "Categories (128, object): ['archivist', 'archivist_glasses', 'block', 'block_0', ..., 'fox', 'block_badge_2', 'block_1', 'chap2_finale']\n",
      "\n"
     ]
    }
   ],
   "source": [
    "event = 'navigate_click'\n",
    "data = under_day_df[(under_day_df[\"event_name\"] == event) & (under_day_df[\"fqid\"].notnull())]\n",
    "\n",
    "for level_group, group_data in data.groupby('level_group'):\n",
    "    print(f'Level group: {level_group}')\n",
    "    print('Non-null fqid values:')\n",
    "    print(group_data['fqid'].unique())\n",
    "    print()"
   ]
  },
  {
   "cell_type": "code",
   "execution_count": 55,
   "metadata": {},
   "outputs": [
    {
     "data": {
      "text/plain": [
       "['cutscene_click',\n",
       " 'person_click',\n",
       " 'navigate_click',\n",
       " 'observation_click',\n",
       " 'notification_click',\n",
       " 'object_click',\n",
       " 'object_hover',\n",
       " 'map_hover',\n",
       " 'map_click',\n",
       " 'checkpoint',\n",
       " 'notebook_click']"
      ]
     },
     "execution_count": 55,
     "metadata": {},
     "output_type": "execute_result"
    }
   ],
   "source": [
    "list(under_day_df[\"event_name\"].unique())"
   ]
  },
  {
   "cell_type": "code",
   "execution_count": 56,
   "metadata": {},
   "outputs": [
    {
     "name": "stdout",
     "output_type": "stream",
     "text": [
      "['cutscene_click', 'person_click', 'navigate_click', 'observation_click', 'notification_click', 'object_click', 'map_click', 'notebook_click']\n",
      "Categories (11, object): ['checkpoint', 'cutscene_click', 'map_click', 'map_hover', ..., 'object_click', 'object_hover', 'observation_click', 'person_click']\n",
      "\n",
      "8\n"
     ]
    }
   ],
   "source": [
    "unique_event_names = under_day_df[under_day_df['room_coor_x'].notnull()]['event_name'].unique()\n",
    "print(unique_event_names)\n",
    "print()\n",
    "print(len(unique_event_names))"
   ]
  },
  {
   "cell_type": "code",
   "execution_count": 57,
   "metadata": {},
   "outputs": [
    {
     "name": "stdout",
     "output_type": "stream",
     "text": [
      "{'object_hover', 'checkpoint', 'map_hover'}\n"
     ]
    }
   ],
   "source": [
    "all_event_names = set(under_day_df[\"event_name\"].unique())\n",
    "\n",
    "# Event names where \"room_coor_x\" is not null\n",
    "room_coor_x_event_names = set(under_day_df[under_day_df['room_coor_x'].notnull()]['event_name'].unique())\n",
    "\n",
    "# Event names in room_coor_x_event_names but not in all_event_names\n",
    "missing_event_names = all_event_names.difference(room_coor_x_event_names)\n",
    "\n",
    "print(missing_event_names)"
   ]
  },
  {
   "attachments": {},
   "cell_type": "markdown",
   "metadata": {},
   "source": [
    "## MV text"
   ]
  },
  {
   "cell_type": "code",
   "execution_count": 58,
   "metadata": {},
   "outputs": [
    {
     "data": {
      "text/plain": [
       "Index(['session_id', 'index', 'elapsed_time', 'event_name', 'name', 'level',\n",
       "       'page', 'room_coor_x', 'room_coor_y', 'screen_coor_x', 'screen_coor_y',\n",
       "       'hover_duration', 'text', 'fqid', 'room_fqid', 'text_fqid',\n",
       "       'fullscreen', 'hq', 'music', 'level_group', 'elapsed_time_log'],\n",
       "      dtype='object')"
      ]
     },
     "execution_count": 58,
     "metadata": {},
     "output_type": "execute_result"
    }
   ],
   "source": [
    "under_day_df.columns"
   ]
  },
  {
   "cell_type": "code",
   "execution_count": 59,
   "metadata": {},
   "outputs": [
    {
     "name": "stdout",
     "output_type": "stream",
     "text": [
      "{'cutscene_click', 'observation_click'}\n"
     ]
    }
   ],
   "source": [
    "text_event_names = set(under_day_df[under_day_df[\"text\"].isnull()][\"event_name\"].unique())\n",
    "\n",
    "missing_text_event_names = all_event_names.difference(text_event_names)\n",
    "\n",
    "print(missing_text_event_names)"
   ]
  },
  {
   "cell_type": "code",
   "execution_count": 60,
   "metadata": {},
   "outputs": [
    {
     "data": {
      "text/plain": [
       "{'checkpoint',\n",
       " 'map_click',\n",
       " 'map_hover',\n",
       " 'navigate_click',\n",
       " 'notebook_click',\n",
       " 'notification_click',\n",
       " 'object_click',\n",
       " 'object_hover',\n",
       " 'person_click'}"
      ]
     },
     "execution_count": 60,
     "metadata": {},
     "output_type": "execute_result"
    }
   ],
   "source": [
    "text_event_names"
   ]
  },
  {
   "attachments": {},
   "cell_type": "markdown",
   "metadata": {},
   "source": [
    "### Observation_click"
   ]
  },
  {
   "cell_type": "code",
   "execution_count": 61,
   "metadata": {},
   "outputs": [
    {
     "data": {
      "text/plain": [
       "['basic']\n",
       "Categories (6, object): ['basic', 'close', 'next', 'open', 'prev', 'undefined']"
      ]
     },
     "execution_count": 61,
     "metadata": {},
     "output_type": "execute_result"
    }
   ],
   "source": [
    "under_day_df[under_day_df[\"event_name\"]==\"observation_click\"][\"name\"].unique()"
   ]
  },
  {
   "cell_type": "code",
   "execution_count": 62,
   "metadata": {},
   "outputs": [
    {
     "data": {
      "text/plain": [
       "['photo', 'janitor', 'outtolunch', 'magnify', 'key', ..., 'need_glasses', 'block_nelson', 'block_tomap1', 'block_badge_2', 'block_1']\n",
       "Length: 19\n",
       "Categories (128, object): ['archivist', 'archivist_glasses', 'block', 'block_0', ..., 'fox', 'block_badge_2', 'block_1', 'chap2_finale']"
      ]
     },
     "execution_count": 62,
     "metadata": {},
     "output_type": "execute_result"
    }
   ],
   "source": [
    "under_day_df[under_day_df[\"event_name\"]==\"observation_click\"][\"fqid\"].unique()"
   ]
  },
  {
   "cell_type": "code",
   "execution_count": 63,
   "metadata": {},
   "outputs": [
    {
     "data": {
      "text/plain": [
       "['tunic.historicalsociety.closet', 'tunic.historicalsociety.basement', 'tunic.historicalsociety.stacks', 'tunic.historicalsociety.frontdesk', 'tunic.wildlife.center', ..., 'tunic.humanecology.frontdesk', 'tunic.library.frontdesk', 'tunic.kohlcenter.halloffame', 'tunic.drycleaner.frontdesk', 'tunic.library.microfiche']\n",
       "Length: 13\n",
       "Categories (19, object): ['tunic.capitol_0.hall', 'tunic.capitol_1.hall', 'tunic.capitol_2.hall', 'tunic.drycleaner.frontdesk', ..., 'tunic.kohlcenter.halloffame', 'tunic.library.frontdesk', 'tunic.library.microfiche', 'tunic.wildlife.center']"
      ]
     },
     "execution_count": 63,
     "metadata": {},
     "output_type": "execute_result"
    }
   ],
   "source": [
    "under_day_df[under_day_df[\"event_name\"]==\"observation_click\"][\"room_fqid\"].unique()"
   ]
  },
  {
   "cell_type": "code",
   "execution_count": 64,
   "metadata": {},
   "outputs": [
    {
     "data": {
      "text/plain": [
       "['I love these photos of me and Teddy!', 'Hmm. Button's still not working.', 'Better check back later.', 'I bet the archivist could use this!', 'Yes! It's the key for Teddy's cage!', ..., 'I should find out if she can help me!', 'The libarian said I could find some informati..., 'I should ask the librarian why Wells was here.', 'I wonder if there's a clue in those business ..., 'I should check that logbook to see who owned ...]\n",
       "Length: 25\n",
       "Categories (597, object): ['*COUGH COUGH COUGH*', '*cough cough*', '*grumble grumble*', 'A boring old shirt.', ..., 'Wells sabotaged Gramps!', 'Wells! Where's Teddy? Is he okay?', 'Who is Teddy?', 'Why don't you prove your case?']"
      ]
     },
     "execution_count": 64,
     "metadata": {},
     "output_type": "execute_result"
    }
   ],
   "source": [
    "under_day_df[under_day_df[\"event_name\"]==\"observation_click\"][\"text\"].unique()"
   ]
  },
  {
   "cell_type": "code",
   "execution_count": 65,
   "metadata": {},
   "outputs": [
    {
     "data": {
      "text/plain": [
       "text\n",
       "It's locked!                                                                            26231\n",
       "I bet the archivist could use this!                                                     23150\n",
       "It's OK, girl! Look, I found you a cricket!                                             23127\n",
       "Yes! It's the key for Teddy's cage!                                                     23100\n",
       "People sure drink a lot of coffee around here.                                          22910\n",
       "                                                                                        ...  \n",
       "I need to get to the Capitol and tell Gramps!                                               0\n",
       "I need to learn more about this flag!                                                       0\n",
       "I need to take the artifact upstairs. Why don't you investigate those scratch marks?        0\n",
       "I need your help!                                                                           0\n",
       "Why don't you prove your case?                                                              0\n",
       "Name: count, Length: 597, dtype: int64"
      ]
     },
     "execution_count": 65,
     "metadata": {},
     "output_type": "execute_result"
    }
   ],
   "source": [
    "under_day_df[under_day_df[\"event_name\"]==\"observation_click\"][\"text\"].value_counts()"
   ]
  },
  {
   "attachments": {},
   "cell_type": "markdown",
   "metadata": {},
   "source": [
    "## MV text_fqid"
   ]
  },
  {
   "cell_type": "code",
   "execution_count": 66,
   "metadata": {},
   "outputs": [
    {
     "data": {
      "text/plain": [
       "{'checkpoint',\n",
       " 'map_click',\n",
       " 'map_hover',\n",
       " 'navigate_click',\n",
       " 'notebook_click',\n",
       " 'object_click',\n",
       " 'object_hover'}"
      ]
     },
     "execution_count": 66,
     "metadata": {},
     "output_type": "execute_result"
    }
   ],
   "source": [
    "text_fqid_event_names = set(under_day_df[under_day_df[\"text_fqid\"].isnull()][\"event_name\"].unique())\n",
    "text_fqid_event_names"
   ]
  },
  {
   "cell_type": "code",
   "execution_count": 67,
   "metadata": {},
   "outputs": [
    {
     "name": "stdout",
     "output_type": "stream",
     "text": [
      "{'notification_click', 'cutscene_click', 'observation_click', 'person_click'}\n"
     ]
    }
   ],
   "source": [
    "missing_text_fqid_event_names = all_event_names.difference(text_fqid_event_names)\n",
    "\n",
    "print(missing_text_fqid_event_names)"
   ]
  },
  {
   "cell_type": "code",
   "execution_count": 68,
   "metadata": {},
   "outputs": [
    {
     "name": "stdout",
     "output_type": "stream",
     "text": [
      "{'notification_click', 'person_click'}\n"
     ]
    }
   ],
   "source": [
    "print(missing_text_fqid_event_names.difference(missing_text_event_names))"
   ]
  },
  {
   "attachments": {},
   "cell_type": "markdown",
   "metadata": {},
   "source": [
    "## Diferencia entre MV de text y text_fqid"
   ]
  },
  {
   "cell_type": "code",
   "execution_count": 69,
   "metadata": {},
   "outputs": [
    {
     "data": {
      "text/html": [
       "<div>\n",
       "<style scoped>\n",
       "    .dataframe tbody tr th:only-of-type {\n",
       "        vertical-align: middle;\n",
       "    }\n",
       "\n",
       "    .dataframe tbody tr th {\n",
       "        vertical-align: top;\n",
       "    }\n",
       "\n",
       "    .dataframe thead th {\n",
       "        text-align: right;\n",
       "    }\n",
       "</style>\n",
       "<table border=\"1\" class=\"dataframe\">\n",
       "  <thead>\n",
       "    <tr style=\"text-align: right;\">\n",
       "      <th></th>\n",
       "      <th>session_id</th>\n",
       "      <th>index</th>\n",
       "      <th>elapsed_time</th>\n",
       "      <th>event_name</th>\n",
       "      <th>name</th>\n",
       "      <th>level</th>\n",
       "      <th>page</th>\n",
       "      <th>room_coor_x</th>\n",
       "      <th>room_coor_y</th>\n",
       "      <th>screen_coor_x</th>\n",
       "      <th>...</th>\n",
       "      <th>hover_duration</th>\n",
       "      <th>text</th>\n",
       "      <th>fqid</th>\n",
       "      <th>room_fqid</th>\n",
       "      <th>text_fqid</th>\n",
       "      <th>fullscreen</th>\n",
       "      <th>hq</th>\n",
       "      <th>music</th>\n",
       "      <th>level_group</th>\n",
       "      <th>elapsed_time_log</th>\n",
       "    </tr>\n",
       "  </thead>\n",
       "  <tbody>\n",
       "    <tr>\n",
       "      <th>299422</th>\n",
       "      <td>20100114224046390</td>\n",
       "      <td>123</td>\n",
       "      <td>136051</td>\n",
       "      <td>person_click</td>\n",
       "      <td>basic</td>\n",
       "      <td>1</td>\n",
       "      <td>NaN</td>\n",
       "      <td>114.378166</td>\n",
       "      <td>105.424698</td>\n",
       "      <td>533.0</td>\n",
       "      <td>...</td>\n",
       "      <td>NaN</td>\n",
       "      <td>NaN</td>\n",
       "      <td>gramps</td>\n",
       "      <td>tunic.historicalsociety.entry</td>\n",
       "      <td>tunic.historicalsociety.entry.gramps.hub</td>\n",
       "      <td>0</td>\n",
       "      <td>0</td>\n",
       "      <td>1</td>\n",
       "      <td>0-4</td>\n",
       "      <td>12.0</td>\n",
       "    </tr>\n",
       "    <tr>\n",
       "      <th>660031</th>\n",
       "      <td>20100307371130370</td>\n",
       "      <td>51</td>\n",
       "      <td>64360</td>\n",
       "      <td>person_click</td>\n",
       "      <td>basic</td>\n",
       "      <td>1</td>\n",
       "      <td>NaN</td>\n",
       "      <td>-50.394051</td>\n",
       "      <td>9.397367</td>\n",
       "      <td>432.0</td>\n",
       "      <td>...</td>\n",
       "      <td>NaN</td>\n",
       "      <td>NaN</td>\n",
       "      <td>gramps</td>\n",
       "      <td>tunic.historicalsociety.entry</td>\n",
       "      <td>tunic.historicalsociety.entry.gramps.hub</td>\n",
       "      <td>0</td>\n",
       "      <td>0</td>\n",
       "      <td>1</td>\n",
       "      <td>0-4</td>\n",
       "      <td>11.0</td>\n",
       "    </tr>\n",
       "    <tr>\n",
       "      <th>1727007</th>\n",
       "      <td>20110114003348764</td>\n",
       "      <td>632</td>\n",
       "      <td>1249264</td>\n",
       "      <td>notification_click</td>\n",
       "      <td>basic</td>\n",
       "      <td>15</td>\n",
       "      <td>NaN</td>\n",
       "      <td>-275.873718</td>\n",
       "      <td>-373.517761</td>\n",
       "      <td>394.0</td>\n",
       "      <td>...</td>\n",
       "      <td>NaN</td>\n",
       "      <td>NaN</td>\n",
       "      <td>NaN</td>\n",
       "      <td>tunic.historicalsociety.entry</td>\n",
       "      <td>tunic.historicalsociety.entry.directory.closeu...</td>\n",
       "      <td>0</td>\n",
       "      <td>0</td>\n",
       "      <td>1</td>\n",
       "      <td>13-22</td>\n",
       "      <td>14.0</td>\n",
       "    </tr>\n",
       "    <tr>\n",
       "      <th>1727008</th>\n",
       "      <td>20110114003348764</td>\n",
       "      <td>633</td>\n",
       "      <td>1250602</td>\n",
       "      <td>notification_click</td>\n",
       "      <td>basic</td>\n",
       "      <td>15</td>\n",
       "      <td>NaN</td>\n",
       "      <td>-305.197906</td>\n",
       "      <td>-386.544678</td>\n",
       "      <td>376.0</td>\n",
       "      <td>...</td>\n",
       "      <td>NaN</td>\n",
       "      <td>NaN</td>\n",
       "      <td>NaN</td>\n",
       "      <td>tunic.historicalsociety.entry</td>\n",
       "      <td>tunic.historicalsociety.entry.directory.closeu...</td>\n",
       "      <td>0</td>\n",
       "      <td>0</td>\n",
       "      <td>1</td>\n",
       "      <td>13-22</td>\n",
       "      <td>14.0</td>\n",
       "    </tr>\n",
       "    <tr>\n",
       "      <th>1806929</th>\n",
       "      <td>20110119005511204</td>\n",
       "      <td>2382</td>\n",
       "      <td>612123</td>\n",
       "      <td>notification_click</td>\n",
       "      <td>basic</td>\n",
       "      <td>21</td>\n",
       "      <td>NaN</td>\n",
       "      <td>93.311218</td>\n",
       "      <td>54.747627</td>\n",
       "      <td>458.0</td>\n",
       "      <td>...</td>\n",
       "      <td>NaN</td>\n",
       "      <td>NaN</td>\n",
       "      <td>NaN</td>\n",
       "      <td>tunic.historicalsociety.stacks</td>\n",
       "      <td>tunic.historicalsociety.stacks.journals_flag.p...</td>\n",
       "      <td>0</td>\n",
       "      <td>0</td>\n",
       "      <td>1</td>\n",
       "      <td>13-22</td>\n",
       "      <td>13.5</td>\n",
       "    </tr>\n",
       "    <tr>\n",
       "      <th>...</th>\n",
       "      <td>...</td>\n",
       "      <td>...</td>\n",
       "      <td>...</td>\n",
       "      <td>...</td>\n",
       "      <td>...</td>\n",
       "      <td>...</td>\n",
       "      <td>...</td>\n",
       "      <td>...</td>\n",
       "      <td>...</td>\n",
       "      <td>...</td>\n",
       "      <td>...</td>\n",
       "      <td>...</td>\n",
       "      <td>...</td>\n",
       "      <td>...</td>\n",
       "      <td>...</td>\n",
       "      <td>...</td>\n",
       "      <td>...</td>\n",
       "      <td>...</td>\n",
       "      <td>...</td>\n",
       "      <td>...</td>\n",
       "      <td>...</td>\n",
       "    </tr>\n",
       "    <tr>\n",
       "      <th>24318098</th>\n",
       "      <td>22050112514910092</td>\n",
       "      <td>34</td>\n",
       "      <td>136999</td>\n",
       "      <td>person_click</td>\n",
       "      <td>basic</td>\n",
       "      <td>1</td>\n",
       "      <td>NaN</td>\n",
       "      <td>-24.455563</td>\n",
       "      <td>-204.358170</td>\n",
       "      <td>446.0</td>\n",
       "      <td>...</td>\n",
       "      <td>NaN</td>\n",
       "      <td>NaN</td>\n",
       "      <td>gramps</td>\n",
       "      <td>tunic.historicalsociety.entry</td>\n",
       "      <td>tunic.historicalsociety.entry.gramps.hub</td>\n",
       "      <td>0</td>\n",
       "      <td>0</td>\n",
       "      <td>1</td>\n",
       "      <td>0-4</td>\n",
       "      <td>12.0</td>\n",
       "    </tr>\n",
       "    <tr>\n",
       "      <th>24437716</th>\n",
       "      <td>22050310163640436</td>\n",
       "      <td>33</td>\n",
       "      <td>86622</td>\n",
       "      <td>person_click</td>\n",
       "      <td>basic</td>\n",
       "      <td>1</td>\n",
       "      <td>NaN</td>\n",
       "      <td>160.535233</td>\n",
       "      <td>-38.457359</td>\n",
       "      <td>551.0</td>\n",
       "      <td>...</td>\n",
       "      <td>NaN</td>\n",
       "      <td>NaN</td>\n",
       "      <td>gramps</td>\n",
       "      <td>tunic.historicalsociety.entry</td>\n",
       "      <td>tunic.historicalsociety.entry.gramps.hub</td>\n",
       "      <td>0</td>\n",
       "      <td>0</td>\n",
       "      <td>1</td>\n",
       "      <td>0-4</td>\n",
       "      <td>11.5</td>\n",
       "    </tr>\n",
       "    <tr>\n",
       "      <th>24980707</th>\n",
       "      <td>22070210112928264</td>\n",
       "      <td>44</td>\n",
       "      <td>34408</td>\n",
       "      <td>person_click</td>\n",
       "      <td>basic</td>\n",
       "      <td>1</td>\n",
       "      <td>NaN</td>\n",
       "      <td>324.620911</td>\n",
       "      <td>-257.642700</td>\n",
       "      <td>661.0</td>\n",
       "      <td>...</td>\n",
       "      <td>NaN</td>\n",
       "      <td>NaN</td>\n",
       "      <td>gramps</td>\n",
       "      <td>tunic.historicalsociety.entry</td>\n",
       "      <td>tunic.historicalsociety.entry.gramps.hub</td>\n",
       "      <td>0</td>\n",
       "      <td>0</td>\n",
       "      <td>1</td>\n",
       "      <td>0-4</td>\n",
       "      <td>10.5</td>\n",
       "    </tr>\n",
       "    <tr>\n",
       "      <th>25143348</th>\n",
       "      <td>22070413190991200</td>\n",
       "      <td>48</td>\n",
       "      <td>82905</td>\n",
       "      <td>person_click</td>\n",
       "      <td>basic</td>\n",
       "      <td>1</td>\n",
       "      <td>NaN</td>\n",
       "      <td>110.192589</td>\n",
       "      <td>-117.469971</td>\n",
       "      <td>540.0</td>\n",
       "      <td>...</td>\n",
       "      <td>NaN</td>\n",
       "      <td>NaN</td>\n",
       "      <td>gramps</td>\n",
       "      <td>tunic.historicalsociety.entry</td>\n",
       "      <td>tunic.historicalsociety.entry.gramps.hub</td>\n",
       "      <td>0</td>\n",
       "      <td>0</td>\n",
       "      <td>1</td>\n",
       "      <td>0-4</td>\n",
       "      <td>11.5</td>\n",
       "    </tr>\n",
       "    <tr>\n",
       "      <th>25494417</th>\n",
       "      <td>22080409525048976</td>\n",
       "      <td>55</td>\n",
       "      <td>77650</td>\n",
       "      <td>person_click</td>\n",
       "      <td>basic</td>\n",
       "      <td>1</td>\n",
       "      <td>NaN</td>\n",
       "      <td>42.721546</td>\n",
       "      <td>-165.467285</td>\n",
       "      <td>484.0</td>\n",
       "      <td>...</td>\n",
       "      <td>NaN</td>\n",
       "      <td>NaN</td>\n",
       "      <td>gramps</td>\n",
       "      <td>tunic.historicalsociety.entry</td>\n",
       "      <td>tunic.historicalsociety.entry.gramps.hub</td>\n",
       "      <td>0</td>\n",
       "      <td>0</td>\n",
       "      <td>1</td>\n",
       "      <td>0-4</td>\n",
       "      <td>11.5</td>\n",
       "    </tr>\n",
       "  </tbody>\n",
       "</table>\n",
       "<p>102 rows × 21 columns</p>\n",
       "</div>"
      ],
      "text/plain": [
       "                 session_id  index  elapsed_time          event_name   name   \n",
       "299422    20100114224046390    123        136051        person_click  basic  \\\n",
       "660031    20100307371130370     51         64360        person_click  basic   \n",
       "1727007   20110114003348764    632       1249264  notification_click  basic   \n",
       "1727008   20110114003348764    633       1250602  notification_click  basic   \n",
       "1806929   20110119005511204   2382        612123  notification_click  basic   \n",
       "...                     ...    ...           ...                 ...    ...   \n",
       "24318098  22050112514910092     34        136999        person_click  basic   \n",
       "24437716  22050310163640436     33         86622        person_click  basic   \n",
       "24980707  22070210112928264     44         34408        person_click  basic   \n",
       "25143348  22070413190991200     48         82905        person_click  basic   \n",
       "25494417  22080409525048976     55         77650        person_click  basic   \n",
       "\n",
       "          level  page  room_coor_x  room_coor_y  screen_coor_x  ...   \n",
       "299422        1   NaN   114.378166   105.424698          533.0  ...  \\\n",
       "660031        1   NaN   -50.394051     9.397367          432.0  ...   \n",
       "1727007      15   NaN  -275.873718  -373.517761          394.0  ...   \n",
       "1727008      15   NaN  -305.197906  -386.544678          376.0  ...   \n",
       "1806929      21   NaN    93.311218    54.747627          458.0  ...   \n",
       "...         ...   ...          ...          ...            ...  ...   \n",
       "24318098      1   NaN   -24.455563  -204.358170          446.0  ...   \n",
       "24437716      1   NaN   160.535233   -38.457359          551.0  ...   \n",
       "24980707      1   NaN   324.620911  -257.642700          661.0  ...   \n",
       "25143348      1   NaN   110.192589  -117.469971          540.0  ...   \n",
       "25494417      1   NaN    42.721546  -165.467285          484.0  ...   \n",
       "\n",
       "          hover_duration  text    fqid                       room_fqid   \n",
       "299422               NaN   NaN  gramps   tunic.historicalsociety.entry  \\\n",
       "660031               NaN   NaN  gramps   tunic.historicalsociety.entry   \n",
       "1727007              NaN   NaN     NaN   tunic.historicalsociety.entry   \n",
       "1727008              NaN   NaN     NaN   tunic.historicalsociety.entry   \n",
       "1806929              NaN   NaN     NaN  tunic.historicalsociety.stacks   \n",
       "...                  ...   ...     ...                             ...   \n",
       "24318098             NaN   NaN  gramps   tunic.historicalsociety.entry   \n",
       "24437716             NaN   NaN  gramps   tunic.historicalsociety.entry   \n",
       "24980707             NaN   NaN  gramps   tunic.historicalsociety.entry   \n",
       "25143348             NaN   NaN  gramps   tunic.historicalsociety.entry   \n",
       "25494417             NaN   NaN  gramps   tunic.historicalsociety.entry   \n",
       "\n",
       "                                                  text_fqid fullscreen hq   \n",
       "299422             tunic.historicalsociety.entry.gramps.hub          0  0  \\\n",
       "660031             tunic.historicalsociety.entry.gramps.hub          0  0   \n",
       "1727007   tunic.historicalsociety.entry.directory.closeu...          0  0   \n",
       "1727008   tunic.historicalsociety.entry.directory.closeu...          0  0   \n",
       "1806929   tunic.historicalsociety.stacks.journals_flag.p...          0  0   \n",
       "...                                                     ...        ... ..   \n",
       "24318098           tunic.historicalsociety.entry.gramps.hub          0  0   \n",
       "24437716           tunic.historicalsociety.entry.gramps.hub          0  0   \n",
       "24980707           tunic.historicalsociety.entry.gramps.hub          0  0   \n",
       "25143348           tunic.historicalsociety.entry.gramps.hub          0  0   \n",
       "25494417           tunic.historicalsociety.entry.gramps.hub          0  0   \n",
       "\n",
       "         music level_group elapsed_time_log  \n",
       "299422       1         0-4             12.0  \n",
       "660031       1         0-4             11.0  \n",
       "1727007      1       13-22             14.0  \n",
       "1727008      1       13-22             14.0  \n",
       "1806929      1       13-22             13.5  \n",
       "...        ...         ...              ...  \n",
       "24318098     1         0-4             12.0  \n",
       "24437716     1         0-4             11.5  \n",
       "24980707     1         0-4             10.5  \n",
       "25143348     1         0-4             11.5  \n",
       "25494417     1         0-4             11.5  \n",
       "\n",
       "[102 rows x 21 columns]"
      ]
     },
     "execution_count": 69,
     "metadata": {},
     "output_type": "execute_result"
    }
   ],
   "source": [
    "text_mv_df= under_day_df[(under_day_df['text'].isnull()) & (under_day_df['text_fqid'].notnull())]\n",
    "text_mv_df"
   ]
  },
  {
   "cell_type": "code",
   "execution_count": 70,
   "metadata": {},
   "outputs": [
    {
     "data": {
      "text/plain": [
       "105"
      ]
     },
     "execution_count": 70,
     "metadata": {},
     "output_type": "execute_result"
    }
   ],
   "source": [
    "text_difference_mv"
   ]
  },
  {
   "attachments": {},
   "cell_type": "markdown",
   "metadata": {},
   "source": [
    "Las filas equivalen a la diferencia de los missing values."
   ]
  },
  {
   "cell_type": "code",
   "execution_count": 71,
   "metadata": {},
   "outputs": [
    {
     "data": {
      "text/html": [
       "<div>\n",
       "<style scoped>\n",
       "    .dataframe tbody tr th:only-of-type {\n",
       "        vertical-align: middle;\n",
       "    }\n",
       "\n",
       "    .dataframe tbody tr th {\n",
       "        vertical-align: top;\n",
       "    }\n",
       "\n",
       "    .dataframe thead th {\n",
       "        text-align: right;\n",
       "    }\n",
       "</style>\n",
       "<table border=\"1\" class=\"dataframe\">\n",
       "  <thead>\n",
       "    <tr style=\"text-align: right;\">\n",
       "      <th></th>\n",
       "      <th>session_id</th>\n",
       "      <th>index</th>\n",
       "      <th>elapsed_time</th>\n",
       "      <th>event_name</th>\n",
       "      <th>name</th>\n",
       "      <th>level</th>\n",
       "      <th>page</th>\n",
       "      <th>room_coor_x</th>\n",
       "      <th>room_coor_y</th>\n",
       "      <th>screen_coor_x</th>\n",
       "      <th>...</th>\n",
       "      <th>hover_duration</th>\n",
       "      <th>text</th>\n",
       "      <th>fqid</th>\n",
       "      <th>room_fqid</th>\n",
       "      <th>text_fqid</th>\n",
       "      <th>fullscreen</th>\n",
       "      <th>hq</th>\n",
       "      <th>music</th>\n",
       "      <th>level_group</th>\n",
       "      <th>elapsed_time_log</th>\n",
       "    </tr>\n",
       "  </thead>\n",
       "  <tbody>\n",
       "  </tbody>\n",
       "</table>\n",
       "<p>0 rows × 21 columns</p>\n",
       "</div>"
      ],
      "text/plain": [
       "Empty DataFrame\n",
       "Columns: [session_id, index, elapsed_time, event_name, name, level, page, room_coor_x, room_coor_y, screen_coor_x, screen_coor_y, hover_duration, text, fqid, room_fqid, text_fqid, fullscreen, hq, music, level_group, elapsed_time_log]\n",
       "Index: []\n",
       "\n",
       "[0 rows x 21 columns]"
      ]
     },
     "execution_count": 71,
     "metadata": {},
     "output_type": "execute_result"
    }
   ],
   "source": [
    "under_day_df[(under_day_df['text'].notnull()) & (under_day_df['text_fqid'].isnull())]"
   ]
  },
  {
   "attachments": {},
   "cell_type": "markdown",
   "metadata": {},
   "source": [
    "### Estudio de text_mv_df"
   ]
  },
  {
   "cell_type": "code",
   "execution_count": 72,
   "metadata": {},
   "outputs": [
    {
     "data": {
      "text/plain": [
       "54"
      ]
     },
     "execution_count": 72,
     "metadata": {},
     "output_type": "execute_result"
    }
   ],
   "source": [
    "len(text_mv_df[\"session_id\"].unique())\n"
   ]
  },
  {
   "cell_type": "code",
   "execution_count": 73,
   "metadata": {},
   "outputs": [
    {
     "data": {
      "image/png": "[encoded data removed]",
      "text/plain": [
       "<Figure size 432x288 with 1 Axes>"
      ]
     },
     "metadata": {
      "needs_background": "light"
     },
     "output_type": "display_data"
    }
   ],
   "source": [
    "sns.histplot(data=text_mv_df, x=\"elapsed_time_log\")\n",
    "plt.show()"
   ]
  },
  {
   "cell_type": "code",
   "execution_count": 74,
   "metadata": {},
   "outputs": [
    {
     "data": {
      "text/plain": [
       "['gramps', NaN]\n",
       "Categories (128, object): ['archivist', 'archivist_glasses', 'block', 'block_0', ..., 'fox', 'block_badge_2', 'block_1', 'chap2_finale']"
      ]
     },
     "execution_count": 74,
     "metadata": {},
     "output_type": "execute_result"
    }
   ],
   "source": [
    "text_mv_df[\"fqid\"].unique()"
   ]
  },
  {
   "cell_type": "code",
   "execution_count": 75,
   "metadata": {},
   "outputs": [
    {
     "data": {
      "text/plain": [
       "['person_click', 'notification_click']\n",
       "Categories (11, object): ['checkpoint', 'cutscene_click', 'map_click', 'map_hover', ..., 'object_click', 'object_hover', 'observation_click', 'person_click']"
      ]
     },
     "execution_count": 75,
     "metadata": {},
     "output_type": "execute_result"
    }
   ],
   "source": [
    "text_mv_df[\"event_name\"].unique()"
   ]
  },
  {
   "cell_type": "code",
   "execution_count": 76,
   "metadata": {},
   "outputs": [
    {
     "data": {
      "text/plain": [
       "{'tunic.historicalsociety.entry.directory.closeup.archivist',\n",
       " 'tunic.historicalsociety.entry.gramps.hub',\n",
       " 'tunic.historicalsociety.stacks.journals.pic_2.bingo',\n",
       " 'tunic.historicalsociety.stacks.journals_flag.pic_0.bingo',\n",
       " 'tunic.historicalsociety.stacks.journals_flag.pic_2.bingo'}"
      ]
     },
     "execution_count": 76,
     "metadata": {},
     "output_type": "execute_result"
    }
   ],
   "source": [
    "set(text_mv_df[\"text_fqid\"].unique())"
   ]
  },
  {
   "cell_type": "code",
   "execution_count": 77,
   "metadata": {},
   "outputs": [
    {
     "data": {
      "text/plain": [
       "{'tunic.historicalsociety.entry.directory.closeup.archivist',\n",
       " 'tunic.historicalsociety.stacks.journals.pic_2.bingo',\n",
       " 'tunic.historicalsociety.stacks.journals_flag.pic_0.bingo',\n",
       " 'tunic.historicalsociety.stacks.journals_flag.pic_2.bingo'}"
      ]
     },
     "execution_count": 77,
     "metadata": {},
     "output_type": "execute_result"
    }
   ],
   "source": [
    "set(text_mv_df[text_mv_df[\"event_name\"]==\"notification_click\"][\"text_fqid\"].unique())"
   ]
  },
  {
   "cell_type": "code",
   "execution_count": 78,
   "metadata": {},
   "outputs": [
    {
     "data": {
      "text/plain": [
       "38"
      ]
     },
     "execution_count": 78,
     "metadata": {},
     "output_type": "execute_result"
    }
   ],
   "source": [
    "len(under_day_df[under_day_df[\"text_fqid\"]==\"tunic.historicalsociety.entry.gramps.hub\"][\"session_id\"].unique())"
   ]
  },
  {
   "cell_type": "code",
   "execution_count": 79,
   "metadata": {},
   "outputs": [
    {
     "data": {
      "text/plain": [
       "array([1], dtype=uint8)"
      ]
     },
     "execution_count": 79,
     "metadata": {},
     "output_type": "execute_result"
    }
   ],
   "source": [
    "under_day_df[under_day_df[\"text_fqid\"]==\"tunic.historicalsociety.entry.gramps.hub\"][\"level\"].unique()"
   ]
  },
  {
   "cell_type": "code",
   "execution_count": 80,
   "metadata": {},
   "outputs": [
    {
     "data": {
      "text/plain": [
       "22938"
      ]
     },
     "execution_count": 80,
     "metadata": {},
     "output_type": "execute_result"
    }
   ],
   "source": [
    "len(under_day_df[\"session_id\"].unique())"
   ]
  },
  {
   "cell_type": "code",
   "execution_count": 81,
   "metadata": {},
   "outputs": [
    {
     "data": {
      "text/plain": [
       "0.166"
      ]
     },
     "execution_count": 81,
     "metadata": {},
     "output_type": "execute_result"
    }
   ],
   "source": [
    "round((38/22938)*100,3)"
   ]
  },
  {
   "attachments": {},
   "cell_type": "markdown",
   "metadata": {},
   "source": [
    "Solo hay 38 sesiones que han coincidido con este \"text_fqid\""
   ]
  },
  {
   "attachments": {},
   "cell_type": "markdown",
   "metadata": {},
   "source": [
    "# Diferencia de elapsed time entre eventos"
   ]
  },
  {
   "attachments": {},
   "cell_type": "markdown",
   "metadata": {},
   "source": [
    "https://www.kaggle.com/competitions/predict-student-performance-from-game-play/discussion/384342#2134312"
   ]
  },
  {
   "cell_type": "code",
   "execution_count": 82,
   "metadata": {},
   "outputs": [
    {
     "data": {
      "text/html": [
       "<div>\n",
       "<style scoped>\n",
       "    .dataframe tbody tr th:only-of-type {\n",
       "        vertical-align: middle;\n",
       "    }\n",
       "\n",
       "    .dataframe tbody tr th {\n",
       "        vertical-align: top;\n",
       "    }\n",
       "\n",
       "    .dataframe thead th {\n",
       "        text-align: right;\n",
       "    }\n",
       "</style>\n",
       "<table border=\"1\" class=\"dataframe\">\n",
       "  <thead>\n",
       "    <tr style=\"text-align: right;\">\n",
       "      <th></th>\n",
       "      <th>session_id</th>\n",
       "      <th>index</th>\n",
       "      <th>elapsed_time</th>\n",
       "      <th>event_name</th>\n",
       "      <th>name</th>\n",
       "      <th>level</th>\n",
       "      <th>page</th>\n",
       "      <th>room_coor_x</th>\n",
       "      <th>room_coor_y</th>\n",
       "      <th>screen_coor_x</th>\n",
       "      <th>...</th>\n",
       "      <th>hover_duration</th>\n",
       "      <th>text</th>\n",
       "      <th>fqid</th>\n",
       "      <th>room_fqid</th>\n",
       "      <th>text_fqid</th>\n",
       "      <th>fullscreen</th>\n",
       "      <th>hq</th>\n",
       "      <th>music</th>\n",
       "      <th>level_group</th>\n",
       "      <th>elapsed_time_log</th>\n",
       "    </tr>\n",
       "  </thead>\n",
       "  <tbody>\n",
       "    <tr>\n",
       "      <th>0</th>\n",
       "      <td>20090312431273200</td>\n",
       "      <td>0</td>\n",
       "      <td>0</td>\n",
       "      <td>cutscene_click</td>\n",
       "      <td>basic</td>\n",
       "      <td>0</td>\n",
       "      <td>NaN</td>\n",
       "      <td>-413.991394</td>\n",
       "      <td>-159.314682</td>\n",
       "      <td>380.0</td>\n",
       "      <td>...</td>\n",
       "      <td>NaN</td>\n",
       "      <td>undefined</td>\n",
       "      <td>intro</td>\n",
       "      <td>tunic.historicalsociety.closet</td>\n",
       "      <td>tunic.historicalsociety.closet.intro</td>\n",
       "      <td>0</td>\n",
       "      <td>0</td>\n",
       "      <td>1</td>\n",
       "      <td>0-4</td>\n",
       "      <td>0.0</td>\n",
       "    </tr>\n",
       "    <tr>\n",
       "      <th>1</th>\n",
       "      <td>20090312431273200</td>\n",
       "      <td>1</td>\n",
       "      <td>1323</td>\n",
       "      <td>person_click</td>\n",
       "      <td>basic</td>\n",
       "      <td>0</td>\n",
       "      <td>NaN</td>\n",
       "      <td>-413.991394</td>\n",
       "      <td>-159.314682</td>\n",
       "      <td>380.0</td>\n",
       "      <td>...</td>\n",
       "      <td>NaN</td>\n",
       "      <td>Whatcha doing over there, Jo?</td>\n",
       "      <td>gramps</td>\n",
       "      <td>tunic.historicalsociety.closet</td>\n",
       "      <td>tunic.historicalsociety.closet.gramps.intro_0_...</td>\n",
       "      <td>0</td>\n",
       "      <td>0</td>\n",
       "      <td>1</td>\n",
       "      <td>0-4</td>\n",
       "      <td>7.0</td>\n",
       "    </tr>\n",
       "    <tr>\n",
       "      <th>2</th>\n",
       "      <td>20090312431273200</td>\n",
       "      <td>2</td>\n",
       "      <td>831</td>\n",
       "      <td>person_click</td>\n",
       "      <td>basic</td>\n",
       "      <td>0</td>\n",
       "      <td>NaN</td>\n",
       "      <td>-413.991394</td>\n",
       "      <td>-159.314682</td>\n",
       "      <td>380.0</td>\n",
       "      <td>...</td>\n",
       "      <td>NaN</td>\n",
       "      <td>Just talking to Teddy.</td>\n",
       "      <td>gramps</td>\n",
       "      <td>tunic.historicalsociety.closet</td>\n",
       "      <td>tunic.historicalsociety.closet.gramps.intro_0_...</td>\n",
       "      <td>0</td>\n",
       "      <td>0</td>\n",
       "      <td>1</td>\n",
       "      <td>0-4</td>\n",
       "      <td>6.5</td>\n",
       "    </tr>\n",
       "    <tr>\n",
       "      <th>3</th>\n",
       "      <td>20090312431273200</td>\n",
       "      <td>3</td>\n",
       "      <td>1147</td>\n",
       "      <td>person_click</td>\n",
       "      <td>basic</td>\n",
       "      <td>0</td>\n",
       "      <td>NaN</td>\n",
       "      <td>-413.991394</td>\n",
       "      <td>-159.314682</td>\n",
       "      <td>380.0</td>\n",
       "      <td>...</td>\n",
       "      <td>NaN</td>\n",
       "      <td>I gotta run to my meeting!</td>\n",
       "      <td>gramps</td>\n",
       "      <td>tunic.historicalsociety.closet</td>\n",
       "      <td>tunic.historicalsociety.closet.gramps.intro_0_...</td>\n",
       "      <td>0</td>\n",
       "      <td>0</td>\n",
       "      <td>1</td>\n",
       "      <td>0-4</td>\n",
       "      <td>7.0</td>\n",
       "    </tr>\n",
       "    <tr>\n",
       "      <th>4</th>\n",
       "      <td>20090312431273200</td>\n",
       "      <td>4</td>\n",
       "      <td>1863</td>\n",
       "      <td>person_click</td>\n",
       "      <td>basic</td>\n",
       "      <td>0</td>\n",
       "      <td>NaN</td>\n",
       "      <td>-412.991394</td>\n",
       "      <td>-159.314682</td>\n",
       "      <td>381.0</td>\n",
       "      <td>...</td>\n",
       "      <td>NaN</td>\n",
       "      <td>Can I come, Gramps?</td>\n",
       "      <td>gramps</td>\n",
       "      <td>tunic.historicalsociety.closet</td>\n",
       "      <td>tunic.historicalsociety.closet.gramps.intro_0_...</td>\n",
       "      <td>0</td>\n",
       "      <td>0</td>\n",
       "      <td>1</td>\n",
       "      <td>0-4</td>\n",
       "      <td>7.5</td>\n",
       "    </tr>\n",
       "    <tr>\n",
       "      <th>...</th>\n",
       "      <td>...</td>\n",
       "      <td>...</td>\n",
       "      <td>...</td>\n",
       "      <td>...</td>\n",
       "      <td>...</td>\n",
       "      <td>...</td>\n",
       "      <td>...</td>\n",
       "      <td>...</td>\n",
       "      <td>...</td>\n",
       "      <td>...</td>\n",
       "      <td>...</td>\n",
       "      <td>...</td>\n",
       "      <td>...</td>\n",
       "      <td>...</td>\n",
       "      <td>...</td>\n",
       "      <td>...</td>\n",
       "      <td>...</td>\n",
       "      <td>...</td>\n",
       "      <td>...</td>\n",
       "      <td>...</td>\n",
       "      <td>...</td>\n",
       "    </tr>\n",
       "    <tr>\n",
       "      <th>26296941</th>\n",
       "      <td>22100221145014656</td>\n",
       "      <td>1600</td>\n",
       "      <td>5483231</td>\n",
       "      <td>navigate_click</td>\n",
       "      <td>undefined</td>\n",
       "      <td>22</td>\n",
       "      <td>NaN</td>\n",
       "      <td>343.887299</td>\n",
       "      <td>36.701027</td>\n",
       "      <td>483.0</td>\n",
       "      <td>...</td>\n",
       "      <td>NaN</td>\n",
       "      <td>NaN</td>\n",
       "      <td>NaN</td>\n",
       "      <td>tunic.capitol_2.hall</td>\n",
       "      <td>NaN</td>\n",
       "      <td>0</td>\n",
       "      <td>0</td>\n",
       "      <td>1</td>\n",
       "      <td>13-22</td>\n",
       "      <td>15.5</td>\n",
       "    </tr>\n",
       "    <tr>\n",
       "      <th>26296942</th>\n",
       "      <td>22100221145014656</td>\n",
       "      <td>1601</td>\n",
       "      <td>5485166</td>\n",
       "      <td>navigate_click</td>\n",
       "      <td>undefined</td>\n",
       "      <td>22</td>\n",
       "      <td>NaN</td>\n",
       "      <td>332.696075</td>\n",
       "      <td>141.493179</td>\n",
       "      <td>545.0</td>\n",
       "      <td>...</td>\n",
       "      <td>NaN</td>\n",
       "      <td>NaN</td>\n",
       "      <td>chap4_finale_c</td>\n",
       "      <td>tunic.capitol_2.hall</td>\n",
       "      <td>NaN</td>\n",
       "      <td>0</td>\n",
       "      <td>0</td>\n",
       "      <td>1</td>\n",
       "      <td>13-22</td>\n",
       "      <td>15.5</td>\n",
       "    </tr>\n",
       "    <tr>\n",
       "      <th>26296943</th>\n",
       "      <td>22100221145014656</td>\n",
       "      <td>1602</td>\n",
       "      <td>5485917</td>\n",
       "      <td>navigate_click</td>\n",
       "      <td>undefined</td>\n",
       "      <td>22</td>\n",
       "      <td>NaN</td>\n",
       "      <td>369.912872</td>\n",
       "      <td>140.569199</td>\n",
       "      <td>611.0</td>\n",
       "      <td>...</td>\n",
       "      <td>NaN</td>\n",
       "      <td>NaN</td>\n",
       "      <td>NaN</td>\n",
       "      <td>tunic.capitol_2.hall</td>\n",
       "      <td>NaN</td>\n",
       "      <td>0</td>\n",
       "      <td>0</td>\n",
       "      <td>1</td>\n",
       "      <td>13-22</td>\n",
       "      <td>15.5</td>\n",
       "    </tr>\n",
       "    <tr>\n",
       "      <th>26296944</th>\n",
       "      <td>22100221145014656</td>\n",
       "      <td>1603</td>\n",
       "      <td>5486753</td>\n",
       "      <td>navigate_click</td>\n",
       "      <td>undefined</td>\n",
       "      <td>22</td>\n",
       "      <td>NaN</td>\n",
       "      <td>252.299652</td>\n",
       "      <td>123.805893</td>\n",
       "      <td>526.0</td>\n",
       "      <td>...</td>\n",
       "      <td>NaN</td>\n",
       "      <td>NaN</td>\n",
       "      <td>chap4_finale_c</td>\n",
       "      <td>tunic.capitol_2.hall</td>\n",
       "      <td>NaN</td>\n",
       "      <td>0</td>\n",
       "      <td>0</td>\n",
       "      <td>1</td>\n",
       "      <td>13-22</td>\n",
       "      <td>15.5</td>\n",
       "    </tr>\n",
       "    <tr>\n",
       "      <th>26296945</th>\n",
       "      <td>22100221145014656</td>\n",
       "      <td>1604</td>\n",
       "      <td>5487952</td>\n",
       "      <td>checkpoint</td>\n",
       "      <td>basic</td>\n",
       "      <td>22</td>\n",
       "      <td>NaN</td>\n",
       "      <td>NaN</td>\n",
       "      <td>NaN</td>\n",
       "      <td>NaN</td>\n",
       "      <td>...</td>\n",
       "      <td>NaN</td>\n",
       "      <td>NaN</td>\n",
       "      <td>chap4_finale_c</td>\n",
       "      <td>tunic.capitol_2.hall</td>\n",
       "      <td>NaN</td>\n",
       "      <td>0</td>\n",
       "      <td>0</td>\n",
       "      <td>1</td>\n",
       "      <td>13-22</td>\n",
       "      <td>15.5</td>\n",
       "    </tr>\n",
       "  </tbody>\n",
       "</table>\n",
       "<p>25544707 rows × 21 columns</p>\n",
       "</div>"
      ],
      "text/plain": [
       "                 session_id  index  elapsed_time      event_name       name   \n",
       "0         20090312431273200      0             0  cutscene_click      basic  \\\n",
       "1         20090312431273200      1          1323    person_click      basic   \n",
       "2         20090312431273200      2           831    person_click      basic   \n",
       "3         20090312431273200      3          1147    person_click      basic   \n",
       "4         20090312431273200      4          1863    person_click      basic   \n",
       "...                     ...    ...           ...             ...        ...   \n",
       "26296941  22100221145014656   1600       5483231  navigate_click  undefined   \n",
       "26296942  22100221145014656   1601       5485166  navigate_click  undefined   \n",
       "26296943  22100221145014656   1602       5485917  navigate_click  undefined   \n",
       "26296944  22100221145014656   1603       5486753  navigate_click  undefined   \n",
       "26296945  22100221145014656   1604       5487952      checkpoint      basic   \n",
       "\n",
       "          level  page  room_coor_x  room_coor_y  screen_coor_x  ...   \n",
       "0             0   NaN  -413.991394  -159.314682          380.0  ...  \\\n",
       "1             0   NaN  -413.991394  -159.314682          380.0  ...   \n",
       "2             0   NaN  -413.991394  -159.314682          380.0  ...   \n",
       "3             0   NaN  -413.991394  -159.314682          380.0  ...   \n",
       "4             0   NaN  -412.991394  -159.314682          381.0  ...   \n",
       "...         ...   ...          ...          ...            ...  ...   \n",
       "26296941     22   NaN   343.887299    36.701027          483.0  ...   \n",
       "26296942     22   NaN   332.696075   141.493179          545.0  ...   \n",
       "26296943     22   NaN   369.912872   140.569199          611.0  ...   \n",
       "26296944     22   NaN   252.299652   123.805893          526.0  ...   \n",
       "26296945     22   NaN          NaN          NaN            NaN  ...   \n",
       "\n",
       "          hover_duration                           text            fqid   \n",
       "0                    NaN                      undefined           intro  \\\n",
       "1                    NaN  Whatcha doing over there, Jo?          gramps   \n",
       "2                    NaN         Just talking to Teddy.          gramps   \n",
       "3                    NaN     I gotta run to my meeting!          gramps   \n",
       "4                    NaN            Can I come, Gramps?          gramps   \n",
       "...                  ...                            ...             ...   \n",
       "26296941             NaN                            NaN             NaN   \n",
       "26296942             NaN                            NaN  chap4_finale_c   \n",
       "26296943             NaN                            NaN             NaN   \n",
       "26296944             NaN                            NaN  chap4_finale_c   \n",
       "26296945             NaN                            NaN  chap4_finale_c   \n",
       "\n",
       "                               room_fqid   \n",
       "0         tunic.historicalsociety.closet  \\\n",
       "1         tunic.historicalsociety.closet   \n",
       "2         tunic.historicalsociety.closet   \n",
       "3         tunic.historicalsociety.closet   \n",
       "4         tunic.historicalsociety.closet   \n",
       "...                                  ...   \n",
       "26296941            tunic.capitol_2.hall   \n",
       "26296942            tunic.capitol_2.hall   \n",
       "26296943            tunic.capitol_2.hall   \n",
       "26296944            tunic.capitol_2.hall   \n",
       "26296945            tunic.capitol_2.hall   \n",
       "\n",
       "                                                  text_fqid fullscreen hq   \n",
       "0                      tunic.historicalsociety.closet.intro          0  0  \\\n",
       "1         tunic.historicalsociety.closet.gramps.intro_0_...          0  0   \n",
       "2         tunic.historicalsociety.closet.gramps.intro_0_...          0  0   \n",
       "3         tunic.historicalsociety.closet.gramps.intro_0_...          0  0   \n",
       "4         tunic.historicalsociety.closet.gramps.intro_0_...          0  0   \n",
       "...                                                     ...        ... ..   \n",
       "26296941                                                NaN          0  0   \n",
       "26296942                                                NaN          0  0   \n",
       "26296943                                                NaN          0  0   \n",
       "26296944                                                NaN          0  0   \n",
       "26296945                                                NaN          0  0   \n",
       "\n",
       "         music level_group elapsed_time_log  \n",
       "0            1         0-4              0.0  \n",
       "1            1         0-4              7.0  \n",
       "2            1         0-4              6.5  \n",
       "3            1         0-4              7.0  \n",
       "4            1         0-4              7.5  \n",
       "...        ...         ...              ...  \n",
       "26296941     1       13-22             15.5  \n",
       "26296942     1       13-22             15.5  \n",
       "26296943     1       13-22             15.5  \n",
       "26296944     1       13-22             15.5  \n",
       "26296945     1       13-22             15.5  \n",
       "\n",
       "[25544707 rows x 21 columns]"
      ]
     },
     "execution_count": 82,
     "metadata": {},
     "output_type": "execute_result"
    }
   ],
   "source": [
    "under_day_df"
   ]
  },
  {
   "cell_type": "code",
   "execution_count": 83,
   "metadata": {},
   "outputs": [],
   "source": [
    "# Calculate the time difference within each session\n",
    "under_day_df['time_diff'] = under_day_df.groupby('session_id')['elapsed_time'].diff()\n",
    "\n",
    "# Replace negative values and NA values with 0\n",
    "under_day_df['time_diff'] = under_day_df['time_diff'].apply(lambda x: max(0, x) if pd.notnull(x) else 0)\n"
   ]
  },
  {
   "cell_type": "code",
   "execution_count": 84,
   "metadata": {},
   "outputs": [
    {
     "data": {
      "text/plain": [
       "count    2.554471e+07\n",
       "mean     3.811535e+03\n",
       "std      2.986472e+05\n",
       "min      0.000000e+00\n",
       "25%      4.630000e+02\n",
       "50%      9.490000e+02\n",
       "75%      1.664000e+03\n",
       "max      8.490589e+07\n",
       "Name: time_diff, dtype: float64"
      ]
     },
     "execution_count": 84,
     "metadata": {},
     "output_type": "execute_result"
    }
   ],
   "source": [
    "under_day_df[\"time_diff\"].describe()"
   ]
  },
  {
   "cell_type": "code",
   "execution_count": 85,
   "metadata": {},
   "outputs": [
    {
     "data": {
      "text/html": [
       "<div>\n",
       "<style scoped>\n",
       "    .dataframe tbody tr th:only-of-type {\n",
       "        vertical-align: middle;\n",
       "    }\n",
       "\n",
       "    .dataframe tbody tr th {\n",
       "        vertical-align: top;\n",
       "    }\n",
       "\n",
       "    .dataframe thead th {\n",
       "        text-align: right;\n",
       "    }\n",
       "</style>\n",
       "<table border=\"1\" class=\"dataframe\">\n",
       "  <thead>\n",
       "    <tr style=\"text-align: right;\">\n",
       "      <th></th>\n",
       "      <th>session_id</th>\n",
       "      <th>index</th>\n",
       "      <th>elapsed_time</th>\n",
       "      <th>event_name</th>\n",
       "      <th>name</th>\n",
       "      <th>level</th>\n",
       "      <th>page</th>\n",
       "      <th>room_coor_x</th>\n",
       "      <th>room_coor_y</th>\n",
       "      <th>screen_coor_x</th>\n",
       "      <th>...</th>\n",
       "      <th>text</th>\n",
       "      <th>fqid</th>\n",
       "      <th>room_fqid</th>\n",
       "      <th>text_fqid</th>\n",
       "      <th>fullscreen</th>\n",
       "      <th>hq</th>\n",
       "      <th>music</th>\n",
       "      <th>level_group</th>\n",
       "      <th>elapsed_time_log</th>\n",
       "      <th>time_diff</th>\n",
       "    </tr>\n",
       "  </thead>\n",
       "  <tbody>\n",
       "    <tr>\n",
       "      <th>164</th>\n",
       "      <td>20090312431273200</td>\n",
       "      <td>164</td>\n",
       "      <td>194860</td>\n",
       "      <td>checkpoint</td>\n",
       "      <td>basic</td>\n",
       "      <td>4</td>\n",
       "      <td>NaN</td>\n",
       "      <td>NaN</td>\n",
       "      <td>NaN</td>\n",
       "      <td>NaN</td>\n",
       "      <td>...</td>\n",
       "      <td>NaN</td>\n",
       "      <td>chap1_finale_c</td>\n",
       "      <td>tunic.capitol_0.hall</td>\n",
       "      <td>NaN</td>\n",
       "      <td>0</td>\n",
       "      <td>0</td>\n",
       "      <td>1</td>\n",
       "      <td>0-4</td>\n",
       "      <td>12.0</td>\n",
       "      <td>30837.0</td>\n",
       "    </tr>\n",
       "    <tr>\n",
       "      <th>165</th>\n",
       "      <td>20090312431273200</td>\n",
       "      <td>175</td>\n",
       "      <td>221485</td>\n",
       "      <td>navigate_click</td>\n",
       "      <td>undefined</td>\n",
       "      <td>5</td>\n",
       "      <td>NaN</td>\n",
       "      <td>280.442169</td>\n",
       "      <td>-19.705837</td>\n",
       "      <td>653.0</td>\n",
       "      <td>...</td>\n",
       "      <td>NaN</td>\n",
       "      <td>boss</td>\n",
       "      <td>tunic.capitol_0.hall</td>\n",
       "      <td>NaN</td>\n",
       "      <td>0</td>\n",
       "      <td>0</td>\n",
       "      <td>1</td>\n",
       "      <td>5-12</td>\n",
       "      <td>12.5</td>\n",
       "      <td>26625.0</td>\n",
       "    </tr>\n",
       "    <tr>\n",
       "      <th>461</th>\n",
       "      <td>20090312431273200</td>\n",
       "      <td>512</td>\n",
       "      <td>836732</td>\n",
       "      <td>navigate_click</td>\n",
       "      <td>undefined</td>\n",
       "      <td>13</td>\n",
       "      <td>NaN</td>\n",
       "      <td>290.153564</td>\n",
       "      <td>-204.499359</td>\n",
       "      <td>651.0</td>\n",
       "      <td>...</td>\n",
       "      <td>NaN</td>\n",
       "      <td>NaN</td>\n",
       "      <td>tunic.capitol_1.hall</td>\n",
       "      <td>NaN</td>\n",
       "      <td>0</td>\n",
       "      <td>0</td>\n",
       "      <td>1</td>\n",
       "      <td>13-22</td>\n",
       "      <td>13.5</td>\n",
       "      <td>337497.0</td>\n",
       "    </tr>\n",
       "    <tr>\n",
       "      <th>808</th>\n",
       "      <td>20090312431273200</td>\n",
       "      <td>859</td>\n",
       "      <td>1199469</td>\n",
       "      <td>person_click</td>\n",
       "      <td>basic</td>\n",
       "      <td>20</td>\n",
       "      <td>NaN</td>\n",
       "      <td>-165.356628</td>\n",
       "      <td>89.863411</td>\n",
       "      <td>421.0</td>\n",
       "      <td>...</td>\n",
       "      <td>Welcome back, Dear! How can I help you?</td>\n",
       "      <td>worker</td>\n",
       "      <td>tunic.library.frontdesk</td>\n",
       "      <td>tunic.library.frontdesk.worker.flag</td>\n",
       "      <td>0</td>\n",
       "      <td>0</td>\n",
       "      <td>1</td>\n",
       "      <td>13-22</td>\n",
       "      <td>14.0</td>\n",
       "      <td>38576.0</td>\n",
       "    </tr>\n",
       "    <tr>\n",
       "      <th>1019</th>\n",
       "      <td>20090312433251036</td>\n",
       "      <td>138</td>\n",
       "      <td>233752</td>\n",
       "      <td>checkpoint</td>\n",
       "      <td>basic</td>\n",
       "      <td>4</td>\n",
       "      <td>NaN</td>\n",
       "      <td>NaN</td>\n",
       "      <td>NaN</td>\n",
       "      <td>NaN</td>\n",
       "      <td>...</td>\n",
       "      <td>NaN</td>\n",
       "      <td>chap1_finale_c</td>\n",
       "      <td>tunic.capitol_0.hall</td>\n",
       "      <td>NaN</td>\n",
       "      <td>0</td>\n",
       "      <td>0</td>\n",
       "      <td>0</td>\n",
       "      <td>0-4</td>\n",
       "      <td>12.5</td>\n",
       "      <td>37409.0</td>\n",
       "    </tr>\n",
       "    <tr>\n",
       "      <th>...</th>\n",
       "      <td>...</td>\n",
       "      <td>...</td>\n",
       "      <td>...</td>\n",
       "      <td>...</td>\n",
       "      <td>...</td>\n",
       "      <td>...</td>\n",
       "      <td>...</td>\n",
       "      <td>...</td>\n",
       "      <td>...</td>\n",
       "      <td>...</td>\n",
       "      <td>...</td>\n",
       "      <td>...</td>\n",
       "      <td>...</td>\n",
       "      <td>...</td>\n",
       "      <td>...</td>\n",
       "      <td>...</td>\n",
       "      <td>...</td>\n",
       "      <td>...</td>\n",
       "      <td>...</td>\n",
       "      <td>...</td>\n",
       "      <td>...</td>\n",
       "    </tr>\n",
       "    <tr>\n",
       "      <th>26296186</th>\n",
       "      <td>22100221145014656</td>\n",
       "      <td>845</td>\n",
       "      <td>4296119</td>\n",
       "      <td>navigate_click</td>\n",
       "      <td>undefined</td>\n",
       "      <td>13</td>\n",
       "      <td>NaN</td>\n",
       "      <td>468.941437</td>\n",
       "      <td>-251.469055</td>\n",
       "      <td>769.0</td>\n",
       "      <td>...</td>\n",
       "      <td>NaN</td>\n",
       "      <td>NaN</td>\n",
       "      <td>tunic.capitol_1.hall</td>\n",
       "      <td>NaN</td>\n",
       "      <td>0</td>\n",
       "      <td>0</td>\n",
       "      <td>1</td>\n",
       "      <td>13-22</td>\n",
       "      <td>15.5</td>\n",
       "      <td>627125.0</td>\n",
       "    </tr>\n",
       "    <tr>\n",
       "      <th>26296241</th>\n",
       "      <td>22100221145014656</td>\n",
       "      <td>900</td>\n",
       "      <td>4436753</td>\n",
       "      <td>notebook_click</td>\n",
       "      <td>basic</td>\n",
       "      <td>15</td>\n",
       "      <td>4.0</td>\n",
       "      <td>-448.451294</td>\n",
       "      <td>138.596863</td>\n",
       "      <td>772.0</td>\n",
       "      <td>...</td>\n",
       "      <td>NaN</td>\n",
       "      <td>NaN</td>\n",
       "      <td>tunic.historicalsociety.cage</td>\n",
       "      <td>NaN</td>\n",
       "      <td>0</td>\n",
       "      <td>0</td>\n",
       "      <td>1</td>\n",
       "      <td>13-22</td>\n",
       "      <td>15.5</td>\n",
       "      <td>38321.0</td>\n",
       "    </tr>\n",
       "    <tr>\n",
       "      <th>26296414</th>\n",
       "      <td>22100221145014656</td>\n",
       "      <td>1073</td>\n",
       "      <td>4663406</td>\n",
       "      <td>navigate_click</td>\n",
       "      <td>undefined</td>\n",
       "      <td>17</td>\n",
       "      <td>NaN</td>\n",
       "      <td>68.550354</td>\n",
       "      <td>-268.822418</td>\n",
       "      <td>513.0</td>\n",
       "      <td>...</td>\n",
       "      <td>NaN</td>\n",
       "      <td>NaN</td>\n",
       "      <td>tunic.capitol_2.hall</td>\n",
       "      <td>NaN</td>\n",
       "      <td>0</td>\n",
       "      <td>0</td>\n",
       "      <td>1</td>\n",
       "      <td>13-22</td>\n",
       "      <td>15.5</td>\n",
       "      <td>11224.0</td>\n",
       "    </tr>\n",
       "    <tr>\n",
       "      <th>26296606</th>\n",
       "      <td>22100221145014656</td>\n",
       "      <td>1265</td>\n",
       "      <td>4986412</td>\n",
       "      <td>object_click</td>\n",
       "      <td>basic</td>\n",
       "      <td>18</td>\n",
       "      <td>NaN</td>\n",
       "      <td>396.489288</td>\n",
       "      <td>-215.222458</td>\n",
       "      <td>226.0</td>\n",
       "      <td>...</td>\n",
       "      <td>NaN</td>\n",
       "      <td>tracks</td>\n",
       "      <td>tunic.wildlife.center</td>\n",
       "      <td>NaN</td>\n",
       "      <td>0</td>\n",
       "      <td>0</td>\n",
       "      <td>1</td>\n",
       "      <td>13-22</td>\n",
       "      <td>15.5</td>\n",
       "      <td>20141.0</td>\n",
       "    </tr>\n",
       "    <tr>\n",
       "      <th>26296929</th>\n",
       "      <td>22100221145014656</td>\n",
       "      <td>1588</td>\n",
       "      <td>5466868</td>\n",
       "      <td>object_hover</td>\n",
       "      <td>undefined</td>\n",
       "      <td>21</td>\n",
       "      <td>NaN</td>\n",
       "      <td>NaN</td>\n",
       "      <td>NaN</td>\n",
       "      <td>NaN</td>\n",
       "      <td>...</td>\n",
       "      <td>NaN</td>\n",
       "      <td>journals_flag.pic_0.next</td>\n",
       "      <td>tunic.historicalsociety.stacks</td>\n",
       "      <td>NaN</td>\n",
       "      <td>0</td>\n",
       "      <td>0</td>\n",
       "      <td>1</td>\n",
       "      <td>13-22</td>\n",
       "      <td>15.5</td>\n",
       "      <td>18716.0</td>\n",
       "    </tr>\n",
       "  </tbody>\n",
       "</table>\n",
       "<p>235060 rows × 22 columns</p>\n",
       "</div>"
      ],
      "text/plain": [
       "                 session_id  index  elapsed_time      event_name       name   \n",
       "164       20090312431273200    164        194860      checkpoint      basic  \\\n",
       "165       20090312431273200    175        221485  navigate_click  undefined   \n",
       "461       20090312431273200    512        836732  navigate_click  undefined   \n",
       "808       20090312431273200    859       1199469    person_click      basic   \n",
       "1019      20090312433251036    138        233752      checkpoint      basic   \n",
       "...                     ...    ...           ...             ...        ...   \n",
       "26296186  22100221145014656    845       4296119  navigate_click  undefined   \n",
       "26296241  22100221145014656    900       4436753  notebook_click      basic   \n",
       "26296414  22100221145014656   1073       4663406  navigate_click  undefined   \n",
       "26296606  22100221145014656   1265       4986412    object_click      basic   \n",
       "26296929  22100221145014656   1588       5466868    object_hover  undefined   \n",
       "\n",
       "          level  page  room_coor_x  room_coor_y  screen_coor_x  ...   \n",
       "164           4   NaN          NaN          NaN            NaN  ...  \\\n",
       "165           5   NaN   280.442169   -19.705837          653.0  ...   \n",
       "461          13   NaN   290.153564  -204.499359          651.0  ...   \n",
       "808          20   NaN  -165.356628    89.863411          421.0  ...   \n",
       "1019          4   NaN          NaN          NaN            NaN  ...   \n",
       "...         ...   ...          ...          ...            ...  ...   \n",
       "26296186     13   NaN   468.941437  -251.469055          769.0  ...   \n",
       "26296241     15   4.0  -448.451294   138.596863          772.0  ...   \n",
       "26296414     17   NaN    68.550354  -268.822418          513.0  ...   \n",
       "26296606     18   NaN   396.489288  -215.222458          226.0  ...   \n",
       "26296929     21   NaN          NaN          NaN            NaN  ...   \n",
       "\n",
       "                                             text                      fqid   \n",
       "164                                           NaN            chap1_finale_c  \\\n",
       "165                                           NaN                      boss   \n",
       "461                                           NaN                       NaN   \n",
       "808       Welcome back, Dear! How can I help you?                    worker   \n",
       "1019                                          NaN            chap1_finale_c   \n",
       "...                                           ...                       ...   \n",
       "26296186                                      NaN                       NaN   \n",
       "26296241                                      NaN                       NaN   \n",
       "26296414                                      NaN                       NaN   \n",
       "26296606                                      NaN                    tracks   \n",
       "26296929                                      NaN  journals_flag.pic_0.next   \n",
       "\n",
       "                               room_fqid                            text_fqid   \n",
       "164                 tunic.capitol_0.hall                                  NaN  \\\n",
       "165                 tunic.capitol_0.hall                                  NaN   \n",
       "461                 tunic.capitol_1.hall                                  NaN   \n",
       "808              tunic.library.frontdesk  tunic.library.frontdesk.worker.flag   \n",
       "1019                tunic.capitol_0.hall                                  NaN   \n",
       "...                                  ...                                  ...   \n",
       "26296186            tunic.capitol_1.hall                                  NaN   \n",
       "26296241    tunic.historicalsociety.cage                                  NaN   \n",
       "26296414            tunic.capitol_2.hall                                  NaN   \n",
       "26296606           tunic.wildlife.center                                  NaN   \n",
       "26296929  tunic.historicalsociety.stacks                                  NaN   \n",
       "\n",
       "         fullscreen hq music level_group elapsed_time_log time_diff  \n",
       "164               0  0     1         0-4             12.0   30837.0  \n",
       "165               0  0     1        5-12             12.5   26625.0  \n",
       "461               0  0     1       13-22             13.5  337497.0  \n",
       "808               0  0     1       13-22             14.0   38576.0  \n",
       "1019              0  0     0         0-4             12.5   37409.0  \n",
       "...             ... ..   ...         ...              ...       ...  \n",
       "26296186          0  0     1       13-22             15.5  627125.0  \n",
       "26296241          0  0     1       13-22             15.5   38321.0  \n",
       "26296414          0  0     1       13-22             15.5   11224.0  \n",
       "26296606          0  0     1       13-22             15.5   20141.0  \n",
       "26296929          0  0     1       13-22             15.5   18716.0  \n",
       "\n",
       "[235060 rows x 22 columns]"
      ]
     },
     "execution_count": 85,
     "metadata": {},
     "output_type": "execute_result"
    }
   ],
   "source": [
    "under_day_df[under_day_df[\"time_diff\"]>1e+04]"
   ]
  },
  {
   "cell_type": "code",
   "execution_count": 112,
   "metadata": {},
   "outputs": [],
   "source": [
    "def round_half(x):\n",
    "    if np.isnan(x):\n",
    "        return x\n",
    "    else:\n",
    "        return round(x * 2) / 2"
   ]
  },
  {
   "cell_type": "code",
   "execution_count": 88,
   "metadata": {},
   "outputs": [],
   "source": [
    "under_day_df['elapsed_time_diff_log'] = (under_day_df['time_diff']+1).apply(np.log).apply(round_half)"
   ]
  },
  {
   "cell_type": "code",
   "execution_count": 89,
   "metadata": {},
   "outputs": [
    {
     "data": {
      "text/plain": [
       "elapsed_time_diff_log\n",
       "7.0     5850104\n",
       "7.5     4534792\n",
       "6.5     4436253\n",
       "5.5     2762026\n",
       "6.0     2583970\n",
       "8.0     2302595\n",
       "5.0      833434\n",
       "8.5      772247\n",
       "0.0      663648\n",
       "9.0      240883\n",
       "4.5      130620\n",
       "4.0       88703\n",
       "9.5       81454\n",
       "3.5       49096\n",
       "10.0      41178\n",
       "3.0       40317\n",
       "10.5      35747\n",
       "11.0      20086\n",
       "12.5      12475\n",
       "2.5       11354\n",
       "12.0       9835\n",
       "11.5       9192\n",
       "2.0        7471\n",
       "13.0       7128\n",
       "1.5        4668\n",
       "0.5        4348\n",
       "1.0        3371\n",
       "13.5       2667\n",
       "14.0       1466\n",
       "14.5       1149\n",
       "15.0        791\n",
       "15.5        500\n",
       "18.0        401\n",
       "16.0        333\n",
       "16.5        164\n",
       "17.5        160\n",
       "17.0         78\n",
       "18.5          3\n",
       "Name: count, dtype: int64"
      ]
     },
     "execution_count": 89,
     "metadata": {},
     "output_type": "execute_result"
    }
   ],
   "source": [
    "under_day_df[\"elapsed_time_diff_log\"].value_counts()"
   ]
  },
  {
   "cell_type": "code",
   "execution_count": 90,
   "metadata": {},
   "outputs": [
    {
     "data": {
      "text/plain": [
       "count    2.554471e+07\n",
       "mean     6.634250e+00\n",
       "std      1.472153e+00\n",
       "min      0.000000e+00\n",
       "25%      6.000000e+00\n",
       "50%      7.000000e+00\n",
       "75%      7.500000e+00\n",
       "max      1.850000e+01\n",
       "Name: elapsed_time_diff_log, dtype: float64"
      ]
     },
     "execution_count": 90,
     "metadata": {},
     "output_type": "execute_result"
    }
   ],
   "source": [
    "under_day_df[\"elapsed_time_diff_log\"].describe()"
   ]
  },
  {
   "cell_type": "code",
   "execution_count": 91,
   "metadata": {},
   "outputs": [
    {
     "data": {
      "image/png": "[encoded data removed]",
      "text/plain": [
       "<Figure size 720x432 with 1 Axes>"
      ]
     },
     "metadata": {
      "needs_background": "light"
     },
     "output_type": "display_data"
    }
   ],
   "source": [
    "# Create a histogram of 'time_diff'\n",
    "plt.figure(figsize=(10,6))\n",
    "plt.hist(under_day_df['elapsed_time_diff_log'], bins=100, color='blue', edgecolor='black')\n",
    "plt.title('Distribution of Time Difference between Consecutive Events')\n",
    "plt.xlabel('Time Difference (ln(ms))')\n",
    "plt.ylabel('Frequency')\n",
    "plt.show()"
   ]
  },
  {
   "cell_type": "code",
   "execution_count": 92,
   "metadata": {},
   "outputs": [
    {
     "data": {
      "text/plain": [
       "array([21040212013337450, 21040407421653612, 21050309534255030,\n",
       "       21090317241695372], dtype=int64)"
      ]
     },
     "execution_count": 92,
     "metadata": {},
     "output_type": "execute_result"
    }
   ],
   "source": [
    "big_time_diff_sessions = under_day_df[under_day_df[\"time_diff\"]>8.4e+07][\"session_id\"].unique()\n",
    "big_time_diff_sessions"
   ]
  },
  {
   "cell_type": "code",
   "execution_count": 93,
   "metadata": {},
   "outputs": [],
   "source": [
    "colors = ['b', 'g', 'r', 'c', 'm', 'y', 'k']"
   ]
  },
  {
   "cell_type": "code",
   "execution_count": 94,
   "metadata": {},
   "outputs": [
    {
     "name": "stdout",
     "output_type": "stream",
     "text": [
      "18.5\n"
     ]
    },
    {
     "data": {
      "image/png": "[encoded data removed]",
      "text/plain": [
       "<Figure size 1008x648 with 1 Axes>"
      ]
     },
     "metadata": {
      "needs_background": "light"
     },
     "output_type": "display_data"
    },
    {
     "name": "stdout",
     "output_type": "stream",
     "text": [
      "18.5\n"
     ]
    },
    {
     "data": {
      "image/png": "[encoded data removed]",
      "text/plain": [
       "<Figure size 1008x648 with 1 Axes>"
      ]
     },
     "metadata": {
      "needs_background": "light"
     },
     "output_type": "display_data"
    },
    {
     "name": "stdout",
     "output_type": "stream",
     "text": [
      "18.0\n"
     ]
    },
    {
     "data": {
      "image/png": "[encoded data removed]",
      "text/plain": [
       "<Figure size 1008x648 with 1 Axes>"
      ]
     },
     "metadata": {
      "needs_background": "light"
     },
     "output_type": "display_data"
    },
    {
     "name": "stdout",
     "output_type": "stream",
     "text": [
      "18.5\n"
     ]
    },
    {
     "data": {
      "image/png": "[encoded data removed]",
      "text/plain": [
       "<Figure size 1008x648 with 1 Axes>"
      ]
     },
     "metadata": {
      "needs_background": "light"
     },
     "output_type": "display_data"
    }
   ],
   "source": [
    "for i, session in enumerate(big_time_diff_sessions):\n",
    "\n",
    "    # Filter the dataframe for the current session\n",
    "    session_df = under_day_df[under_day_df['session_id'] == session]\n",
    "\n",
    "    session_df = session_df[session_df['elapsed_time_diff_log'] > 5]\n",
    "\n",
    "    print(session_df[\"elapsed_time_diff_log\"].max())\n",
    "    # Create a new figure\n",
    "    plt.figure(figsize=(14,9))\n",
    "    \n",
    "    # Iterate over the unique events in the session\n",
    "    for j, event in enumerate(session_df['event_name'].unique()):\n",
    "        # Filter the dataframe for the current event\n",
    "        event_df = session_df[session_df['event_name'] == event]\n",
    "\n",
    "        # Create a scatter plot for the current event\n",
    "        plt.scatter(event_df['elapsed_time_diff_log'], [event]*len(event_df), color=colors[j % len(colors)], label=event)\n",
    "\n",
    "    # Set the title and labels\n",
    "    plt.title(f'Session {i+1}: {session}')\n",
    "    plt.xlabel('Elapsed Time ln(ms)')\n",
    "    plt.ylabel('Event Name')\n",
    "    plt.legend()\n",
    "\n",
    "    # Show the plot\n",
    "    plt.show()"
   ]
  },
  {
   "cell_type": "code",
   "execution_count": 95,
   "metadata": {},
   "outputs": [
    {
     "data": {
      "text/plain": [
       "array([21000110281089430, 21000513443670664, 21020010381391016,\n",
       "       21040112091880150, 21040212013337450, 21040310192981090,\n",
       "       21040407421653612, 21040410085091250, 21050110172185310,\n",
       "       21050309534255030, 21060314253904784, 21060410491922170,\n",
       "       21080213282359720, 21090220265902280, 21090317241695372,\n",
       "       21090607254085684, 21090609165943516, 21100311241314776,\n",
       "       21100612333570176, 21110118310031410, 22010313001099884,\n",
       "       22010411371352156, 22020409292345336, 22030110395730588,\n",
       "       22030209115288868, 22040115565053132, 22040217431645776,\n",
       "       22040315523512844, 22040414402727530, 22040414404027530,\n",
       "       22050116550808856, 22060216535738000, 22090018034815410,\n",
       "       22090117453724616, 22090317402239536, 22090416455251984,\n",
       "       22100211424422756], dtype=int64)"
      ]
     },
     "execution_count": 95,
     "metadata": {},
     "output_type": "execute_result"
    }
   ],
   "source": [
    "under_day_df[under_day_df[\"time_diff\"]>8e+07][\"session_id\"].unique()"
   ]
  },
  {
   "attachments": {},
   "cell_type": "markdown",
   "metadata": {},
   "source": [
    "# Text y text_fqid unique values"
   ]
  },
  {
   "cell_type": "code",
   "execution_count": 96,
   "metadata": {},
   "outputs": [
    {
     "data": {
      "text/plain": [
       "595"
      ]
     },
     "execution_count": 96,
     "metadata": {},
     "output_type": "execute_result"
    }
   ],
   "source": [
    "len(under_day_df[\"text\"].unique())"
   ]
  },
  {
   "cell_type": "code",
   "execution_count": 97,
   "metadata": {},
   "outputs": [
    {
     "data": {
      "text/plain": [
       "127"
      ]
     },
     "execution_count": 97,
     "metadata": {},
     "output_type": "execute_result"
    }
   ],
   "source": [
    "len(under_day_df[\"text_fqid\"].unique())"
   ]
  },
  {
   "cell_type": "code",
   "execution_count": 98,
   "metadata": {},
   "outputs": [],
   "source": [
    "text_per_fqid = under_day_df.groupby('text_fqid')['text'].unique()"
   ]
  },
  {
   "cell_type": "code",
   "execution_count": 99,
   "metadata": {},
   "outputs": [
    {
     "data": {
      "text/plain": [
       "text_fqid\n",
       "tunic.historicalsociety.cage.confrontation               648394\n",
       "tunic.wildlife.center.crane_ranger.crane                 458025\n",
       "tunic.historicalsociety.frontdesk.archivist.newspaper    418225\n",
       "tunic.historicalsociety.entry.groupconvo                 415639\n",
       "tunic.wildlife.center.wells.nodeer                       389247\n",
       "                                                          ...  \n",
       "tunic.capitol_2.hall.chap4_finale_c                         277\n",
       "tunic.drycleaner.frontdesk.block_0                          214\n",
       "tunic.historicalsociety.entry.gramps.hub                     39\n",
       "tunic.humanecology.frontdesk.block_1                         13\n",
       "tunic.drycleaner.frontdesk.block_1                            3\n",
       "Name: count, Length: 126, dtype: int64"
      ]
     },
     "execution_count": 99,
     "metadata": {},
     "output_type": "execute_result"
    }
   ],
   "source": [
    "under_day_df[\"text_fqid\"].value_counts()"
   ]
  },
  {
   "cell_type": "code",
   "execution_count": 100,
   "metadata": {},
   "outputs": [
    {
     "data": {
      "text/plain": [
       "['undefined',\n",
       " 'Hey!',\n",
       " 'What are you doing down here?',\n",
       " 'And how did that badger get free?',\n",
       " \"I'm here to rescue my friend!\",\n",
       " \"What's going on here?\",\n",
       " 'Thanks for coming, Boss.',\n",
       " 'I told you!',\n",
       " 'I captured a badger in our museum!',\n",
       " \"He's been eating my lunch every day this week!\",\n",
       " 'He has??',\n",
       " \"I've seen him eating homework and important papers, too.\",\n",
       " \"Jolie- keep your badger under control, or he'll have to go.\",\n",
       " 'And you, Frank-',\n",
       " \"You can't just steal Jolie's pet.\",\n",
       " 'Ugh. Fine.',\n",
       " 'Alright, Jolie. Back to work.',\n",
       " 'Your grampa is waiting for you in the collection room.',\n",
       " \"Come on, Teddy. Let's go help Gramps!\",\n",
       " \"Let's go help Gramps!\",\n",
       " 'You stole Teddy! How could you?!',\n",
       " \"No he hasn't!\",\n",
       " \"Yes, he has. I've seen him eating homework and important papers, too.\",\n",
       " 'Come on, Teddy.',\n",
       " \"Let's go find Gramps!\",\n",
       " 'GRRRRRRR',\n",
       " 'GAH! And what is THAT doing out of its cage?!',\n",
       " '\\\\u00f0\\\\u0178\\\\u02dc\\\\u0090',\n",
       " 'Teddy! Did you really eat his lunch?',\n",
       " \"Did you steal Gramps's paperwork too?!\",\n",
       " 'And my homework?!?!',\n",
       " 'See?!',\n",
       " \"That thing's a monster!\",\n",
       " \"I don't have time for this.\",\n",
       " 'YEAH!',\n",
       " 'Wait- me?',\n",
       " \"You can't just steal Jolie's pet. Don't you know badgers are protected animals?\",\n",
       " 'Besides, he looks friendly to me.',\n",
       " 'Wha?!',\n",
       " '\\\\u00f0\\\\u0178\\\\u02dc\\\\u009d',\n",
       " 'What?!']"
      ]
     },
     "execution_count": 100,
     "metadata": {},
     "output_type": "execute_result"
    }
   ],
   "source": [
    "list(text_per_fqid[\"tunic.historicalsociety.cage.confrontation\"])"
   ]
  },
  {
   "attachments": {},
   "cell_type": "markdown",
   "metadata": {},
   "source": [
    "# Hover_ Duration"
   ]
  },
  {
   "cell_type": "code",
   "execution_count": 104,
   "metadata": {},
   "outputs": [
    {
     "data": {
      "text/plain": [
       "count    1.940472e+06\n",
       "mean     2.472407e+03\n",
       "std      2.214403e+05\n",
       "min      0.000000e+00\n",
       "25%      9.900000e+01\n",
       "50%      4.200000e+02\n",
       "75%      1.267000e+03\n",
       "max      8.222695e+07\n",
       "Name: hover_duration, dtype: float64"
      ]
     },
     "execution_count": 104,
     "metadata": {},
     "output_type": "execute_result"
    }
   ],
   "source": [
    "under_day_df[\"hover_duration\"].describe()"
   ]
  },
  {
   "cell_type": "code",
   "execution_count": 106,
   "metadata": {},
   "outputs": [],
   "source": [
    "hov_log = np.log(under_day_df['hover_duration']+1)"
   ]
  },
  {
   "cell_type": "code",
   "execution_count": 113,
   "metadata": {},
   "outputs": [],
   "source": [
    "under_day_df['hover_duration_log'] = (under_day_df['hover_duration']+1).apply(np.log).apply(round_half)"
   ]
  },
  {
   "cell_type": "code",
   "execution_count": 120,
   "metadata": {},
   "outputs": [
    {
     "data": {
      "image/png": "[encoded data removed]",
      "text/plain": [
       "<Figure size 720x432 with 1 Axes>"
      ]
     },
     "metadata": {
      "needs_background": "light"
     },
     "output_type": "display_data"
    }
   ],
   "source": [
    "# Create a histogram of 'time_diff'\n",
    "plt.figure(figsize=(10,6))\n",
    "plt.hist(under_day_df['hover_duration_log'], bins=100, color='blue', edgecolor='black')\n",
    "plt.title('Distribution of Hover Duration')\n",
    "plt.xlabel('Time Difference (ln(ms))')\n",
    "plt.ylabel('Frequency')\n",
    "plt.show()"
   ]
  },
  {
   "attachments": {},
   "cell_type": "markdown",
   "metadata": {},
   "source": [
    "# Sesiones por level"
   ]
  },
  {
   "attachments": {},
   "cell_type": "markdown",
   "metadata": {},
   "source": [
    "## Media de filas por nivel y media de nunique fqid por nivel"
   ]
  },
  {
   "cell_type": "code",
   "execution_count": 143,
   "metadata": {},
   "outputs": [
    {
     "name": "stdout",
     "output_type": "stream",
     "text": [
      "level\n",
      "0      4.873218\n",
      "1      5.129093\n",
      "2      5.912805\n",
      "3      8.197454\n",
      "4      4.256136\n",
      "5      6.664516\n",
      "6     10.712430\n",
      "7     11.243940\n",
      "8      5.453939\n",
      "9     10.266600\n",
      "10     3.187383\n",
      "11    14.492392\n",
      "12     5.710947\n",
      "13     6.782360\n",
      "14     4.284126\n",
      "15     9.547164\n",
      "16     6.457427\n",
      "17     6.826612\n",
      "18    14.665780\n",
      "19     6.163055\n",
      "20    12.402818\n",
      "21    16.776712\n",
      "22     6.073201\n",
      "Name: fqid, dtype: float64\n"
     ]
    }
   ],
   "source": [
    "mean_unique_fqids_per_level = under_day_df.groupby(['session_id', 'level'])['fqid'].nunique().groupby('level').mean()\n",
    "print(mean_unique_fqids_per_level)"
   ]
  },
  {
   "cell_type": "code",
   "execution_count": null,
   "metadata": {},
   "outputs": [],
   "source": [
    "group_sizes = under_day_df.groupby(['session_id', 'level']).size()"
   ]
  },
  {
   "cell_type": "code",
   "execution_count": 144,
   "metadata": {},
   "outputs": [
    {
     "name": "stdout",
     "output_type": "stream",
     "text": [
      "level\n",
      "0      29.191473\n",
      "1      30.818642\n",
      "2      42.093339\n",
      "3      48.524632\n",
      "4      18.154503\n",
      "5      28.278621\n",
      "6      89.715450\n",
      "7      54.113964\n",
      "8      37.660389\n",
      "9      48.163964\n",
      "10     19.056326\n",
      "11     81.860145\n",
      "12     15.524021\n",
      "13     34.919566\n",
      "14     23.340439\n",
      "15     52.877361\n",
      "16     54.915686\n",
      "17     51.138504\n",
      "18    148.169282\n",
      "19     51.613131\n",
      "20     47.814676\n",
      "21     89.341503\n",
      "22     17.679745\n",
      "dtype: float64\n"
     ]
    }
   ],
   "source": [
    "mean_rows_per_level = group_sizes.groupby('level').mean()\n",
    "print(mean_rows_per_level)"
   ]
  },
  {
   "attachments": {},
   "cell_type": "markdown",
   "metadata": {},
   "source": [
    "## Sesiones con 1 fila"
   ]
  },
  {
   "cell_type": "code",
   "execution_count": 127,
   "metadata": {},
   "outputs": [
    {
     "name": "stdout",
     "output_type": "stream",
     "text": [
      "session_id         level\n",
      "21010617050828700  2        1\n",
      "dtype: int64\n"
     ]
    }
   ],
   "source": [
    "# Check if any group has only one row\n",
    "single_row_sessions = group_sizes[group_sizes == 1]\n",
    "\n",
    "# Output the result\n",
    "print(single_row_sessions)"
   ]
  },
  {
   "cell_type": "code",
   "execution_count": 140,
   "metadata": {},
   "outputs": [
    {
     "name": "stdout",
     "output_type": "stream",
     "text": [
      "42.1\n"
     ]
    }
   ],
   "source": [
    "mean_rows_per_session = under_day_df[under_day_df[\"level\"] == 2].groupby(\"session_id\").size().mean()\n",
    "print(round(mean_rows_per_session,2))"
   ]
  },
  {
   "cell_type": "code",
   "execution_count": 132,
   "metadata": {},
   "outputs": [
    {
     "data": {
      "text/plain": [
       "Index([7870663, 7870664, 7870665, 7870666, 7870667, 7870668, 7870669, 7870670,\n",
       "       7870671, 7870672,\n",
       "       ...\n",
       "       7871545, 7871546, 7871547, 7871548, 7871549, 7871550, 7871551, 7871552,\n",
       "       7871553, 7871554],\n",
       "      dtype='int64', length=892)"
      ]
     },
     "execution_count": 132,
     "metadata": {},
     "output_type": "execute_result"
    }
   ],
   "source": [
    "indices_to_drop = under_day_df[under_day_df['session_id'] == 21010617050828700].index\n",
    "indices_to_drop\n"
   ]
  },
  {
   "cell_type": "code",
   "execution_count": 133,
   "metadata": {},
   "outputs": [],
   "source": [
    "# Drop these rows\n",
    "under_day_df.drop(indices_to_drop, inplace=True)"
   ]
  },
  {
   "cell_type": "code",
   "execution_count": 134,
   "metadata": {},
   "outputs": [
    {
     "data": {
      "text/html": [
       "<div>\n",
       "<style scoped>\n",
       "    .dataframe tbody tr th:only-of-type {\n",
       "        vertical-align: middle;\n",
       "    }\n",
       "\n",
       "    .dataframe tbody tr th {\n",
       "        vertical-align: top;\n",
       "    }\n",
       "\n",
       "    .dataframe thead th {\n",
       "        text-align: right;\n",
       "    }\n",
       "</style>\n",
       "<table border=\"1\" class=\"dataframe\">\n",
       "  <thead>\n",
       "    <tr style=\"text-align: right;\">\n",
       "      <th></th>\n",
       "      <th>session_id</th>\n",
       "      <th>index</th>\n",
       "      <th>elapsed_time</th>\n",
       "      <th>event_name</th>\n",
       "      <th>name</th>\n",
       "      <th>level</th>\n",
       "      <th>page</th>\n",
       "      <th>room_coor_x</th>\n",
       "      <th>room_coor_y</th>\n",
       "      <th>screen_coor_x</th>\n",
       "      <th>screen_coor_y</th>\n",
       "      <th>hover_duration</th>\n",
       "      <th>text</th>\n",
       "      <th>fqid</th>\n",
       "      <th>room_fqid</th>\n",
       "      <th>text_fqid</th>\n",
       "      <th>fullscreen</th>\n",
       "      <th>hq</th>\n",
       "      <th>music</th>\n",
       "      <th>level_group</th>\n",
       "      <th>elapsed_time_log</th>\n",
       "      <th>time_diff</th>\n",
       "      <th>elapsed_time_diff_log</th>\n",
       "      <th>hover_duration_log</th>\n",
       "    </tr>\n",
       "  </thead>\n",
       "  <tbody>\n",
       "  </tbody>\n",
       "</table>\n",
       "</div>"
      ],
      "text/plain": [
       "Empty DataFrame\n",
       "Columns: [session_id, index, elapsed_time, event_name, name, level, page, room_coor_x, room_coor_y, screen_coor_x, screen_coor_y, hover_duration, text, fqid, room_fqid, text_fqid, fullscreen, hq, music, level_group, elapsed_time_log, time_diff, elapsed_time_diff_log, hover_duration_log]\n",
       "Index: []"
      ]
     },
     "execution_count": 134,
     "metadata": {},
     "output_type": "execute_result"
    }
   ],
   "source": [
    "under_day_df[under_day_df['session_id'] == 21010617050828700]"
   ]
  },
  {
   "attachments": {},
   "cell_type": "markdown",
   "metadata": {},
   "source": [
    "## Sesiones con 4 filas o menos"
   ]
  },
  {
   "cell_type": "code",
   "execution_count": 141,
   "metadata": {},
   "outputs": [
    {
     "name": "stdout",
     "output_type": "stream",
     "text": [
      "session_id         level\n",
      "21010617050828700  2        1\n",
      "22000316215916784  3        2\n",
      "dtype: int64\n"
     ]
    }
   ],
   "source": [
    "# Check if any group has only one row\n",
    "four_row_sessions = group_sizes[group_sizes <5]\n",
    "\n",
    "# Output the result\n",
    "print(four_row_sessions)\n",
    "21010617050828700"
   ]
  },
  {
   "cell_type": "code",
   "execution_count": 153,
   "metadata": {},
   "outputs": [],
   "source": [
    "unique_session_ids = set(four_row_sessions.index.get_level_values(\"session_id\"))"
   ]
  },
  {
   "cell_type": "code",
   "execution_count": 154,
   "metadata": {},
   "outputs": [],
   "source": [
    "under_day_df = under_day_df[~under_day_df['session_id'].isin(unique_session_ids)]"
   ]
  },
  {
   "attachments": {},
   "cell_type": "markdown",
   "metadata": {},
   "source": [
    "# Refinando datatype del dataset"
   ]
  },
  {
   "cell_type": "code",
   "execution_count": 165,
   "metadata": {},
   "outputs": [
    {
     "name": "stdout",
     "output_type": "stream",
     "text": [
      "<class 'pandas.core.frame.DataFrame'>\n",
      "Index: 25542282 entries, 0 to 26296945\n",
      "Data columns (total 24 columns):\n",
      " #   Column                 Dtype   \n",
      "---  ------                 -----   \n",
      " 0   session_id             int64   \n",
      " 1   index                  int64   \n",
      " 2   elapsed_time           int32   \n",
      " 3   event_name             category\n",
      " 4   name                   category\n",
      " 5   level                  uint8   \n",
      " 6   page                   float64 \n",
      " 7   room_coor_x            float32 \n",
      " 8   room_coor_y            float32 \n",
      " 9   screen_coor_x          float32 \n",
      " 10  screen_coor_y          float32 \n",
      " 11  hover_duration         float32 \n",
      " 12  text                   category\n",
      " 13  fqid                   category\n",
      " 14  room_fqid              category\n",
      " 15  text_fqid              category\n",
      " 16  fullscreen             category\n",
      " 17  hq                     category\n",
      " 18  music                  category\n",
      " 19  level_group            category\n",
      " 20  elapsed_time_log       float16 \n",
      " 21  time_diff              float64 \n",
      " 22  elapsed_time_diff_log  float16 \n",
      " 23  hover_duration_log     float16 \n",
      "dtypes: category(10), float16(3), float32(5), float64(2), int32(1), int64(2), uint8(1)\n",
      "memory usage: 2.0 GB\n"
     ]
    }
   ],
   "source": [
    "under_day_df.info()"
   ]
  },
  {
   "cell_type": "code",
   "execution_count": 160,
   "metadata": {},
   "outputs": [
    {
     "name": "stdout",
     "output_type": "stream",
     "text": [
      "<class 'pandas.core.series.Series'>\n",
      "Index: 25542282 entries, 0 to 26296945\n",
      "Series name: session_id\n",
      "Non-Null Count     Dtype\n",
      "--------------     -----\n",
      "25542282 non-null  int64\n",
      "dtypes: int64(1)\n",
      "memory usage: 389.7 MB\n",
      "None\n",
      "\n",
      "<class 'pandas.core.series.Series'>\n",
      "Index: 25542282 entries, 0 to 26296945\n",
      "Series name: index\n",
      "Non-Null Count     Dtype\n",
      "--------------     -----\n",
      "25542282 non-null  int64\n",
      "dtypes: int64(1)\n",
      "memory usage: 389.7 MB\n",
      "None\n",
      "\n",
      "<class 'pandas.core.series.Series'>\n",
      "Index: 25542282 entries, 0 to 26296945\n",
      "Series name: elapsed_time\n",
      "Non-Null Count     Dtype\n",
      "--------------     -----\n",
      "25542282 non-null  int32\n",
      "dtypes: int32(1)\n",
      "memory usage: 292.3 MB\n",
      "None\n",
      "\n",
      "<class 'pandas.core.series.Series'>\n",
      "Index: 25542282 entries, 0 to 26296945\n",
      "Series name: event_name\n",
      "Non-Null Count     Dtype   \n",
      "--------------     -----   \n",
      "25542282 non-null  category\n",
      "dtypes: category(1)\n",
      "memory usage: 219.2 MB\n",
      "None\n",
      "\n",
      "<class 'pandas.core.series.Series'>\n",
      "Index: 25542282 entries, 0 to 26296945\n",
      "Series name: name\n",
      "Non-Null Count     Dtype   \n",
      "--------------     -----   \n",
      "25542282 non-null  category\n",
      "dtypes: category(1)\n",
      "memory usage: 219.2 MB\n",
      "None\n",
      "\n",
      "<class 'pandas.core.series.Series'>\n",
      "Index: 25542282 entries, 0 to 26296945\n",
      "Series name: level\n",
      "Non-Null Count     Dtype\n",
      "--------------     -----\n",
      "25542282 non-null  uint8\n",
      "dtypes: uint8(1)\n",
      "memory usage: 219.2 MB\n",
      "None\n",
      "\n",
      "<class 'pandas.core.series.Series'>\n",
      "Index: 25542282 entries, 0 to 26296945\n",
      "Series name: page\n",
      "Non-Null Count   Dtype  \n",
      "--------------   -----  \n",
      "546573 non-null  float64\n",
      "dtypes: float64(1)\n",
      "memory usage: 389.7 MB\n",
      "None\n",
      "\n",
      "<class 'pandas.core.series.Series'>\n",
      "Index: 25542282 entries, 0 to 26296945\n",
      "Series name: room_coor_x\n",
      "Non-Null Count     Dtype  \n",
      "--------------     -----  \n",
      "23532770 non-null  float32\n",
      "dtypes: float32(1)\n",
      "memory usage: 292.3 MB\n",
      "None\n",
      "\n",
      "<class 'pandas.core.series.Series'>\n",
      "Index: 25542282 entries, 0 to 26296945\n",
      "Series name: room_coor_y\n",
      "Non-Null Count     Dtype  \n",
      "--------------     -----  \n",
      "23532770 non-null  float32\n",
      "dtypes: float32(1)\n",
      "memory usage: 292.3 MB\n",
      "None\n",
      "\n",
      "<class 'pandas.core.series.Series'>\n",
      "Index: 25542282 entries, 0 to 26296945\n",
      "Series name: screen_coor_x\n",
      "Non-Null Count     Dtype  \n",
      "--------------     -----  \n",
      "23532770 non-null  float32\n",
      "dtypes: float32(1)\n",
      "memory usage: 292.3 MB\n",
      "None\n",
      "\n",
      "<class 'pandas.core.series.Series'>\n",
      "Index: 25542282 entries, 0 to 26296945\n",
      "Series name: screen_coor_y\n",
      "Non-Null Count     Dtype  \n",
      "--------------     -----  \n",
      "23532770 non-null  float32\n",
      "dtypes: float32(1)\n",
      "memory usage: 292.3 MB\n",
      "None\n",
      "\n",
      "<class 'pandas.core.series.Series'>\n",
      "Index: 25542282 entries, 0 to 26296945\n",
      "Series name: hover_duration\n",
      "Non-Null Count    Dtype  \n",
      "--------------    -----  \n",
      "1940392 non-null  float32\n",
      "dtypes: float32(1)\n",
      "memory usage: 292.3 MB\n",
      "None\n",
      "\n",
      "<class 'pandas.core.series.Series'>\n",
      "Index: 25542282 entries, 0 to 26296945\n",
      "Series name: text\n",
      "Non-Null Count    Dtype   \n",
      "--------------    -----   \n",
      "9353252 non-null  category\n",
      "dtypes: category(1)\n",
      "memory usage: 243.6 MB\n",
      "None\n",
      "\n",
      "<class 'pandas.core.series.Series'>\n",
      "Index: 25542282 entries, 0 to 26296945\n",
      "Series name: fqid\n",
      "Non-Null Count     Dtype   \n",
      "--------------     -----   \n",
      "17511244 non-null  category\n",
      "dtypes: category(1)\n",
      "memory usage: 243.6 MB\n",
      "None\n",
      "\n",
      "<class 'pandas.core.series.Series'>\n",
      "Index: 25542282 entries, 0 to 26296945\n",
      "Series name: room_fqid\n",
      "Non-Null Count     Dtype   \n",
      "--------------     -----   \n",
      "25542282 non-null  category\n",
      "dtypes: category(1)\n",
      "memory usage: 219.2 MB\n",
      "None\n",
      "\n",
      "<class 'pandas.core.series.Series'>\n",
      "Index: 25542282 entries, 0 to 26296945\n",
      "Series name: text_fqid\n",
      "Non-Null Count    Dtype   \n",
      "--------------    -----   \n",
      "9353354 non-null  category\n",
      "dtypes: category(1)\n",
      "memory usage: 219.2 MB\n",
      "None\n",
      "\n",
      "<class 'pandas.core.series.Series'>\n",
      "Index: 25542282 entries, 0 to 26296945\n",
      "Series name: fullscreen\n",
      "Non-Null Count     Dtype   \n",
      "--------------     -----   \n",
      "25542282 non-null  category\n",
      "dtypes: category(1)\n",
      "memory usage: 219.2 MB\n",
      "None\n",
      "\n",
      "<class 'pandas.core.series.Series'>\n",
      "Index: 25542282 entries, 0 to 26296945\n",
      "Series name: hq\n",
      "Non-Null Count     Dtype   \n",
      "--------------     -----   \n",
      "25542282 non-null  category\n",
      "dtypes: category(1)\n",
      "memory usage: 219.2 MB\n",
      "None\n",
      "\n",
      "<class 'pandas.core.series.Series'>\n",
      "Index: 25542282 entries, 0 to 26296945\n",
      "Series name: music\n",
      "Non-Null Count     Dtype   \n",
      "--------------     -----   \n",
      "25542282 non-null  category\n",
      "dtypes: category(1)\n",
      "memory usage: 219.2 MB\n",
      "None\n",
      "\n",
      "<class 'pandas.core.series.Series'>\n",
      "Index: 25542282 entries, 0 to 26296945\n",
      "Series name: level_group\n",
      "Non-Null Count     Dtype   \n",
      "--------------     -----   \n",
      "25542282 non-null  category\n",
      "dtypes: category(1)\n",
      "memory usage: 219.2 MB\n",
      "None\n",
      "\n",
      "<class 'pandas.core.series.Series'>\n",
      "Index: 25542282 entries, 0 to 26296945\n",
      "Series name: elapsed_time_log\n",
      "Non-Null Count     Dtype  \n",
      "--------------     -----  \n",
      "25542282 non-null  float64\n",
      "dtypes: float64(1)\n",
      "memory usage: 389.7 MB\n",
      "None\n",
      "\n",
      "<class 'pandas.core.series.Series'>\n",
      "Index: 25542282 entries, 0 to 26296945\n",
      "Series name: time_diff\n",
      "Non-Null Count     Dtype  \n",
      "--------------     -----  \n",
      "25542282 non-null  float64\n",
      "dtypes: float64(1)\n",
      "memory usage: 389.7 MB\n",
      "None\n",
      "\n",
      "<class 'pandas.core.series.Series'>\n",
      "Index: 25542282 entries, 0 to 26296945\n",
      "Series name: elapsed_time_diff_log\n",
      "Non-Null Count     Dtype  \n",
      "--------------     -----  \n",
      "25542282 non-null  float64\n",
      "dtypes: float64(1)\n",
      "memory usage: 389.7 MB\n",
      "None\n",
      "\n",
      "<class 'pandas.core.series.Series'>\n",
      "Index: 25542282 entries, 0 to 26296945\n",
      "Series name: hover_duration_log\n",
      "Non-Null Count    Dtype  \n",
      "--------------    -----  \n",
      "1940392 non-null  float64\n",
      "dtypes: float64(1)\n",
      "memory usage: 389.7 MB\n",
      "None\n",
      "\n"
     ]
    }
   ],
   "source": [
    "for c in under_day_df.columns:\n",
    "    print(under_day_df[c].info())\n",
    "    print()"
   ]
  },
  {
   "cell_type": "code",
   "execution_count": 162,
   "metadata": {},
   "outputs": [],
   "source": [
    "log_columns = [\"elapsed_time_diff_log\", \"hover_duration_log\", \"elapsed_time_log\"]"
   ]
  },
  {
   "cell_type": "code",
   "execution_count": 170,
   "metadata": {},
   "outputs": [],
   "source": [
    "binary = ['fullscreen', 'hq', 'music']"
   ]
  },
  {
   "cell_type": "code",
   "execution_count": null,
   "metadata": {},
   "outputs": [],
   "source": [
    "for c in log_columns:\n",
    "    under_day_df[c] = under_day_df[c].astype(\"float16\")"
   ]
  },
  {
   "cell_type": "code",
   "execution_count": 171,
   "metadata": {},
   "outputs": [
    {
     "name": "stderr",
     "output_type": "stream",
     "text": [
      "C:\\Users\\gurei\\AppData\\Local\\Temp\\ipykernel_17120\\2360466524.py:2: SettingWithCopyWarning: \n",
      "A value is trying to be set on a copy of a slice from a DataFrame.\n",
      "Try using .loc[row_indexer,col_indexer] = value instead\n",
      "\n",
      "See the caveats in the documentation: https://pandas.pydata.org/pandas-docs/stable/user_guide/indexing.html#returning-a-view-versus-a-copy\n",
      "  under_day_df[c] = under_day_df[c].astype(\"uint8\")\n",
      "C:\\Users\\gurei\\AppData\\Local\\Temp\\ipykernel_17120\\2360466524.py:2: SettingWithCopyWarning: \n",
      "A value is trying to be set on a copy of a slice from a DataFrame.\n",
      "Try using .loc[row_indexer,col_indexer] = value instead\n",
      "\n",
      "See the caveats in the documentation: https://pandas.pydata.org/pandas-docs/stable/user_guide/indexing.html#returning-a-view-versus-a-copy\n",
      "  under_day_df[c] = under_day_df[c].astype(\"uint8\")\n",
      "C:\\Users\\gurei\\AppData\\Local\\Temp\\ipykernel_17120\\2360466524.py:2: SettingWithCopyWarning: \n",
      "A value is trying to be set on a copy of a slice from a DataFrame.\n",
      "Try using .loc[row_indexer,col_indexer] = value instead\n",
      "\n",
      "See the caveats in the documentation: https://pandas.pydata.org/pandas-docs/stable/user_guide/indexing.html#returning-a-view-versus-a-copy\n",
      "  under_day_df[c] = under_day_df[c].astype(\"uint8\")\n"
     ]
    }
   ],
   "source": [
    "for c in binary:\n",
    "    under_day_df[c] = under_day_df[c].astype(\"uint8\")"
   ]
  },
  {
   "attachments": {},
   "cell_type": "markdown",
   "metadata": {},
   "source": [
    "# Guardar dataframes"
   ]
  },
  {
   "cell_type": "code",
   "execution_count": 172,
   "metadata": {},
   "outputs": [],
   "source": [
    "# Define the output directory and file\n",
    "output_dir = os.path.join(full_path, 'dataframes')\n",
    "if not os.path.exists(output_dir):  # create the directory if it doesn't exist\n",
    "    os.makedirs(output_dir)\n",
    "output_file = os.path.join(output_dir, 'under_day_df.pkl')\n",
    "# Save dataframe to pickle file\n",
    "under_day_df.to_pickle(output_file)"
   ]
  }
 ],
 "metadata": {
  "kernelspec": {
   "display_name": "Python 3",
   "language": "python",
   "name": "python3"
  },
  "language_info": {
   "codemirror_mode": {
    "name": "ipython",
    "version": 3
   },
   "file_extension": ".py",
   "mimetype": "text/x-python",
   "name": "python",
   "nbconvert_exporter": "python",
   "pygments_lexer": "ipython3",
   "version": "3.8.0"
  },
  "orig_nbformat": 4
 },
 "nbformat": 4,
 "nbformat_minor": 2
}
